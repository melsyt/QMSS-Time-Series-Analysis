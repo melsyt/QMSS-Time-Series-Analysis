{
 "cells": [
  {
   "cell_type": "markdown",
   "metadata": {},
   "source": [
    "# Regression Analysis of Temporal Processes (Class 10) - FDLs, Panel, Granger"
   ]
  },
  {
   "cell_type": "code",
   "execution_count": 337,
   "metadata": {},
   "outputs": [],
   "source": [
    "import pandas as pd\n",
    "import numpy as np\n",
    "import seaborn as sns\n",
    "import matplotlib.pyplot as plt\n",
    "%matplotlib inline\n",
    "import statsmodels.api as sm\n",
    "import statsmodels.formula.api as smf\n",
    "from statsmodels.graphics.tsaplots import plot_acf\n",
    "from statsmodels.stats.diagnostic import acorr_breusch_godfrey\n",
    "from linearmodels.panel import PooledOLS\n",
    "from linearmodels.panel import PanelOLS\n",
    "from linearmodels import RandomEffects\n",
    "from linearmodels import FirstDifferenceOLS"
   ]
  },
  {
   "cell_type": "markdown",
   "metadata": {},
   "source": [
    "## 1. Lags - distributed lag models"
   ]
  },
  {
   "cell_type": "code",
   "execution_count": 7,
   "metadata": {},
   "outputs": [
    {
     "ename": "KeyError",
     "evalue": "\"['crimegrows' 'Violent.Crime.rate'] not in index\"",
     "output_type": "error",
     "traceback": [
      "\u001b[0;31m---------------------------------------------------------------------------\u001b[0m",
      "\u001b[0;31mKeyError\u001b[0m                                  Traceback (most recent call last)",
      "\u001b[0;32m<ipython-input-7-259a315b637a>\u001b[0m in \u001b[0;36m<module>\u001b[0;34m()\u001b[0m\n\u001b[1;32m      1\u001b[0m \u001b[0mGSS\u001b[0m \u001b[0;34m=\u001b[0m \u001b[0mpd\u001b[0m\u001b[0;34m.\u001b[0m\u001b[0mread_csv\u001b[0m\u001b[0;34m(\u001b[0m\u001b[0;34m'trends-gss.csv'\u001b[0m\u001b[0;34m)\u001b[0m\u001b[0;34m\u001b[0m\u001b[0m\n\u001b[1;32m      2\u001b[0m \u001b[0mvariables\u001b[0m \u001b[0;34m=\u001b[0m \u001b[0;34m[\u001b[0m\u001b[0;34m'year'\u001b[0m\u001b[0;34m,\u001b[0m \u001b[0;34m'crimegrows'\u001b[0m\u001b[0;34m,\u001b[0m \u001b[0;34m'Violent.Crime.rate'\u001b[0m\u001b[0;34m]\u001b[0m\u001b[0;34m\u001b[0m\u001b[0m\n\u001b[0;32m----> 3\u001b[0;31m \u001b[0msub\u001b[0m \u001b[0;34m=\u001b[0m \u001b[0mGSS\u001b[0m\u001b[0;34m[\u001b[0m\u001b[0mvariables\u001b[0m\u001b[0;34m]\u001b[0m\u001b[0;34m.\u001b[0m\u001b[0mcopy\u001b[0m\u001b[0;34m(\u001b[0m\u001b[0;34m)\u001b[0m\u001b[0;34m\u001b[0m\u001b[0m\n\u001b[0m",
      "\u001b[0;32m~/anaconda/envs/py36/lib/python3.6/site-packages/pandas/core/frame.py\u001b[0m in \u001b[0;36m__getitem__\u001b[0;34m(self, key)\u001b[0m\n\u001b[1;32m   2677\u001b[0m         \u001b[0;32mif\u001b[0m \u001b[0misinstance\u001b[0m\u001b[0;34m(\u001b[0m\u001b[0mkey\u001b[0m\u001b[0;34m,\u001b[0m \u001b[0;34m(\u001b[0m\u001b[0mSeries\u001b[0m\u001b[0;34m,\u001b[0m \u001b[0mnp\u001b[0m\u001b[0;34m.\u001b[0m\u001b[0mndarray\u001b[0m\u001b[0;34m,\u001b[0m \u001b[0mIndex\u001b[0m\u001b[0;34m,\u001b[0m \u001b[0mlist\u001b[0m\u001b[0;34m)\u001b[0m\u001b[0;34m)\u001b[0m\u001b[0;34m:\u001b[0m\u001b[0;34m\u001b[0m\u001b[0m\n\u001b[1;32m   2678\u001b[0m             \u001b[0;31m# either boolean or fancy integer index\u001b[0m\u001b[0;34m\u001b[0m\u001b[0;34m\u001b[0m\u001b[0m\n\u001b[0;32m-> 2679\u001b[0;31m             \u001b[0;32mreturn\u001b[0m \u001b[0mself\u001b[0m\u001b[0;34m.\u001b[0m\u001b[0m_getitem_array\u001b[0m\u001b[0;34m(\u001b[0m\u001b[0mkey\u001b[0m\u001b[0;34m)\u001b[0m\u001b[0;34m\u001b[0m\u001b[0m\n\u001b[0m\u001b[1;32m   2680\u001b[0m         \u001b[0;32melif\u001b[0m \u001b[0misinstance\u001b[0m\u001b[0;34m(\u001b[0m\u001b[0mkey\u001b[0m\u001b[0;34m,\u001b[0m \u001b[0mDataFrame\u001b[0m\u001b[0;34m)\u001b[0m\u001b[0;34m:\u001b[0m\u001b[0;34m\u001b[0m\u001b[0m\n\u001b[1;32m   2681\u001b[0m             \u001b[0;32mreturn\u001b[0m \u001b[0mself\u001b[0m\u001b[0;34m.\u001b[0m\u001b[0m_getitem_frame\u001b[0m\u001b[0;34m(\u001b[0m\u001b[0mkey\u001b[0m\u001b[0;34m)\u001b[0m\u001b[0;34m\u001b[0m\u001b[0m\n",
      "\u001b[0;32m~/anaconda/envs/py36/lib/python3.6/site-packages/pandas/core/frame.py\u001b[0m in \u001b[0;36m_getitem_array\u001b[0;34m(self, key)\u001b[0m\n\u001b[1;32m   2721\u001b[0m             \u001b[0;32mreturn\u001b[0m \u001b[0mself\u001b[0m\u001b[0;34m.\u001b[0m\u001b[0m_take\u001b[0m\u001b[0;34m(\u001b[0m\u001b[0mindexer\u001b[0m\u001b[0;34m,\u001b[0m \u001b[0maxis\u001b[0m\u001b[0;34m=\u001b[0m\u001b[0;36m0\u001b[0m\u001b[0;34m)\u001b[0m\u001b[0;34m\u001b[0m\u001b[0m\n\u001b[1;32m   2722\u001b[0m         \u001b[0;32melse\u001b[0m\u001b[0;34m:\u001b[0m\u001b[0;34m\u001b[0m\u001b[0m\n\u001b[0;32m-> 2723\u001b[0;31m             \u001b[0mindexer\u001b[0m \u001b[0;34m=\u001b[0m \u001b[0mself\u001b[0m\u001b[0;34m.\u001b[0m\u001b[0mloc\u001b[0m\u001b[0;34m.\u001b[0m\u001b[0m_convert_to_indexer\u001b[0m\u001b[0;34m(\u001b[0m\u001b[0mkey\u001b[0m\u001b[0;34m,\u001b[0m \u001b[0maxis\u001b[0m\u001b[0;34m=\u001b[0m\u001b[0;36m1\u001b[0m\u001b[0;34m)\u001b[0m\u001b[0;34m\u001b[0m\u001b[0m\n\u001b[0m\u001b[1;32m   2724\u001b[0m             \u001b[0;32mreturn\u001b[0m \u001b[0mself\u001b[0m\u001b[0;34m.\u001b[0m\u001b[0m_take\u001b[0m\u001b[0;34m(\u001b[0m\u001b[0mindexer\u001b[0m\u001b[0;34m,\u001b[0m \u001b[0maxis\u001b[0m\u001b[0;34m=\u001b[0m\u001b[0;36m1\u001b[0m\u001b[0;34m)\u001b[0m\u001b[0;34m\u001b[0m\u001b[0m\n\u001b[1;32m   2725\u001b[0m \u001b[0;34m\u001b[0m\u001b[0m\n",
      "\u001b[0;32m~/anaconda/envs/py36/lib/python3.6/site-packages/pandas/core/indexing.py\u001b[0m in \u001b[0;36m_convert_to_indexer\u001b[0;34m(self, obj, axis, is_setter)\u001b[0m\n\u001b[1;32m   1325\u001b[0m                 \u001b[0;32mif\u001b[0m \u001b[0mmask\u001b[0m\u001b[0;34m.\u001b[0m\u001b[0many\u001b[0m\u001b[0;34m(\u001b[0m\u001b[0;34m)\u001b[0m\u001b[0;34m:\u001b[0m\u001b[0;34m\u001b[0m\u001b[0m\n\u001b[1;32m   1326\u001b[0m                     raise KeyError('{mask} not in index'\n\u001b[0;32m-> 1327\u001b[0;31m                                    .format(mask=objarr[mask]))\n\u001b[0m\u001b[1;32m   1328\u001b[0m \u001b[0;34m\u001b[0m\u001b[0m\n\u001b[1;32m   1329\u001b[0m                 \u001b[0;32mreturn\u001b[0m \u001b[0mcom\u001b[0m\u001b[0;34m.\u001b[0m\u001b[0m_values_from_object\u001b[0m\u001b[0;34m(\u001b[0m\u001b[0mindexer\u001b[0m\u001b[0;34m)\u001b[0m\u001b[0;34m\u001b[0m\u001b[0m\n",
      "\u001b[0;31mKeyError\u001b[0m: \"['crimegrows' 'Violent.Crime.rate'] not in index\""
     ]
    }
   ],
   "source": [
    "GSS = pd.read_csv('trends-gss.csv')\n",
    "variables = ['year', 'crimegrows', 'Violent.Crime.rate']\n",
    "sub = GSS[variables].copy()"
   ]
  },
  {
   "cell_type": "markdown",
   "metadata": {},
   "source": [
    "## Another example"
   ]
  },
  {
   "cell_type": "code",
   "execution_count": 33,
   "metadata": {},
   "outputs": [],
   "source": [
    "# slide 43\n",
    "variables = ['attend', 'pray', 'year']\n",
    "sub = GSS[variables].copy()"
   ]
  },
  {
   "cell_type": "code",
   "execution_count": 34,
   "metadata": {},
   "outputs": [],
   "source": [
    "# reverse_this function, adapted from R code by Jonah Gabry\n",
    "# note that in Pandas, you have to explicitly order the categorical variables yourself, either by passing `ordered=True` or specify an order \n",
    "\n",
    "def reverse_this(var):\n",
    "    nvar = pd.to_numeric(var)\n",
    "    var_max = nvar.max()\n",
    "    var_min = nvar.min()\n",
    "    var_sum = var_max + var_min\n",
    "    var_reversed = var_sum - nvar\n",
    "    \n",
    "    if var.dtype.name == 'category' and var.cat.ordered:\n",
    "        levs = var.cat.categories.tolist()\n",
    "        c_reversed = pd.Categorical(var_reversed, categories=levs.reverse(), ordered=True)\n",
    "        return c_reversed\n",
    "    else:\n",
    "        return var_reversed"
   ]
  },
  {
   "cell_type": "code",
   "execution_count": 35,
   "metadata": {},
   "outputs": [],
   "source": [
    "sub['pray'] = reverse_this(sub.pray)"
   ]
  },
  {
   "cell_type": "code",
   "execution_count": 145,
   "metadata": {},
   "outputs": [],
   "source": [
    "# get means by year\n",
    "by_year_tmp = sub.groupby('year')[['attend', 'pray']].mean()"
   ]
  },
  {
   "cell_type": "code",
   "execution_count": 168,
   "metadata": {},
   "outputs": [],
   "source": [
    "# to create rows for additional years, we create a new dataframe that contains each year from 1972 to 2012\n",
    "# then append the means values for 'attend' and 'pray' from by_year_tmp\n",
    "\n",
    "by_year = pd.DataFrame({'year': list(np.arange(1972, 2013)), 'attend':0, 'pray':0})\n",
    "by_year.index = by_year.year\n",
    "\n",
    "by_year['attend'] = by_year_tmp.attend\n",
    "by_year['pray'] = by_year_tmp.pray"
   ]
  },
  {
   "cell_type": "code",
   "execution_count": 169,
   "metadata": {},
   "outputs": [],
   "source": [
    "by_year.reset_index(inplace=True, drop=True)\n",
    "by_year.loc[len(by_year)+1, 'year'] = 1992\n",
    "\n",
    "# need to turn year into integer dtype, otherwise will face issue with `to_datetime` function\n",
    "by_year.year = by_year.year.astype(int)\n",
    "by_year.sort_values('year', inplace=True)"
   ]
  },
  {
   "cell_type": "code",
   "execution_count": 171,
   "metadata": {},
   "outputs": [],
   "source": [
    "# slide 44\n",
    "by_year_ts = by_year.copy()\n",
    "by_year_ts.index = pd.to_datetime(by_year_ts.year, format='%Y')\n",
    "by_year_ts = by_year_ts.interpolate(method = 'linear')\n",
    "\n",
    "by_year_ts = by_year_ts[(by_year_ts.year >= 1983) & (by_year_ts.year<=1992)]\n",
    "\n",
    "# remove the second 1992 row\n",
    "by_year_ts= by_year_ts[:-1]"
   ]
  },
  {
   "cell_type": "code",
   "execution_count": 174,
   "metadata": {},
   "outputs": [
    {
     "data": {
      "image/png": "[encoded data removed]",
      "text/plain": [
       "<Figure size 432x288 with 2 Axes>"
      ]
     },
     "metadata": {},
     "output_type": "display_data"
    }
   ],
   "source": [
    "# slide 45\n",
    "\n",
    "fig, ax1 = plt.subplots()\n",
    "\n",
    "ax1.set_xlabel('year')\n",
    "ax1.set_ylabel('attendance', color='black')\n",
    "ax1.plot(by_year_ts.year, by_year_ts.attend, color='black')\n",
    "\n",
    "ax2 = ax1.twinx()\n",
    "\n",
    "ax2.set_ylabel('prayer', color='red')\n",
    "ax2.plot(by_year_ts.year, by_year_ts.pray, color='red')\n",
    "\n",
    "fig.tight_layout()"
   ]
  },
  {
   "cell_type": "markdown",
   "metadata": {},
   "source": [
    "### Correlation of variables"
   ]
  },
  {
   "cell_type": "code",
   "execution_count": 175,
   "metadata": {},
   "outputs": [
    {
     "data": {
      "text/html": [
       "<div>\n",
       "<style scoped>\n",
       "    .dataframe tbody tr th:only-of-type {\n",
       "        vertical-align: middle;\n",
       "    }\n",
       "\n",
       "    .dataframe tbody tr th {\n",
       "        vertical-align: top;\n",
       "    }\n",
       "\n",
       "    .dataframe thead th {\n",
       "        text-align: right;\n",
       "    }\n",
       "</style>\n",
       "<table border=\"1\" class=\"dataframe\">\n",
       "  <thead>\n",
       "    <tr style=\"text-align: right;\">\n",
       "      <th></th>\n",
       "      <th>year</th>\n",
       "      <th>attend</th>\n",
       "      <th>pray</th>\n",
       "    </tr>\n",
       "  </thead>\n",
       "  <tbody>\n",
       "    <tr>\n",
       "      <th>year</th>\n",
       "      <td>1.000000</td>\n",
       "      <td>-0.554028</td>\n",
       "      <td>-0.461407</td>\n",
       "    </tr>\n",
       "    <tr>\n",
       "      <th>attend</th>\n",
       "      <td>-0.554028</td>\n",
       "      <td>1.000000</td>\n",
       "      <td>0.639347</td>\n",
       "    </tr>\n",
       "    <tr>\n",
       "      <th>pray</th>\n",
       "      <td>-0.461407</td>\n",
       "      <td>0.639347</td>\n",
       "      <td>1.000000</td>\n",
       "    </tr>\n",
       "  </tbody>\n",
       "</table>\n",
       "</div>"
      ],
      "text/plain": [
       "            year    attend      pray\n",
       "year    1.000000 -0.554028 -0.461407\n",
       "attend -0.554028  1.000000  0.639347\n",
       "pray   -0.461407  0.639347  1.000000"
      ]
     },
     "execution_count": 175,
     "metadata": {},
     "output_type": "execute_result"
    }
   ],
   "source": [
    "# slide 46\n",
    "by_year_ts.corr()"
   ]
  },
  {
   "cell_type": "markdown",
   "metadata": {},
   "source": [
    "## Distributed lag models"
   ]
  },
  {
   "cell_type": "code",
   "execution_count": 201,
   "metadata": {},
   "outputs": [
    {
     "name": "stderr",
     "output_type": "stream",
     "text": [
      "/Users/melindasong/anaconda/envs/py36/lib/python3.6/site-packages/scipy/stats/stats.py:1394: UserWarning: kurtosistest only valid for n>=20 ... continuing anyway, n=10\n",
      "  \"anyway, n=%i\" % int(n))\n"
     ]
    },
    {
     "data": {
      "text/html": [
       "<table class=\"simpletable\">\n",
       "<caption>OLS Regression Results</caption>\n",
       "<tr>\n",
       "  <th>Dep. Variable:</th>          <td>pray</td>       <th>  R-squared:         </th> <td>   0.425</td>\n",
       "</tr>\n",
       "<tr>\n",
       "  <th>Model:</th>                   <td>OLS</td>       <th>  Adj. R-squared:    </th> <td>   0.261</td>\n",
       "</tr>\n",
       "<tr>\n",
       "  <th>Method:</th>             <td>Least Squares</td>  <th>  F-statistic:       </th> <td>   2.591</td>\n",
       "</tr>\n",
       "<tr>\n",
       "  <th>Date:</th>             <td>Tue, 14 Aug 2018</td> <th>  Prob (F-statistic):</th>  <td> 0.144</td> \n",
       "</tr>\n",
       "<tr>\n",
       "  <th>Time:</th>                 <td>15:20:38</td>     <th>  Log-Likelihood:    </th> <td>  12.966</td>\n",
       "</tr>\n",
       "<tr>\n",
       "  <th>No. Observations:</th>      <td>    10</td>      <th>  AIC:               </th> <td>  -19.93</td>\n",
       "</tr>\n",
       "<tr>\n",
       "  <th>Df Residuals:</th>          <td>     7</td>      <th>  BIC:               </th> <td>  -19.02</td>\n",
       "</tr>\n",
       "<tr>\n",
       "  <th>Df Model:</th>              <td>     2</td>      <th>                     </th>     <td> </td>   \n",
       "</tr>\n",
       "<tr>\n",
       "  <th>Covariance Type:</th>      <td>nonrobust</td>    <th>                     </th>     <td> </td>   \n",
       "</tr>\n",
       "</table>\n",
       "<table class=\"simpletable\">\n",
       "<tr>\n",
       "      <td></td>         <th>coef</th>     <th>std err</th>      <th>t</th>      <th>P>|t|</th>  <th>[0.025</th>    <th>0.975]</th>  \n",
       "</tr>\n",
       "<tr>\n",
       "  <th>Intercept</th> <td>   11.5787</td> <td>   21.511</td> <td>    0.538</td> <td> 0.607</td> <td>  -39.286</td> <td>   62.443</td>\n",
       "</tr>\n",
       "<tr>\n",
       "  <th>attend</th>    <td>    0.5060</td> <td>    0.315</td> <td>    1.609</td> <td> 0.152</td> <td>   -0.238</td> <td>    1.250</td>\n",
       "</tr>\n",
       "<tr>\n",
       "  <th>year</th>      <td>   -0.0047</td> <td>    0.010</td> <td>   -0.449</td> <td> 0.667</td> <td>   -0.029</td> <td>    0.020</td>\n",
       "</tr>\n",
       "</table>\n",
       "<table class=\"simpletable\">\n",
       "<tr>\n",
       "  <th>Omnibus:</th>       <td> 0.776</td> <th>  Durbin-Watson:     </th> <td>   0.800</td>\n",
       "</tr>\n",
       "<tr>\n",
       "  <th>Prob(Omnibus):</th> <td> 0.678</td> <th>  Jarque-Bera (JB):  </th> <td>   0.674</td>\n",
       "</tr>\n",
       "<tr>\n",
       "  <th>Skew:</th>          <td>-0.394</td> <th>  Prob(JB):          </th> <td>   0.714</td>\n",
       "</tr>\n",
       "<tr>\n",
       "  <th>Kurtosis:</th>      <td> 2.001</td> <th>  Cond. No.          </th> <td>1.71e+06</td>\n",
       "</tr>\n",
       "</table><br/><br/>Warnings:<br/>[1] Standard Errors assume that the covariance matrix of the errors is correctly specified.<br/>[2] The condition number is large, 1.71e+06. This might indicate that there are<br/>strong multicollinearity or other numerical problems."
      ],
      "text/plain": [
       "<class 'statsmodels.iolib.summary.Summary'>\n",
       "\"\"\"\n",
       "                            OLS Regression Results                            \n",
       "==============================================================================\n",
       "Dep. Variable:                   pray   R-squared:                       0.425\n",
       "Model:                            OLS   Adj. R-squared:                  0.261\n",
       "Method:                 Least Squares   F-statistic:                     2.591\n",
       "Date:                Tue, 14 Aug 2018   Prob (F-statistic):              0.144\n",
       "Time:                        15:20:38   Log-Likelihood:                 12.966\n",
       "No. Observations:                  10   AIC:                            -19.93\n",
       "Df Residuals:                       7   BIC:                            -19.02\n",
       "Df Model:                           2                                         \n",
       "Covariance Type:            nonrobust                                         \n",
       "==============================================================================\n",
       "                 coef    std err          t      P>|t|      [0.025      0.975]\n",
       "------------------------------------------------------------------------------\n",
       "Intercept     11.5787     21.511      0.538      0.607     -39.286      62.443\n",
       "attend         0.5060      0.315      1.609      0.152      -0.238       1.250\n",
       "year          -0.0047      0.010     -0.449      0.667      -0.029       0.020\n",
       "==============================================================================\n",
       "Omnibus:                        0.776   Durbin-Watson:                   0.800\n",
       "Prob(Omnibus):                  0.678   Jarque-Bera (JB):                0.674\n",
       "Skew:                          -0.394   Prob(JB):                        0.714\n",
       "Kurtosis:                       2.001   Cond. No.                     1.71e+06\n",
       "==============================================================================\n",
       "\n",
       "Warnings:\n",
       "[1] Standard Errors assume that the covariance matrix of the errors is correctly specified.\n",
       "[2] The condition number is large, 1.71e+06. This might indicate that there are\n",
       "strong multicollinearity or other numerical problems.\n",
       "\"\"\""
      ]
     },
     "execution_count": 201,
     "metadata": {},
     "output_type": "execute_result"
    }
   ],
   "source": [
    "# slide 47\n",
    "dyn0 = smf.ols('pray ~ attend + year', data=by_year_ts).fit()\n",
    "dyn0.summary()"
   ]
  },
  {
   "cell_type": "code",
   "execution_count": 179,
   "metadata": {},
   "outputs": [
    {
     "data": {
      "image/png": "[encoded data removed]",
      "text/plain": [
       "<Figure size 432x288 with 1 Axes>"
      ]
     },
     "metadata": {},
     "output_type": "display_data"
    }
   ],
   "source": [
    "plot_acf(dyn0.resid, zero=False);"
   ]
  },
  {
   "cell_type": "code",
   "execution_count": 181,
   "metadata": {},
   "outputs": [
    {
     "name": "stdout",
     "output_type": "stream",
     "text": [
      "LM test = 2.290457744000225\n",
      "p-value = 0.13017152790031206\n"
     ]
    }
   ],
   "source": [
    "# slide 49\n",
    "lmtest, pval, fval, f_pval = acorr_breusch_godfrey(dyn0, nlags = 1)\n",
    "print('LM test =', lmtest)\n",
    "print('p-value =', pval)"
   ]
  },
  {
   "cell_type": "code",
   "execution_count": 189,
   "metadata": {},
   "outputs": [
    {
     "name": "stderr",
     "output_type": "stream",
     "text": [
      "/Users/melindasong/anaconda/envs/py36/lib/python3.6/site-packages/ipykernel_launcher.py:2: SettingWithCopyWarning: \n",
      "A value is trying to be set on a copy of a slice from a DataFrame.\n",
      "Try using .loc[row_indexer,col_indexer] = value instead\n",
      "\n",
      "See the caveats in the documentation: http://pandas.pydata.org/pandas-docs/stable/indexing.html#indexing-view-versus-copy\n",
      "  \n",
      "/Users/melindasong/anaconda/envs/py36/lib/python3.6/site-packages/scipy/stats/stats.py:1394: UserWarning: kurtosistest only valid for n>=20 ... continuing anyway, n=9\n",
      "  \"anyway, n=%i\" % int(n))\n"
     ]
    },
    {
     "data": {
      "text/html": [
       "<table class=\"simpletable\">\n",
       "<caption>OLS Regression Results</caption>\n",
       "<tr>\n",
       "  <th>Dep. Variable:</th>          <td>pray</td>       <th>  R-squared:         </th> <td>   0.833</td>\n",
       "</tr>\n",
       "<tr>\n",
       "  <th>Model:</th>                   <td>OLS</td>       <th>  Adj. R-squared:    </th> <td>   0.733</td>\n",
       "</tr>\n",
       "<tr>\n",
       "  <th>Method:</th>             <td>Least Squares</td>  <th>  F-statistic:       </th> <td>   8.333</td>\n",
       "</tr>\n",
       "<tr>\n",
       "  <th>Date:</th>             <td>Tue, 14 Aug 2018</td> <th>  Prob (F-statistic):</th>  <td>0.0217</td> \n",
       "</tr>\n",
       "<tr>\n",
       "  <th>Time:</th>                 <td>15:11:44</td>     <th>  Log-Likelihood:    </th> <td>  17.181</td>\n",
       "</tr>\n",
       "<tr>\n",
       "  <th>No. Observations:</th>      <td>     9</td>      <th>  AIC:               </th> <td>  -26.36</td>\n",
       "</tr>\n",
       "<tr>\n",
       "  <th>Df Residuals:</th>          <td>     5</td>      <th>  BIC:               </th> <td>  -25.57</td>\n",
       "</tr>\n",
       "<tr>\n",
       "  <th>Df Model:</th>              <td>     3</td>      <th>                     </th>     <td> </td>   \n",
       "</tr>\n",
       "<tr>\n",
       "  <th>Covariance Type:</th>      <td>nonrobust</td>    <th>                     </th>     <td> </td>   \n",
       "</tr>\n",
       "</table>\n",
       "<table class=\"simpletable\">\n",
       "<tr>\n",
       "      <td></td>         <th>coef</th>     <th>std err</th>      <th>t</th>      <th>P>|t|</th>  <th>[0.025</th>    <th>0.975]</th>  \n",
       "</tr>\n",
       "<tr>\n",
       "  <th>Intercept</th> <td>   17.9245</td> <td>   18.289</td> <td>    0.980</td> <td> 0.372</td> <td>  -29.088</td> <td>   64.937</td>\n",
       "</tr>\n",
       "<tr>\n",
       "  <th>attend</th>    <td>    0.4462</td> <td>    0.196</td> <td>    2.272</td> <td> 0.072</td> <td>   -0.059</td> <td>    0.951</td>\n",
       "</tr>\n",
       "<tr>\n",
       "  <th>attend_1</th>  <td>    0.3739</td> <td>    0.195</td> <td>    1.920</td> <td> 0.113</td> <td>   -0.127</td> <td>    0.874</td>\n",
       "</tr>\n",
       "<tr>\n",
       "  <th>year</th>      <td>   -0.0085</td> <td>    0.009</td> <td>   -0.971</td> <td> 0.376</td> <td>   -0.031</td> <td>    0.014</td>\n",
       "</tr>\n",
       "</table>\n",
       "<table class=\"simpletable\">\n",
       "<tr>\n",
       "  <th>Omnibus:</th>       <td> 2.782</td> <th>  Durbin-Watson:     </th> <td>   1.384</td>\n",
       "</tr>\n",
       "<tr>\n",
       "  <th>Prob(Omnibus):</th> <td> 0.249</td> <th>  Jarque-Bera (JB):  </th> <td>   0.898</td>\n",
       "</tr>\n",
       "<tr>\n",
       "  <th>Skew:</th>          <td>-0.015</td> <th>  Prob(JB):          </th> <td>   0.638</td>\n",
       "</tr>\n",
       "<tr>\n",
       "  <th>Kurtosis:</th>      <td> 1.453</td> <th>  Cond. No.          </th> <td>2.27e+06</td>\n",
       "</tr>\n",
       "</table><br/><br/>Warnings:<br/>[1] Standard Errors assume that the covariance matrix of the errors is correctly specified.<br/>[2] The condition number is large, 2.27e+06. This might indicate that there are<br/>strong multicollinearity or other numerical problems."
      ],
      "text/plain": [
       "<class 'statsmodels.iolib.summary.Summary'>\n",
       "\"\"\"\n",
       "                            OLS Regression Results                            \n",
       "==============================================================================\n",
       "Dep. Variable:                   pray   R-squared:                       0.833\n",
       "Model:                            OLS   Adj. R-squared:                  0.733\n",
       "Method:                 Least Squares   F-statistic:                     8.333\n",
       "Date:                Tue, 14 Aug 2018   Prob (F-statistic):             0.0217\n",
       "Time:                        15:11:44   Log-Likelihood:                 17.181\n",
       "No. Observations:                   9   AIC:                            -26.36\n",
       "Df Residuals:                       5   BIC:                            -25.57\n",
       "Df Model:                           3                                         \n",
       "Covariance Type:            nonrobust                                         \n",
       "==============================================================================\n",
       "                 coef    std err          t      P>|t|      [0.025      0.975]\n",
       "------------------------------------------------------------------------------\n",
       "Intercept     17.9245     18.289      0.980      0.372     -29.088      64.937\n",
       "attend         0.4462      0.196      2.272      0.072      -0.059       0.951\n",
       "attend_1       0.3739      0.195      1.920      0.113      -0.127       0.874\n",
       "year          -0.0085      0.009     -0.971      0.376      -0.031       0.014\n",
       "==============================================================================\n",
       "Omnibus:                        2.782   Durbin-Watson:                   1.384\n",
       "Prob(Omnibus):                  0.249   Jarque-Bera (JB):                0.898\n",
       "Skew:                          -0.015   Prob(JB):                        0.638\n",
       "Kurtosis:                       1.453   Cond. No.                     2.27e+06\n",
       "==============================================================================\n",
       "\n",
       "Warnings:\n",
       "[1] Standard Errors assume that the covariance matrix of the errors is correctly specified.\n",
       "[2] The condition number is large, 2.27e+06. This might indicate that there are\n",
       "strong multicollinearity or other numerical problems.\n",
       "\"\"\""
      ]
     },
     "execution_count": 189,
     "metadata": {},
     "output_type": "execute_result"
    }
   ],
   "source": [
    "# create first lag for attendance\n",
    "by_year_ts['attend_1'] = by_year_ts.attend.shift(1)\n",
    "\n",
    "# slide 50\n",
    "dyn1 = smf.ols('pray ~ attend + attend_1 + year', data=by_year_ts).fit()\n",
    "dyn1.summary()"
   ]
  },
  {
   "cell_type": "code",
   "execution_count": 190,
   "metadata": {},
   "outputs": [
    {
     "name": "stderr",
     "output_type": "stream",
     "text": [
      "/Users/melindasong/anaconda/envs/py36/lib/python3.6/site-packages/ipykernel_launcher.py:2: SettingWithCopyWarning: \n",
      "A value is trying to be set on a copy of a slice from a DataFrame.\n",
      "Try using .loc[row_indexer,col_indexer] = value instead\n",
      "\n",
      "See the caveats in the documentation: http://pandas.pydata.org/pandas-docs/stable/indexing.html#indexing-view-versus-copy\n",
      "  \n",
      "/Users/melindasong/anaconda/envs/py36/lib/python3.6/site-packages/scipy/stats/stats.py:1394: UserWarning: kurtosistest only valid for n>=20 ... continuing anyway, n=8\n",
      "  \"anyway, n=%i\" % int(n))\n"
     ]
    },
    {
     "data": {
      "text/html": [
       "<table class=\"simpletable\">\n",
       "<caption>OLS Regression Results</caption>\n",
       "<tr>\n",
       "  <th>Dep. Variable:</th>          <td>pray</td>       <th>  R-squared:         </th> <td>   0.983</td>\n",
       "</tr>\n",
       "<tr>\n",
       "  <th>Model:</th>                   <td>OLS</td>       <th>  Adj. R-squared:    </th> <td>   0.961</td>\n",
       "</tr>\n",
       "<tr>\n",
       "  <th>Method:</th>             <td>Least Squares</td>  <th>  F-statistic:       </th> <td>   44.08</td>\n",
       "</tr>\n",
       "<tr>\n",
       "  <th>Date:</th>             <td>Tue, 14 Aug 2018</td> <th>  Prob (F-statistic):</th>  <td>0.00536</td>\n",
       "</tr>\n",
       "<tr>\n",
       "  <th>Time:</th>                 <td>15:12:33</td>     <th>  Log-Likelihood:    </th> <td>  24.294</td>\n",
       "</tr>\n",
       "<tr>\n",
       "  <th>No. Observations:</th>      <td>     8</td>      <th>  AIC:               </th> <td>  -38.59</td>\n",
       "</tr>\n",
       "<tr>\n",
       "  <th>Df Residuals:</th>          <td>     3</td>      <th>  BIC:               </th> <td>  -38.19</td>\n",
       "</tr>\n",
       "<tr>\n",
       "  <th>Df Model:</th>              <td>     4</td>      <th>                     </th>     <td> </td>   \n",
       "</tr>\n",
       "<tr>\n",
       "  <th>Covariance Type:</th>      <td>nonrobust</td>    <th>                     </th>     <td> </td>   \n",
       "</tr>\n",
       "</table>\n",
       "<table class=\"simpletable\">\n",
       "<tr>\n",
       "      <td></td>         <th>coef</th>     <th>std err</th>      <th>t</th>      <th>P>|t|</th>  <th>[0.025</th>    <th>0.975]</th>  \n",
       "</tr>\n",
       "<tr>\n",
       "  <th>Intercept</th> <td>   -4.8230</td> <td>   10.921</td> <td>   -0.442</td> <td> 0.689</td> <td>  -39.578</td> <td>   29.932</td>\n",
       "</tr>\n",
       "<tr>\n",
       "  <th>attend</th>    <td>    0.7147</td> <td>    0.093</td> <td>    7.721</td> <td> 0.005</td> <td>    0.420</td> <td>    1.009</td>\n",
       "</tr>\n",
       "<tr>\n",
       "  <th>attend_1</th>  <td>    0.4134</td> <td>    0.081</td> <td>    5.128</td> <td> 0.014</td> <td>    0.157</td> <td>    0.670</td>\n",
       "</tr>\n",
       "<tr>\n",
       "  <th>attend_2</th>  <td>    0.3908</td> <td>    0.091</td> <td>    4.278</td> <td> 0.023</td> <td>    0.100</td> <td>    0.682</td>\n",
       "</tr>\n",
       "<tr>\n",
       "  <th>year</th>      <td>    0.0015</td> <td>    0.005</td> <td>    0.293</td> <td> 0.788</td> <td>   -0.015</td> <td>    0.018</td>\n",
       "</tr>\n",
       "</table>\n",
       "<table class=\"simpletable\">\n",
       "<tr>\n",
       "  <th>Omnibus:</th>       <td> 0.544</td> <th>  Durbin-Watson:     </th> <td>   1.623</td>\n",
       "</tr>\n",
       "<tr>\n",
       "  <th>Prob(Omnibus):</th> <td> 0.762</td> <th>  Jarque-Bera (JB):  </th> <td>   0.496</td>\n",
       "</tr>\n",
       "<tr>\n",
       "  <th>Skew:</th>          <td> 0.190</td> <th>  Prob(JB):          </th> <td>   0.781</td>\n",
       "</tr>\n",
       "<tr>\n",
       "  <th>Kurtosis:</th>      <td> 1.841</td> <th>  Cond. No.          </th> <td>3.24e+06</td>\n",
       "</tr>\n",
       "</table><br/><br/>Warnings:<br/>[1] Standard Errors assume that the covariance matrix of the errors is correctly specified.<br/>[2] The condition number is large, 3.24e+06. This might indicate that there are<br/>strong multicollinearity or other numerical problems."
      ],
      "text/plain": [
       "<class 'statsmodels.iolib.summary.Summary'>\n",
       "\"\"\"\n",
       "                            OLS Regression Results                            \n",
       "==============================================================================\n",
       "Dep. Variable:                   pray   R-squared:                       0.983\n",
       "Model:                            OLS   Adj. R-squared:                  0.961\n",
       "Method:                 Least Squares   F-statistic:                     44.08\n",
       "Date:                Tue, 14 Aug 2018   Prob (F-statistic):            0.00536\n",
       "Time:                        15:12:33   Log-Likelihood:                 24.294\n",
       "No. Observations:                   8   AIC:                            -38.59\n",
       "Df Residuals:                       3   BIC:                            -38.19\n",
       "Df Model:                           4                                         \n",
       "Covariance Type:            nonrobust                                         \n",
       "==============================================================================\n",
       "                 coef    std err          t      P>|t|      [0.025      0.975]\n",
       "------------------------------------------------------------------------------\n",
       "Intercept     -4.8230     10.921     -0.442      0.689     -39.578      29.932\n",
       "attend         0.7147      0.093      7.721      0.005       0.420       1.009\n",
       "attend_1       0.4134      0.081      5.128      0.014       0.157       0.670\n",
       "attend_2       0.3908      0.091      4.278      0.023       0.100       0.682\n",
       "year           0.0015      0.005      0.293      0.788      -0.015       0.018\n",
       "==============================================================================\n",
       "Omnibus:                        0.544   Durbin-Watson:                   1.623\n",
       "Prob(Omnibus):                  0.762   Jarque-Bera (JB):                0.496\n",
       "Skew:                           0.190   Prob(JB):                        0.781\n",
       "Kurtosis:                       1.841   Cond. No.                     3.24e+06\n",
       "==============================================================================\n",
       "\n",
       "Warnings:\n",
       "[1] Standard Errors assume that the covariance matrix of the errors is correctly specified.\n",
       "[2] The condition number is large, 3.24e+06. This might indicate that there are\n",
       "strong multicollinearity or other numerical problems.\n",
       "\"\"\""
      ]
     },
     "execution_count": 190,
     "metadata": {},
     "output_type": "execute_result"
    }
   ],
   "source": [
    "# create second lag for attendance\n",
    "by_year_ts['attend_2'] = by_year_ts.attend.shift(2)\n",
    "\n",
    "# slide 52\n",
    "dyn2 = smf.ols('pray ~ attend + attend_1 + attend_2 + year', data=by_year_ts).fit()\n",
    "dyn2.summary()"
   ]
  },
  {
   "cell_type": "code",
   "execution_count": 228,
   "metadata": {},
   "outputs": [
    {
     "name": "stderr",
     "output_type": "stream",
     "text": [
      "/Users/melindasong/anaconda/envs/py36/lib/python3.6/site-packages/ipykernel_launcher.py:1: SettingWithCopyWarning: \n",
      "A value is trying to be set on a copy of a slice from a DataFrame.\n",
      "Try using .loc[row_indexer,col_indexer] = value instead\n",
      "\n",
      "See the caveats in the documentation: http://pandas.pydata.org/pandas-docs/stable/indexing.html#indexing-view-versus-copy\n",
      "  \"\"\"Entry point for launching an IPython kernel.\n",
      "/Users/melindasong/anaconda/envs/py36/lib/python3.6/site-packages/statsmodels/stats/stattools.py:72: ValueWarning: omni_normtest is not valid with less than 8 observations; 7 samples were given.\n",
      "  \"samples were given.\" % int(n), ValueWarning)\n"
     ]
    },
    {
     "data": {
      "text/html": [
       "<table class=\"simpletable\">\n",
       "<caption>OLS Regression Results</caption>\n",
       "<tr>\n",
       "  <th>Dep. Variable:</th>          <td>pray</td>       <th>  R-squared:         </th> <td>   0.999</td>\n",
       "</tr>\n",
       "<tr>\n",
       "  <th>Model:</th>                   <td>OLS</td>       <th>  Adj. R-squared:    </th> <td>   0.997</td>\n",
       "</tr>\n",
       "<tr>\n",
       "  <th>Method:</th>             <td>Least Squares</td>  <th>  F-statistic:       </th> <td>   351.1</td>\n",
       "</tr>\n",
       "<tr>\n",
       "  <th>Date:</th>             <td>Tue, 14 Aug 2018</td> <th>  Prob (F-statistic):</th>  <td>0.0405</td> \n",
       "</tr>\n",
       "<tr>\n",
       "  <th>Time:</th>                 <td>15:45:14</td>     <th>  Log-Likelihood:    </th> <td>  32.893</td>\n",
       "</tr>\n",
       "<tr>\n",
       "  <th>No. Observations:</th>      <td>     7</td>      <th>  AIC:               </th> <td>  -53.79</td>\n",
       "</tr>\n",
       "<tr>\n",
       "  <th>Df Residuals:</th>          <td>     1</td>      <th>  BIC:               </th> <td>  -54.11</td>\n",
       "</tr>\n",
       "<tr>\n",
       "  <th>Df Model:</th>              <td>     5</td>      <th>                     </th>     <td> </td>   \n",
       "</tr>\n",
       "<tr>\n",
       "  <th>Covariance Type:</th>      <td>nonrobust</td>    <th>                     </th>     <td> </td>   \n",
       "</tr>\n",
       "</table>\n",
       "<table class=\"simpletable\">\n",
       "<tr>\n",
       "      <td></td>         <th>coef</th>     <th>std err</th>      <th>t</th>      <th>P>|t|</th>  <th>[0.025</th>    <th>0.975]</th>  \n",
       "</tr>\n",
       "<tr>\n",
       "  <th>Intercept</th> <td>  -20.2966</td> <td>    6.487</td> <td>   -3.129</td> <td> 0.197</td> <td> -102.722</td> <td>   62.129</td>\n",
       "</tr>\n",
       "<tr>\n",
       "  <th>attend</th>    <td>    0.7100</td> <td>    0.031</td> <td>   22.554</td> <td> 0.028</td> <td>    0.310</td> <td>    1.110</td>\n",
       "</tr>\n",
       "<tr>\n",
       "  <th>attend_1</th>  <td>    0.5225</td> <td>    0.033</td> <td>   15.905</td> <td> 0.040</td> <td>    0.105</td> <td>    0.940</td>\n",
       "</tr>\n",
       "<tr>\n",
       "  <th>attend_2</th>  <td>    0.4323</td> <td>    0.036</td> <td>   12.152</td> <td> 0.052</td> <td>   -0.020</td> <td>    0.884</td>\n",
       "</tr>\n",
       "<tr>\n",
       "  <th>attend_3</th>  <td>    0.1625</td> <td>    0.036</td> <td>    4.531</td> <td> 0.138</td> <td>   -0.293</td> <td>    0.618</td>\n",
       "</tr>\n",
       "<tr>\n",
       "  <th>year</th>      <td>    0.0087</td> <td>    0.003</td> <td>    2.828</td> <td> 0.216</td> <td>   -0.030</td> <td>    0.048</td>\n",
       "</tr>\n",
       "</table>\n",
       "<table class=\"simpletable\">\n",
       "<tr>\n",
       "  <th>Omnibus:</th>       <td>   nan</td> <th>  Durbin-Watson:     </th> <td>   3.213</td>\n",
       "</tr>\n",
       "<tr>\n",
       "  <th>Prob(Omnibus):</th> <td>   nan</td> <th>  Jarque-Bera (JB):  </th> <td>   1.009</td>\n",
       "</tr>\n",
       "<tr>\n",
       "  <th>Skew:</th>          <td> 0.150</td> <th>  Prob(JB):          </th> <td>   0.604</td>\n",
       "</tr>\n",
       "<tr>\n",
       "  <th>Kurtosis:</th>      <td> 1.165</td> <th>  Cond. No.          </th> <td>5.86e+06</td>\n",
       "</tr>\n",
       "</table><br/><br/>Warnings:<br/>[1] Standard Errors assume that the covariance matrix of the errors is correctly specified.<br/>[2] The condition number is large, 5.86e+06. This might indicate that there are<br/>strong multicollinearity or other numerical problems."
      ],
      "text/plain": [
       "<class 'statsmodels.iolib.summary.Summary'>\n",
       "\"\"\"\n",
       "                            OLS Regression Results                            \n",
       "==============================================================================\n",
       "Dep. Variable:                   pray   R-squared:                       0.999\n",
       "Model:                            OLS   Adj. R-squared:                  0.997\n",
       "Method:                 Least Squares   F-statistic:                     351.1\n",
       "Date:                Tue, 14 Aug 2018   Prob (F-statistic):             0.0405\n",
       "Time:                        15:45:14   Log-Likelihood:                 32.893\n",
       "No. Observations:                   7   AIC:                            -53.79\n",
       "Df Residuals:                       1   BIC:                            -54.11\n",
       "Df Model:                           5                                         \n",
       "Covariance Type:            nonrobust                                         \n",
       "==============================================================================\n",
       "                 coef    std err          t      P>|t|      [0.025      0.975]\n",
       "------------------------------------------------------------------------------\n",
       "Intercept    -20.2966      6.487     -3.129      0.197    -102.722      62.129\n",
       "attend         0.7100      0.031     22.554      0.028       0.310       1.110\n",
       "attend_1       0.5225      0.033     15.905      0.040       0.105       0.940\n",
       "attend_2       0.4323      0.036     12.152      0.052      -0.020       0.884\n",
       "attend_3       0.1625      0.036      4.531      0.138      -0.293       0.618\n",
       "year           0.0087      0.003      2.828      0.216      -0.030       0.048\n",
       "==============================================================================\n",
       "Omnibus:                          nan   Durbin-Watson:                   3.213\n",
       "Prob(Omnibus):                    nan   Jarque-Bera (JB):                1.009\n",
       "Skew:                           0.150   Prob(JB):                        0.604\n",
       "Kurtosis:                       1.165   Cond. No.                     5.86e+06\n",
       "==============================================================================\n",
       "\n",
       "Warnings:\n",
       "[1] Standard Errors assume that the covariance matrix of the errors is correctly specified.\n",
       "[2] The condition number is large, 5.86e+06. This might indicate that there are\n",
       "strong multicollinearity or other numerical problems.\n",
       "\"\"\""
      ]
     },
     "execution_count": 228,
     "metadata": {},
     "output_type": "execute_result"
    }
   ],
   "source": [
    "by_year_ts['attend_3'] = by_year_ts.attend.shift(3)\n",
    "\n",
    "# slide 53\n",
    "dyn3 = smf.ols('pray ~ attend + attend_1 + attend_2 + attend_3 + year', data=by_year_ts).fit()\n",
    "dyn3.summary()"
   ]
  },
  {
   "cell_type": "markdown",
   "metadata": {},
   "source": [
    "### The fading out of lags"
   ]
  },
  {
   "cell_type": "code",
   "execution_count": 196,
   "metadata": {},
   "outputs": [
    {
     "data": {
      "text/plain": [
       "<matplotlib.axes._subplots.AxesSubplot at 0x1c28bda278>"
      ]
     },
     "execution_count": 196,
     "metadata": {},
     "output_type": "execute_result"
    },
    {
     "data": {
      "image/png": "[encoded data removed]",
      "text/plain": [
       "<Figure size 432x288 with 1 Axes>"
      ]
     },
     "metadata": {},
     "output_type": "display_data"
    }
   ],
   "source": [
    "# plot the coeffcients for `attend` based on dyn3 results\n",
    "dyn3.params[1:5].plot(kind='bar')"
   ]
  },
  {
   "cell_type": "markdown",
   "metadata": {},
   "source": [
    "### Cumulative lags"
   ]
  },
  {
   "cell_type": "code",
   "execution_count": 199,
   "metadata": {},
   "outputs": [
    {
     "data": {
      "text/plain": [
       "<matplotlib.axes._subplots.AxesSubplot at 0x1c28b8b7f0>"
      ]
     },
     "execution_count": 199,
     "metadata": {},
     "output_type": "execute_result"
    },
    {
     "data": {
      "image/png": "[encoded data removed]",
      "text/plain": [
       "<Figure size 432x288 with 1 Axes>"
      ]
     },
     "metadata": {},
     "output_type": "display_data"
    }
   ],
   "source": [
    "dyn3.params[1:5].cumsum().plot(kind='bar')"
   ]
  },
  {
   "cell_type": "markdown",
   "metadata": {},
   "source": [
    "### Finite distributed lag process with differences"
   ]
  },
  {
   "cell_type": "code",
   "execution_count": 219,
   "metadata": {},
   "outputs": [
    {
     "name": "stderr",
     "output_type": "stream",
     "text": [
      "/Users/melindasong/anaconda/envs/py36/lib/python3.6/site-packages/statsmodels/stats/stattools.py:72: ValueWarning: omni_normtest is not valid with less than 8 observations; 6 samples were given.\n",
      "  \"samples were given.\" % int(n), ValueWarning)\n"
     ]
    },
    {
     "data": {
      "text/html": [
       "<table class=\"simpletable\">\n",
       "<caption>OLS Regression Results</caption>\n",
       "<tr>\n",
       "  <th>Dep. Variable:</th>          <td>pray</td>       <th>  R-squared:         </th> <td>   0.998</td>\n",
       "</tr>\n",
       "<tr>\n",
       "  <th>Model:</th>                   <td>OLS</td>       <th>  Adj. R-squared:    </th> <td>   0.988</td>\n",
       "</tr>\n",
       "<tr>\n",
       "  <th>Method:</th>             <td>Least Squares</td>  <th>  F-statistic:       </th> <td>   100.3</td>\n",
       "</tr>\n",
       "<tr>\n",
       "  <th>Date:</th>             <td>Tue, 14 Aug 2018</td> <th>  Prob (F-statistic):</th>  <td>0.0747</td> \n",
       "</tr>\n",
       "<tr>\n",
       "  <th>Time:</th>                 <td>15:30:19</td>     <th>  Log-Likelihood:    </th> <td>  25.071</td>\n",
       "</tr>\n",
       "<tr>\n",
       "  <th>No. Observations:</th>      <td>     6</td>      <th>  AIC:               </th> <td>  -40.14</td>\n",
       "</tr>\n",
       "<tr>\n",
       "  <th>Df Residuals:</th>          <td>     1</td>      <th>  BIC:               </th> <td>  -41.18</td>\n",
       "</tr>\n",
       "<tr>\n",
       "  <th>Df Model:</th>              <td>     4</td>      <th>                     </th>     <td> </td>   \n",
       "</tr>\n",
       "<tr>\n",
       "  <th>Covariance Type:</th>      <td>nonrobust</td>    <th>                     </th>     <td> </td>   \n",
       "</tr>\n",
       "</table>\n",
       "<table class=\"simpletable\">\n",
       "<tr>\n",
       "      <td></td>         <th>coef</th>     <th>std err</th>      <th>t</th>      <th>P>|t|</th>  <th>[0.025</th>    <th>0.975]</th>  \n",
       "</tr>\n",
       "<tr>\n",
       "  <th>Intercept</th> <td>    0.0092</td> <td>    0.004</td> <td>    2.084</td> <td> 0.285</td> <td>   -0.047</td> <td>    0.065</td>\n",
       "</tr>\n",
       "<tr>\n",
       "  <th>attend</th>    <td>    0.7305</td> <td>    0.041</td> <td>   17.624</td> <td> 0.036</td> <td>    0.204</td> <td>    1.257</td>\n",
       "</tr>\n",
       "<tr>\n",
       "  <th>attend_1</th>  <td>    0.5208</td> <td>    0.040</td> <td>   12.972</td> <td> 0.049</td> <td>    0.011</td> <td>    1.031</td>\n",
       "</tr>\n",
       "<tr>\n",
       "  <th>attend_2</th>  <td>    0.4411</td> <td>    0.042</td> <td>   10.538</td> <td> 0.060</td> <td>   -0.091</td> <td>    0.973</td>\n",
       "</tr>\n",
       "<tr>\n",
       "  <th>attend_3</th>  <td>    0.1517</td> <td>    0.037</td> <td>    4.075</td> <td> 0.153</td> <td>   -0.321</td> <td>    0.625</td>\n",
       "</tr>\n",
       "</table>\n",
       "<table class=\"simpletable\">\n",
       "<tr>\n",
       "  <th>Omnibus:</th>       <td>   nan</td> <th>  Durbin-Watson:     </th> <td>   1.705</td>\n",
       "</tr>\n",
       "<tr>\n",
       "  <th>Prob(Omnibus):</th> <td>   nan</td> <th>  Jarque-Bera (JB):  </th> <td>   0.292</td>\n",
       "</tr>\n",
       "<tr>\n",
       "  <th>Skew:</th>          <td> 0.179</td> <th>  Prob(JB):          </th> <td>   0.864</td>\n",
       "</tr>\n",
       "<tr>\n",
       "  <th>Kurtosis:</th>      <td> 1.981</td> <th>  Cond. No.          </th> <td>    16.7</td>\n",
       "</tr>\n",
       "</table><br/><br/>Warnings:<br/>[1] Standard Errors assume that the covariance matrix of the errors is correctly specified."
      ],
      "text/plain": [
       "<class 'statsmodels.iolib.summary.Summary'>\n",
       "\"\"\"\n",
       "                            OLS Regression Results                            \n",
       "==============================================================================\n",
       "Dep. Variable:                   pray   R-squared:                       0.998\n",
       "Model:                            OLS   Adj. R-squared:                  0.988\n",
       "Method:                 Least Squares   F-statistic:                     100.3\n",
       "Date:                Tue, 14 Aug 2018   Prob (F-statistic):             0.0747\n",
       "Time:                        15:30:19   Log-Likelihood:                 25.071\n",
       "No. Observations:                   6   AIC:                            -40.14\n",
       "Df Residuals:                       1   BIC:                            -41.18\n",
       "Df Model:                           4                                         \n",
       "Covariance Type:            nonrobust                                         \n",
       "==============================================================================\n",
       "                 coef    std err          t      P>|t|      [0.025      0.975]\n",
       "------------------------------------------------------------------------------\n",
       "Intercept      0.0092      0.004      2.084      0.285      -0.047       0.065\n",
       "attend         0.7305      0.041     17.624      0.036       0.204       1.257\n",
       "attend_1       0.5208      0.040     12.972      0.049       0.011       1.031\n",
       "attend_2       0.4411      0.042     10.538      0.060      -0.091       0.973\n",
       "attend_3       0.1517      0.037      4.075      0.153      -0.321       0.625\n",
       "==============================================================================\n",
       "Omnibus:                          nan   Durbin-Watson:                   1.705\n",
       "Prob(Omnibus):                    nan   Jarque-Bera (JB):                0.292\n",
       "Skew:                           0.179   Prob(JB):                        0.864\n",
       "Kurtosis:                       1.981   Cond. No.                         16.7\n",
       "==============================================================================\n",
       "\n",
       "Warnings:\n",
       "[1] Standard Errors assume that the covariance matrix of the errors is correctly specified.\n",
       "\"\"\""
      ]
     },
     "execution_count": 219,
     "metadata": {},
     "output_type": "execute_result"
    }
   ],
   "source": [
    "# create a differenced dataframe\n",
    "by_year_ts_FD = by_year_ts.diff()\n",
    "\n",
    "# slide 62\n",
    "dyn5 = smf.ols('pray ~ attend + attend_1 + attend_2 + attend_3', data=by_year_ts_FD).fit()\n",
    "dyn5.summary()"
   ]
  },
  {
   "cell_type": "code",
   "execution_count": 221,
   "metadata": {},
   "outputs": [],
   "source": [
    "from pyramid.arima import auto_arima"
   ]
  },
  {
   "cell_type": "code",
   "execution_count": 229,
   "metadata": {},
   "outputs": [
    {
     "name": "stdout",
     "output_type": "stream",
     "text": [
      "Fit ARIMA: order=(1, 0, 1) seasonal_order=(0, 0, 0, 1); AIC=nan, BIC=nan, Fit time=nan seconds\n",
      "Fit ARIMA: order=(0, 0, 0) seasonal_order=(0, 0, 0, 1); AIC=-61.785, BIC=-61.894, Fit time=0.030 seconds\n",
      "Fit ARIMA: order=(1, 0, 0) seasonal_order=(0, 0, 0, 1); AIC=-72.221, BIC=-72.383, Fit time=0.043 seconds\n",
      "Fit ARIMA: order=(0, 0, 1) seasonal_order=(0, 0, 0, 1); AIC=-63.687, BIC=-63.849, Fit time=0.048 seconds\n",
      "Fit ARIMA: order=(2, 0, 0) seasonal_order=(0, 0, 0, 1); AIC=-70.855, BIC=-71.072, Fit time=0.040 seconds\n",
      "Fit ARIMA: order=(2, 0, 1) seasonal_order=(0, 0, 0, 1); AIC=nan, BIC=nan, Fit time=nan seconds\n",
      "Total fit time: 0.167 seconds\n"
     ]
    },
    {
     "name": "stderr",
     "output_type": "stream",
     "text": [
      "/Users/melindasong/anaconda/envs/py36/lib/python3.6/site-packages/pyramid/arima/auto.py:832: ModelFitWarning: Unable to fit ARIMA for order=(1, 0, 1) seasonal_order=(0, 0, 0, 1); data is likely non-stationary. (if you do not want to see these warnings, run with error_action=\"ignore\")\n",
      "  ModelFitWarning)\n",
      "/Users/melindasong/anaconda/envs/py36/lib/python3.6/site-packages/statsmodels/base/model.py:508: ConvergenceWarning: Maximum Likelihood optimization failed to converge. Check mle_retvals\n",
      "  \"Check mle_retvals\", ConvergenceWarning)\n",
      "/Users/melindasong/anaconda/envs/py36/lib/python3.6/site-packages/statsmodels/tsa/statespace/representation.py:375: FutureWarning: Using a non-tuple sequence for multidimensional indexing is deprecated; use `arr[tuple(seq)]` instead of `arr[seq]`. In the future this will be interpreted as an array index, `arr[np.array(seq)]`, which will result either in an error or a different result.\n",
      "  return matrix[[slice(None)]*(matrix.ndim-1) + [0]]\n",
      "/Users/melindasong/anaconda/envs/py36/lib/python3.6/site-packages/pyramid/arima/auto.py:832: ModelFitWarning: Unable to fit ARIMA for order=(2, 0, 1) seasonal_order=(0, 0, 0, 1); data is likely non-stationary. (if you do not want to see these warnings, run with error_action=\"ignore\")\n",
      "  ModelFitWarning)\n"
     ]
    },
    {
     "data": {
      "text/plain": [
       "ARIMA(callback=None, disp=0, maxiter=50, method=None, order=(1, 0, 0),\n",
       "   out_of_sample_size=0, scoring='mse', scoring_args={},\n",
       "   seasonal_order=(0, 0, 0, 1), solver='lbfgs', start_params=None,\n",
       "   suppress_warnings=False, transparams=True, trend='c')"
      ]
     },
     "execution_count": 229,
     "metadata": {},
     "output_type": "execute_result"
    }
   ],
   "source": [
    "auto_arima(dyn3.resid, trace=True)"
   ]
  },
  {
   "cell_type": "markdown",
   "metadata": {},
   "source": [
    "## Lagged dependent variable"
   ]
  },
  {
   "cell_type": "code",
   "execution_count": 230,
   "metadata": {},
   "outputs": [],
   "source": [
    "# slide 66"
   ]
  },
  {
   "cell_type": "code",
   "execution_count": 320,
   "metadata": {},
   "outputs": [],
   "source": [
    "# slide 70\n",
    "variables = ['year', 'region', 'sex', 'age', 'marital', 'degree']\n",
    "sub = GSS[variables].copy()\n",
    "\n",
    "sub['married'] = np.where(pd.isnull(sub.marital), np.nan, \n",
    "                          np.where(sub.marital==1, 1, 0))\n",
    "sub['baplus'] = np.where(pd.isnull(sub.degree), np.nan, \n",
    "                         np.where(sub.degree>=3, 1, 0))\n",
    "\n",
    "sub['marriedlt50'] = np.where(pd.isnull(sub.married) | pd.isnull(sub.age), np.nan, \n",
    "                              np.where((sub.married==1) & (sub.age<50), 1, 0))\n",
    "sub['degreelt50'] = np.where(pd.isnull(sub.baplus) | pd.isnull(sub.age), np.nan,\n",
    "                              np.where((sub.baplus==1) & (sub.age<50), 1, 0))\n",
    "\n",
    "by_year_region = sub.groupby(['year', 'region'])[['marriedlt50', 'degreelt50']].mean()\n",
    "by_year_region.reset_index(drop=False, inplace=True)"
   ]
  },
  {
   "cell_type": "code",
   "execution_count": 321,
   "metadata": {},
   "outputs": [],
   "source": [
    "import itertools\n",
    "\n",
    "def expand_grid(data_dict):\n",
    "    rows = itertools.product(*data_dict.values())\n",
    "    return pd.DataFrame.from_records(rows, columns=data_dict.keys())"
   ]
  },
  {
   "cell_type": "code",
   "execution_count": 322,
   "metadata": {},
   "outputs": [],
   "source": [
    "interp_dat = expand_grid({'year': [1979, 1981, 1992], \n",
    "                          'region': list(np.arange(1, 10))})\n",
    "interp_dat['marriedlt50'] = np.nan\n",
    "interp_dat['degreelt50'] = np.nan\n",
    "\n",
    "by_year_region = pd.concat([by_year_region, interp_dat], sort = False, ignore_index = True)\n",
    "by_year_region.sort_values(['region', 'year'], inplace=True)\n",
    "by_year_region.reset_index(drop=True, inplace=True)"
   ]
  },
  {
   "cell_type": "code",
   "execution_count": 323,
   "metadata": {},
   "outputs": [],
   "source": [
    "# interpolate by region\n",
    "for i in np.arange(1, 10):\n",
    "    sel = by_year_region.region==i\n",
    "    by_year_region[sel] = by_year_region[sel].interpolate(method = 'linear') "
   ]
  },
  {
   "cell_type": "code",
   "execution_count": 324,
   "metadata": {},
   "outputs": [],
   "source": [
    "by_year_region['marriedlt50_pct'] = by_year_region['marriedlt50']*100 \n",
    "by_year_region['degreelt50_pct'] = by_year_region['degreelt50']*100 \n",
    "\n",
    "by_year_region = by_year_region[by_year_region.year<=1993]"
   ]
  },
  {
   "cell_type": "markdown",
   "metadata": {},
   "source": [
    "### OLS \"Big T, Small N\" Panel Regression"
   ]
  },
  {
   "cell_type": "code",
   "execution_count": 326,
   "metadata": {},
   "outputs": [],
   "source": [
    "# convert to multiindex dataframe\n",
    "by_year_region = by_year_region.set_index(['region', 'year'], drop=False)"
   ]
  },
  {
   "cell_type": "code",
   "execution_count": 327,
   "metadata": {},
   "outputs": [
    {
     "data": {
      "text/html": [
       "<table class=\"simpletable\">\n",
       "<caption>PooledOLS Estimation Summary</caption>\n",
       "<tr>\n",
       "  <th>Dep. Variable:</th>       <td>marriedlt50</td>   <th>  R-squared:         </th>    <td>0.2848</td> \n",
       "</tr>\n",
       "<tr>\n",
       "  <th>Estimator:</th>            <td>PooledOLS</td>    <th>  R-squared (Between):</th>   <td>-0.0816</td>\n",
       "</tr>\n",
       "<tr>\n",
       "  <th>No. Observations:</th>        <td>198</td>       <th>  R-squared (Within):</th>    <td>0.3422</td> \n",
       "</tr>\n",
       "<tr>\n",
       "  <th>Date:</th>             <td>Tue, Aug 14 2018</td> <th>  R-squared (Overall):</th>   <td>0.2848</td> \n",
       "</tr>\n",
       "<tr>\n",
       "  <th>Time:</th>                 <td>21:13:27</td>     <th>  Log-likelihood     </th>    <td>290.32</td> \n",
       "</tr>\n",
       "<tr>\n",
       "  <th>Cov. Estimator:</th>       <td>Clustered</td>    <th>                     </th>       <td></td>    \n",
       "</tr>\n",
       "<tr>\n",
       "  <th></th>                          <td></td>         <th>  F-statistic:       </th>    <td>38.823</td> \n",
       "</tr>\n",
       "<tr>\n",
       "  <th>Entities:</th>                 <td>9</td>        <th>  P-value            </th>    <td>0.0000</td> \n",
       "</tr>\n",
       "<tr>\n",
       "  <th>Avg Obs:</th>               <td>22.000</td>      <th>  Distribution:      </th>   <td>F(2,195)</td>\n",
       "</tr>\n",
       "<tr>\n",
       "  <th>Min Obs:</th>               <td>22.000</td>      <th>                     </th>       <td></td>    \n",
       "</tr>\n",
       "<tr>\n",
       "  <th>Max Obs:</th>               <td>22.000</td>      <th>  F-statistic (robust):</th>  <td>114.82</td> \n",
       "</tr>\n",
       "<tr>\n",
       "  <th></th>                          <td></td>         <th>  P-value            </th>    <td>0.0000</td> \n",
       "</tr>\n",
       "<tr>\n",
       "  <th>Time periods:</th>            <td>22</td>        <th>  Distribution:      </th>   <td>F(2,195)</td>\n",
       "</tr>\n",
       "<tr>\n",
       "  <th>Avg Obs:</th>               <td>9.0000</td>      <th>                     </th>       <td></td>    \n",
       "</tr>\n",
       "<tr>\n",
       "  <th>Min Obs:</th>               <td>9.0000</td>      <th>                     </th>       <td></td>    \n",
       "</tr>\n",
       "<tr>\n",
       "  <th>Max Obs:</th>               <td>9.0000</td>      <th>                     </th>       <td></td>    \n",
       "</tr>\n",
       "<tr>\n",
       "  <th></th>                          <td></td>         <th>                     </th>       <td></td>    \n",
       "</tr>\n",
       "</table>\n",
       "<table class=\"simpletable\">\n",
       "<caption>Parameter Estimates</caption>\n",
       "<tr>\n",
       "       <td></td>      <th>Parameter</th> <th>Std. Err.</th> <th>T-stat</th>  <th>P-value</th> <th>Lower CI</th> <th>Upper CI</th>\n",
       "</tr>\n",
       "<tr>\n",
       "  <th>Intercept</th>   <td>12.502</td>    <td>0.8170</td>   <td>15.302</td>  <td>0.0000</td>   <td>10.890</td>   <td>14.113</td> \n",
       "</tr>\n",
       "<tr>\n",
       "  <th>degreelt50</th>  <td>0.2860</td>    <td>0.1288</td>   <td>2.2214</td>  <td>0.0275</td>   <td>0.0321</td>   <td>0.5400</td> \n",
       "</tr>\n",
       "<tr>\n",
       "  <th>year</th>        <td>-0.0061</td>   <td>0.0004</td>   <td>-14.773</td> <td>0.0000</td>   <td>-0.0070</td>  <td>-0.0053</td>\n",
       "</tr>\n",
       "</table>"
      ],
      "text/plain": [
       "<class 'linearmodels.compat.statsmodels.Summary'>\n",
       "\"\"\"\n",
       "                          PooledOLS Estimation Summary                          \n",
       "================================================================================\n",
       "Dep. Variable:            marriedlt50   R-squared:                        0.2848\n",
       "Estimator:                  PooledOLS   R-squared (Between):             -0.0816\n",
       "No. Observations:                 198   R-squared (Within):               0.3422\n",
       "Date:                Tue, Aug 14 2018   R-squared (Overall):              0.2848\n",
       "Time:                        21:13:27   Log-likelihood                    290.32\n",
       "Cov. Estimator:             Clustered                                           \n",
       "                                        F-statistic:                      38.823\n",
       "Entities:                           9   P-value                           0.0000\n",
       "Avg Obs:                       22.000   Distribution:                   F(2,195)\n",
       "Min Obs:                       22.000                                           \n",
       "Max Obs:                       22.000   F-statistic (robust):             114.82\n",
       "                                        P-value                           0.0000\n",
       "Time periods:                      22   Distribution:                   F(2,195)\n",
       "Avg Obs:                       9.0000                                           \n",
       "Min Obs:                       9.0000                                           \n",
       "Max Obs:                       9.0000                                           \n",
       "                                                                                \n",
       "                             Parameter Estimates                              \n",
       "==============================================================================\n",
       "            Parameter  Std. Err.     T-stat    P-value    Lower CI    Upper CI\n",
       "------------------------------------------------------------------------------\n",
       "Intercept      12.502     0.8170     15.302     0.0000      10.890      14.113\n",
       "degreelt50     0.2860     0.1288     2.2214     0.0275      0.0321      0.5400\n",
       "year          -0.0061     0.0004    -14.773     0.0000     -0.0070     -0.0053\n",
       "==============================================================================\n",
       "\"\"\""
      ]
     },
     "execution_count": 327,
     "metadata": {},
     "output_type": "execute_result"
    }
   ],
   "source": [
    "# slide 77\n",
    "\n",
    "plm_married = PooledOLS.from_formula('marriedlt50 ~ 1 + degreelt50 + year', data=by_year_region).fit(cov_type = 'clustered', \n",
    "                                                                                                     cluster_entity = True)\n",
    "plm_married.summary"
   ]
  },
  {
   "cell_type": "markdown",
   "metadata": {},
   "source": [
    "Note: The intercept is higher than what's displayed in the R results because of the wide scale that \"year\" takes. The fitted values should be the same. "
   ]
  },
  {
   "cell_type": "code",
   "execution_count": 328,
   "metadata": {},
   "outputs": [
    {
     "data": {
      "text/html": [
       "<table class=\"simpletable\">\n",
       "<caption>PooledOLS Estimation Summary</caption>\n",
       "<tr>\n",
       "  <th>Dep. Variable:</th>       <td>marriedlt50</td>   <th>  R-squared:         </th>    <td>0.4367</td>  \n",
       "</tr>\n",
       "<tr>\n",
       "  <th>Estimator:</th>            <td>PooledOLS</td>    <th>  R-squared (Between):</th>   <td>1.0000</td>  \n",
       "</tr>\n",
       "<tr>\n",
       "  <th>No. Observations:</th>        <td>198</td>       <th>  R-squared (Within):</th>    <td>0.3483</td>  \n",
       "</tr>\n",
       "<tr>\n",
       "  <th>Date:</th>             <td>Tue, Aug 14 2018</td> <th>  R-squared (Overall):</th>   <td>0.4367</td>  \n",
       "</tr>\n",
       "<tr>\n",
       "  <th>Time:</th>                 <td>21:13:35</td>     <th>  Log-likelihood     </th>    <td>313.95</td>  \n",
       "</tr>\n",
       "<tr>\n",
       "  <th>Cov. Estimator:</th>       <td>Clustered</td>    <th>                     </th>       <td></td>     \n",
       "</tr>\n",
       "<tr>\n",
       "  <th></th>                          <td></td>         <th>  F-statistic:       </th>    <td>14.495</td>  \n",
       "</tr>\n",
       "<tr>\n",
       "  <th>Entities:</th>                 <td>9</td>        <th>  P-value            </th>    <td>0.0000</td>  \n",
       "</tr>\n",
       "<tr>\n",
       "  <th>Avg Obs:</th>               <td>22.000</td>      <th>  Distribution:      </th>   <td>F(10,187)</td>\n",
       "</tr>\n",
       "<tr>\n",
       "  <th>Min Obs:</th>               <td>22.000</td>      <th>                     </th>       <td></td>     \n",
       "</tr>\n",
       "<tr>\n",
       "  <th>Max Obs:</th>               <td>22.000</td>      <th>  F-statistic (robust):</th> <td>5.202e+15</td>\n",
       "</tr>\n",
       "<tr>\n",
       "  <th></th>                          <td></td>         <th>  P-value            </th>    <td>0.0000</td>  \n",
       "</tr>\n",
       "<tr>\n",
       "  <th>Time periods:</th>            <td>22</td>        <th>  Distribution:      </th>   <td>F(10,187)</td>\n",
       "</tr>\n",
       "<tr>\n",
       "  <th>Avg Obs:</th>               <td>9.0000</td>      <th>                     </th>       <td></td>     \n",
       "</tr>\n",
       "<tr>\n",
       "  <th>Min Obs:</th>               <td>9.0000</td>      <th>                     </th>       <td></td>     \n",
       "</tr>\n",
       "<tr>\n",
       "  <th>Max Obs:</th>               <td>9.0000</td>      <th>                     </th>       <td></td>     \n",
       "</tr>\n",
       "<tr>\n",
       "  <th></th>                          <td></td>         <th>                     </th>       <td></td>     \n",
       "</tr>\n",
       "</table>\n",
       "<table class=\"simpletable\">\n",
       "<caption>Parameter Estimates</caption>\n",
       "<tr>\n",
       "          <td></td>         <th>Parameter</th> <th>Std. Err.</th> <th>T-stat</th>  <th>P-value</th> <th>Lower CI</th> <th>Upper CI</th>\n",
       "</tr>\n",
       "<tr>\n",
       "  <th>Intercept</th>         <td>13.356</td>    <td>0.8693</td>   <td>15.364</td>  <td>0.0000</td>   <td>11.641</td>   <td>15.071</td> \n",
       "</tr>\n",
       "<tr>\n",
       "  <th>C(region)[T.2.0]</th>  <td>-0.0018</td>   <td>0.0046</td>   <td>-0.4025</td> <td>0.6878</td>   <td>-0.0108</td>  <td>0.0072</td> \n",
       "</tr>\n",
       "<tr>\n",
       "  <th>C(region)[T.3.0]</th>  <td>0.0168</td>    <td>0.0075</td>   <td>2.2365</td>  <td>0.0265</td>   <td>0.0020</td>   <td>0.0316</td> \n",
       "</tr>\n",
       "<tr>\n",
       "  <th>C(region)[T.4.0]</th>  <td>-0.0114</td>   <td>0.0057</td>   <td>-1.9945</td> <td>0.0476</td>   <td>-0.0226</td>  <td>-0.0001</td>\n",
       "</tr>\n",
       "<tr>\n",
       "  <th>C(region)[T.5.0]</th>  <td>0.0007</td>    <td>0.0086</td>   <td>0.0761</td>  <td>0.9394</td>   <td>-0.0163</td>  <td>0.0176</td> \n",
       "</tr>\n",
       "<tr>\n",
       "  <th>C(region)[T.6.0]</th>  <td>0.0144</td>    <td>0.0095</td>   <td>1.5075</td>  <td>0.1334</td>   <td>-0.0044</td>  <td>0.0332</td> \n",
       "</tr>\n",
       "<tr>\n",
       "  <th>C(region)[T.7.0]</th>  <td>0.0683</td>    <td>0.0084</td>   <td>8.1571</td>  <td>0.0000</td>   <td>0.0518</td>   <td>0.0849</td> \n",
       "</tr>\n",
       "<tr>\n",
       "  <th>C(region)[T.8.0]</th>  <td>0.0432</td>    <td>0.0047</td>   <td>9.2516</td>  <td>0.0000</td>   <td>0.0340</td>   <td>0.0524</td> \n",
       "</tr>\n",
       "<tr>\n",
       "  <th>C(region)[T.9.0]</th>  <td>-0.0208</td>   <td>0.0034</td>   <td>-6.1523</td> <td>0.0000</td>   <td>-0.0275</td>  <td>-0.0141</td>\n",
       "</tr>\n",
       "<tr>\n",
       "  <th>degreelt50</th>        <td>0.4300</td>    <td>0.1253</td>   <td>3.4328</td>  <td>0.0007</td>   <td>0.1829</td>   <td>0.6772</td> \n",
       "</tr>\n",
       "<tr>\n",
       "  <th>year</th>              <td>-0.0066</td>   <td>0.0004</td>   <td>-14.912</td> <td>0.0000</td>   <td>-0.0075</td>  <td>-0.0057</td>\n",
       "</tr>\n",
       "</table>"
      ],
      "text/plain": [
       "<class 'linearmodels.compat.statsmodels.Summary'>\n",
       "\"\"\"\n",
       "                          PooledOLS Estimation Summary                          \n",
       "================================================================================\n",
       "Dep. Variable:            marriedlt50   R-squared:                        0.4367\n",
       "Estimator:                  PooledOLS   R-squared (Between):              1.0000\n",
       "No. Observations:                 198   R-squared (Within):               0.3483\n",
       "Date:                Tue, Aug 14 2018   R-squared (Overall):              0.4367\n",
       "Time:                        21:13:35   Log-likelihood                    313.95\n",
       "Cov. Estimator:             Clustered                                           \n",
       "                                        F-statistic:                      14.495\n",
       "Entities:                           9   P-value                           0.0000\n",
       "Avg Obs:                       22.000   Distribution:                  F(10,187)\n",
       "Min Obs:                       22.000                                           \n",
       "Max Obs:                       22.000   F-statistic (robust):          5.202e+15\n",
       "                                        P-value                           0.0000\n",
       "Time periods:                      22   Distribution:                  F(10,187)\n",
       "Avg Obs:                       9.0000                                           \n",
       "Min Obs:                       9.0000                                           \n",
       "Max Obs:                       9.0000                                           \n",
       "                                                                                \n",
       "                                Parameter Estimates                                 \n",
       "====================================================================================\n",
       "                  Parameter  Std. Err.     T-stat    P-value    Lower CI    Upper CI\n",
       "------------------------------------------------------------------------------------\n",
       "Intercept            13.356     0.8693     15.364     0.0000      11.641      15.071\n",
       "C(region)[T.2.0]    -0.0018     0.0046    -0.4025     0.6878     -0.0108      0.0072\n",
       "C(region)[T.3.0]     0.0168     0.0075     2.2365     0.0265      0.0020      0.0316\n",
       "C(region)[T.4.0]    -0.0114     0.0057    -1.9945     0.0476     -0.0226     -0.0001\n",
       "C(region)[T.5.0]     0.0007     0.0086     0.0761     0.9394     -0.0163      0.0176\n",
       "C(region)[T.6.0]     0.0144     0.0095     1.5075     0.1334     -0.0044      0.0332\n",
       "C(region)[T.7.0]     0.0683     0.0084     8.1571     0.0000      0.0518      0.0849\n",
       "C(region)[T.8.0]     0.0432     0.0047     9.2516     0.0000      0.0340      0.0524\n",
       "C(region)[T.9.0]    -0.0208     0.0034    -6.1523     0.0000     -0.0275     -0.0141\n",
       "degreelt50           0.4300     0.1253     3.4328     0.0007      0.1829      0.6772\n",
       "year                -0.0066     0.0004    -14.912     0.0000     -0.0075     -0.0057\n",
       "====================================================================================\n",
       "\"\"\""
      ]
     },
     "execution_count": 328,
     "metadata": {},
     "output_type": "execute_result"
    }
   ],
   "source": [
    "# slide 79\n",
    "plm_married = PooledOLS.from_formula('marriedlt50 ~ 1 + degreelt50 + year + C(region)', data=by_year_region).fit(cov_type = 'clustered', \n",
    "                                                                                                     cluster_entity = True)\n",
    "plm_married.summary"
   ]
  },
  {
   "cell_type": "code",
   "execution_count": 329,
   "metadata": {},
   "outputs": [
    {
     "data": {
      "text/plain": [
       "Model F-statistic (homoskedastic)\n",
       "H0: All parameters ex. constant not zero\n",
       "Statistic: 14.4949\n",
       "P-value: 0.0000\n",
       "Distributed: F(10,187)\n",
       "WaldTestStatistic, id: 0x1c2996b6d8"
      ]
     },
     "execution_count": 329,
     "metadata": {},
     "output_type": "execute_result"
    }
   ],
   "source": [
    "# slide 81\n",
    "plm_married.f_statistic"
   ]
  },
  {
   "cell_type": "markdown",
   "metadata": {},
   "source": [
    "### What about random effects?"
   ]
  },
  {
   "cell_type": "code",
   "execution_count": 317,
   "metadata": {},
   "outputs": [
    {
     "data": {
      "text/html": [
       "<div>\n",
       "<style scoped>\n",
       "    .dataframe tbody tr th:only-of-type {\n",
       "        vertical-align: middle;\n",
       "    }\n",
       "\n",
       "    .dataframe tbody tr th {\n",
       "        vertical-align: top;\n",
       "    }\n",
       "\n",
       "    .dataframe thead th {\n",
       "        text-align: right;\n",
       "    }\n",
       "</style>\n",
       "<table border=\"1\" class=\"dataframe\">\n",
       "  <thead>\n",
       "    <tr style=\"text-align: right;\">\n",
       "      <th></th>\n",
       "      <th></th>\n",
       "      <th>year</th>\n",
       "      <th>region</th>\n",
       "      <th>marriedlt50</th>\n",
       "      <th>degreelt50</th>\n",
       "      <th>marriedlt50_pct</th>\n",
       "      <th>degreelt50_pct</th>\n",
       "    </tr>\n",
       "    <tr>\n",
       "      <th>year</th>\n",
       "      <th>region</th>\n",
       "      <th></th>\n",
       "      <th></th>\n",
       "      <th></th>\n",
       "      <th></th>\n",
       "      <th></th>\n",
       "      <th></th>\n",
       "    </tr>\n",
       "  </thead>\n",
       "  <tbody>\n",
       "    <tr>\n",
       "      <th rowspan=\"5\" valign=\"top\">1972</th>\n",
       "      <th>1</th>\n",
       "      <td>1972</td>\n",
       "      <td>1</td>\n",
       "      <td>0.566667</td>\n",
       "      <td>0.111111</td>\n",
       "      <td>56.666667</td>\n",
       "      <td>11.111111</td>\n",
       "    </tr>\n",
       "    <tr>\n",
       "      <th>2</th>\n",
       "      <td>1972</td>\n",
       "      <td>2</td>\n",
       "      <td>0.462838</td>\n",
       "      <td>0.074830</td>\n",
       "      <td>46.283784</td>\n",
       "      <td>7.482993</td>\n",
       "    </tr>\n",
       "    <tr>\n",
       "      <th>3</th>\n",
       "      <td>1972</td>\n",
       "      <td>3</td>\n",
       "      <td>0.438944</td>\n",
       "      <td>0.103333</td>\n",
       "      <td>43.894389</td>\n",
       "      <td>10.333333</td>\n",
       "    </tr>\n",
       "    <tr>\n",
       "      <th>4</th>\n",
       "      <td>1972</td>\n",
       "      <td>4</td>\n",
       "      <td>0.418440</td>\n",
       "      <td>0.050360</td>\n",
       "      <td>41.843972</td>\n",
       "      <td>5.035971</td>\n",
       "    </tr>\n",
       "    <tr>\n",
       "      <th>5</th>\n",
       "      <td>1972</td>\n",
       "      <td>5</td>\n",
       "      <td>0.403670</td>\n",
       "      <td>0.070755</td>\n",
       "      <td>40.366972</td>\n",
       "      <td>7.075472</td>\n",
       "    </tr>\n",
       "  </tbody>\n",
       "</table>\n",
       "</div>"
      ],
      "text/plain": [
       "             year  region  marriedlt50  degreelt50  marriedlt50_pct  \\\n",
       "year region                                                           \n",
       "1972 1       1972       1     0.566667    0.111111        56.666667   \n",
       "     2       1972       2     0.462838    0.074830        46.283784   \n",
       "     3       1972       3     0.438944    0.103333        43.894389   \n",
       "     4       1972       4     0.418440    0.050360        41.843972   \n",
       "     5       1972       5     0.403670    0.070755        40.366972   \n",
       "\n",
       "             degreelt50_pct  \n",
       "year region                  \n",
       "1972 1            11.111111  \n",
       "     2             7.482993  \n",
       "     3            10.333333  \n",
       "     4             5.035971  \n",
       "     5             7.075472  "
      ]
     },
     "execution_count": 317,
     "metadata": {},
     "output_type": "execute_result"
    }
   ],
   "source": [
    "by_year_region.head()"
   ]
  },
  {
   "cell_type": "code",
   "execution_count": 330,
   "metadata": {},
   "outputs": [
    {
     "data": {
      "text/html": [
       "<table class=\"simpletable\">\n",
       "<caption>RandomEffects Estimation Summary</caption>\n",
       "<tr>\n",
       "  <th>Dep. Variable:</th>       <td>marriedlt50</td>   <th>  R-squared:         </th>    <td>0.3378</td> \n",
       "</tr>\n",
       "<tr>\n",
       "  <th>Estimator:</th>          <td>RandomEffects</td>  <th>  R-squared (Between):</th>   <td>-0.1569</td>\n",
       "</tr>\n",
       "<tr>\n",
       "  <th>No. Observations:</th>        <td>198</td>       <th>  R-squared (Within):</th>    <td>0.3481</td> \n",
       "</tr>\n",
       "<tr>\n",
       "  <th>Date:</th>             <td>Tue, Aug 14 2018</td> <th>  R-squared (Overall):</th>   <td>0.2796</td> \n",
       "</tr>\n",
       "<tr>\n",
       "  <th>Time:</th>                 <td>21:13:45</td>     <th>  Log-likelihood     </th>    <td>310.31</td> \n",
       "</tr>\n",
       "<tr>\n",
       "  <th>Cov. Estimator:</th>      <td>Unadjusted</td>    <th>                     </th>       <td></td>    \n",
       "</tr>\n",
       "<tr>\n",
       "  <th></th>                          <td></td>         <th>  F-statistic:       </th>    <td>49.728</td> \n",
       "</tr>\n",
       "<tr>\n",
       "  <th>Entities:</th>                 <td>9</td>        <th>  P-value            </th>    <td>0.0000</td> \n",
       "</tr>\n",
       "<tr>\n",
       "  <th>Avg Obs:</th>               <td>22.000</td>      <th>  Distribution:      </th>   <td>F(2,195)</td>\n",
       "</tr>\n",
       "<tr>\n",
       "  <th>Min Obs:</th>               <td>22.000</td>      <th>                     </th>       <td></td>    \n",
       "</tr>\n",
       "<tr>\n",
       "  <th>Max Obs:</th>               <td>22.000</td>      <th>  F-statistic (robust):</th>  <td>49.728</td> \n",
       "</tr>\n",
       "<tr>\n",
       "  <th></th>                          <td></td>         <th>  P-value            </th>    <td>0.0000</td> \n",
       "</tr>\n",
       "<tr>\n",
       "  <th>Time periods:</th>            <td>22</td>        <th>  Distribution:      </th>   <td>F(2,195)</td>\n",
       "</tr>\n",
       "<tr>\n",
       "  <th>Avg Obs:</th>               <td>9.0000</td>      <th>                     </th>       <td></td>    \n",
       "</tr>\n",
       "<tr>\n",
       "  <th>Min Obs:</th>               <td>9.0000</td>      <th>                     </th>       <td></td>    \n",
       "</tr>\n",
       "<tr>\n",
       "  <th>Max Obs:</th>               <td>9.0000</td>      <th>                     </th>       <td></td>    \n",
       "</tr>\n",
       "<tr>\n",
       "  <th></th>                          <td></td>         <th>                     </th>       <td></td>    \n",
       "</tr>\n",
       "</table>\n",
       "<table class=\"simpletable\">\n",
       "<caption>Parameter Estimates</caption>\n",
       "<tr>\n",
       "       <td></td>      <th>Parameter</th> <th>Std. Err.</th> <th>T-stat</th>  <th>P-value</th> <th>Lower CI</th> <th>Upper CI</th>\n",
       "</tr>\n",
       "<tr>\n",
       "  <th>Intercept</th>   <td>13.208</td>    <td>1.2958</td>   <td>10.193</td>  <td>0.0000</td>   <td>10.652</td>   <td>15.763</td> \n",
       "</tr>\n",
       "<tr>\n",
       "  <th>degreelt50</th>  <td>0.4034</td>    <td>0.1055</td>   <td>3.8227</td>  <td>0.0002</td>   <td>0.1953</td>   <td>0.6116</td> \n",
       "</tr>\n",
       "<tr>\n",
       "  <th>year</th>        <td>-0.0065</td>   <td>0.0007</td>   <td>-9.8919</td> <td>0.0000</td>   <td>-0.0078</td>  <td>-0.0052</td>\n",
       "</tr>\n",
       "</table>"
      ],
      "text/plain": [
       "<class 'linearmodels.compat.statsmodels.Summary'>\n",
       "\"\"\"\n",
       "                        RandomEffects Estimation Summary                        \n",
       "================================================================================\n",
       "Dep. Variable:            marriedlt50   R-squared:                        0.3378\n",
       "Estimator:              RandomEffects   R-squared (Between):             -0.1569\n",
       "No. Observations:                 198   R-squared (Within):               0.3481\n",
       "Date:                Tue, Aug 14 2018   R-squared (Overall):              0.2796\n",
       "Time:                        21:13:45   Log-likelihood                    310.31\n",
       "Cov. Estimator:            Unadjusted                                           \n",
       "                                        F-statistic:                      49.728\n",
       "Entities:                           9   P-value                           0.0000\n",
       "Avg Obs:                       22.000   Distribution:                   F(2,195)\n",
       "Min Obs:                       22.000                                           \n",
       "Max Obs:                       22.000   F-statistic (robust):             49.728\n",
       "                                        P-value                           0.0000\n",
       "Time periods:                      22   Distribution:                   F(2,195)\n",
       "Avg Obs:                       9.0000                                           \n",
       "Min Obs:                       9.0000                                           \n",
       "Max Obs:                       9.0000                                           \n",
       "                                                                                \n",
       "                             Parameter Estimates                              \n",
       "==============================================================================\n",
       "            Parameter  Std. Err.     T-stat    P-value    Lower CI    Upper CI\n",
       "------------------------------------------------------------------------------\n",
       "Intercept      13.208     1.2958     10.193     0.0000      10.652      15.763\n",
       "degreelt50     0.4034     0.1055     3.8227     0.0002      0.1953      0.6116\n",
       "year          -0.0065     0.0007    -9.8919     0.0000     -0.0078     -0.0052\n",
       "==============================================================================\n",
       "\"\"\""
      ]
     },
     "execution_count": 330,
     "metadata": {},
     "output_type": "execute_result"
    }
   ],
   "source": [
    "re_married = RandomEffects.from_formula(\"marriedlt50 ~ 1 + degreelt50 + year\", data=by_year_region).fit()\n",
    "re_married.summary"
   ]
  },
  {
   "cell_type": "markdown",
   "metadata": {},
   "source": [
    "### Test unit roots"
   ]
  },
  {
   "cell_type": "code",
   "execution_count": null,
   "metadata": {},
   "outputs": [],
   "source": []
  },
  {
   "cell_type": "code",
   "execution_count": null,
   "metadata": {},
   "outputs": [],
   "source": []
  },
  {
   "cell_type": "markdown",
   "metadata": {},
   "source": [
    "### Individual tests that individual panels are stationary"
   ]
  },
  {
   "cell_type": "code",
   "execution_count": 333,
   "metadata": {},
   "outputs": [
    {
     "name": "stderr",
     "output_type": "stream",
     "text": [
      "/Users/melindasong/anaconda/envs/py36/lib/python3.6/site-packages/statsmodels/tsa/stattools.py:1278: InterpolationWarning: p-value is greater than the indicated p-value\n",
      "  warn(\"p-value is greater than the indicated p-value\", InterpolationWarning)\n"
     ]
    },
    {
     "data": {
      "text/plain": [
       "[('kpss_stat', 0.2853723497628789),\n",
       " ('p_value', 0.1),\n",
       " ('lags', 2),\n",
       " ('crit', {'10%': 0.347, '5%': 0.463, '2.5%': 0.574, '1%': 0.739})]"
      ]
     },
     "execution_count": 333,
     "metadata": {},
     "output_type": "execute_result"
    }
   ],
   "source": [
    "# slide 91\n",
    "from statsmodels.tsa.stattools import kpss\n",
    "from statsmodels.compat import lzip\n",
    "\n",
    "name = ['kpss_stat', 'p_value', 'lags', 'crit']\n",
    "test = kpss(by_year_region.loc[by_year_region.region==1, 'marriedlt50'], lags=2)\n",
    "lzip(name, test)"
   ]
  },
  {
   "cell_type": "code",
   "execution_count": 336,
   "metadata": {},
   "outputs": [
    {
     "name": "stdout",
     "output_type": "stream",
     "text": [
      "Test for Region =  1\n",
      "[('kpss_stat', 0.2853723497628789), ('p_value', 0.1), ('lags', 2), ('crit', {'10%': 0.347, '5%': 0.463, '2.5%': 0.574, '1%': 0.739})]\n",
      "Test for Region =  2\n",
      "[('kpss_stat', 0.5786606173693372), ('p_value', 0.024576307511878438), ('lags', 2), ('crit', {'10%': 0.347, '5%': 0.463, '2.5%': 0.574, '1%': 0.739})]\n",
      "Test for Region =  3\n",
      "[('kpss_stat', 0.5658446764598666), ('p_value', 0.026836784581111123), ('lags', 2), ('crit', {'10%': 0.347, '5%': 0.463, '2.5%': 0.574, '1%': 0.739})]\n",
      "Test for Region =  4\n",
      "[('kpss_stat', 0.5445289861654579), ('p_value', 0.031637615728500476), ('lags', 2), ('crit', {'10%': 0.347, '5%': 0.463, '2.5%': 0.574, '1%': 0.739})]\n",
      "Test for Region =  5\n",
      "[('kpss_stat', 0.7051852681253704), ('p_value', 0.013074066534057235), ('lags', 2), ('crit', {'10%': 0.347, '5%': 0.463, '2.5%': 0.574, '1%': 0.739})]\n",
      "Test for Region =  6\n",
      "[('kpss_stat', 0.5809642320455481), ('p_value', 0.024366887995859256), ('lags', 2), ('crit', {'10%': 0.347, '5%': 0.463, '2.5%': 0.574, '1%': 0.739})]\n",
      "Test for Region =  7\n",
      "[('kpss_stat', 0.5906322203632329), ('p_value', 0.023487979966978823), ('lags', 2), ('crit', {'10%': 0.347, '5%': 0.463, '2.5%': 0.574, '1%': 0.739})]\n",
      "Test for Region =  8\n",
      "[('kpss_stat', 0.18999763363120267), ('p_value', 0.1), ('lags', 2), ('crit', {'10%': 0.347, '5%': 0.463, '2.5%': 0.574, '1%': 0.739})]\n",
      "Test for Region =  9\n",
      "[('kpss_stat', 0.3242106616093576), ('p_value', 0.1), ('lags', 2), ('crit', {'10%': 0.347, '5%': 0.463, '2.5%': 0.574, '1%': 0.739})]\n"
     ]
    },
    {
     "name": "stderr",
     "output_type": "stream",
     "text": [
      "/Users/melindasong/anaconda/envs/py36/lib/python3.6/site-packages/statsmodels/tsa/stattools.py:1278: InterpolationWarning: p-value is greater than the indicated p-value\n",
      "  warn(\"p-value is greater than the indicated p-value\", InterpolationWarning)\n",
      "/Users/melindasong/anaconda/envs/py36/lib/python3.6/site-packages/statsmodels/tsa/stattools.py:1278: InterpolationWarning: p-value is greater than the indicated p-value\n",
      "  warn(\"p-value is greater than the indicated p-value\", InterpolationWarning)\n",
      "/Users/melindasong/anaconda/envs/py36/lib/python3.6/site-packages/statsmodels/tsa/stattools.py:1278: InterpolationWarning: p-value is greater than the indicated p-value\n",
      "  warn(\"p-value is greater than the indicated p-value\", InterpolationWarning)\n"
     ]
    }
   ],
   "source": [
    "# slide 92\n",
    "\n",
    "for i in np.arange(1, 10):\n",
    "    test = kpss(by_year_region.loc[by_year_region.region==i, 'marriedlt50'], lags=2) \n",
    "    print(\"Test for Region = \", i)\n",
    "    print(lzip(name, test))"
   ]
  },
  {
   "cell_type": "markdown",
   "metadata": {},
   "source": [
    "### 1st differences \"Big T, Small N\" regression"
   ]
  },
  {
   "cell_type": "code",
   "execution_count": 356,
   "metadata": {},
   "outputs": [
    {
     "name": "stderr",
     "output_type": "stream",
     "text": [
      "/Users/melindasong/anaconda/envs/py36/lib/python3.6/site-packages/linearmodels/panel/model.py:1567: FutureWarning: \n",
      "Panel is deprecated and will be removed in a future version.\n",
      "The recommended way to represent these types of 3-dimensional data are with a MultiIndex on a DataFrame, via the Panel.to_frame() method\n",
      "Alternatively, you can use the xarray package http://xarray.pydata.org/en/stable/.\n",
      "Pandas provides a `.to_xarray()` method to help automate this conversion.\n",
      "\n",
      "  y = self.dependent.first_difference()\n",
      "/Users/melindasong/anaconda/envs/py36/lib/python3.6/site-packages/linearmodels/panel/data.py:568: FutureWarning: \n",
      "Panel is deprecated and will be removed in a future version.\n",
      "The recommended way to represent these types of 3-dimensional data are with a MultiIndex on a DataFrame, via the Panel.to_frame() method\n",
      "Alternatively, you can use the xarray package http://xarray.pydata.org/en/stable/.\n",
      "Pandas provides a `.to_xarray()` method to help automate this conversion.\n",
      "\n",
      "  diffs = diffs.swapaxes(1, 2).to_frame(filter_observations=False)\n",
      "/Users/melindasong/anaconda/envs/py36/lib/python3.6/site-packages/linearmodels/panel/model.py:1572: FutureWarning: \n",
      "Panel is deprecated and will be removed in a future version.\n",
      "The recommended way to represent these types of 3-dimensional data are with a MultiIndex on a DataFrame, via the Panel.to_frame() method\n",
      "Alternatively, you can use the xarray package http://xarray.pydata.org/en/stable/.\n",
      "Pandas provides a `.to_xarray()` method to help automate this conversion.\n",
      "\n",
      "  x = self.exog.first_difference().values2d\n"
     ]
    },
    {
     "data": {
      "text/html": [
       "<table class=\"simpletable\">\n",
       "<caption>FirstDifferenceOLS Estimation Summary</caption>\n",
       "<tr>\n",
       "  <th>Dep. Variable:</th>        <td>marriedlt50</td>    <th>  R-squared:         </th>    <td>0.0945</td> \n",
       "</tr>\n",
       "<tr>\n",
       "  <th>Estimator:</th>        <td>FirstDifferenceOLS</td> <th>  R-squared (Between):</th>   <td>0.2809</td> \n",
       "</tr>\n",
       "<tr>\n",
       "  <th>No. Observations:</th>         <td>189</td>        <th>  R-squared (Within):</th>    <td>-0.1287</td>\n",
       "</tr>\n",
       "<tr>\n",
       "  <th>Date:</th>              <td>Tue, Aug 14 2018</td>  <th>  R-squared (Overall):</th>   <td>0.2704</td> \n",
       "</tr>\n",
       "<tr>\n",
       "  <th>Time:</th>                  <td>22:09:05</td>      <th>  Log-likelihood     </th>    <td>250.24</td> \n",
       "</tr>\n",
       "<tr>\n",
       "  <th>Cov. Estimator:</th>       <td>Unadjusted</td>     <th>                     </th>       <td></td>    \n",
       "</tr>\n",
       "<tr>\n",
       "  <th></th>                           <td></td>          <th>  F-statistic:       </th>    <td>19.611</td> \n",
       "</tr>\n",
       "<tr>\n",
       "  <th>Entities:</th>                  <td>9</td>         <th>  P-value            </th>    <td>0.0000</td> \n",
       "</tr>\n",
       "<tr>\n",
       "  <th>Avg Obs:</th>                <td>22.000</td>       <th>  Distribution:      </th>   <td>F(1,188)</td>\n",
       "</tr>\n",
       "<tr>\n",
       "  <th>Min Obs:</th>                <td>22.000</td>       <th>                     </th>       <td></td>    \n",
       "</tr>\n",
       "<tr>\n",
       "  <th>Max Obs:</th>                <td>22.000</td>       <th>  F-statistic (robust):</th>  <td>19.611</td> \n",
       "</tr>\n",
       "<tr>\n",
       "  <th></th>                           <td></td>          <th>  P-value            </th>    <td>0.0000</td> \n",
       "</tr>\n",
       "<tr>\n",
       "  <th>Time periods:</th>             <td>22</td>         <th>  Distribution:      </th>   <td>F(1,188)</td>\n",
       "</tr>\n",
       "<tr>\n",
       "  <th>Avg Obs:</th>                <td>9.0000</td>       <th>                     </th>       <td></td>    \n",
       "</tr>\n",
       "<tr>\n",
       "  <th>Min Obs:</th>                <td>9.0000</td>       <th>                     </th>       <td></td>    \n",
       "</tr>\n",
       "<tr>\n",
       "  <th>Max Obs:</th>                <td>9.0000</td>       <th>                     </th>       <td></td>    \n",
       "</tr>\n",
       "<tr>\n",
       "  <th></th>                           <td></td>          <th>                     </th>       <td></td>    \n",
       "</tr>\n",
       "</table>\n",
       "<table class=\"simpletable\">\n",
       "<caption>Parameter Estimates</caption>\n",
       "<tr>\n",
       "       <td></td>      <th>Parameter</th> <th>Std. Err.</th> <th>T-stat</th> <th>P-value</th> <th>Lower CI</th> <th>Upper CI</th>\n",
       "</tr>\n",
       "<tr>\n",
       "  <th>degreelt50</th>  <td>0.4627</td>    <td>0.1045</td>   <td>4.4285</td> <td>0.0000</td>   <td>0.2566</td>   <td>0.6688</td> \n",
       "</tr>\n",
       "</table>"
      ],
      "text/plain": [
       "<class 'linearmodels.compat.statsmodels.Summary'>\n",
       "\"\"\"\n",
       "                     FirstDifferenceOLS Estimation Summary                      \n",
       "================================================================================\n",
       "Dep. Variable:            marriedlt50   R-squared:                        0.0945\n",
       "Estimator:         FirstDifferenceOLS   R-squared (Between):              0.2809\n",
       "No. Observations:                 189   R-squared (Within):              -0.1287\n",
       "Date:                Tue, Aug 14 2018   R-squared (Overall):              0.2704\n",
       "Time:                        22:09:05   Log-likelihood                    250.24\n",
       "Cov. Estimator:            Unadjusted                                           \n",
       "                                        F-statistic:                      19.611\n",
       "Entities:                           9   P-value                           0.0000\n",
       "Avg Obs:                       22.000   Distribution:                   F(1,188)\n",
       "Min Obs:                       22.000                                           \n",
       "Max Obs:                       22.000   F-statistic (robust):             19.611\n",
       "                                        P-value                           0.0000\n",
       "Time periods:                      22   Distribution:                   F(1,188)\n",
       "Avg Obs:                       9.0000                                           \n",
       "Min Obs:                       9.0000                                           \n",
       "Max Obs:                       9.0000                                           \n",
       "                                                                                \n",
       "                             Parameter Estimates                              \n",
       "==============================================================================\n",
       "            Parameter  Std. Err.     T-stat    P-value    Lower CI    Upper CI\n",
       "------------------------------------------------------------------------------\n",
       "degreelt50     0.4627     0.1045     4.4285     0.0000      0.2566      0.6688\n",
       "==============================================================================\n",
       "\"\"\""
      ]
     },
     "execution_count": 356,
     "metadata": {},
     "output_type": "execute_result"
    }
   ],
   "source": [
    "# slide 96\n",
    "plm_fd = FirstDifferenceOLS.from_formula(\"marriedlt50 ~ degreelt50\", data=by_year_region).fit()\n",
    "plm_fd.summary"
   ]
  },
  {
   "cell_type": "markdown",
   "metadata": {},
   "source": [
    "<br>\n",
    "The test for the serial correlation in panels doesn't seem to be available in Python as of yet, so we will use the R version "
   ]
  },
  {
   "cell_type": "code",
   "execution_count": 358,
   "metadata": {},
   "outputs": [
    {
     "name": "stdout",
     "output_type": "stream",
     "text": [
      "The rpy2.ipython extension is already loaded. To reload it, use:\n",
      "  %reload_ext rpy2.ipython\n"
     ]
    }
   ],
   "source": [
    "from rpy2.robjects.packages import importr\n",
    "\n",
    "plm = importr('plm')\n",
    "\n",
    "%load_ext rpy2.ipython"
   ]
  },
  {
   "cell_type": "code",
   "execution_count": 360,
   "metadata": {},
   "outputs": [
    {
     "data": {
      "text/plain": [
       "\n",
       "\tWooldridge's first-difference test for serial correlation in panels\n",
       "\n",
       "data:  plm_fd\n",
       "F = 49.521, df1 = 1, df2 = 178, p-value = 4.088e-11\n",
       "alternative hypothesis: serial correlation in differenced errors\n",
       "\n"
      ]
     },
     "metadata": {},
     "output_type": "display_data"
    }
   ],
   "source": [
    "%%R -i by_year_region\n",
    "\n",
    "plm_fd = plm(marriedlt50 ~ degreelt50 , index = c(\"region\", \"year\"), model=\"fd\", data = by_year_region)\n",
    "pwfdtest(plm_fd, h0='fd')"
   ]
  },
  {
   "cell_type": "code",
   "execution_count": null,
   "metadata": {},
   "outputs": [],
   "source": []
  }
 ],
 "metadata": {
  "kernelspec": {
   "display_name": "py36",
   "language": "python",
   "name": "py36"
  },
  "language_info": {
   "codemirror_mode": {
    "name": "ipython",
    "version": 3
   },
   "file_extension": ".py",
   "mimetype": "text/x-python",
   "name": "python",
   "nbconvert_exporter": "python",
   "pygments_lexer": "ipython3",
   "version": "3.6.5"
  }
 },
 "nbformat": 4,
 "nbformat_minor": 2
}
