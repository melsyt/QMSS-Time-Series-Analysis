{
 "cells": [
  {
   "cell_type": "markdown",
   "metadata": {},
   "source": [
    "# Regression Analysis of Temporal Processes (Class 9) - ARIMA, Unit Roots"
   ]
  },
  {
   "cell_type": "code",
   "execution_count": 47,
   "metadata": {},
   "outputs": [],
   "source": [
    "import warnings\n",
    "warnings.filterwarnings(\"ignore\")"
   ]
  },
  {
   "cell_type": "code",
   "execution_count": 48,
   "metadata": {},
   "outputs": [],
   "source": [
    "import pandas as pd\n",
    "import numpy as np\n",
    "import seaborn as sns\n",
    "import matplotlib.pyplot as plt\n",
    "%matplotlib inline\n",
    "from matplotlib.ticker import MaxNLocator\n",
    "import statsmodels.api as sm\n",
    "import statsmodels.formula.api as smf\n",
    "from statsmodels.compat import lzip\n",
    "from statsmodels.graphics.tsaplots import plot_acf\n",
    "import pylab\n",
    "from statsmodels.stats.stattools import durbin_watson\n",
    "from statsmodels.stats.diagnostic import acorr_breusch_godfrey\n",
    "from statsmodels.stats.diagnostic import acorr_ljungbox"
   ]
  },
  {
   "cell_type": "markdown",
   "metadata": {},
   "source": [
    "Code from last class:"
   ]
  },
  {
   "cell_type": "code",
   "execution_count": 30,
   "metadata": {},
   "outputs": [],
   "source": [
    "GSS = pd.read_csv('trends-gss.csv')\n",
    "variables = [\"cohort\", \"year\", \"sex\", \"age\", \"marital\", \"degree\"]\n",
    "sub = GSS[variables].copy()"
   ]
  },
  {
   "cell_type": "code",
   "execution_count": 31,
   "metadata": {},
   "outputs": [],
   "source": [
    "sub['married'] = np.where(pd.isnull(sub.marital), np.nan, \n",
    "                          np.where(sub.marital==1, 1, 0))\n",
    "sub['baplus'] = np.where(pd.isnull(sub.degree), np.nan, \n",
    "                         np.where(sub.degree>=3, 1, 0))\n",
    "\n",
    "sub['marriedlt50'] = np.where(pd.isnull(sub.married) | pd.isnull(sub.age), np.nan, \n",
    "                              np.where((sub.married==1) & (sub.age<50), 1, 0))\n",
    "sub['degreelt50'] = np.where(pd.isnull(sub.baplus) | pd.isnull(sub.age), np.nan,\n",
    "                              np.where((sub.baplus==1) & (sub.age<50), 1, 0))\n",
    "\n",
    "by_year = sub.groupby('year', as_index = False)[['year', 'marriedlt50', 'degreelt50']].mean()"
   ]
  },
  {
   "cell_type": "code",
   "execution_count": 4,
   "metadata": {},
   "outputs": [
    {
     "data": {
      "text/html": [
       "<div>\n",
       "<style scoped>\n",
       "    .dataframe tbody tr th:only-of-type {\n",
       "        vertical-align: middle;\n",
       "    }\n",
       "\n",
       "    .dataframe tbody tr th {\n",
       "        vertical-align: top;\n",
       "    }\n",
       "\n",
       "    .dataframe thead th {\n",
       "        text-align: right;\n",
       "    }\n",
       "</style>\n",
       "<table border=\"1\" class=\"dataframe\">\n",
       "  <thead>\n",
       "    <tr style=\"text-align: right;\">\n",
       "      <th></th>\n",
       "      <th>year</th>\n",
       "      <th>marriedlt50</th>\n",
       "      <th>degreelt50</th>\n",
       "    </tr>\n",
       "  </thead>\n",
       "  <tbody>\n",
       "    <tr>\n",
       "      <th>0</th>\n",
       "      <td>1972</td>\n",
       "      <td>712.0</td>\n",
       "      <td>123.0</td>\n",
       "    </tr>\n",
       "    <tr>\n",
       "      <th>1</th>\n",
       "      <td>1973</td>\n",
       "      <td>666.0</td>\n",
       "      <td>146.0</td>\n",
       "    </tr>\n",
       "    <tr>\n",
       "      <th>2</th>\n",
       "      <td>1974</td>\n",
       "      <td>658.0</td>\n",
       "      <td>152.0</td>\n",
       "    </tr>\n",
       "    <tr>\n",
       "      <th>3</th>\n",
       "      <td>1975</td>\n",
       "      <td>627.0</td>\n",
       "      <td>147.0</td>\n",
       "    </tr>\n",
       "    <tr>\n",
       "      <th>4</th>\n",
       "      <td>1976</td>\n",
       "      <td>599.0</td>\n",
       "      <td>152.0</td>\n",
       "    </tr>\n",
       "  </tbody>\n",
       "</table>\n",
       "</div>"
      ],
      "text/plain": [
       "   year  marriedlt50  degreelt50\n",
       "0  1972        712.0       123.0\n",
       "1  1973        666.0       146.0\n",
       "2  1974        658.0       152.0\n",
       "3  1975        627.0       147.0\n",
       "4  1976        599.0       152.0"
      ]
     },
     "execution_count": 4,
     "metadata": {},
     "output_type": "execute_result"
    }
   ],
   "source": [
    "sub.groupby('year', as_index = False)[['marriedlt50', 'degreelt50']].sum().head()"
   ]
  },
  {
   "cell_type": "code",
   "execution_count": 5,
   "metadata": {},
   "outputs": [
    {
     "data": {
      "text/html": [
       "<div>\n",
       "<style scoped>\n",
       "    .dataframe tbody tr th:only-of-type {\n",
       "        vertical-align: middle;\n",
       "    }\n",
       "\n",
       "    .dataframe tbody tr th {\n",
       "        vertical-align: top;\n",
       "    }\n",
       "\n",
       "    .dataframe thead th {\n",
       "        text-align: right;\n",
       "    }\n",
       "</style>\n",
       "<table border=\"1\" class=\"dataframe\">\n",
       "  <thead>\n",
       "    <tr style=\"text-align: right;\">\n",
       "      <th></th>\n",
       "      <th>year</th>\n",
       "      <th>marriedlt50</th>\n",
       "      <th>degreelt50</th>\n",
       "    </tr>\n",
       "  </thead>\n",
       "  <tbody>\n",
       "    <tr>\n",
       "      <th>0</th>\n",
       "      <td>1972</td>\n",
       "      <td>1608</td>\n",
       "      <td>1586</td>\n",
       "    </tr>\n",
       "    <tr>\n",
       "      <th>1</th>\n",
       "      <td>1973</td>\n",
       "      <td>1500</td>\n",
       "      <td>1485</td>\n",
       "    </tr>\n",
       "    <tr>\n",
       "      <th>2</th>\n",
       "      <td>1974</td>\n",
       "      <td>1478</td>\n",
       "      <td>1477</td>\n",
       "    </tr>\n",
       "    <tr>\n",
       "      <th>3</th>\n",
       "      <td>1975</td>\n",
       "      <td>1485</td>\n",
       "      <td>1485</td>\n",
       "    </tr>\n",
       "    <tr>\n",
       "      <th>4</th>\n",
       "      <td>1976</td>\n",
       "      <td>1493</td>\n",
       "      <td>1487</td>\n",
       "    </tr>\n",
       "  </tbody>\n",
       "</table>\n",
       "</div>"
      ],
      "text/plain": [
       "   year  marriedlt50  degreelt50\n",
       "0  1972         1608        1586\n",
       "1  1973         1500        1485\n",
       "2  1974         1478        1477\n",
       "3  1975         1485        1485\n",
       "4  1976         1493        1487"
      ]
     },
     "execution_count": 5,
     "metadata": {},
     "output_type": "execute_result"
    }
   ],
   "source": [
    "sub.groupby('year', as_index = False).agg('count')[['year', 'marriedlt50', 'degreelt50']].head()"
   ]
  },
  {
   "cell_type": "code",
   "execution_count": 32,
   "metadata": {},
   "outputs": [],
   "source": [
    "add_years_df = pd.DataFrame(data = pd.Series([1979, 1981, 1992]), columns = ['year'])\n",
    "by_year = pd.concat([by_year, add_years_df], sort = False, ignore_index = True)\n",
    "\n",
    "by_year = by_year.sort_values(['year'])\n",
    "\n",
    "#by_year['year'] = pd.to_datetime(by_year['year'], format = \"%Y\")\n",
    "#by_year = by_year.set_index('year', drop = False)\n",
    "#by_year['year'] = by_year['year'].dt.year\n",
    "\n",
    "by_year_ts = by_year.interpolate(method = 'linear')\n",
    "\n",
    "by_year_ts['marriedlt50_pct'] = by_year_ts['marriedlt50']*100 \n",
    "by_year_ts['degreelt50_pct'] = by_year_ts['degreelt50']*100 \n",
    "\n",
    "by_year_ts2 = by_year_ts[by_year_ts['year']<=1992].copy()\n",
    "#by_year_ts2.set_index('year', drop=False, inplace=True)"
   ]
  },
  {
   "cell_type": "markdown",
   "metadata": {},
   "source": [
    "## Augmented Dickey-Fuller test\n",
    "\n",
    "<br>\n",
    "The augmented Dickey-Fuller test is available in Python in the `statsmodels` module. However, we will use the functions provided in the `ARCH` package as the results offered are more comprehensive than those provided in `statsmodel`. "
   ]
  },
  {
   "cell_type": "code",
   "execution_count": 34,
   "metadata": {},
   "outputs": [
    {
     "data": {
      "text/html": [
       "<table class=\"simpletable\">\n",
       "<caption>Augmented Dickey-Fuller Results</caption>\n",
       "<tr>\n",
       "  <td>Test Statistic</td>    <td>-1.308</td>\n",
       "</tr>\n",
       "<tr>\n",
       "  <td>P-value</td>            <td>0.176</td>\n",
       "</tr>\n",
       "<tr>\n",
       "  <td>Lags</td>                   <td>0</td>\n",
       "</tr>\n",
       "</table><br/><br/>Trend: No Trend<br/>Critical Values: -2.69 (1%), -1.96 (5%), -1.61 (10%)<br/>Null Hypothesis: The process contains a unit root.<br/>Alternative Hypothesis: The process is weakly stationary."
      ],
      "text/plain": [
       "<class 'arch.unitroot.unitroot.ADF'>\n",
       "\"\"\"\n",
       "   Augmented Dickey-Fuller Results   \n",
       "=====================================\n",
       "Test Statistic                 -1.308\n",
       "P-value                         0.176\n",
       "Lags                                0\n",
       "-------------------------------------\n",
       "\n",
       "Trend: No Trend\n",
       "Critical Values: -2.69 (1%), -1.96 (5%), -1.61 (10%)\n",
       "Null Hypothesis: The process contains a unit root.\n",
       "Alternative Hypothesis: The process is weakly stationary.\n",
       "\"\"\""
      ]
     },
     "execution_count": 34,
     "metadata": {},
     "output_type": "execute_result"
    }
   ],
   "source": [
    "from arch.unitroot import ADF\n",
    "\n",
    "ADF(by_year_ts2['marriedlt50_pct'], lags = 0, trend = 'nc')"
   ]
  },
  {
   "cell_type": "code",
   "execution_count": 9,
   "metadata": {},
   "outputs": [
    {
     "data": {
      "text/html": [
       "<table class=\"simpletable\">\n",
       "<caption>Augmented Dickey-Fuller Results</caption>\n",
       "<tr>\n",
       "  <td>Test Statistic</td>    <td>-2.246</td>\n",
       "</tr>\n",
       "<tr>\n",
       "  <td>P-value</td>            <td>0.024</td>\n",
       "</tr>\n",
       "<tr>\n",
       "  <td>Lags</td>                   <td>4</td>\n",
       "</tr>\n",
       "</table><br/><br/>Trend: No Trend<br/>Critical Values: -2.72 (1%), -1.96 (5%), -1.60 (10%)<br/>Null Hypothesis: The process contains a unit root.<br/>Alternative Hypothesis: The process is weakly stationary."
      ],
      "text/plain": [
       "<class 'arch.unitroot.unitroot.ADF'>\n",
       "\"\"\"\n",
       "   Augmented Dickey-Fuller Results   \n",
       "=====================================\n",
       "Test Statistic                 -2.246\n",
       "P-value                         0.024\n",
       "Lags                                4\n",
       "-------------------------------------\n",
       "\n",
       "Trend: No Trend\n",
       "Critical Values: -2.72 (1%), -1.96 (5%), -1.60 (10%)\n",
       "Null Hypothesis: The process contains a unit root.\n",
       "Alternative Hypothesis: The process is weakly stationary.\n",
       "\"\"\""
      ]
     },
     "execution_count": 9,
     "metadata": {},
     "output_type": "execute_result"
    }
   ],
   "source": [
    "# (slide 11)\n",
    "ADF(by_year_ts2['marriedlt50_pct'], lags = 4, trend = 'nc')"
   ]
  },
  {
   "cell_type": "code",
   "execution_count": 10,
   "metadata": {},
   "outputs": [
    {
     "name": "stderr",
     "output_type": "stream",
     "text": [
      "/Users/melindasong/anaconda/envs/py36/lib/python3.6/site-packages/scipy/stats/stats.py:1394: UserWarning: kurtosistest only valid for n>=20 ... continuing anyway, n=16\n",
      "  \"anyway, n=%i\" % int(n))\n"
     ]
    },
    {
     "data": {
      "text/html": [
       "<table class=\"simpletable\">\n",
       "<caption>OLS Regression Results</caption>\n",
       "<tr>\n",
       "  <th>Dep. Variable:</th>            <td>y</td>        <th>  R-squared:         </th> <td>   0.408</td>\n",
       "</tr>\n",
       "<tr>\n",
       "  <th>Model:</th>                   <td>OLS</td>       <th>  Adj. R-squared:    </th> <td>   0.139</td>\n",
       "</tr>\n",
       "<tr>\n",
       "  <th>Method:</th>             <td>Least Squares</td>  <th>  F-statistic:       </th> <td>   1.515</td>\n",
       "</tr>\n",
       "<tr>\n",
       "  <th>Date:</th>             <td>Mon, 13 Aug 2018</td> <th>  Prob (F-statistic):</th>  <td> 0.263</td> \n",
       "</tr>\n",
       "<tr>\n",
       "  <th>Time:</th>                 <td>18:14:34</td>     <th>  Log-Likelihood:    </th> <td> -30.905</td>\n",
       "</tr>\n",
       "<tr>\n",
       "  <th>No. Observations:</th>      <td>    16</td>      <th>  AIC:               </th> <td>   71.81</td>\n",
       "</tr>\n",
       "<tr>\n",
       "  <th>Df Residuals:</th>          <td>    11</td>      <th>  BIC:               </th> <td>   75.67</td>\n",
       "</tr>\n",
       "<tr>\n",
       "  <th>Df Model:</th>              <td>     5</td>      <th>                     </th>     <td> </td>   \n",
       "</tr>\n",
       "<tr>\n",
       "  <th>Covariance Type:</th>      <td>nonrobust</td>    <th>                     </th>     <td> </td>   \n",
       "</tr>\n",
       "</table>\n",
       "<table class=\"simpletable\">\n",
       "<tr>\n",
       "   <td></td>     <th>coef</th>     <th>std err</th>      <th>t</th>      <th>P>|t|</th>  <th>[0.025</th>    <th>0.975]</th>  \n",
       "</tr>\n",
       "<tr>\n",
       "  <th>x1</th> <td>   -0.0426</td> <td>    0.019</td> <td>   -2.246</td> <td> 0.046</td> <td>   -0.084</td> <td>   -0.001</td>\n",
       "</tr>\n",
       "<tr>\n",
       "  <th>x2</th> <td>   -0.3859</td> <td>    0.247</td> <td>   -1.564</td> <td> 0.146</td> <td>   -0.929</td> <td>    0.157</td>\n",
       "</tr>\n",
       "<tr>\n",
       "  <th>x3</th> <td>   -0.4659</td> <td>    0.260</td> <td>   -1.793</td> <td> 0.101</td> <td>   -1.038</td> <td>    0.106</td>\n",
       "</tr>\n",
       "<tr>\n",
       "  <th>x4</th> <td>   -0.2833</td> <td>    0.263</td> <td>   -1.076</td> <td> 0.305</td> <td>   -0.863</td> <td>    0.296</td>\n",
       "</tr>\n",
       "<tr>\n",
       "  <th>x5</th> <td>   -0.5177</td> <td>    0.253</td> <td>   -2.047</td> <td> 0.065</td> <td>   -1.074</td> <td>    0.039</td>\n",
       "</tr>\n",
       "</table>\n",
       "<table class=\"simpletable\">\n",
       "<tr>\n",
       "  <th>Omnibus:</th>       <td> 0.533</td> <th>  Durbin-Watson:     </th> <td>   1.867</td>\n",
       "</tr>\n",
       "<tr>\n",
       "  <th>Prob(Omnibus):</th> <td> 0.766</td> <th>  Jarque-Bera (JB):  </th> <td>   0.593</td>\n",
       "</tr>\n",
       "<tr>\n",
       "  <th>Skew:</th>          <td> 0.205</td> <th>  Prob(JB):          </th> <td>   0.744</td>\n",
       "</tr>\n",
       "<tr>\n",
       "  <th>Kurtosis:</th>      <td> 2.151</td> <th>  Cond. No.          </th> <td>    25.4</td>\n",
       "</tr>\n",
       "</table><br/><br/>Warnings:<br/>[1] Standard Errors assume that the covariance matrix of the errors is correctly specified."
      ],
      "text/plain": [
       "<class 'statsmodels.iolib.summary.Summary'>\n",
       "\"\"\"\n",
       "                            OLS Regression Results                            \n",
       "==============================================================================\n",
       "Dep. Variable:                      y   R-squared:                       0.408\n",
       "Model:                            OLS   Adj. R-squared:                  0.139\n",
       "Method:                 Least Squares   F-statistic:                     1.515\n",
       "Date:                Mon, 13 Aug 2018   Prob (F-statistic):              0.263\n",
       "Time:                        18:14:34   Log-Likelihood:                -30.905\n",
       "No. Observations:                  16   AIC:                             71.81\n",
       "Df Residuals:                      11   BIC:                             75.67\n",
       "Df Model:                           5                                         \n",
       "Covariance Type:            nonrobust                                         \n",
       "==============================================================================\n",
       "                 coef    std err          t      P>|t|      [0.025      0.975]\n",
       "------------------------------------------------------------------------------\n",
       "x1            -0.0426      0.019     -2.246      0.046      -0.084      -0.001\n",
       "x2            -0.3859      0.247     -1.564      0.146      -0.929       0.157\n",
       "x3            -0.4659      0.260     -1.793      0.101      -1.038       0.106\n",
       "x4            -0.2833      0.263     -1.076      0.305      -0.863       0.296\n",
       "x5            -0.5177      0.253     -2.047      0.065      -1.074       0.039\n",
       "==============================================================================\n",
       "Omnibus:                        0.533   Durbin-Watson:                   1.867\n",
       "Prob(Omnibus):                  0.766   Jarque-Bera (JB):                0.593\n",
       "Skew:                           0.205   Prob(JB):                        0.744\n",
       "Kurtosis:                       2.151   Cond. No.                         25.4\n",
       "==============================================================================\n",
       "\n",
       "Warnings:\n",
       "[1] Standard Errors assume that the covariance matrix of the errors is correctly specified.\n",
       "\"\"\""
      ]
     },
     "execution_count": 10,
     "metadata": {},
     "output_type": "execute_result"
    }
   ],
   "source": [
    "# (slide 12)\n",
    "ADF(by_year_ts2['marriedlt50_pct'], lags = 4, trend = 'nc').regression.summary()"
   ]
  },
  {
   "cell_type": "code",
   "execution_count": 11,
   "metadata": {},
   "outputs": [
    {
     "data": {
      "text/html": [
       "<table class=\"simpletable\">\n",
       "<caption>Augmented Dickey-Fuller Results</caption>\n",
       "<tr>\n",
       "  <td>Test Statistic</td>    <td>-1.642</td>\n",
       "</tr>\n",
       "<tr>\n",
       "  <td>P-value</td>            <td>0.461</td>\n",
       "</tr>\n",
       "<tr>\n",
       "  <td>Lags</td>                   <td>0</td>\n",
       "</tr>\n",
       "</table><br/><br/>Trend: Constant<br/>Critical Values: -3.81 (1%), -3.02 (5%), -2.65 (10%)<br/>Null Hypothesis: The process contains a unit root.<br/>Alternative Hypothesis: The process is weakly stationary."
      ],
      "text/plain": [
       "<class 'arch.unitroot.unitroot.ADF'>\n",
       "\"\"\"\n",
       "   Augmented Dickey-Fuller Results   \n",
       "=====================================\n",
       "Test Statistic                 -1.642\n",
       "P-value                         0.461\n",
       "Lags                                0\n",
       "-------------------------------------\n",
       "\n",
       "Trend: Constant\n",
       "Critical Values: -3.81 (1%), -3.02 (5%), -2.65 (10%)\n",
       "Null Hypothesis: The process contains a unit root.\n",
       "Alternative Hypothesis: The process is weakly stationary.\n",
       "\"\"\""
      ]
     },
     "execution_count": 11,
     "metadata": {},
     "output_type": "execute_result"
    }
   ],
   "source": [
    "# (slide 15)\n",
    "ADF(by_year_ts2['marriedlt50_pct'], lags = 0, trend = 'c')"
   ]
  },
  {
   "cell_type": "code",
   "execution_count": 12,
   "metadata": {},
   "outputs": [
    {
     "data": {
      "text/html": [
       "<table class=\"simpletable\">\n",
       "<caption>Augmented Dickey-Fuller Results</caption>\n",
       "<tr>\n",
       "  <td>Test Statistic</td>    <td>-2.027</td>\n",
       "</tr>\n",
       "<tr>\n",
       "  <td>P-value</td>            <td>0.275</td>\n",
       "</tr>\n",
       "<tr>\n",
       "  <td>Lags</td>                   <td>4</td>\n",
       "</tr>\n",
       "</table><br/><br/>Trend: Constant<br/>Critical Values: -3.92 (1%), -3.07 (5%), -2.67 (10%)<br/>Null Hypothesis: The process contains a unit root.<br/>Alternative Hypothesis: The process is weakly stationary."
      ],
      "text/plain": [
       "<class 'arch.unitroot.unitroot.ADF'>\n",
       "\"\"\"\n",
       "   Augmented Dickey-Fuller Results   \n",
       "=====================================\n",
       "Test Statistic                 -2.027\n",
       "P-value                         0.275\n",
       "Lags                                4\n",
       "-------------------------------------\n",
       "\n",
       "Trend: Constant\n",
       "Critical Values: -3.92 (1%), -3.07 (5%), -2.67 (10%)\n",
       "Null Hypothesis: The process contains a unit root.\n",
       "Alternative Hypothesis: The process is weakly stationary.\n",
       "\"\"\""
      ]
     },
     "execution_count": 12,
     "metadata": {},
     "output_type": "execute_result"
    }
   ],
   "source": [
    "# (slide 16)\n",
    "ADF(by_year_ts2['marriedlt50_pct'], lags = 4, trend = 'c')"
   ]
  },
  {
   "cell_type": "code",
   "execution_count": 13,
   "metadata": {},
   "outputs": [
    {
     "data": {
      "text/html": [
       "<table class=\"simpletable\">\n",
       "<caption>Augmented Dickey-Fuller Results</caption>\n",
       "<tr>\n",
       "  <td>Test Statistic</td>    <td>-2.360</td>\n",
       "</tr>\n",
       "<tr>\n",
       "  <td>P-value</td>            <td>0.401</td>\n",
       "</tr>\n",
       "<tr>\n",
       "  <td>Lags</td>                   <td>0</td>\n",
       "</tr>\n",
       "</table><br/><br/>Trend: Constant and Linear Time Trend<br/>Critical Values: -4.50 (1%), -3.66 (5%), -3.27 (10%)<br/>Null Hypothesis: The process contains a unit root.<br/>Alternative Hypothesis: The process is weakly stationary."
      ],
      "text/plain": [
       "<class 'arch.unitroot.unitroot.ADF'>\n",
       "\"\"\"\n",
       "   Augmented Dickey-Fuller Results   \n",
       "=====================================\n",
       "Test Statistic                 -2.360\n",
       "P-value                         0.401\n",
       "Lags                                0\n",
       "-------------------------------------\n",
       "\n",
       "Trend: Constant and Linear Time Trend\n",
       "Critical Values: -4.50 (1%), -3.66 (5%), -3.27 (10%)\n",
       "Null Hypothesis: The process contains a unit root.\n",
       "Alternative Hypothesis: The process is weakly stationary.\n",
       "\"\"\""
      ]
     },
     "execution_count": 13,
     "metadata": {},
     "output_type": "execute_result"
    }
   ],
   "source": [
    "# (slide 19)\n",
    "ADF(by_year_ts2['marriedlt50_pct'], lags = 0, trend = 'ct')"
   ]
  },
  {
   "cell_type": "code",
   "execution_count": 14,
   "metadata": {},
   "outputs": [
    {
     "data": {
      "text/html": [
       "<table class=\"simpletable\">\n",
       "<caption>OLS Regression Results</caption>\n",
       "<tr>\n",
       "  <th>Dep. Variable:</th>            <td>y</td>        <th>  R-squared:         </th> <td>   0.267</td>\n",
       "</tr>\n",
       "<tr>\n",
       "  <th>Model:</th>                   <td>OLS</td>       <th>  Adj. R-squared:    </th> <td>   0.180</td>\n",
       "</tr>\n",
       "<tr>\n",
       "  <th>Method:</th>             <td>Least Squares</td>  <th>  F-statistic:       </th> <td>   3.092</td>\n",
       "</tr>\n",
       "<tr>\n",
       "  <th>Date:</th>             <td>Mon, 13 Aug 2018</td> <th>  Prob (F-statistic):</th>  <td>0.0716</td> \n",
       "</tr>\n",
       "<tr>\n",
       "  <th>Time:</th>                 <td>18:14:45</td>     <th>  Log-Likelihood:    </th> <td> -39.099</td>\n",
       "</tr>\n",
       "<tr>\n",
       "  <th>No. Observations:</th>      <td>    20</td>      <th>  AIC:               </th> <td>   84.20</td>\n",
       "</tr>\n",
       "<tr>\n",
       "  <th>Df Residuals:</th>          <td>    17</td>      <th>  BIC:               </th> <td>   87.19</td>\n",
       "</tr>\n",
       "<tr>\n",
       "  <th>Df Model:</th>              <td>     2</td>      <th>                     </th>     <td> </td>   \n",
       "</tr>\n",
       "<tr>\n",
       "  <th>Covariance Type:</th>      <td>nonrobust</td>    <th>                     </th>     <td> </td>   \n",
       "</tr>\n",
       "</table>\n",
       "<table class=\"simpletable\">\n",
       "<tr>\n",
       "    <td></td>       <th>coef</th>     <th>std err</th>      <th>t</th>      <th>P>|t|</th>  <th>[0.025</th>    <th>0.975]</th>  \n",
       "</tr>\n",
       "<tr>\n",
       "  <th>x1</th>    <td>   -0.5441</td> <td>    0.231</td> <td>   -2.360</td> <td> 0.031</td> <td>   -1.031</td> <td>   -0.058</td>\n",
       "</tr>\n",
       "<tr>\n",
       "  <th>const</th> <td>   22.9549</td> <td>   10.235</td> <td>    2.243</td> <td> 0.039</td> <td>    1.360</td> <td>   44.549</td>\n",
       "</tr>\n",
       "<tr>\n",
       "  <th>x2</th>    <td>   -0.2928</td> <td>    0.165</td> <td>   -1.779</td> <td> 0.093</td> <td>   -0.640</td> <td>    0.054</td>\n",
       "</tr>\n",
       "</table>\n",
       "<table class=\"simpletable\">\n",
       "<tr>\n",
       "  <th>Omnibus:</th>       <td> 0.316</td> <th>  Durbin-Watson:     </th> <td>   1.897</td>\n",
       "</tr>\n",
       "<tr>\n",
       "  <th>Prob(Omnibus):</th> <td> 0.854</td> <th>  Jarque-Bera (JB):  </th> <td>   0.371</td>\n",
       "</tr>\n",
       "<tr>\n",
       "  <th>Skew:</th>          <td>-0.252</td> <th>  Prob(JB):          </th> <td>   0.831</td>\n",
       "</tr>\n",
       "<tr>\n",
       "  <th>Kurtosis:</th>      <td> 2.562</td> <th>  Cond. No.          </th> <td>    964.</td>\n",
       "</tr>\n",
       "</table><br/><br/>Warnings:<br/>[1] Standard Errors assume that the covariance matrix of the errors is correctly specified."
      ],
      "text/plain": [
       "<class 'statsmodels.iolib.summary.Summary'>\n",
       "\"\"\"\n",
       "                            OLS Regression Results                            \n",
       "==============================================================================\n",
       "Dep. Variable:                      y   R-squared:                       0.267\n",
       "Model:                            OLS   Adj. R-squared:                  0.180\n",
       "Method:                 Least Squares   F-statistic:                     3.092\n",
       "Date:                Mon, 13 Aug 2018   Prob (F-statistic):             0.0716\n",
       "Time:                        18:14:45   Log-Likelihood:                -39.099\n",
       "No. Observations:                  20   AIC:                             84.20\n",
       "Df Residuals:                      17   BIC:                             87.19\n",
       "Df Model:                           2                                         \n",
       "Covariance Type:            nonrobust                                         \n",
       "==============================================================================\n",
       "                 coef    std err          t      P>|t|      [0.025      0.975]\n",
       "------------------------------------------------------------------------------\n",
       "x1            -0.5441      0.231     -2.360      0.031      -1.031      -0.058\n",
       "const         22.9549     10.235      2.243      0.039       1.360      44.549\n",
       "x2            -0.2928      0.165     -1.779      0.093      -0.640       0.054\n",
       "==============================================================================\n",
       "Omnibus:                        0.316   Durbin-Watson:                   1.897\n",
       "Prob(Omnibus):                  0.854   Jarque-Bera (JB):                0.371\n",
       "Skew:                          -0.252   Prob(JB):                        0.831\n",
       "Kurtosis:                       2.562   Cond. No.                         964.\n",
       "==============================================================================\n",
       "\n",
       "Warnings:\n",
       "[1] Standard Errors assume that the covariance matrix of the errors is correctly specified.\n",
       "\"\"\""
      ]
     },
     "execution_count": 14,
     "metadata": {},
     "output_type": "execute_result"
    }
   ],
   "source": [
    "# (slide 20)\n",
    "ADF(by_year_ts2['marriedlt50_pct'], lags = 0, trend = 'ct').regression.summary()"
   ]
  },
  {
   "cell_type": "code",
   "execution_count": 15,
   "metadata": {},
   "outputs": [
    {
     "data": {
      "text/html": [
       "<table class=\"simpletable\">\n",
       "<caption>Augmented Dickey-Fuller Results</caption>\n",
       "<tr>\n",
       "  <td>Test Statistic</td>    <td>-0.359</td>\n",
       "</tr>\n",
       "<tr>\n",
       "  <td>P-value</td>            <td>0.988</td>\n",
       "</tr>\n",
       "<tr>\n",
       "  <td>Lags</td>                   <td>4</td>\n",
       "</tr>\n",
       "</table><br/><br/>Trend: Constant and Linear Time Trend<br/>Critical Values: -4.67 (1%), -3.73 (5%), -3.31 (10%)<br/>Null Hypothesis: The process contains a unit root.<br/>Alternative Hypothesis: The process is weakly stationary."
      ],
      "text/plain": [
       "<class 'arch.unitroot.unitroot.ADF'>\n",
       "\"\"\"\n",
       "   Augmented Dickey-Fuller Results   \n",
       "=====================================\n",
       "Test Statistic                 -0.359\n",
       "P-value                         0.988\n",
       "Lags                                4\n",
       "-------------------------------------\n",
       "\n",
       "Trend: Constant and Linear Time Trend\n",
       "Critical Values: -4.67 (1%), -3.73 (5%), -3.31 (10%)\n",
       "Null Hypothesis: The process contains a unit root.\n",
       "Alternative Hypothesis: The process is weakly stationary.\n",
       "\"\"\""
      ]
     },
     "execution_count": 15,
     "metadata": {},
     "output_type": "execute_result"
    }
   ],
   "source": [
    "# (slide 21)\n",
    "ADF(by_year_ts2['marriedlt50_pct'], lags = 4, trend = 'ct')"
   ]
  },
  {
   "cell_type": "markdown",
   "metadata": {},
   "source": [
    "## Phillips-Perron test\n",
    "(slide 23)"
   ]
  },
  {
   "cell_type": "code",
   "execution_count": 16,
   "metadata": {},
   "outputs": [
    {
     "data": {
      "text/html": [
       "<table class=\"simpletable\">\n",
       "<caption>Phillips-Perron Test (Z-tau)</caption>\n",
       "<tr>\n",
       "  <td>Test Statistic</td>    <td>-1.597</td>\n",
       "</tr>\n",
       "<tr>\n",
       "  <td>P-value</td>            <td>0.485</td>\n",
       "</tr>\n",
       "<tr>\n",
       "  <td>Lags</td>                   <td>2</td>\n",
       "</tr>\n",
       "</table><br/><br/>Trend: Constant<br/>Critical Values: -3.81 (1%), -3.02 (5%), -2.65 (10%)<br/>Null Hypothesis: The process contains a unit root.<br/>Alternative Hypothesis: The process is weakly stationary."
      ],
      "text/plain": [
       "<class 'arch.unitroot.unitroot.PhillipsPerron'>\n",
       "\"\"\"\n",
       "     Phillips-Perron Test (Z-tau)    \n",
       "=====================================\n",
       "Test Statistic                 -1.597\n",
       "P-value                         0.485\n",
       "Lags                                2\n",
       "-------------------------------------\n",
       "\n",
       "Trend: Constant\n",
       "Critical Values: -3.81 (1%), -3.02 (5%), -2.65 (10%)\n",
       "Null Hypothesis: The process contains a unit root.\n",
       "Alternative Hypothesis: The process is weakly stationary.\n",
       "\"\"\""
      ]
     },
     "execution_count": 16,
     "metadata": {},
     "output_type": "execute_result"
    }
   ],
   "source": [
    "from arch.unitroot import PhillipsPerron\n",
    "\n",
    "PhillipsPerron(by_year_ts2['marriedlt50_pct'], lags = 2)"
   ]
  },
  {
   "cell_type": "markdown",
   "metadata": {},
   "source": [
    "## What do we do if we have unit roots?"
   ]
  },
  {
   "cell_type": "code",
   "execution_count": 35,
   "metadata": {},
   "outputs": [],
   "source": [
    "# (slide 27)\n",
    "by_yearFD = pd.DataFrame()\n",
    "\n",
    "# grab the variables from by_year_ts2 that we want to take the first differences of\n",
    "by_yearFD = by_year_ts2[['marriedlt50_pct', 'degreelt50_pct']]\n",
    "by_yearFD = by_yearFD.diff()\n",
    "\n",
    "by_yearFD['year'] = by_year_ts2['year']"
   ]
  },
  {
   "cell_type": "markdown",
   "metadata": {},
   "source": [
    "The `ADF` function doesn't accept nan values, so we have to drop them in the data frame. As such, the results might be a bit different compared to the results from R."
   ]
  },
  {
   "cell_type": "code",
   "execution_count": 36,
   "metadata": {},
   "outputs": [],
   "source": [
    "by_yearFD2 = by_yearFD.dropna()"
   ]
  },
  {
   "cell_type": "code",
   "execution_count": 37,
   "metadata": {},
   "outputs": [
    {
     "data": {
      "text/html": [
       "<table class=\"simpletable\">\n",
       "<caption>Augmented Dickey-Fuller Results</caption>\n",
       "<tr>\n",
       "  <td>Test Statistic</td>    <td>-5.202</td>\n",
       "</tr>\n",
       "<tr>\n",
       "  <td>P-value</td>            <td>0.000</td>\n",
       "</tr>\n",
       "<tr>\n",
       "  <td>Lags</td>                   <td>0</td>\n",
       "</tr>\n",
       "</table><br/><br/>Trend: Constant and Linear Time Trend<br/>Critical Values: -4.53 (1%), -3.67 (5%), -3.28 (10%)<br/>Null Hypothesis: The process contains a unit root.<br/>Alternative Hypothesis: The process is weakly stationary."
      ],
      "text/plain": [
       "<class 'arch.unitroot.unitroot.ADF'>\n",
       "\"\"\"\n",
       "   Augmented Dickey-Fuller Results   \n",
       "=====================================\n",
       "Test Statistic                 -5.202\n",
       "P-value                         0.000\n",
       "Lags                                0\n",
       "-------------------------------------\n",
       "\n",
       "Trend: Constant and Linear Time Trend\n",
       "Critical Values: -4.53 (1%), -3.67 (5%), -3.28 (10%)\n",
       "Null Hypothesis: The process contains a unit root.\n",
       "Alternative Hypothesis: The process is weakly stationary.\n",
       "\"\"\""
      ]
     },
     "execution_count": 37,
     "metadata": {},
     "output_type": "execute_result"
    }
   ],
   "source": [
    "# (slide 27)\n",
    "\n",
    "ADF(by_yearFD2['marriedlt50_pct'], lags = 0, trend = 'ct')"
   ]
  },
  {
   "cell_type": "code",
   "execution_count": 20,
   "metadata": {},
   "outputs": [
    {
     "data": {
      "text/html": [
       "<table class=\"simpletable\">\n",
       "<caption>Augmented Dickey-Fuller Results</caption>\n",
       "<tr>\n",
       "  <td>Test Statistic</td>    <td>-5.127</td>\n",
       "</tr>\n",
       "<tr>\n",
       "  <td>P-value</td>            <td>0.000</td>\n",
       "</tr>\n",
       "<tr>\n",
       "  <td>Lags</td>                   <td>0</td>\n",
       "</tr>\n",
       "</table><br/><br/>Trend: Constant and Linear Time Trend<br/>Critical Values: -4.53 (1%), -3.67 (5%), -3.28 (10%)<br/>Null Hypothesis: The process contains a unit root.<br/>Alternative Hypothesis: The process is weakly stationary."
      ],
      "text/plain": [
       "<class 'arch.unitroot.unitroot.ADF'>\n",
       "\"\"\"\n",
       "   Augmented Dickey-Fuller Results   \n",
       "=====================================\n",
       "Test Statistic                 -5.127\n",
       "P-value                         0.000\n",
       "Lags                                0\n",
       "-------------------------------------\n",
       "\n",
       "Trend: Constant and Linear Time Trend\n",
       "Critical Values: -4.53 (1%), -3.67 (5%), -3.28 (10%)\n",
       "Null Hypothesis: The process contains a unit root.\n",
       "Alternative Hypothesis: The process is weakly stationary.\n",
       "\"\"\""
      ]
     },
     "execution_count": 20,
     "metadata": {},
     "output_type": "execute_result"
    }
   ],
   "source": [
    "# (slide 28)\n",
    "\n",
    "ADF(by_yearFD2['degreelt50_pct'], lags = 0, trend = 'ct')"
   ]
  },
  {
   "cell_type": "markdown",
   "metadata": {},
   "source": [
    "### The difference model\n",
    "(slide 29)"
   ]
  },
  {
   "cell_type": "code",
   "execution_count": 21,
   "metadata": {},
   "outputs": [
    {
     "data": {
      "text/html": [
       "<table class=\"simpletable\">\n",
       "<caption>OLS Regression Results</caption>\n",
       "<tr>\n",
       "  <th>Dep. Variable:</th>     <td>marriedlt50_pct</td> <th>  R-squared:         </th> <td>   0.418</td>\n",
       "</tr>\n",
       "<tr>\n",
       "  <th>Model:</th>                   <td>OLS</td>       <th>  Adj. R-squared:    </th> <td>   0.349</td>\n",
       "</tr>\n",
       "<tr>\n",
       "  <th>Method:</th>             <td>Least Squares</td>  <th>  F-statistic:       </th> <td>   6.102</td>\n",
       "</tr>\n",
       "<tr>\n",
       "  <th>Date:</th>             <td>Mon, 13 Aug 2018</td> <th>  Prob (F-statistic):</th>  <td>0.0101</td> \n",
       "</tr>\n",
       "<tr>\n",
       "  <th>Time:</th>                 <td>18:14:57</td>     <th>  Log-Likelihood:    </th> <td> -36.791</td>\n",
       "</tr>\n",
       "<tr>\n",
       "  <th>No. Observations:</th>      <td>    20</td>      <th>  AIC:               </th> <td>   79.58</td>\n",
       "</tr>\n",
       "<tr>\n",
       "  <th>Df Residuals:</th>          <td>    17</td>      <th>  BIC:               </th> <td>   82.57</td>\n",
       "</tr>\n",
       "<tr>\n",
       "  <th>Df Model:</th>              <td>     2</td>      <th>                     </th>     <td> </td>   \n",
       "</tr>\n",
       "<tr>\n",
       "  <th>Covariance Type:</th>      <td>nonrobust</td>    <th>                     </th>     <td> </td>   \n",
       "</tr>\n",
       "</table>\n",
       "<table class=\"simpletable\">\n",
       "<tr>\n",
       "         <td></td>           <th>coef</th>     <th>std err</th>      <th>t</th>      <th>P>|t|</th>  <th>[0.025</th>    <th>0.975]</th>  \n",
       "</tr>\n",
       "<tr>\n",
       "  <th>Intercept</th>      <td> -113.7794</td> <td>  126.990</td> <td>   -0.896</td> <td> 0.383</td> <td> -381.705</td> <td>  154.146</td>\n",
       "</tr>\n",
       "<tr>\n",
       "  <th>degreelt50_pct</th> <td>    1.3279</td> <td>    0.393</td> <td>    3.380</td> <td> 0.004</td> <td>    0.499</td> <td>    2.157</td>\n",
       "</tr>\n",
       "<tr>\n",
       "  <th>year</th>           <td>    0.0569</td> <td>    0.064</td> <td>    0.888</td> <td> 0.387</td> <td>   -0.078</td> <td>    0.192</td>\n",
       "</tr>\n",
       "</table>\n",
       "<table class=\"simpletable\">\n",
       "<tr>\n",
       "  <th>Omnibus:</th>       <td> 0.554</td> <th>  Durbin-Watson:     </th> <td>   2.536</td>\n",
       "</tr>\n",
       "<tr>\n",
       "  <th>Prob(Omnibus):</th> <td> 0.758</td> <th>  Jarque-Bera (JB):  </th> <td>   0.605</td>\n",
       "</tr>\n",
       "<tr>\n",
       "  <th>Skew:</th>          <td> 0.324</td> <th>  Prob(JB):          </th> <td>   0.739</td>\n",
       "</tr>\n",
       "<tr>\n",
       "  <th>Kurtosis:</th>      <td> 2.446</td> <th>  Cond. No.          </th> <td>6.82e+05</td>\n",
       "</tr>\n",
       "</table><br/><br/>Warnings:<br/>[1] Standard Errors assume that the covariance matrix of the errors is correctly specified.<br/>[2] The condition number is large, 6.82e+05. This might indicate that there are<br/>strong multicollinearity or other numerical problems."
      ],
      "text/plain": [
       "<class 'statsmodels.iolib.summary.Summary'>\n",
       "\"\"\"\n",
       "                            OLS Regression Results                            \n",
       "==============================================================================\n",
       "Dep. Variable:        marriedlt50_pct   R-squared:                       0.418\n",
       "Model:                            OLS   Adj. R-squared:                  0.349\n",
       "Method:                 Least Squares   F-statistic:                     6.102\n",
       "Date:                Mon, 13 Aug 2018   Prob (F-statistic):             0.0101\n",
       "Time:                        18:14:57   Log-Likelihood:                -36.791\n",
       "No. Observations:                  20   AIC:                             79.58\n",
       "Df Residuals:                      17   BIC:                             82.57\n",
       "Df Model:                           2                                         \n",
       "Covariance Type:            nonrobust                                         \n",
       "==================================================================================\n",
       "                     coef    std err          t      P>|t|      [0.025      0.975]\n",
       "----------------------------------------------------------------------------------\n",
       "Intercept       -113.7794    126.990     -0.896      0.383    -381.705     154.146\n",
       "degreelt50_pct     1.3279      0.393      3.380      0.004       0.499       2.157\n",
       "year               0.0569      0.064      0.888      0.387      -0.078       0.192\n",
       "==============================================================================\n",
       "Omnibus:                        0.554   Durbin-Watson:                   2.536\n",
       "Prob(Omnibus):                  0.758   Jarque-Bera (JB):                0.605\n",
       "Skew:                           0.324   Prob(JB):                        0.739\n",
       "Kurtosis:                       2.446   Cond. No.                     6.82e+05\n",
       "==============================================================================\n",
       "\n",
       "Warnings:\n",
       "[1] Standard Errors assume that the covariance matrix of the errors is correctly specified.\n",
       "[2] The condition number is large, 6.82e+05. This might indicate that there are\n",
       "strong multicollinearity or other numerical problems.\n",
       "\"\"\""
      ]
     },
     "execution_count": 21,
     "metadata": {},
     "output_type": "execute_result"
    }
   ],
   "source": [
    "lm_Dmarried = smf.ols('marriedlt50_pct ~ degreelt50_pct + year', data = by_yearFD).fit()\n",
    "lm_Dmarried.summary()"
   ]
  },
  {
   "cell_type": "markdown",
   "metadata": {},
   "source": [
    "### Autocorrelations of the differences\n",
    "(slide 30)"
   ]
  },
  {
   "cell_type": "code",
   "execution_count": 258,
   "metadata": {},
   "outputs": [
    {
     "data": {
      "image/png": "[encoded data removed]",
      "text/plain": [
       "<Figure size 600x400 with 1 Axes>"
      ]
     },
     "metadata": {},
     "output_type": "display_data"
    }
   ],
   "source": [
    "e3 = lm_Dmarried.resid\n",
    "plot_acf(e3, lags = 13, zero = False);"
   ]
  },
  {
   "cell_type": "code",
   "execution_count": 259,
   "metadata": {},
   "outputs": [
    {
     "data": {
      "text/plain": [
       "Text(0,0.5,'e3')"
      ]
     },
     "execution_count": 259,
     "metadata": {},
     "output_type": "execute_result"
    },
    {
     "data": {
      "image/png": "[encoded data removed]",
      "text/plain": [
       "<Figure size 600x400 with 1 Axes>"
      ]
     },
     "metadata": {},
     "output_type": "display_data"
    }
   ],
   "source": [
    "pylab.scatter(e3.index, e3)\n",
    "pylab.ylabel('e3')"
   ]
  },
  {
   "cell_type": "code",
   "execution_count": 260,
   "metadata": {},
   "outputs": [
    {
     "data": {
      "text/plain": [
       "2.5363286307482955"
      ]
     },
     "execution_count": 260,
     "metadata": {},
     "output_type": "execute_result"
    }
   ],
   "source": [
    "# (slide 32)\n",
    "\n",
    "durbin_watson(e3)"
   ]
  },
  {
   "cell_type": "code",
   "execution_count": 261,
   "metadata": {},
   "outputs": [
    {
     "name": "stdout",
     "output_type": "stream",
     "text": [
      "LM test = 1.7487111184182447\n",
      "p-value = 0.18603884480084537\n"
     ]
    }
   ],
   "source": [
    "# Breusch-Godfrey test\n",
    "\n",
    "lmtest, pval, fval, f_pval = acorr_breusch_godfrey(lm_Dmarried, nlags = 1)\n",
    "print('LM test =', lmtest)\n",
    "print('p-value =', pval)"
   ]
  },
  {
   "cell_type": "code",
   "execution_count": 22,
   "metadata": {},
   "outputs": [
    {
     "name": "stdout",
     "output_type": "stream",
     "text": [
      "LM test = 9.113700283000764\n",
      "p-value = 0.05831950289393525\n"
     ]
    }
   ],
   "source": [
    "# slide 33\n",
    "lmtest, pval, fval, f_pval = acorr_breusch_godfrey(lm_Dmarried, nlags = 4)\n",
    "print('LM test =', lmtest)\n",
    "print('p-value =', pval)"
   ]
  },
  {
   "cell_type": "markdown",
   "metadata": {},
   "source": [
    "## ARIMA models"
   ]
  },
  {
   "cell_type": "markdown",
   "metadata": {},
   "source": [
    "ARIMA models are difficult to estimate. Therefore, it's common for different software to produce slightly different results as they use different methods of estimation, and different optimization algorithms."
   ]
  },
  {
   "cell_type": "code",
   "execution_count": 49,
   "metadata": {},
   "outputs": [
    {
     "data": {
      "text/html": [
       "<table class=\"simpletable\">\n",
       "<caption>ARMA Model Results</caption>\n",
       "<tr>\n",
       "  <th>Dep. Variable:</th>  <td>marriedlt50_pct</td> <th>  No. Observations:  </th>   <td>21</td>   \n",
       "</tr>\n",
       "<tr>\n",
       "  <th>Model:</th>            <td>ARMA(1, 0)</td>    <th>  Log Likelihood     </th> <td>-35.579</td>\n",
       "</tr>\n",
       "<tr>\n",
       "  <th>Method:</th>             <td>css-mle</td>     <th>  S.D. of innovations</th>  <td>1.312</td> \n",
       "</tr>\n",
       "<tr>\n",
       "  <th>Date:</th>          <td>Mon, 13 Aug 2018</td> <th>  AIC                </th> <td>81.159</td> \n",
       "</tr>\n",
       "<tr>\n",
       "  <th>Time:</th>              <td>18:46:44</td>     <th>  BIC                </th> <td>86.381</td> \n",
       "</tr>\n",
       "<tr>\n",
       "  <th>Sample:</th>                <td>0</td>        <th>  HQIC               </th> <td>82.292</td> \n",
       "</tr>\n",
       "<tr>\n",
       "  <th></th>                       <td> </td>        <th>                     </th>    <td> </td>   \n",
       "</tr>\n",
       "</table>\n",
       "<table class=\"simpletable\">\n",
       "<tr>\n",
       "            <td></td>               <th>coef</th>     <th>std err</th>      <th>z</th>      <th>P>|z|</th>  <th>[0.025</th>    <th>0.975]</th>  \n",
       "</tr>\n",
       "<tr>\n",
       "  <th>const</th>                 <td> 2222.4478</td> <td>  255.775</td> <td>    8.689</td> <td> 0.000</td> <td> 1721.137</td> <td> 2723.758</td>\n",
       "</tr>\n",
       "<tr>\n",
       "  <th>degreelt50_pct</th>        <td>    1.5126</td> <td>    0.316</td> <td>    4.790</td> <td> 0.000</td> <td>    0.894</td> <td>    2.132</td>\n",
       "</tr>\n",
       "<tr>\n",
       "  <th>year</th>                  <td>   -1.1114</td> <td>    0.131</td> <td>   -8.512</td> <td> 0.000</td> <td>   -1.367</td> <td>   -0.856</td>\n",
       "</tr>\n",
       "<tr>\n",
       "  <th>ar.L1.marriedlt50_pct</th> <td>    0.3779</td> <td>    0.220</td> <td>    1.720</td> <td> 0.104</td> <td>   -0.053</td> <td>    0.808</td>\n",
       "</tr>\n",
       "</table>\n",
       "<table class=\"simpletable\">\n",
       "<caption>Roots</caption>\n",
       "<tr>\n",
       "    <td></td>   <th>            Real</th>  <th>         Imaginary</th> <th>         Modulus</th>  <th>        Frequency</th>\n",
       "</tr>\n",
       "<tr>\n",
       "  <th>AR.1</th> <td>           2.6464</td> <td>          +0.0000j</td> <td>           2.6464</td> <td>           0.0000</td>\n",
       "</tr>\n",
       "</table>"
      ],
      "text/plain": [
       "<class 'statsmodels.iolib.summary.Summary'>\n",
       "\"\"\"\n",
       "                              ARMA Model Results                              \n",
       "==============================================================================\n",
       "Dep. Variable:        marriedlt50_pct   No. Observations:                   21\n",
       "Model:                     ARMA(1, 0)   Log Likelihood                 -35.579\n",
       "Method:                       css-mle   S.D. of innovations              1.312\n",
       "Date:                Mon, 13 Aug 2018   AIC                             81.159\n",
       "Time:                        18:46:44   BIC                             86.381\n",
       "Sample:                             0   HQIC                            82.292\n",
       "                                                                              \n",
       "=========================================================================================\n",
       "                            coef    std err          z      P>|z|      [0.025      0.975]\n",
       "-----------------------------------------------------------------------------------------\n",
       "const                  2222.4478    255.775      8.689      0.000    1721.137    2723.758\n",
       "degreelt50_pct            1.5126      0.316      4.790      0.000       0.894       2.132\n",
       "year                     -1.1114      0.131     -8.512      0.000      -1.367      -0.856\n",
       "ar.L1.marriedlt50_pct     0.3779      0.220      1.720      0.104      -0.053       0.808\n",
       "                                    Roots                                    \n",
       "=============================================================================\n",
       "                  Real          Imaginary           Modulus         Frequency\n",
       "-----------------------------------------------------------------------------\n",
       "AR.1            2.6464           +0.0000j            2.6464            0.0000\n",
       "-----------------------------------------------------------------------------\n",
       "\"\"\""
      ]
     },
     "execution_count": 49,
     "metadata": {},
     "output_type": "execute_result"
    }
   ],
   "source": [
    "# slide 38\n",
    "from statsmodels.tsa.arima_model import ARIMA\n",
    "\n",
    "arima_married100 = ARIMA(by_year_ts2['marriedlt50_pct'], order = (1, 0, 0), exog = by_year_ts2[['degreelt50_pct', 'year']]).fit()\n",
    "arima_married100.summary()"
   ]
  },
  {
   "cell_type": "markdown",
   "metadata": {},
   "source": [
    "<br>\n",
    "Plotting residuals:"
   ]
  },
  {
   "cell_type": "code",
   "execution_count": 265,
   "metadata": {},
   "outputs": [
    {
     "data": {
      "text/plain": [
       "<matplotlib.axes._subplots.AxesSubplot at 0x1c2e649ac8>"
      ]
     },
     "execution_count": 265,
     "metadata": {},
     "output_type": "execute_result"
    },
    {
     "data": {
      "image/png": "[encoded data removed]",
      "text/plain": [
       "<Figure size 600x400 with 1 Axes>"
      ]
     },
     "metadata": {},
     "output_type": "display_data"
    }
   ],
   "source": [
    "# Get residuals, set to dataframe, and rename error column\n",
    "arima_married100_err = arima_married100.resid.to_frame().reset_index().rename(columns={0: 'error'})\n",
    "\n",
    "arima_married100_err['year'] = by_year_ts2['year']\n",
    "\n",
    "arima_married100_err.plot.scatter(x='year', y='error')"
   ]
  },
  {
   "cell_type": "markdown",
   "metadata": {},
   "source": [
    "<br>\n",
    "Plotting ACF of residuals"
   ]
  },
  {
   "cell_type": "code",
   "execution_count": 266,
   "metadata": {},
   "outputs": [
    {
     "data": {
      "image/png": "[encoded data removed]",
      "text/plain": [
       "<Figure size 600x400 with 1 Axes>"
      ]
     },
     "metadata": {},
     "output_type": "display_data"
    }
   ],
   "source": [
    "plot_acf(arima_married100.resid, lags = 13, zero = False);"
   ]
  },
  {
   "cell_type": "markdown",
   "metadata": {},
   "source": [
    "# see https://github.com/statsmodels/statsmodels/issues/4870, maybe use SARIMAX instead"
   ]
  },
  {
   "cell_type": "code",
   "execution_count": 50,
   "metadata": {},
   "outputs": [],
   "source": [
    "# slide 40\n",
    "\n",
    "arima_married010 = ARIMA(by_year_ts2['marriedlt50_pct'], order = (0, 1, 0), exog = by_year_ts2[['degreelt50_pct', 'year']]).\\\n",
    "                    fit(trend='nc')"
   ]
  },
  {
   "cell_type": "code",
   "execution_count": 51,
   "metadata": {},
   "outputs": [
    {
     "data": {
      "text/html": [
       "<table class=\"simpletable\">\n",
       "<caption>ARIMA Model Results</caption>\n",
       "<tr>\n",
       "  <th>Dep. Variable:</th> <td>D.marriedlt50_pct</td> <th>  No. Observations:  </th>   <td>20</td>   \n",
       "</tr>\n",
       "<tr>\n",
       "  <th>Model:</th>          <td>ARIMA(0, 1, 0)</td>   <th>  Log Likelihood     </th> <td>-41.663</td>\n",
       "</tr>\n",
       "<tr>\n",
       "  <th>Method:</th>               <td>css</td>        <th>  S.D. of innovations</th>  <td>1.943</td> \n",
       "</tr>\n",
       "<tr>\n",
       "  <th>Date:</th>          <td>Mon, 13 Aug 2018</td>  <th>  AIC                </th> <td>89.326</td> \n",
       "</tr>\n",
       "<tr>\n",
       "  <th>Time:</th>              <td>18:46:49</td>      <th>  BIC                </th> <td>92.313</td> \n",
       "</tr>\n",
       "<tr>\n",
       "  <th>Sample:</th>                <td>1</td>         <th>  HQIC               </th> <td>89.909</td> \n",
       "</tr>\n",
       "<tr>\n",
       "  <th></th>                       <td> </td>         <th>                     </th>    <td> </td>   \n",
       "</tr>\n",
       "</table>\n",
       "<table class=\"simpletable\">\n",
       "<tr>\n",
       "         <td></td>           <th>coef</th>     <th>std err</th>      <th>z</th>      <th>P>|z|</th>  <th>[0.025</th>    <th>0.975]</th>  \n",
       "</tr>\n",
       "<tr>\n",
       "  <th>degreelt50_pct</th> <td>    0.2348</td> <td>    0.223</td> <td>    1.055</td> <td> 0.305</td> <td>   -0.201</td> <td>    0.671</td>\n",
       "</tr>\n",
       "<tr>\n",
       "  <th>year</th>           <td>   -0.0017</td> <td>    0.001</td> <td>   -1.232</td> <td> 0.234</td> <td>   -0.004</td> <td>    0.001</td>\n",
       "</tr>\n",
       "</table>"
      ],
      "text/plain": [
       "<class 'statsmodels.iolib.summary.Summary'>\n",
       "\"\"\"\n",
       "                             ARIMA Model Results                              \n",
       "==============================================================================\n",
       "Dep. Variable:      D.marriedlt50_pct   No. Observations:                   20\n",
       "Model:                 ARIMA(0, 1, 0)   Log Likelihood                 -41.663\n",
       "Method:                           css   S.D. of innovations              1.943\n",
       "Date:                Mon, 13 Aug 2018   AIC                             89.326\n",
       "Time:                        18:46:49   BIC                             92.313\n",
       "Sample:                             1   HQIC                            89.909\n",
       "                                                                              \n",
       "==================================================================================\n",
       "                     coef    std err          z      P>|z|      [0.025      0.975]\n",
       "----------------------------------------------------------------------------------\n",
       "degreelt50_pct     0.2348      0.223      1.055      0.305      -0.201       0.671\n",
       "year              -0.0017      0.001     -1.232      0.234      -0.004       0.001\n",
       "==================================================================================\n",
       "\"\"\""
      ]
     },
     "execution_count": 51,
     "metadata": {},
     "output_type": "execute_result"
    }
   ],
   "source": [
    "arima_married010.summary()"
   ]
  },
  {
   "cell_type": "code",
   "execution_count": 52,
   "metadata": {},
   "outputs": [],
   "source": [
    "arima_married520 = ARIMA(by_year_ts2['marriedlt50_pct'], order = (5, 2, 0), exog = by_year_ts2['degreelt50_pct']).\\\n",
    "                    fit(start_params=[1, .05, .05, .1, .1, .1], trend = 'nc')"
   ]
  },
  {
   "cell_type": "code",
   "execution_count": 452,
   "metadata": {},
   "outputs": [
    {
     "data": {
      "text/html": [
       "<table class=\"simpletable\">\n",
       "<caption>ARIMA Model Results</caption>\n",
       "<tr>\n",
       "  <th>Dep. Variable:</th> <td>D2.marriedlt50_pct</td> <th>  No. Observations:  </th>   <td>19</td>   \n",
       "</tr>\n",
       "<tr>\n",
       "  <th>Model:</th>           <td>ARIMA(5, 2, 0)</td>   <th>  Log Likelihood     </th> <td>-39.067</td>\n",
       "</tr>\n",
       "<tr>\n",
       "  <th>Method:</th>              <td>css-mle</td>      <th>  S.D. of innovations</th>  <td>1.753</td> \n",
       "</tr>\n",
       "<tr>\n",
       "  <th>Date:</th>           <td>Sat, 11 Aug 2018</td>  <th>  AIC                </th> <td>92.134</td> \n",
       "</tr>\n",
       "<tr>\n",
       "  <th>Time:</th>               <td>20:06:50</td>      <th>  BIC                </th> <td>98.746</td> \n",
       "</tr>\n",
       "<tr>\n",
       "  <th>Sample:</th>            <td>01-01-1974</td>     <th>  HQIC               </th> <td>93.253</td> \n",
       "</tr>\n",
       "<tr>\n",
       "  <th></th>                  <td>- 01-01-1992</td>    <th>                     </th>    <td> </td>   \n",
       "</tr>\n",
       "</table>\n",
       "<table class=\"simpletable\">\n",
       "<tr>\n",
       "              <td></td>                <th>coef</th>     <th>std err</th>      <th>z</th>      <th>P>|z|</th>  <th>[0.025</th>    <th>0.975]</th>  \n",
       "</tr>\n",
       "<tr>\n",
       "  <th>degreelt50_pct</th>           <td>    0.0052</td> <td>    0.007</td> <td>    0.701</td> <td> 0.496</td> <td>   -0.009</td> <td>    0.020</td>\n",
       "</tr>\n",
       "<tr>\n",
       "  <th>ar.L1.D2.marriedlt50_pct</th> <td>   -1.0515</td> <td>    0.221</td> <td>   -4.755</td> <td> 0.000</td> <td>   -1.485</td> <td>   -0.618</td>\n",
       "</tr>\n",
       "<tr>\n",
       "  <th>ar.L2.D2.marriedlt50_pct</th> <td>   -1.0532</td> <td>    0.252</td> <td>   -4.180</td> <td> 0.001</td> <td>   -1.547</td> <td>   -0.559</td>\n",
       "</tr>\n",
       "<tr>\n",
       "  <th>ar.L3.D2.marriedlt50_pct</th> <td>   -0.8719</td> <td>    0.289</td> <td>   -3.014</td> <td> 0.010</td> <td>   -1.439</td> <td>   -0.305</td>\n",
       "</tr>\n",
       "<tr>\n",
       "  <th>ar.L4.D2.marriedlt50_pct</th> <td>   -0.8489</td> <td>    0.243</td> <td>   -3.492</td> <td> 0.004</td> <td>   -1.325</td> <td>   -0.372</td>\n",
       "</tr>\n",
       "<tr>\n",
       "  <th>ar.L5.D2.marriedlt50_pct</th> <td>   -0.3298</td> <td>    0.223</td> <td>   -1.482</td> <td> 0.162</td> <td>   -0.766</td> <td>    0.106</td>\n",
       "</tr>\n",
       "</table>\n",
       "<table class=\"simpletable\">\n",
       "<caption>Roots</caption>\n",
       "<tr>\n",
       "    <td></td>   <th>            Real</th>  <th>         Imaginary</th> <th>         Modulus</th>  <th>        Frequency</th>\n",
       "</tr>\n",
       "<tr>\n",
       "  <th>AR.1</th> <td>           0.4118</td> <td>          -1.0337j</td> <td>           1.1127</td> <td>          -0.1897</td>\n",
       "</tr>\n",
       "<tr>\n",
       "  <th>AR.2</th> <td>           0.4118</td> <td>          +1.0337j</td> <td>           1.1127</td> <td>           0.1897</td>\n",
       "</tr>\n",
       "<tr>\n",
       "  <th>AR.3</th> <td>          -0.7823</td> <td>          -0.8509j</td> <td>           1.1558</td> <td>          -0.3683</td>\n",
       "</tr>\n",
       "<tr>\n",
       "  <th>AR.4</th> <td>          -0.7823</td> <td>          +0.8509j</td> <td>           1.1558</td> <td>           0.3683</td>\n",
       "</tr>\n",
       "<tr>\n",
       "  <th>AR.5</th> <td>          -1.8331</td> <td>          -0.0000j</td> <td>           1.8331</td> <td>          -0.5000</td>\n",
       "</tr>\n",
       "</table>"
      ],
      "text/plain": [
       "<class 'statsmodels.iolib.summary.Summary'>\n",
       "\"\"\"\n",
       "                             ARIMA Model Results                              \n",
       "==============================================================================\n",
       "Dep. Variable:     D2.marriedlt50_pct   No. Observations:                   19\n",
       "Model:                 ARIMA(5, 2, 0)   Log Likelihood                 -39.067\n",
       "Method:                       css-mle   S.D. of innovations              1.753\n",
       "Date:                Sat, 11 Aug 2018   AIC                             92.134\n",
       "Time:                        20:06:50   BIC                             98.746\n",
       "Sample:                    01-01-1974   HQIC                            93.253\n",
       "                         - 01-01-1992                                         \n",
       "============================================================================================\n",
       "                               coef    std err          z      P>|z|      [0.025      0.975]\n",
       "--------------------------------------------------------------------------------------------\n",
       "degreelt50_pct               0.0052      0.007      0.701      0.496      -0.009       0.020\n",
       "ar.L1.D2.marriedlt50_pct    -1.0515      0.221     -4.755      0.000      -1.485      -0.618\n",
       "ar.L2.D2.marriedlt50_pct    -1.0532      0.252     -4.180      0.001      -1.547      -0.559\n",
       "ar.L3.D2.marriedlt50_pct    -0.8719      0.289     -3.014      0.010      -1.439      -0.305\n",
       "ar.L4.D2.marriedlt50_pct    -0.8489      0.243     -3.492      0.004      -1.325      -0.372\n",
       "ar.L5.D2.marriedlt50_pct    -0.3298      0.223     -1.482      0.162      -0.766       0.106\n",
       "                                    Roots                                    \n",
       "=============================================================================\n",
       "                  Real          Imaginary           Modulus         Frequency\n",
       "-----------------------------------------------------------------------------\n",
       "AR.1            0.4118           -1.0337j            1.1127           -0.1897\n",
       "AR.2            0.4118           +1.0337j            1.1127            0.1897\n",
       "AR.3           -0.7823           -0.8509j            1.1558           -0.3683\n",
       "AR.4           -0.7823           +0.8509j            1.1558            0.3683\n",
       "AR.5           -1.8331           -0.0000j            1.8331           -0.5000\n",
       "-----------------------------------------------------------------------------\n",
       "\"\"\""
      ]
     },
     "execution_count": 452,
     "metadata": {},
     "output_type": "execute_result"
    }
   ],
   "source": [
    "arima_married520.summary()"
   ]
  },
  {
   "cell_type": "code",
   "execution_count": 382,
   "metadata": {},
   "outputs": [],
   "source": [
    "# Create a new dataframe containing the necessary columns we will graph\n",
    "year = pd.Series(by_year_ts2['year'], name='year')\n",
    "\n",
    "marriedlt50pct = pd.Series(by_year_ts2['marriedlt50_pct'], name='marriedlt50_pct')\n",
    "D1_marriedlt50_pct = pd.Series(by_year_ts2['marriedlt50_pct'].diff(), name='D1_marriedlt50_pct')\n",
    "D2_marriedlt50_pct = pd.Series(D1_marriedlt50_pct.diff(), name='D2_marriedlt50_pct')\n",
    "\n",
    "degreelt50_pct = pd.Series(by_year_ts2['degreelt50_pct'], name='degreelt50_pct')\n",
    "D1_degreelt50_pct = pd.Series(by_year_ts2['degreelt50_pct'].diff(), name='D1_degreelt50_pct')\n",
    "D2_degreelt50_pct = pd.Series(D1_degreelt50_pct.diff(), name='D2_degreelt50_pct')\n",
    "\n",
    "Diff_dat = pd.concat([year, marriedlt50pct, D1_marriedlt50_pct, D2_marriedlt50_pct,\n",
    "                      degreelt50_pct, D1_degreelt50_pct, D2_degreelt50_pct], axis=1)"
   ]
  },
  {
   "cell_type": "code",
   "execution_count": 383,
   "metadata": {},
   "outputs": [
    {
     "data": {
      "text/plain": [
       "[<matplotlib.lines.Line2D at 0x1c1a8f14e0>]"
      ]
     },
     "execution_count": 383,
     "metadata": {},
     "output_type": "execute_result"
    },
    {
     "data": {
      "image/png": "[encoded data removed]",
      "text/plain": [
       "<Figure size 600x400 with 1 Axes>"
      ]
     },
     "metadata": {},
     "output_type": "display_data"
    }
   ],
   "source": [
    "# slide 43\n",
    "plt.style.use('seaborn-whitegrid')\n",
    "\n",
    "ax = plt.figure().gca()\n",
    "ax.xaxis.set_major_locator(MaxNLocator(integer=True))\n",
    "\n",
    "plt.plot(Diff_dat['year'], Diff_dat['marriedlt50_pct'])\n",
    "plt.plot(Diff_dat['year'], Diff_dat['D1_marriedlt50_pct'])\n",
    "plt.plot(Diff_dat['year'], Diff_dat['D2_marriedlt50_pct'])"
   ]
  },
  {
   "cell_type": "code",
   "execution_count": 314,
   "metadata": {},
   "outputs": [
    {
     "data": {
      "text/plain": [
       "[<matplotlib.lines.Line2D at 0x1c1a5b40b8>]"
      ]
     },
     "execution_count": 314,
     "metadata": {},
     "output_type": "execute_result"
    },
    {
     "data": {
      "image/png": "[encoded data removed]",
      "text/plain": [
       "<Figure size 600x400 with 1 Axes>"
      ]
     },
     "metadata": {},
     "output_type": "display_data"
    }
   ],
   "source": [
    "# slide 44\n",
    "ax = plt.figure().gca()\n",
    "ax.xaxis.set_major_locator(MaxNLocator(integer=True))\n",
    "\n",
    "plt.plot(Diff_dat['year'], Diff_dat['degreelt50_pct'])\n",
    "plt.plot(Diff_dat['year'], Diff_dat['D1_degreelt50_pct'])\n",
    "plt.plot(Diff_dat['year'], Diff_dat['D2_degreelt50_pct'])"
   ]
  },
  {
   "cell_type": "markdown",
   "metadata": {},
   "source": [
    "<br>\n",
    "Box-pierce test on `arima_married520`:"
   ]
  },
  {
   "cell_type": "code",
   "execution_count": 384,
   "metadata": {},
   "outputs": [
    {
     "data": {
      "text/plain": [
       "array([0.64894117, 0.67619561, 0.83165904, 0.79482279, 0.87511556,\n",
       "       0.92872286, 0.94273362])"
      ]
     },
     "execution_count": 384,
     "metadata": {},
     "output_type": "execute_result"
    }
   ],
   "source": [
    "arima_married520_resid = arima_married520.resid\n",
    "\n",
    "acorr_ljungbox(arima_married520_resid, boxpierce=True)[3]"
   ]
  },
  {
   "cell_type": "markdown",
   "metadata": {},
   "source": [
    "<br>\n",
    "Try ARIMA(5, 1, 0):"
   ]
  },
  {
   "cell_type": "code",
   "execution_count": 399,
   "metadata": {},
   "outputs": [],
   "source": [
    "Diff_dat1 = Diff_dat[['D1_marriedlt50_pct', 'D1_degreelt50_pct']].copy()\n",
    "\n",
    "Diff_dat1.dropna(inplace=True)"
   ]
  },
  {
   "cell_type": "code",
   "execution_count": 459,
   "metadata": {},
   "outputs": [
    {
     "name": "stderr",
     "output_type": "stream",
     "text": [
      "/Users/melindasong/anaconda/lib/python3.5/site-packages/statsmodels/tsa/base/tsa_model.py:171: ValueWarning: No frequency information was provided, so inferred frequency AS-JAN will be used.\n",
      "  % freq, ValueWarning)\n",
      "/Users/melindasong/anaconda/lib/python3.5/site-packages/statsmodels/tsa/base/tsa_model.py:171: ValueWarning: No frequency information was provided, so inferred frequency AS-JAN will be used.\n",
      "  % freq, ValueWarning)\n"
     ]
    }
   ],
   "source": [
    "# slide 47\n",
    "\n",
    "arima_married510 = ARIMA(by_year_ts2['marriedlt50_pct'], order = (5, 1, 0), exog = by_year_ts2['degreelt50_pct']).\\\n",
    "                        fit(trend='nc', start_params=[1, .1, .1, .1, .1, .1]) \n"
   ]
  },
  {
   "cell_type": "code",
   "execution_count": 460,
   "metadata": {},
   "outputs": [
    {
     "data": {
      "text/html": [
       "<table class=\"simpletable\">\n",
       "<caption>ARIMA Model Results</caption>\n",
       "<tr>\n",
       "  <th>Dep. Variable:</th> <td>D.marriedlt50_pct</td> <th>  No. Observations:  </th>   <td>20</td>   \n",
       "</tr>\n",
       "<tr>\n",
       "  <th>Model:</th>          <td>ARIMA(5, 1, 0)</td>   <th>  Log Likelihood     </th> <td>-39.359</td>\n",
       "</tr>\n",
       "<tr>\n",
       "  <th>Method:</th>             <td>css-mle</td>      <th>  S.D. of innovations</th>  <td>1.693</td> \n",
       "</tr>\n",
       "<tr>\n",
       "  <th>Date:</th>          <td>Sat, 11 Aug 2018</td>  <th>  AIC                </th> <td>92.719</td> \n",
       "</tr>\n",
       "<tr>\n",
       "  <th>Time:</th>              <td>20:22:46</td>      <th>  BIC                </th> <td>99.689</td> \n",
       "</tr>\n",
       "<tr>\n",
       "  <th>Sample:</th>           <td>01-01-1973</td>     <th>  HQIC               </th> <td>94.079</td> \n",
       "</tr>\n",
       "<tr>\n",
       "  <th></th>                 <td>- 01-01-1992</td>    <th>                     </th>    <td> </td>   \n",
       "</tr>\n",
       "</table>\n",
       "<table class=\"simpletable\">\n",
       "<tr>\n",
       "             <td></td>                <th>coef</th>     <th>std err</th>      <th>z</th>      <th>P>|z|</th>  <th>[0.025</th>    <th>0.975]</th>  \n",
       "</tr>\n",
       "<tr>\n",
       "  <th>degreelt50_pct</th>          <td>   -0.0402</td> <td>    0.020</td> <td>   -2.058</td> <td> 0.059</td> <td>   -0.078</td> <td>   -0.002</td>\n",
       "</tr>\n",
       "<tr>\n",
       "  <th>ar.L1.D.marriedlt50_pct</th> <td>   -0.1829</td> <td>    0.232</td> <td>   -0.789</td> <td> 0.443</td> <td>   -0.637</td> <td>    0.271</td>\n",
       "</tr>\n",
       "<tr>\n",
       "  <th>ar.L2.D.marriedlt50_pct</th> <td>   -0.3105</td> <td>    0.213</td> <td>   -1.459</td> <td> 0.167</td> <td>   -0.728</td> <td>    0.107</td>\n",
       "</tr>\n",
       "<tr>\n",
       "  <th>ar.L3.D.marriedlt50_pct</th> <td>   -0.0930</td> <td>    0.237</td> <td>   -0.393</td> <td> 0.700</td> <td>   -0.557</td> <td>    0.371</td>\n",
       "</tr>\n",
       "<tr>\n",
       "  <th>ar.L4.D.marriedlt50_pct</th> <td>   -0.3232</td> <td>    0.221</td> <td>   -1.466</td> <td> 0.165</td> <td>   -0.755</td> <td>    0.109</td>\n",
       "</tr>\n",
       "<tr>\n",
       "  <th>ar.L5.D.marriedlt50_pct</th> <td>    0.1803</td> <td>    0.236</td> <td>    0.763</td> <td> 0.458</td> <td>   -0.283</td> <td>    0.643</td>\n",
       "</tr>\n",
       "</table>\n",
       "<table class=\"simpletable\">\n",
       "<caption>Roots</caption>\n",
       "<tr>\n",
       "    <td></td>   <th>            Real</th>  <th>         Imaginary</th> <th>         Modulus</th>  <th>        Frequency</th>\n",
       "</tr>\n",
       "<tr>\n",
       "  <th>AR.1</th> <td>          -0.8627</td> <td>          -0.8103j</td> <td>           1.1835</td> <td>          -0.3800</td>\n",
       "</tr>\n",
       "<tr>\n",
       "  <th>AR.2</th> <td>          -0.8627</td> <td>          +0.8103j</td> <td>           1.1835</td> <td>           0.3800</td>\n",
       "</tr>\n",
       "<tr>\n",
       "  <th>AR.3</th> <td>           0.5147</td> <td>          -1.1517j</td> <td>           1.2615</td> <td>          -0.1831</td>\n",
       "</tr>\n",
       "<tr>\n",
       "  <th>AR.4</th> <td>           0.5147</td> <td>          +1.1517j</td> <td>           1.2615</td> <td>           0.1831</td>\n",
       "</tr>\n",
       "<tr>\n",
       "  <th>AR.5</th> <td>           2.4886</td> <td>          -0.0000j</td> <td>           2.4886</td> <td>          -0.0000</td>\n",
       "</tr>\n",
       "</table>"
      ],
      "text/plain": [
       "<class 'statsmodels.iolib.summary.Summary'>\n",
       "\"\"\"\n",
       "                             ARIMA Model Results                              \n",
       "==============================================================================\n",
       "Dep. Variable:      D.marriedlt50_pct   No. Observations:                   20\n",
       "Model:                 ARIMA(5, 1, 0)   Log Likelihood                 -39.359\n",
       "Method:                       css-mle   S.D. of innovations              1.693\n",
       "Date:                Sat, 11 Aug 2018   AIC                             92.719\n",
       "Time:                        20:22:46   BIC                             99.689\n",
       "Sample:                    01-01-1973   HQIC                            94.079\n",
       "                         - 01-01-1992                                         \n",
       "===========================================================================================\n",
       "                              coef    std err          z      P>|z|      [0.025      0.975]\n",
       "-------------------------------------------------------------------------------------------\n",
       "degreelt50_pct             -0.0402      0.020     -2.058      0.059      -0.078      -0.002\n",
       "ar.L1.D.marriedlt50_pct    -0.1829      0.232     -0.789      0.443      -0.637       0.271\n",
       "ar.L2.D.marriedlt50_pct    -0.3105      0.213     -1.459      0.167      -0.728       0.107\n",
       "ar.L3.D.marriedlt50_pct    -0.0930      0.237     -0.393      0.700      -0.557       0.371\n",
       "ar.L4.D.marriedlt50_pct    -0.3232      0.221     -1.466      0.165      -0.755       0.109\n",
       "ar.L5.D.marriedlt50_pct     0.1803      0.236      0.763      0.458      -0.283       0.643\n",
       "                                    Roots                                    \n",
       "=============================================================================\n",
       "                  Real          Imaginary           Modulus         Frequency\n",
       "-----------------------------------------------------------------------------\n",
       "AR.1           -0.8627           -0.8103j            1.1835           -0.3800\n",
       "AR.2           -0.8627           +0.8103j            1.1835            0.3800\n",
       "AR.3            0.5147           -1.1517j            1.2615           -0.1831\n",
       "AR.4            0.5147           +1.1517j            1.2615            0.1831\n",
       "AR.5            2.4886           -0.0000j            2.4886           -0.0000\n",
       "-----------------------------------------------------------------------------\n",
       "\"\"\""
      ]
     },
     "execution_count": 460,
     "metadata": {},
     "output_type": "execute_result"
    }
   ],
   "source": [
    "arima_married510.summary()"
   ]
  },
  {
   "cell_type": "code",
   "execution_count": 433,
   "metadata": {},
   "outputs": [
    {
     "data": {
      "text/plain": [
       "array([0.87542941, 0.98542696, 0.98559079, 0.98823956, 0.96837906,\n",
       "       0.98418066, 0.99421307, 0.98935714])"
      ]
     },
     "execution_count": 433,
     "metadata": {},
     "output_type": "execute_result"
    }
   ],
   "source": [
    "arima_married510_resid = arima_married510.resid\n",
    "\n",
    "acorr_ljungbox(arima_married510_resid, boxpierce=True)[3]"
   ]
  },
  {
   "cell_type": "markdown",
   "metadata": {},
   "source": [
    "The `auto_arima` function from the `pyramid` package can be used to automatically select the optimum parameters for the ARIMA model by computing the comparing AIC values. "
   ]
  },
  {
   "cell_type": "code",
   "execution_count": null,
   "metadata": {},
   "outputs": [],
   "source": []
  }
 ],
 "metadata": {
  "kernelspec": {
   "display_name": "py36",
   "language": "python",
   "name": "py36"
  },
  "language_info": {
   "codemirror_mode": {
    "name": "ipython",
    "version": 3
   },
   "file_extension": ".py",
   "mimetype": "text/x-python",
   "name": "python",
   "nbconvert_exporter": "python",
   "pygments_lexer": "ipython3",
   "version": "3.6.5"
  }
 },
 "nbformat": 4,
 "nbformat_minor": 2
}
