{
 "cells": [
  {
   "cell_type": "markdown",
   "metadata": {},
   "source": [
    "# Regression Analysis of Temporal Processes (Class 7) - Intro to Time Series"
   ]
  },
  {
   "cell_type": "code",
   "execution_count": 1,
   "metadata": {},
   "outputs": [
    {
     "name": "stderr",
     "output_type": "stream",
     "text": [
      "/Users/melindasong/anaconda/envs/py36/lib/python3.6/importlib/_bootstrap.py:219: RuntimeWarning: numpy.dtype size changed, may indicate binary incompatibility. Expected 96, got 88\n",
      "  return f(*args, **kwds)\n",
      "/Users/melindasong/anaconda/envs/py36/lib/python3.6/importlib/_bootstrap.py:219: RuntimeWarning: numpy.dtype size changed, may indicate binary incompatibility. Expected 96, got 88\n",
      "  return f(*args, **kwds)\n",
      "/Users/melindasong/anaconda/envs/py36/lib/python3.6/importlib/_bootstrap.py:219: RuntimeWarning: numpy.dtype size changed, may indicate binary incompatibility. Expected 96, got 88\n",
      "  return f(*args, **kwds)\n"
     ]
    }
   ],
   "source": [
    "import pandas as pd\n",
    "import numpy as np\n",
    "import seaborn as sns\n",
    "import matplotlib.pyplot as plt\n",
    "%matplotlib inline\n",
    "import statsmodels.api as sm\n",
    "import statsmodels.formula.api as smf\n",
    "from scipy import stats"
   ]
  },
  {
   "cell_type": "code",
   "execution_count": 2,
   "metadata": {},
   "outputs": [],
   "source": [
    "# Grab the data that we need\n",
    "GSS = pd.read_csv('trends-gss.csv')\n",
    "variables = [\"year\", \"confinan\", \"sex\", \"age\", \"partyid\", \"wrkstat\", \"degree\"]\n",
    "sub = GSS[variables].copy()"
   ]
  },
  {
   "cell_type": "code",
   "execution_count": 3,
   "metadata": {},
   "outputs": [],
   "source": [
    "# Recoding variables and creating indicator variables\n",
    "sub['n_confinan'] = sub['confinan'].replace([1, 3], [3, 1])\n",
    "\n",
    "sub['baplus'] = np.where(sub['degree']>=3, 1, 0)\n",
    "sub['fulltime'] = np.where(sub['wrkstat']==1, 1, 0)\n",
    "sub['womenft'] = np.where((sub['sex']==2) & (sub['wrkstat']==1), 1, 0)\n",
    "sub['degreelt50'] = np.where((sub['baplus']==1) & (sub['age']<50), 1, 0)\n",
    "sub['partyid6'] = np.where(sub['partyid']==6, 1, 0)\n",
    "sub['partyid7'] = np.where(sub['partyid']==7, 1, 0)\n",
    "\n",
    "by_year = sub.groupby('year', as_index = False).agg(\"mean\")"
   ]
  },
  {
   "cell_type": "code",
   "execution_count": 4,
   "metadata": {},
   "outputs": [],
   "source": [
    "# add additional years to the dataframe by creating a separate dataframe for the new years and appending it to the original dataframe\n",
    "add_years_df = pd.DataFrame(data = pd.Series([1979, 1981, 1992, 1995, 1997, 1999, 2001, 2003, 2005, 2007, 2009]), columns = ['year'])\n",
    "by_year = pd.concat([by_year, add_years_df], sort = False, ignore_index = True)\n"
   ]
  },
  {
   "cell_type": "code",
   "execution_count": 5,
   "metadata": {},
   "outputs": [],
   "source": [
    "# (slide 6)\n",
    "by_year = by_year.sort_values(['year'])\n",
    "\n",
    "by_year['year'] = pd.to_datetime(by_year['year'], format = \"%Y\")\n",
    "by_year = by_year.set_index('year', drop = False)\n",
    "\n",
    "by_year_ts = by_year.interpolate(method = 'linear')"
   ]
  },
  {
   "cell_type": "code",
   "execution_count": 6,
   "metadata": {},
   "outputs": [
    {
     "data": {
      "text/html": [
       "<div>\n",
       "<style scoped>\n",
       "    .dataframe tbody tr th:only-of-type {\n",
       "        vertical-align: middle;\n",
       "    }\n",
       "\n",
       "    .dataframe tbody tr th {\n",
       "        vertical-align: top;\n",
       "    }\n",
       "\n",
       "    .dataframe thead th {\n",
       "        text-align: right;\n",
       "    }\n",
       "</style>\n",
       "<table border=\"1\" class=\"dataframe\">\n",
       "  <thead>\n",
       "    <tr style=\"text-align: right;\">\n",
       "      <th></th>\n",
       "      <th>year</th>\n",
       "      <th>confinan</th>\n",
       "      <th>sex</th>\n",
       "      <th>age</th>\n",
       "      <th>partyid</th>\n",
       "      <th>wrkstat</th>\n",
       "      <th>degree</th>\n",
       "      <th>n_confinan</th>\n",
       "      <th>baplus</th>\n",
       "      <th>fulltime</th>\n",
       "      <th>womenft</th>\n",
       "      <th>degreelt50</th>\n",
       "      <th>partyid6</th>\n",
       "      <th>partyid7</th>\n",
       "    </tr>\n",
       "    <tr>\n",
       "      <th>year</th>\n",
       "      <th></th>\n",
       "      <th></th>\n",
       "      <th></th>\n",
       "      <th></th>\n",
       "      <th></th>\n",
       "      <th></th>\n",
       "      <th></th>\n",
       "      <th></th>\n",
       "      <th></th>\n",
       "      <th></th>\n",
       "      <th></th>\n",
       "      <th></th>\n",
       "      <th></th>\n",
       "      <th></th>\n",
       "    </tr>\n",
       "  </thead>\n",
       "  <tbody>\n",
       "    <tr>\n",
       "      <th>1972-01-01</th>\n",
       "      <td>1972-01-01</td>\n",
       "      <td>NaN</td>\n",
       "      <td>1.499690</td>\n",
       "      <td>44.950871</td>\n",
       "      <td>2.505912</td>\n",
       "      <td>3.455673</td>\n",
       "      <td>0.865409</td>\n",
       "      <td>NaN</td>\n",
       "      <td>0.109113</td>\n",
       "      <td>0.464972</td>\n",
       "      <td>0.124613</td>\n",
       "      <td>0.076255</td>\n",
       "      <td>0.078115</td>\n",
       "      <td>0.042777</td>\n",
       "    </tr>\n",
       "    <tr>\n",
       "      <th>1973-01-01</th>\n",
       "      <td>1973-01-01</td>\n",
       "      <td>NaN</td>\n",
       "      <td>1.533910</td>\n",
       "      <td>44.182000</td>\n",
       "      <td>2.693905</td>\n",
       "      <td>3.573803</td>\n",
       "      <td>0.950974</td>\n",
       "      <td>NaN</td>\n",
       "      <td>0.130984</td>\n",
       "      <td>0.432846</td>\n",
       "      <td>0.137633</td>\n",
       "      <td>0.097074</td>\n",
       "      <td>0.081782</td>\n",
       "      <td>0.041223</td>\n",
       "    </tr>\n",
       "    <tr>\n",
       "      <th>1974-01-01</th>\n",
       "      <td>1974-01-01</td>\n",
       "      <td>NaN</td>\n",
       "      <td>1.534367</td>\n",
       "      <td>44.591340</td>\n",
       "      <td>2.598220</td>\n",
       "      <td>3.585580</td>\n",
       "      <td>0.998651</td>\n",
       "      <td>NaN</td>\n",
       "      <td>0.142857</td>\n",
       "      <td>0.427898</td>\n",
       "      <td>0.145553</td>\n",
       "      <td>0.102426</td>\n",
       "      <td>0.074124</td>\n",
       "      <td>0.039757</td>\n",
       "    </tr>\n",
       "    <tr>\n",
       "      <th>1975-01-01</th>\n",
       "      <td>1975-01-01</td>\n",
       "      <td>1.785319</td>\n",
       "      <td>1.550336</td>\n",
       "      <td>44.307744</td>\n",
       "      <td>2.501010</td>\n",
       "      <td>3.575168</td>\n",
       "      <td>0.952317</td>\n",
       "      <td>2.214681</td>\n",
       "      <td>0.127517</td>\n",
       "      <td>0.417450</td>\n",
       "      <td>0.157047</td>\n",
       "      <td>0.098658</td>\n",
       "      <td>0.062416</td>\n",
       "      <td>0.008054</td>\n",
       "    </tr>\n",
       "    <tr>\n",
       "      <th>1976-01-01</th>\n",
       "      <td>1976-01-01</td>\n",
       "      <td>1.697115</td>\n",
       "      <td>1.553702</td>\n",
       "      <td>45.286671</td>\n",
       "      <td>2.430769</td>\n",
       "      <td>3.625083</td>\n",
       "      <td>0.988614</td>\n",
       "      <td>2.302885</td>\n",
       "      <td>0.142095</td>\n",
       "      <td>0.412942</td>\n",
       "      <td>0.150100</td>\n",
       "      <td>0.101401</td>\n",
       "      <td>0.064043</td>\n",
       "      <td>0.002668</td>\n",
       "    </tr>\n",
       "  </tbody>\n",
       "</table>\n",
       "</div>"
      ],
      "text/plain": [
       "                 year  confinan       sex        age   partyid   wrkstat  \\\n",
       "year                                                                       \n",
       "1972-01-01 1972-01-01       NaN  1.499690  44.950871  2.505912  3.455673   \n",
       "1973-01-01 1973-01-01       NaN  1.533910  44.182000  2.693905  3.573803   \n",
       "1974-01-01 1974-01-01       NaN  1.534367  44.591340  2.598220  3.585580   \n",
       "1975-01-01 1975-01-01  1.785319  1.550336  44.307744  2.501010  3.575168   \n",
       "1976-01-01 1976-01-01  1.697115  1.553702  45.286671  2.430769  3.625083   \n",
       "\n",
       "              degree  n_confinan    baplus  fulltime   womenft  degreelt50  \\\n",
       "year                                                                         \n",
       "1972-01-01  0.865409         NaN  0.109113  0.464972  0.124613    0.076255   \n",
       "1973-01-01  0.950974         NaN  0.130984  0.432846  0.137633    0.097074   \n",
       "1974-01-01  0.998651         NaN  0.142857  0.427898  0.145553    0.102426   \n",
       "1975-01-01  0.952317    2.214681  0.127517  0.417450  0.157047    0.098658   \n",
       "1976-01-01  0.988614    2.302885  0.142095  0.412942  0.150100    0.101401   \n",
       "\n",
       "            partyid6  partyid7  \n",
       "year                            \n",
       "1972-01-01  0.078115  0.042777  \n",
       "1973-01-01  0.081782  0.041223  \n",
       "1974-01-01  0.074124  0.039757  \n",
       "1975-01-01  0.062416  0.008054  \n",
       "1976-01-01  0.064043  0.002668  "
      ]
     },
     "execution_count": 6,
     "metadata": {},
     "output_type": "execute_result"
    }
   ],
   "source": [
    "by_year_ts.head()"
   ]
  },
  {
   "cell_type": "code",
   "execution_count": 6,
   "metadata": {},
   "outputs": [],
   "source": [
    "by_year_ts['repub'] = by_year_ts['partyid6'] + by_year_ts['partyid7']\n",
    "by_year_ts['repub_pct'] = by_year_ts['repub']*100\n",
    "by_year_ts['fulltime_pct'] = by_year_ts['fulltime']*100\n",
    "by_year_ts['degreelt50_pct'] = by_year_ts['degreelt50']*100\n",
    "\n",
    "# convert 'year' back to integer in order to allow model-fitting\n",
    "by_year_ts['year'] = by_year_ts['year'].dt.year\n",
    "\n",
    "# subset the dataset to only look at 1992 and earlier\n",
    "by_year_ts2 = by_year_ts[by_year_ts['year']<=1992].copy()\n"
   ]
  },
  {
   "cell_type": "code",
   "execution_count": 14,
   "metadata": {},
   "outputs": [
    {
     "data": {
      "text/plain": [
       "<matplotlib.axes._subplots.AxesSubplot at 0x1c23a94978>"
      ]
     },
     "execution_count": 14,
     "metadata": {},
     "output_type": "execute_result"
    },
    {
     "data": {
      "image/png": "[encoded data removed]",
      "text/plain": [
       "<Figure size 432x288 with 1 Axes>"
      ]
     },
     "metadata": {},
     "output_type": "display_data"
    }
   ],
   "source": [
    "# (slide 8)\n",
    "\n",
    "by_year_ts2.loc[:, ['fulltime', 'n_confinan']].plot(xlim = ('1975-01-01', '1992-01-01'))"
   ]
  },
  {
   "cell_type": "code",
   "execution_count": 15,
   "metadata": {},
   "outputs": [
    {
     "data": {
      "text/plain": [
       "<matplotlib.axes._subplots.AxesSubplot at 0x1c2d16b908>"
      ]
     },
     "execution_count": 15,
     "metadata": {},
     "output_type": "execute_result"
    },
    {
     "data": {
      "image/png": "[encoded data removed]",
      "text/plain": [
       "<Figure size 720x720 with 4 Axes>"
      ]
     },
     "metadata": {},
     "output_type": "display_data"
    }
   ],
   "source": [
    "fig, axes = plt.subplots(nrows=2, ncols=2, figsize=(10,10))\n",
    "\n",
    "by_year_ts2['n_confinan'].plot(xlim = ('1975-01-01', '1992-01-01'), title = 'Confidence in Banks', color = 'g', ax = axes[0,0], grid = True)\n",
    "by_year_ts2['fulltime_pct'].plot(xlim = ('1975-01-01', '1992-01-01'), title = 'Percent Full-time', color = 'purple', ax = axes[0,1], grid = True)\n",
    "by_year_ts2['repub_pct'].plot(xlim = ('1975-01-01', '1992-01-01'), title = 'Percent Strong Republican', color = 'orange', ax = axes[1,0], grid = True)\n",
    "by_year_ts2['degreelt50_pct'].plot(xlim = ('1975-01-01', '1992-01-01'), ylim = (9, 16), title = 'Percent under \\\n",
    "50 with BA', color = 'b', ax = axes[1,1], grid = True)"
   ]
  },
  {
   "cell_type": "code",
   "execution_count": 9,
   "metadata": {},
   "outputs": [
    {
     "data": {
      "text/html": [
       "<div>\n",
       "<style scoped>\n",
       "    .dataframe tbody tr th:only-of-type {\n",
       "        vertical-align: middle;\n",
       "    }\n",
       "\n",
       "    .dataframe tbody tr th {\n",
       "        vertical-align: top;\n",
       "    }\n",
       "\n",
       "    .dataframe thead th {\n",
       "        text-align: right;\n",
       "    }\n",
       "</style>\n",
       "<table border=\"1\" class=\"dataframe\">\n",
       "  <thead>\n",
       "    <tr style=\"text-align: right;\">\n",
       "      <th></th>\n",
       "      <th>n_confinan</th>\n",
       "      <th>fulltime_pct</th>\n",
       "      <th>repub_pct</th>\n",
       "      <th>degreelt50_pct</th>\n",
       "      <th>year</th>\n",
       "    </tr>\n",
       "  </thead>\n",
       "  <tbody>\n",
       "    <tr>\n",
       "      <th>n_confinan</th>\n",
       "      <td>1.000000</td>\n",
       "      <td>-0.229029</td>\n",
       "      <td>-0.795358</td>\n",
       "      <td>-0.776779</td>\n",
       "      <td>-0.854655</td>\n",
       "    </tr>\n",
       "    <tr>\n",
       "      <th>fulltime_pct</th>\n",
       "      <td>-0.229029</td>\n",
       "      <td>1.000000</td>\n",
       "      <td>0.285045</td>\n",
       "      <td>0.537870</td>\n",
       "      <td>0.643588</td>\n",
       "    </tr>\n",
       "    <tr>\n",
       "      <th>repub_pct</th>\n",
       "      <td>-0.795358</td>\n",
       "      <td>0.285045</td>\n",
       "      <td>1.000000</td>\n",
       "      <td>0.473364</td>\n",
       "      <td>0.429449</td>\n",
       "    </tr>\n",
       "    <tr>\n",
       "      <th>degreelt50_pct</th>\n",
       "      <td>-0.776779</td>\n",
       "      <td>0.537870</td>\n",
       "      <td>0.473364</td>\n",
       "      <td>1.000000</td>\n",
       "      <td>0.929227</td>\n",
       "    </tr>\n",
       "    <tr>\n",
       "      <th>year</th>\n",
       "      <td>-0.854655</td>\n",
       "      <td>0.643588</td>\n",
       "      <td>0.429449</td>\n",
       "      <td>0.929227</td>\n",
       "      <td>1.000000</td>\n",
       "    </tr>\n",
       "  </tbody>\n",
       "</table>\n",
       "</div>"
      ],
      "text/plain": [
       "                n_confinan  fulltime_pct  repub_pct  degreelt50_pct      year\n",
       "n_confinan        1.000000     -0.229029  -0.795358       -0.776779 -0.854655\n",
       "fulltime_pct     -0.229029      1.000000   0.285045        0.537870  0.643588\n",
       "repub_pct        -0.795358      0.285045   1.000000        0.473364  0.429449\n",
       "degreelt50_pct   -0.776779      0.537870   0.473364        1.000000  0.929227\n",
       "year             -0.854655      0.643588   0.429449        0.929227  1.000000"
      ]
     },
     "execution_count": 9,
     "metadata": {},
     "output_type": "execute_result"
    }
   ],
   "source": [
    "# (slide 12)\n",
    "\n",
    "cor_vars = [\"n_confinan\", \"fulltime_pct\", \"repub_pct\", \"degreelt50_pct\", \"year\"]\n",
    "cor_dat = by_year_ts2[cor_vars].copy()\n",
    "\n",
    "cor_dat.corr()"
   ]
  },
  {
   "cell_type": "code",
   "execution_count": 16,
   "metadata": {},
   "outputs": [
    {
     "name": "stderr",
     "output_type": "stream",
     "text": [
      "/Users/melindasong/anaconda/envs/py36/lib/python3.6/site-packages/scipy/stats/stats.py:1394: UserWarning: kurtosistest only valid for n>=20 ... continuing anyway, n=18\n",
      "  \"anyway, n=%i\" % int(n))\n"
     ]
    },
    {
     "data": {
      "text/html": [
       "<table class=\"simpletable\">\n",
       "<caption>OLS Regression Results</caption>\n",
       "<tr>\n",
       "  <th>Dep. Variable:</th>       <td>n_confinan</td>    <th>  R-squared:         </th> <td>   0.052</td>\n",
       "</tr>\n",
       "<tr>\n",
       "  <th>Model:</th>                   <td>OLS</td>       <th>  Adj. R-squared:    </th> <td>  -0.007</td>\n",
       "</tr>\n",
       "<tr>\n",
       "  <th>Method:</th>             <td>Least Squares</td>  <th>  F-statistic:       </th> <td>  0.8857</td>\n",
       "</tr>\n",
       "<tr>\n",
       "  <th>Date:</th>             <td>Mon, 13 Aug 2018</td> <th>  Prob (F-statistic):</th>  <td> 0.361</td> \n",
       "</tr>\n",
       "<tr>\n",
       "  <th>Time:</th>                 <td>14:02:51</td>     <th>  Log-Likelihood:    </th> <td>  10.059</td>\n",
       "</tr>\n",
       "<tr>\n",
       "  <th>No. Observations:</th>      <td>    18</td>      <th>  AIC:               </th> <td>  -16.12</td>\n",
       "</tr>\n",
       "<tr>\n",
       "  <th>Df Residuals:</th>          <td>    16</td>      <th>  BIC:               </th> <td>  -14.34</td>\n",
       "</tr>\n",
       "<tr>\n",
       "  <th>Df Model:</th>              <td>     1</td>      <th>                     </th>     <td> </td>   \n",
       "</tr>\n",
       "<tr>\n",
       "  <th>Covariance Type:</th>      <td>nonrobust</td>    <th>                     </th>     <td> </td>   \n",
       "</tr>\n",
       "</table>\n",
       "<table class=\"simpletable\">\n",
       "<tr>\n",
       "        <td></td>          <th>coef</th>     <th>std err</th>      <th>t</th>      <th>P>|t|</th>  <th>[0.025</th>    <th>0.975]</th>  \n",
       "</tr>\n",
       "<tr>\n",
       "  <th>Intercept</th>    <td>    2.6772</td> <td>    0.605</td> <td>    4.424</td> <td> 0.000</td> <td>    1.394</td> <td>    3.960</td>\n",
       "</tr>\n",
       "<tr>\n",
       "  <th>fulltime_pct</th> <td>   -0.0120</td> <td>    0.013</td> <td>   -0.941</td> <td> 0.361</td> <td>   -0.039</td> <td>    0.015</td>\n",
       "</tr>\n",
       "</table>\n",
       "<table class=\"simpletable\">\n",
       "<tr>\n",
       "  <th>Omnibus:</th>       <td> 4.101</td> <th>  Durbin-Watson:     </th> <td>   0.618</td>\n",
       "</tr>\n",
       "<tr>\n",
       "  <th>Prob(Omnibus):</th> <td> 0.129</td> <th>  Jarque-Bera (JB):  </th> <td>   2.010</td>\n",
       "</tr>\n",
       "<tr>\n",
       "  <th>Skew:</th>          <td>-0.738</td> <th>  Prob(JB):          </th> <td>   0.366</td>\n",
       "</tr>\n",
       "<tr>\n",
       "  <th>Kurtosis:</th>      <td> 3.709</td> <th>  Cond. No.          </th> <td>    829.</td>\n",
       "</tr>\n",
       "</table><br/><br/>Warnings:<br/>[1] Standard Errors assume that the covariance matrix of the errors is correctly specified."
      ],
      "text/plain": [
       "<class 'statsmodels.iolib.summary.Summary'>\n",
       "\"\"\"\n",
       "                            OLS Regression Results                            \n",
       "==============================================================================\n",
       "Dep. Variable:             n_confinan   R-squared:                       0.052\n",
       "Model:                            OLS   Adj. R-squared:                 -0.007\n",
       "Method:                 Least Squares   F-statistic:                    0.8857\n",
       "Date:                Mon, 13 Aug 2018   Prob (F-statistic):              0.361\n",
       "Time:                        14:02:51   Log-Likelihood:                 10.059\n",
       "No. Observations:                  18   AIC:                            -16.12\n",
       "Df Residuals:                      16   BIC:                            -14.34\n",
       "Df Model:                           1                                         \n",
       "Covariance Type:            nonrobust                                         \n",
       "================================================================================\n",
       "                   coef    std err          t      P>|t|      [0.025      0.975]\n",
       "--------------------------------------------------------------------------------\n",
       "Intercept        2.6772      0.605      4.424      0.000       1.394       3.960\n",
       "fulltime_pct    -0.0120      0.013     -0.941      0.361      -0.039       0.015\n",
       "==============================================================================\n",
       "Omnibus:                        4.101   Durbin-Watson:                   0.618\n",
       "Prob(Omnibus):                  0.129   Jarque-Bera (JB):                2.010\n",
       "Skew:                          -0.738   Prob(JB):                        0.366\n",
       "Kurtosis:                       3.709   Cond. No.                         829.\n",
       "==============================================================================\n",
       "\n",
       "Warnings:\n",
       "[1] Standard Errors assume that the covariance matrix of the errors is correctly specified.\n",
       "\"\"\""
      ]
     },
     "execution_count": 16,
     "metadata": {},
     "output_type": "execute_result"
    }
   ],
   "source": [
    "# (slide 13)\n",
    "\n",
    "lm_confinan = smf.ols('n_confinan ~ fulltime_pct', data = by_year_ts2).fit()\n",
    "lm_confinan.summary()"
   ]
  },
  {
   "cell_type": "markdown",
   "metadata": {},
   "source": [
    "### Test for heteroskedasticity"
   ]
  },
  {
   "cell_type": "code",
   "execution_count": 11,
   "metadata": {},
   "outputs": [
    {
     "data": {
      "text/plain": [
       "[('BP', 0.26327533666908876),\n",
       " ('p-value', 0.6078788313898792),\n",
       " ('f-value', 0.2374962382662567),\n",
       " ('f p-value', 0.6326299442699024)]"
      ]
     },
     "execution_count": 11,
     "metadata": {},
     "output_type": "execute_result"
    }
   ],
   "source": [
    "# (slide 14)\n",
    "\n",
    "from statsmodels.compat import lzip\n",
    "name = ['BP', 'p-value', \n",
    "        'f-value', 'f p-value']\n",
    "\n",
    "# use results of the model we fitted earlier\n",
    "test = sm.stats.diagnostic.het_breuschpagan(lm_confinan.resid, lm_confinan.model.exog)\n",
    "lzip(name, test)"
   ]
  },
  {
   "cell_type": "markdown",
   "metadata": {},
   "source": [
    "There's no evidence of heteroskedasticity in the above regression"
   ]
  },
  {
   "cell_type": "markdown",
   "metadata": {},
   "source": [
    "### Look for autocorrelation in the errors\n",
    "\n",
    "The `statsmodels` module contains functions that calculate and plot ACF for us: "
   ]
  },
  {
   "cell_type": "code",
   "execution_count": 17,
   "metadata": {},
   "outputs": [
    {
     "data": {
      "text/plain": [
       "array([ 1.        ,  0.58796147,  0.22189358,  0.12035591, -0.05046713,\n",
       "       -0.04474988, -0.01771699, -0.03907582,  0.02183761,  0.05436172,\n",
       "        0.03683238, -0.0493235 , -0.18946037, -0.26367996, -0.38893786,\n",
       "       -0.33786383, -0.13203339, -0.02993395])"
      ]
     },
     "execution_count": 17,
     "metadata": {},
     "output_type": "execute_result"
    }
   ],
   "source": [
    "# (slide 15)\n",
    "\n",
    "err = lm_confinan.resid\n",
    "\n",
    "from statsmodels.tsa.stattools import acf\n",
    "\n",
    "acf(err)"
   ]
  },
  {
   "cell_type": "code",
   "execution_count": 18,
   "metadata": {},
   "outputs": [
    {
     "data": {
      "image/png": "[encoded data removed]",
      "text/plain": [
       "<Figure size 432x288 with 1 Axes>"
      ]
     },
     "metadata": {},
     "output_type": "display_data"
    }
   ],
   "source": [
    "from statsmodels.graphics.tsaplots import plot_acf\n",
    "\n",
    "plot_acf(err, lags = 8, zero = False);"
   ]
  },
  {
   "cell_type": "markdown",
   "metadata": {},
   "source": [
    "### Test for autocorrelation in the errors\n",
    "\n",
    "`statsmodels` also supports the Durbin Watson test: \n",
    "\n",
    "(slide 21)"
   ]
  },
  {
   "cell_type": "code",
   "execution_count": 19,
   "metadata": {},
   "outputs": [
    {
     "data": {
      "text/plain": [
       "0.6182171332370635"
      ]
     },
     "execution_count": 19,
     "metadata": {},
     "output_type": "execute_result"
    }
   ],
   "source": [
    "from statsmodels.stats.stattools import durbin_watson\n",
    "\n",
    "durbin_watson(err)"
   ]
  },
  {
   "cell_type": "markdown",
   "metadata": {},
   "source": [
    "Although the above function does not return a p-value, the documentation does note that the test statistics is always between 0 and 4, with 2 indicating no serial correlation. The closer to 0 the statistic, the more evidence for positive serial correlation. The closer to 4, the more evidence for negative serial correlation. "
   ]
  },
  {
   "cell_type": "code",
   "execution_count": 20,
   "metadata": {},
   "outputs": [
    {
     "name": "stdout",
     "output_type": "stream",
     "text": [
      "LM test = 8.00990145481169\n",
      "p-value = 0.004652226925459141\n"
     ]
    }
   ],
   "source": [
    "from statsmodels.stats.diagnostic import acorr_breusch_godfrey\n",
    "\n",
    "lmtest, pval, fval, f_pval = acorr_breusch_godfrey(lm_confinan, nlags = 1)\n",
    "print('LM test =', lmtest)\n",
    "print('p-value =', pval)"
   ]
  },
  {
   "cell_type": "markdown",
   "metadata": {},
   "source": [
    "### Any higher order autocorrelation?"
   ]
  },
  {
   "cell_type": "code",
   "execution_count": null,
   "metadata": {},
   "outputs": [],
   "source": [
    "Since no equivalent of the `durbinWatsonTest` function in R seems to be available in Python"
   ]
  },
  {
   "cell_type": "code",
   "execution_count": 7,
   "metadata": {},
   "outputs": [],
   "source": [
    "from rpy2.robjects.packages import importr\n",
    "\n",
    "car = importr('car')\n",
    "stats = importr('stats')\n",
    "\n",
    "%load_ext rpy2.ipython"
   ]
  },
  {
   "cell_type": "code",
   "execution_count": 23,
   "metadata": {},
   "outputs": [
    {
     "name": "stderr",
     "output_type": "stream",
     "text": [
      "/Users/melindasong/anaconda/envs/py36/lib/python3.6/site-packages/rpy2/robjects/pandas2ri.py:191: FutureWarning: from_items is deprecated. Please use DataFrame.from_dict(dict(items), ...) instead. DataFrame.from_dict(OrderedDict(items)) may be used to preserve the key order.\n",
      "  res = PandasDataFrame.from_items(items)\n"
     ]
    },
    {
     "data": {
      "text/plain": [
       " lag Autocorrelation D-W Statistic p-value\n",
       "   1       0.5879615     0.6182171   0.000\n",
       "   2       0.2218936     0.9685850   0.038\n",
       "   3       0.1203559     0.9313264   0.048\n",
       " Alternative hypothesis: rho[lag] != 0\n"
      ]
     },
     "metadata": {},
     "output_type": "display_data"
    }
   ],
   "source": [
    "%%R -i by_year_ts2\n",
    "\n",
    "# refit the model using lm function from R\n",
    "lm_confinan_r = lm(n_confinan ~ fulltime_pct, data = by_year_ts2)\n",
    "\n",
    "# pass the model to function\n",
    "durbinWatsonTest(lm_confinan_r, max.lag=3)"
   ]
  },
  {
   "cell_type": "markdown",
   "metadata": {},
   "source": [
    "## The problem of serial correlation"
   ]
  },
  {
   "cell_type": "markdown",
   "metadata": {},
   "source": [
    "We refit the previous model. In this version we add time as the second variable in order to net out the time dimension for `n_confinan` and `fulltime_pct`.\n",
    "\n",
    "In order to fit this model using ols, we need to convert the `year` variable to integers from time series. "
   ]
  },
  {
   "cell_type": "code",
   "execution_count": 24,
   "metadata": {},
   "outputs": [
    {
     "name": "stderr",
     "output_type": "stream",
     "text": [
      "/Users/melindasong/anaconda/envs/py36/lib/python3.6/site-packages/scipy/stats/stats.py:1394: UserWarning: kurtosistest only valid for n>=20 ... continuing anyway, n=18\n",
      "  \"anyway, n=%i\" % int(n))\n"
     ]
    },
    {
     "data": {
      "text/html": [
       "<table class=\"simpletable\">\n",
       "<caption>OLS Regression Results</caption>\n",
       "<tr>\n",
       "  <th>Dep. Variable:</th>       <td>n_confinan</td>    <th>  R-squared:         </th> <td>   0.845</td>\n",
       "</tr>\n",
       "<tr>\n",
       "  <th>Model:</th>                   <td>OLS</td>       <th>  Adj. R-squared:    </th> <td>   0.825</td>\n",
       "</tr>\n",
       "<tr>\n",
       "  <th>Method:</th>             <td>Least Squares</td>  <th>  F-statistic:       </th> <td>   41.00</td>\n",
       "</tr>\n",
       "<tr>\n",
       "  <th>Date:</th>             <td>Mon, 13 Aug 2018</td> <th>  Prob (F-statistic):</th> <td>8.32e-07</td>\n",
       "</tr>\n",
       "<tr>\n",
       "  <th>Time:</th>                 <td>15:27:03</td>     <th>  Log-Likelihood:    </th> <td>  26.374</td>\n",
       "</tr>\n",
       "<tr>\n",
       "  <th>No. Observations:</th>      <td>    18</td>      <th>  AIC:               </th> <td>  -46.75</td>\n",
       "</tr>\n",
       "<tr>\n",
       "  <th>Df Residuals:</th>          <td>    15</td>      <th>  BIC:               </th> <td>  -44.08</td>\n",
       "</tr>\n",
       "<tr>\n",
       "  <th>Df Model:</th>              <td>     2</td>      <th>                     </th>     <td> </td>   \n",
       "</tr>\n",
       "<tr>\n",
       "  <th>Covariance Type:</th>      <td>nonrobust</td>    <th>                     </th>     <td> </td>   \n",
       "</tr>\n",
       "</table>\n",
       "<table class=\"simpletable\">\n",
       "<tr>\n",
       "        <td></td>          <th>coef</th>     <th>std err</th>      <th>t</th>      <th>P>|t|</th>  <th>[0.025</th>    <th>0.975]</th>  \n",
       "</tr>\n",
       "<tr>\n",
       "  <th>Intercept</th>    <td>   60.9310</td> <td>    6.647</td> <td>    9.166</td> <td> 0.000</td> <td>   46.763</td> <td>   75.099</td>\n",
       "</tr>\n",
       "<tr>\n",
       "  <th>fulltime_pct</th> <td>    0.0220</td> <td>    0.007</td> <td>    3.339</td> <td> 0.004</td> <td>    0.008</td> <td>    0.036</td>\n",
       "</tr>\n",
       "<tr>\n",
       "  <th>year</th>         <td>   -0.0302</td> <td>    0.003</td> <td>   -8.770</td> <td> 0.000</td> <td>   -0.038</td> <td>   -0.023</td>\n",
       "</tr>\n",
       "</table>\n",
       "<table class=\"simpletable\">\n",
       "<tr>\n",
       "  <th>Omnibus:</th>       <td> 3.603</td> <th>  Durbin-Watson:     </th> <td>   1.475</td>\n",
       "</tr>\n",
       "<tr>\n",
       "  <th>Prob(Omnibus):</th> <td> 0.165</td> <th>  Jarque-Bera (JB):  </th> <td>   2.618</td>\n",
       "</tr>\n",
       "<tr>\n",
       "  <th>Skew:</th>          <td> 0.925</td> <th>  Prob(JB):          </th> <td>   0.270</td>\n",
       "</tr>\n",
       "<tr>\n",
       "  <th>Kurtosis:</th>      <td> 2.744</td> <th>  Cond. No.          </th> <td>9.14e+05</td>\n",
       "</tr>\n",
       "</table><br/><br/>Warnings:<br/>[1] Standard Errors assume that the covariance matrix of the errors is correctly specified.<br/>[2] The condition number is large, 9.14e+05. This might indicate that there are<br/>strong multicollinearity or other numerical problems."
      ],
      "text/plain": [
       "<class 'statsmodels.iolib.summary.Summary'>\n",
       "\"\"\"\n",
       "                            OLS Regression Results                            \n",
       "==============================================================================\n",
       "Dep. Variable:             n_confinan   R-squared:                       0.845\n",
       "Model:                            OLS   Adj. R-squared:                  0.825\n",
       "Method:                 Least Squares   F-statistic:                     41.00\n",
       "Date:                Mon, 13 Aug 2018   Prob (F-statistic):           8.32e-07\n",
       "Time:                        15:27:03   Log-Likelihood:                 26.374\n",
       "No. Observations:                  18   AIC:                            -46.75\n",
       "Df Residuals:                      15   BIC:                            -44.08\n",
       "Df Model:                           2                                         \n",
       "Covariance Type:            nonrobust                                         \n",
       "================================================================================\n",
       "                   coef    std err          t      P>|t|      [0.025      0.975]\n",
       "--------------------------------------------------------------------------------\n",
       "Intercept       60.9310      6.647      9.166      0.000      46.763      75.099\n",
       "fulltime_pct     0.0220      0.007      3.339      0.004       0.008       0.036\n",
       "year            -0.0302      0.003     -8.770      0.000      -0.038      -0.023\n",
       "==============================================================================\n",
       "Omnibus:                        3.603   Durbin-Watson:                   1.475\n",
       "Prob(Omnibus):                  0.165   Jarque-Bera (JB):                2.618\n",
       "Skew:                           0.925   Prob(JB):                        0.270\n",
       "Kurtosis:                       2.744   Cond. No.                     9.14e+05\n",
       "==============================================================================\n",
       "\n",
       "Warnings:\n",
       "[1] Standard Errors assume that the covariance matrix of the errors is correctly specified.\n",
       "[2] The condition number is large, 9.14e+05. This might indicate that there are\n",
       "strong multicollinearity or other numerical problems.\n",
       "\"\"\""
      ]
     },
     "execution_count": 24,
     "metadata": {},
     "output_type": "execute_result"
    }
   ],
   "source": [
    "# (slide 31)\n",
    "\n",
    "lm_confinan2 = smf.ols('n_confinan ~ fulltime_pct + year', data = by_year_ts2).fit()\n",
    "lm_confinan2.summary()"
   ]
  },
  {
   "cell_type": "code",
   "execution_count": 11,
   "metadata": {},
   "outputs": [
    {
     "data": {
      "image/png": "[encoded data removed]",
      "text/plain": [
       "<Figure size 600x400 with 1 Axes>"
      ]
     },
     "metadata": {},
     "output_type": "display_data"
    }
   ],
   "source": [
    "# (slide 32)\n",
    "err2 = lm_confinan2.resid\n",
    "\n",
    "plot_acf(err2, lags = 8, zero = False);"
   ]
  },
  {
   "cell_type": "code",
   "execution_count": 17,
   "metadata": {},
   "outputs": [
    {
     "data": {
      "text/plain": [
       "Text(0,0.5,'error2')"
      ]
     },
     "execution_count": 17,
     "metadata": {},
     "output_type": "execute_result"
    },
    {
     "data": {
      "image/png": "[encoded data removed]",
      "text/plain": [
       "<Figure size 600x400 with 1 Axes>"
      ]
     },
     "metadata": {},
     "output_type": "display_data"
    }
   ],
   "source": [
    "# (slide 35)\n",
    "\n",
    "import pylab\n",
    "pylab.scatter(err2.index, err2)\n",
    "pylab.ylabel('error2')"
   ]
  },
  {
   "cell_type": "code",
   "execution_count": 18,
   "metadata": {},
   "outputs": [
    {
     "data": {
      "text/plain": [
       "1.475495747490274"
      ]
     },
     "execution_count": 18,
     "metadata": {},
     "output_type": "execute_result"
    }
   ],
   "source": [
    "# (slide 36)\n",
    "durbin_watson(err2)"
   ]
  },
  {
   "cell_type": "code",
   "execution_count": 31,
   "metadata": {},
   "outputs": [
    {
     "name": "stdout",
     "output_type": "stream",
     "text": [
      "LM test = 1.3349802982411745\n",
      "p-value = 0.24792114641916022\n"
     ]
    }
   ],
   "source": [
    "lmtest, pval, fval, f_pval = acorr_breusch_godfrey(lm_confinan2, nlags = 1)\n",
    "print('LM test =', lmtest)\n",
    "print('p-value =', pval)"
   ]
  },
  {
   "cell_type": "code",
   "execution_count": 19,
   "metadata": {},
   "outputs": [
    {
     "data": {
      "text/plain": [
       "(0.5641262278076062,\n",
       " 0.7542260808785642,\n",
       " 0.24265756702739885,\n",
       " 0.7875607859152058)"
      ]
     },
     "execution_count": 19,
     "metadata": {},
     "output_type": "execute_result"
    }
   ],
   "source": [
    "sm.stats.diagnostic.het_breuschpagan(lm_confinan2.resid, lm_confinan2.model.exog)"
   ]
  },
  {
   "cell_type": "code",
   "execution_count": 26,
   "metadata": {},
   "outputs": [
    {
     "data": {
      "text/plain": [
       " lag Autocorrelation D-W Statistic p-value\n",
       "   1      0.24031336      1.475496   0.110\n",
       "   2     -0.04599553      1.755263   0.564\n",
       "   3     -0.07821943      1.755780   0.750\n",
       " Alternative hypothesis: rho[lag] != 0\n"
      ]
     },
     "metadata": {},
     "output_type": "display_data"
    }
   ],
   "source": [
    "%%R -i by_year_ts2\n",
    "\n",
    "lm_confinan2_r = lm(n_confinan ~ fulltime_pct + year, data = by_year_ts2)\n",
    "\n",
    "durbinWatsonTest(lm_confinan2_r, max.lag = 3)"
   ]
  },
  {
   "cell_type": "markdown",
   "metadata": {},
   "source": [
    "#### What if we used the data from all years instead of 1992 and earlier\n",
    "(slide 38)"
   ]
  },
  {
   "cell_type": "code",
   "execution_count": 27,
   "metadata": {},
   "outputs": [
    {
     "data": {
      "text/html": [
       "<table class=\"simpletable\">\n",
       "<caption>OLS Regression Results</caption>\n",
       "<tr>\n",
       "  <th>Dep. Variable:</th>       <td>n_confinan</td>    <th>  R-squared:         </th> <td>   0.422</td>\n",
       "</tr>\n",
       "<tr>\n",
       "  <th>Model:</th>                   <td>OLS</td>       <th>  Adj. R-squared:    </th> <td>   0.388</td>\n",
       "</tr>\n",
       "<tr>\n",
       "  <th>Method:</th>             <td>Least Squares</td>  <th>  F-statistic:       </th> <td>   12.42</td>\n",
       "</tr>\n",
       "<tr>\n",
       "  <th>Date:</th>             <td>Mon, 13 Aug 2018</td> <th>  Prob (F-statistic):</th> <td>8.91e-05</td>\n",
       "</tr>\n",
       "<tr>\n",
       "  <th>Time:</th>                 <td>15:28:14</td>     <th>  Log-Likelihood:    </th> <td>  29.024</td>\n",
       "</tr>\n",
       "<tr>\n",
       "  <th>No. Observations:</th>      <td>    37</td>      <th>  AIC:               </th> <td>  -52.05</td>\n",
       "</tr>\n",
       "<tr>\n",
       "  <th>Df Residuals:</th>          <td>    34</td>      <th>  BIC:               </th> <td>  -47.22</td>\n",
       "</tr>\n",
       "<tr>\n",
       "  <th>Df Model:</th>              <td>     2</td>      <th>                     </th>     <td> </td>   \n",
       "</tr>\n",
       "<tr>\n",
       "  <th>Covariance Type:</th>      <td>nonrobust</td>    <th>                     </th>     <td> </td>   \n",
       "</tr>\n",
       "</table>\n",
       "<table class=\"simpletable\">\n",
       "<tr>\n",
       "        <td></td>          <th>coef</th>     <th>std err</th>      <th>t</th>      <th>P>|t|</th>  <th>[0.025</th>    <th>0.975]</th>  \n",
       "</tr>\n",
       "<tr>\n",
       "  <th>Intercept</th>    <td>   20.8888</td> <td>    3.828</td> <td>    5.456</td> <td> 0.000</td> <td>   13.109</td> <td>   28.669</td>\n",
       "</tr>\n",
       "<tr>\n",
       "  <th>fulltime_pct</th> <td>    0.0153</td> <td>    0.006</td> <td>    2.686</td> <td> 0.011</td> <td>    0.004</td> <td>    0.027</td>\n",
       "</tr>\n",
       "<tr>\n",
       "  <th>year</th>         <td>   -0.0098</td> <td>    0.002</td> <td>   -4.960</td> <td> 0.000</td> <td>   -0.014</td> <td>   -0.006</td>\n",
       "</tr>\n",
       "</table>\n",
       "<table class=\"simpletable\">\n",
       "<tr>\n",
       "  <th>Omnibus:</th>       <td> 0.894</td> <th>  Durbin-Watson:     </th> <td>   0.303</td>\n",
       "</tr>\n",
       "<tr>\n",
       "  <th>Prob(Omnibus):</th> <td> 0.640</td> <th>  Jarque-Bera (JB):  </th> <td>   0.899</td>\n",
       "</tr>\n",
       "<tr>\n",
       "  <th>Skew:</th>          <td>-0.333</td> <th>  Prob(JB):          </th> <td>   0.638</td>\n",
       "</tr>\n",
       "<tr>\n",
       "  <th>Kurtosis:</th>      <td> 2.625</td> <th>  Cond. No.          </th> <td>4.03e+05</td>\n",
       "</tr>\n",
       "</table><br/><br/>Warnings:<br/>[1] Standard Errors assume that the covariance matrix of the errors is correctly specified.<br/>[2] The condition number is large, 4.03e+05. This might indicate that there are<br/>strong multicollinearity or other numerical problems."
      ],
      "text/plain": [
       "<class 'statsmodels.iolib.summary.Summary'>\n",
       "\"\"\"\n",
       "                            OLS Regression Results                            \n",
       "==============================================================================\n",
       "Dep. Variable:             n_confinan   R-squared:                       0.422\n",
       "Model:                            OLS   Adj. R-squared:                  0.388\n",
       "Method:                 Least Squares   F-statistic:                     12.42\n",
       "Date:                Mon, 13 Aug 2018   Prob (F-statistic):           8.91e-05\n",
       "Time:                        15:28:14   Log-Likelihood:                 29.024\n",
       "No. Observations:                  37   AIC:                            -52.05\n",
       "Df Residuals:                      34   BIC:                            -47.22\n",
       "Df Model:                           2                                         \n",
       "Covariance Type:            nonrobust                                         \n",
       "================================================================================\n",
       "                   coef    std err          t      P>|t|      [0.025      0.975]\n",
       "--------------------------------------------------------------------------------\n",
       "Intercept       20.8888      3.828      5.456      0.000      13.109      28.669\n",
       "fulltime_pct     0.0153      0.006      2.686      0.011       0.004       0.027\n",
       "year            -0.0098      0.002     -4.960      0.000      -0.014      -0.006\n",
       "==============================================================================\n",
       "Omnibus:                        0.894   Durbin-Watson:                   0.303\n",
       "Prob(Omnibus):                  0.640   Jarque-Bera (JB):                0.899\n",
       "Skew:                          -0.333   Prob(JB):                        0.638\n",
       "Kurtosis:                       2.625   Cond. No.                     4.03e+05\n",
       "==============================================================================\n",
       "\n",
       "Warnings:\n",
       "[1] Standard Errors assume that the covariance matrix of the errors is correctly specified.\n",
       "[2] The condition number is large, 4.03e+05. This might indicate that there are\n",
       "strong multicollinearity or other numerical problems.\n",
       "\"\"\""
      ]
     },
     "execution_count": 27,
     "metadata": {},
     "output_type": "execute_result"
    }
   ],
   "source": [
    "smf.ols('n_confinan ~ fulltime_pct + year', data = by_year_ts).fit().summary()"
   ]
  },
  {
   "cell_type": "markdown",
   "metadata": {},
   "source": [
    "## What if we still have serial correlation in the errors left, even after incorporating the trend variable?"
   ]
  },
  {
   "cell_type": "code",
   "execution_count": 28,
   "metadata": {},
   "outputs": [
    {
     "name": "stderr",
     "output_type": "stream",
     "text": [
      "/Users/melindasong/anaconda/envs/py36/lib/python3.6/site-packages/scipy/stats/stats.py:1394: UserWarning: kurtosistest only valid for n>=20 ... continuing anyway, n=18\n",
      "  \"anyway, n=%i\" % int(n))\n"
     ]
    },
    {
     "data": {
      "text/html": [
       "<table class=\"simpletable\">\n",
       "<caption>OLS Regression Results</caption>\n",
       "<tr>\n",
       "  <th>Dep. Variable:</th>       <td>n_confinan</td>    <th>  R-squared:         </th> <td>   0.855</td>\n",
       "</tr>\n",
       "<tr>\n",
       "  <th>Model:</th>                   <td>OLS</td>       <th>  Adj. R-squared:    </th> <td>   0.811</td>\n",
       "</tr>\n",
       "<tr>\n",
       "  <th>Method:</th>             <td>Least Squares</td>  <th>  F-statistic:       </th> <td>   19.23</td>\n",
       "</tr>\n",
       "<tr>\n",
       "  <th>Date:</th>             <td>Mon, 13 Aug 2018</td> <th>  Prob (F-statistic):</th> <td>2.28e-05</td>\n",
       "</tr>\n",
       "<tr>\n",
       "  <th>Time:</th>                 <td>15:28:19</td>     <th>  Log-Likelihood:    </th> <td>  26.980</td>\n",
       "</tr>\n",
       "<tr>\n",
       "  <th>No. Observations:</th>      <td>    18</td>      <th>  AIC:               </th> <td>  -43.96</td>\n",
       "</tr>\n",
       "<tr>\n",
       "  <th>Df Residuals:</th>          <td>    13</td>      <th>  BIC:               </th> <td>  -39.51</td>\n",
       "</tr>\n",
       "<tr>\n",
       "  <th>Df Model:</th>              <td>     4</td>      <th>                     </th>     <td> </td>   \n",
       "</tr>\n",
       "<tr>\n",
       "  <th>Covariance Type:</th>      <td>nonrobust</td>    <th>                     </th>     <td> </td>   \n",
       "</tr>\n",
       "</table>\n",
       "<table class=\"simpletable\">\n",
       "<tr>\n",
       "         <td></td>           <th>coef</th>     <th>std err</th>      <th>t</th>      <th>P>|t|</th>  <th>[0.025</th>    <th>0.975]</th>  \n",
       "</tr>\n",
       "<tr>\n",
       "  <th>Intercept</th>      <td>   63.8249</td> <td>   19.067</td> <td>    3.347</td> <td> 0.005</td> <td>   22.632</td> <td>  105.018</td>\n",
       "</tr>\n",
       "<tr>\n",
       "  <th>fulltime_pct</th>   <td>    0.0223</td> <td>    0.007</td> <td>    3.239</td> <td> 0.006</td> <td>    0.007</td> <td>    0.037</td>\n",
       "</tr>\n",
       "<tr>\n",
       "  <th>year</th>           <td>   -0.0317</td> <td>    0.010</td> <td>   -3.235</td> <td> 0.007</td> <td>   -0.053</td> <td>   -0.011</td>\n",
       "</tr>\n",
       "<tr>\n",
       "  <th>repub_pct</th>      <td>   -0.0101</td> <td>    0.015</td> <td>   -0.657</td> <td> 0.522</td> <td>   -0.043</td> <td>    0.023</td>\n",
       "</tr>\n",
       "<tr>\n",
       "  <th>degreelt50_pct</th> <td>    0.0144</td> <td>    0.020</td> <td>    0.710</td> <td> 0.490</td> <td>   -0.029</td> <td>    0.058</td>\n",
       "</tr>\n",
       "</table>\n",
       "<table class=\"simpletable\">\n",
       "<tr>\n",
       "  <th>Omnibus:</th>       <td> 2.687</td> <th>  Durbin-Watson:     </th> <td>   1.537</td>\n",
       "</tr>\n",
       "<tr>\n",
       "  <th>Prob(Omnibus):</th> <td> 0.261</td> <th>  Jarque-Bera (JB):  </th> <td>   2.110</td>\n",
       "</tr>\n",
       "<tr>\n",
       "  <th>Skew:</th>          <td> 0.797</td> <th>  Prob(JB):          </th> <td>   0.348</td>\n",
       "</tr>\n",
       "<tr>\n",
       "  <th>Kurtosis:</th>      <td> 2.476</td> <th>  Cond. No.          </th> <td>2.52e+06</td>\n",
       "</tr>\n",
       "</table><br/><br/>Warnings:<br/>[1] Standard Errors assume that the covariance matrix of the errors is correctly specified.<br/>[2] The condition number is large, 2.52e+06. This might indicate that there are<br/>strong multicollinearity or other numerical problems."
      ],
      "text/plain": [
       "<class 'statsmodels.iolib.summary.Summary'>\n",
       "\"\"\"\n",
       "                            OLS Regression Results                            \n",
       "==============================================================================\n",
       "Dep. Variable:             n_confinan   R-squared:                       0.855\n",
       "Model:                            OLS   Adj. R-squared:                  0.811\n",
       "Method:                 Least Squares   F-statistic:                     19.23\n",
       "Date:                Mon, 13 Aug 2018   Prob (F-statistic):           2.28e-05\n",
       "Time:                        15:28:19   Log-Likelihood:                 26.980\n",
       "No. Observations:                  18   AIC:                            -43.96\n",
       "Df Residuals:                      13   BIC:                            -39.51\n",
       "Df Model:                           4                                         \n",
       "Covariance Type:            nonrobust                                         \n",
       "==================================================================================\n",
       "                     coef    std err          t      P>|t|      [0.025      0.975]\n",
       "----------------------------------------------------------------------------------\n",
       "Intercept         63.8249     19.067      3.347      0.005      22.632     105.018\n",
       "fulltime_pct       0.0223      0.007      3.239      0.006       0.007       0.037\n",
       "year              -0.0317      0.010     -3.235      0.007      -0.053      -0.011\n",
       "repub_pct         -0.0101      0.015     -0.657      0.522      -0.043       0.023\n",
       "degreelt50_pct     0.0144      0.020      0.710      0.490      -0.029       0.058\n",
       "==============================================================================\n",
       "Omnibus:                        2.687   Durbin-Watson:                   1.537\n",
       "Prob(Omnibus):                  0.261   Jarque-Bera (JB):                2.110\n",
       "Skew:                           0.797   Prob(JB):                        0.348\n",
       "Kurtosis:                       2.476   Cond. No.                     2.52e+06\n",
       "==============================================================================\n",
       "\n",
       "Warnings:\n",
       "[1] Standard Errors assume that the covariance matrix of the errors is correctly specified.\n",
       "[2] The condition number is large, 2.52e+06. This might indicate that there are\n",
       "strong multicollinearity or other numerical problems.\n",
       "\"\"\""
      ]
     },
     "execution_count": 28,
     "metadata": {},
     "output_type": "execute_result"
    }
   ],
   "source": [
    "# (slide 42)\n",
    "\n",
    "lm_confinan3 = smf.ols('n_confinan ~ fulltime_pct + year + repub_pct + degreelt50_pct', \n",
    "                       data = by_year_ts2).fit()\n",
    "lm_confinan3.summary()"
   ]
  },
  {
   "cell_type": "markdown",
   "metadata": {},
   "source": [
    "#### Looking into the variance inflation factors (VIFs)\n",
    "(slide 43)\n",
    "\n",
    "The `statsmodel` module provides a function that calculates the variance inflation factors, which requires a design matrix with all the explanatory variables. We can construct this design matrix using the `dmatrices` function from `patsy`."
   ]
  },
  {
   "cell_type": "code",
   "execution_count": 59,
   "metadata": {},
   "outputs": [],
   "source": [
    "from patsy import dmatrices\n",
    "y, X = dmatrices('n_confinan ~ fulltime_pct + year_int + repub_pct + degreelt50_pct', \n",
    "                 data = by_year_ts, return_type = 'dataframe')"
   ]
  },
  {
   "cell_type": "code",
   "execution_count": 62,
   "metadata": {},
   "outputs": [
    {
     "data": {
      "text/html": [
       "<div>\n",
       "<style scoped>\n",
       "    .dataframe tbody tr th:only-of-type {\n",
       "        vertical-align: middle;\n",
       "    }\n",
       "\n",
       "    .dataframe tbody tr th {\n",
       "        vertical-align: top;\n",
       "    }\n",
       "\n",
       "    .dataframe thead th {\n",
       "        text-align: right;\n",
       "    }\n",
       "</style>\n",
       "<table border=\"1\" class=\"dataframe\">\n",
       "  <thead>\n",
       "    <tr style=\"text-align: right;\">\n",
       "      <th></th>\n",
       "      <th>VIF Factor</th>\n",
       "      <th>features</th>\n",
       "    </tr>\n",
       "  </thead>\n",
       "  <tbody>\n",
       "    <tr>\n",
       "      <th>0</th>\n",
       "      <td>1.617823e+06</td>\n",
       "      <td>Intercept</td>\n",
       "    </tr>\n",
       "    <tr>\n",
       "      <th>1</th>\n",
       "      <td>1.546214e+00</td>\n",
       "      <td>fulltime_pct</td>\n",
       "    </tr>\n",
       "    <tr>\n",
       "      <th>2</th>\n",
       "      <td>1.149002e+01</td>\n",
       "      <td>year_int</td>\n",
       "    </tr>\n",
       "    <tr>\n",
       "      <th>3</th>\n",
       "      <td>4.712469e+00</td>\n",
       "      <td>repub_pct</td>\n",
       "    </tr>\n",
       "    <tr>\n",
       "      <th>4</th>\n",
       "      <td>7.135015e+00</td>\n",
       "      <td>degreelt50_pct</td>\n",
       "    </tr>\n",
       "  </tbody>\n",
       "</table>\n",
       "</div>"
      ],
      "text/plain": [
       "     VIF Factor        features\n",
       "0  1.617823e+06       Intercept\n",
       "1  1.546214e+00    fulltime_pct\n",
       "2  1.149002e+01        year_int\n",
       "3  4.712469e+00       repub_pct\n",
       "4  7.135015e+00  degreelt50_pct"
      ]
     },
     "execution_count": 62,
     "metadata": {},
     "output_type": "execute_result"
    }
   ],
   "source": [
    "from statsmodels.stats.outliers_influence import variance_inflation_factor\n",
    "\n",
    "vif = pd.DataFrame()\n",
    "vif['VIF Factor'] = [variance_inflation_factor(X.values, i) for i in range(X.shape[1])]\n",
    "vif['features'] = X.columns\n",
    "vif"
   ]
  },
  {
   "cell_type": "markdown",
   "metadata": {},
   "source": [
    "#### Autocorrelation tests\n",
    "(slide 45)"
   ]
  },
  {
   "cell_type": "code",
   "execution_count": 30,
   "metadata": {},
   "outputs": [
    {
     "data": {
      "text/plain": [
       " lag Autocorrelation D-W Statistic p-value\n",
       "   1      0.19572438      1.536660   0.146\n",
       "   2     -0.09059041      1.838454   0.878\n",
       " Alternative hypothesis: rho[lag] != 0\n"
      ]
     },
     "metadata": {},
     "output_type": "display_data"
    }
   ],
   "source": [
    "%%R -i by_year_ts2\n",
    "\n",
    "# refit the model using lm function from R\n",
    "lm_confinan3_r = lm(n_confinan ~ fulltime_pct + year + repub_pct + degreelt50_pct, data = by_year_ts2)\n",
    "\n",
    "# pass the model to function\n",
    "durbinWatsonTest(lm_confinan3_r, max.lag=2)"
   ]
  },
  {
   "cell_type": "code",
   "execution_count": 125,
   "metadata": {},
   "outputs": [
    {
     "data": {
      "text/html": [
       "<table class=\"simpletable\">\n",
       "<caption>OLS Regression Results</caption>\n",
       "<tr>\n",
       "  <th>Dep. Variable:</th>       <td>n_confinan</td>    <th>  R-squared:         </th> <td>   0.589</td>\n",
       "</tr>\n",
       "<tr>\n",
       "  <th>Model:</th>                   <td>OLS</td>       <th>  Adj. R-squared:    </th> <td>   0.538</td>\n",
       "</tr>\n",
       "<tr>\n",
       "  <th>Method:</th>             <td>Least Squares</td>  <th>  F-statistic:       </th> <td>   11.47</td>\n",
       "</tr>\n",
       "<tr>\n",
       "  <th>Date:</th>             <td>Sat, 21 Jul 2018</td> <th>  Prob (F-statistic):</th> <td>6.86e-06</td>\n",
       "</tr>\n",
       "<tr>\n",
       "  <th>Time:</th>                 <td>13:35:16</td>     <th>  Log-Likelihood:    </th> <td>  35.333</td>\n",
       "</tr>\n",
       "<tr>\n",
       "  <th>No. Observations:</th>      <td>    37</td>      <th>  AIC:               </th> <td>  -60.67</td>\n",
       "</tr>\n",
       "<tr>\n",
       "  <th>Df Residuals:</th>          <td>    32</td>      <th>  BIC:               </th> <td>  -52.61</td>\n",
       "</tr>\n",
       "<tr>\n",
       "  <th>Df Model:</th>              <td>     4</td>      <th>                     </th>     <td> </td>   \n",
       "</tr>\n",
       "<tr>\n",
       "  <th>Covariance Type:</th>      <td>nonrobust</td>    <th>                     </th>     <td> </td>   \n",
       "</tr>\n",
       "</table>\n",
       "<table class=\"simpletable\">\n",
       "<tr>\n",
       "         <td></td>           <th>coef</th>     <th>std err</th>      <th>t</th>      <th>P>|t|</th>  <th>[0.025</th>    <th>0.975]</th>  \n",
       "</tr>\n",
       "<tr>\n",
       "  <th>Intercept</th>      <td>    6.0746</td> <td>    5.346</td> <td>    1.136</td> <td> 0.264</td> <td>   -4.816</td> <td>   16.965</td>\n",
       "</tr>\n",
       "<tr>\n",
       "  <th>fulltime_pct</th>   <td>    0.0294</td> <td>    0.006</td> <td>    4.608</td> <td> 0.000</td> <td>    0.016</td> <td>    0.042</td>\n",
       "</tr>\n",
       "<tr>\n",
       "  <th>year</th>           <td>   -0.0024</td> <td>    0.003</td> <td>   -0.867</td> <td> 0.392</td> <td>   -0.008</td> <td>    0.003</td>\n",
       "</tr>\n",
       "<tr>\n",
       "  <th>repub_pct</th>      <td>   -0.0106</td> <td>    0.015</td> <td>   -0.720</td> <td> 0.477</td> <td>   -0.041</td> <td>    0.019</td>\n",
       "</tr>\n",
       "<tr>\n",
       "  <th>degreelt50_pct</th> <td>   -0.0455</td> <td>    0.017</td> <td>   -2.755</td> <td> 0.010</td> <td>   -0.079</td> <td>   -0.012</td>\n",
       "</tr>\n",
       "</table>\n",
       "<table class=\"simpletable\">\n",
       "<tr>\n",
       "  <th>Omnibus:</th>       <td> 4.199</td> <th>  Durbin-Watson:     </th> <td>   0.666</td>\n",
       "</tr>\n",
       "<tr>\n",
       "  <th>Prob(Omnibus):</th> <td> 0.123</td> <th>  Jarque-Bera (JB):  </th> <td>   3.213</td>\n",
       "</tr>\n",
       "<tr>\n",
       "  <th>Skew:</th>          <td> 0.714</td> <th>  Prob(JB):          </th> <td>   0.201</td>\n",
       "</tr>\n",
       "<tr>\n",
       "  <th>Kurtosis:</th>      <td> 3.207</td> <th>  Cond. No.          </th> <td>6.48e+05</td>\n",
       "</tr>\n",
       "</table><br/><br/>Warnings:<br/>[1] Standard Errors assume that the covariance matrix of the errors is correctly specified.<br/>[2] The condition number is large, 6.48e+05. This might indicate that there are<br/>strong multicollinearity or other numerical problems."
      ],
      "text/plain": [
       "<class 'statsmodels.iolib.summary.Summary'>\n",
       "\"\"\"\n",
       "                            OLS Regression Results                            \n",
       "==============================================================================\n",
       "Dep. Variable:             n_confinan   R-squared:                       0.589\n",
       "Model:                            OLS   Adj. R-squared:                  0.538\n",
       "Method:                 Least Squares   F-statistic:                     11.47\n",
       "Date:                Sat, 21 Jul 2018   Prob (F-statistic):           6.86e-06\n",
       "Time:                        13:35:16   Log-Likelihood:                 35.333\n",
       "No. Observations:                  37   AIC:                            -60.67\n",
       "Df Residuals:                      32   BIC:                            -52.61\n",
       "Df Model:                           4                                         \n",
       "Covariance Type:            nonrobust                                         \n",
       "==================================================================================\n",
       "                     coef    std err          t      P>|t|      [0.025      0.975]\n",
       "----------------------------------------------------------------------------------\n",
       "Intercept          6.0746      5.346      1.136      0.264      -4.816      16.965\n",
       "fulltime_pct       0.0294      0.006      4.608      0.000       0.016       0.042\n",
       "year              -0.0024      0.003     -0.867      0.392      -0.008       0.003\n",
       "repub_pct         -0.0106      0.015     -0.720      0.477      -0.041       0.019\n",
       "degreelt50_pct    -0.0455      0.017     -2.755      0.010      -0.079      -0.012\n",
       "==============================================================================\n",
       "Omnibus:                        4.199   Durbin-Watson:                   0.666\n",
       "Prob(Omnibus):                  0.123   Jarque-Bera (JB):                3.213\n",
       "Skew:                           0.714   Prob(JB):                        0.201\n",
       "Kurtosis:                       3.207   Cond. No.                     6.48e+05\n",
       "==============================================================================\n",
       "\n",
       "Warnings:\n",
       "[1] Standard Errors assume that the covariance matrix of the errors is correctly specified.\n",
       "[2] The condition number is large, 6.48e+05. This might indicate that there are\n",
       "strong multicollinearity or other numerical problems.\n",
       "\"\"\""
      ]
     },
     "execution_count": 125,
     "metadata": {},
     "output_type": "execute_result"
    }
   ],
   "source": [
    "# (slide 49)\n",
    "smf.ols('n_confinan ~ fulltime_pct + year + repub_pct + degreelt50_pct', data = by_year_ts).fit().summary()"
   ]
  },
  {
   "cell_type": "markdown",
   "metadata": {},
   "source": [
    "<br>\n",
    "\n",
    "From the tests above, it seems like we don't have serial correlation in our errors."
   ]
  },
  {
   "cell_type": "markdown",
   "metadata": {},
   "source": [
    "## But what should we do if we found serial correlation?"
   ]
  },
  {
   "cell_type": "markdown",
   "metadata": {},
   "source": [
    "### Solution #1: apply autocorrelation-robust standard errors\n",
    "(slide 54)"
   ]
  },
  {
   "cell_type": "code",
   "execution_count": 129,
   "metadata": {},
   "outputs": [
    {
     "name": "stderr",
     "output_type": "stream",
     "text": [
      "/Users/melindasong/anaconda/lib/python3.5/site-packages/scipy/stats/stats.py:1390: UserWarning: kurtosistest only valid for n>=20 ... continuing anyway, n=18\n",
      "  \"anyway, n=%i\" % int(n))\n"
     ]
    },
    {
     "data": {
      "text/html": [
       "<table class=\"simpletable\">\n",
       "<caption>OLS Regression Results</caption>\n",
       "<tr>\n",
       "  <th>Dep. Variable:</th>       <td>n_confinan</td>    <th>  R-squared:         </th> <td>   0.855</td>\n",
       "</tr>\n",
       "<tr>\n",
       "  <th>Model:</th>                   <td>OLS</td>       <th>  Adj. R-squared:    </th> <td>   0.811</td>\n",
       "</tr>\n",
       "<tr>\n",
       "  <th>Method:</th>             <td>Least Squares</td>  <th>  F-statistic:       </th> <td>   21.41</td>\n",
       "</tr>\n",
       "<tr>\n",
       "  <th>Date:</th>             <td>Sat, 21 Jul 2018</td> <th>  Prob (F-statistic):</th> <td>1.26e-05</td>\n",
       "</tr>\n",
       "<tr>\n",
       "  <th>Time:</th>                 <td>13:41:27</td>     <th>  Log-Likelihood:    </th> <td>  26.980</td>\n",
       "</tr>\n",
       "<tr>\n",
       "  <th>No. Observations:</th>      <td>    18</td>      <th>  AIC:               </th> <td>  -43.96</td>\n",
       "</tr>\n",
       "<tr>\n",
       "  <th>Df Residuals:</th>          <td>    13</td>      <th>  BIC:               </th> <td>  -39.51</td>\n",
       "</tr>\n",
       "<tr>\n",
       "  <th>Df Model:</th>              <td>     4</td>      <th>                     </th>     <td> </td>   \n",
       "</tr>\n",
       "<tr>\n",
       "  <th>Covariance Type:</th>         <td>HAC</td>       <th>                     </th>     <td> </td>   \n",
       "</tr>\n",
       "</table>\n",
       "<table class=\"simpletable\">\n",
       "<tr>\n",
       "         <td></td>           <th>coef</th>     <th>std err</th>      <th>t</th>      <th>P>|t|</th>  <th>[0.025</th>    <th>0.975]</th>  \n",
       "</tr>\n",
       "<tr>\n",
       "  <th>Intercept</th>      <td>   63.8249</td> <td>   15.903</td> <td>    4.013</td> <td> 0.001</td> <td>   29.468</td> <td>   98.182</td>\n",
       "</tr>\n",
       "<tr>\n",
       "  <th>fulltime_pct</th>   <td>    0.0223</td> <td>    0.007</td> <td>    3.327</td> <td> 0.005</td> <td>    0.008</td> <td>    0.037</td>\n",
       "</tr>\n",
       "<tr>\n",
       "  <th>year</th>           <td>   -0.0317</td> <td>    0.008</td> <td>   -3.885</td> <td> 0.002</td> <td>   -0.049</td> <td>   -0.014</td>\n",
       "</tr>\n",
       "<tr>\n",
       "  <th>repub_pct</th>      <td>   -0.0101</td> <td>    0.017</td> <td>   -0.589</td> <td> 0.566</td> <td>   -0.047</td> <td>    0.027</td>\n",
       "</tr>\n",
       "<tr>\n",
       "  <th>degreelt50_pct</th> <td>    0.0144</td> <td>    0.009</td> <td>    1.549</td> <td> 0.145</td> <td>   -0.006</td> <td>    0.035</td>\n",
       "</tr>\n",
       "</table>\n",
       "<table class=\"simpletable\">\n",
       "<tr>\n",
       "  <th>Omnibus:</th>       <td> 2.687</td> <th>  Durbin-Watson:     </th> <td>   1.537</td>\n",
       "</tr>\n",
       "<tr>\n",
       "  <th>Prob(Omnibus):</th> <td> 0.261</td> <th>  Jarque-Bera (JB):  </th> <td>   2.110</td>\n",
       "</tr>\n",
       "<tr>\n",
       "  <th>Skew:</th>          <td> 0.797</td> <th>  Prob(JB):          </th> <td>   0.348</td>\n",
       "</tr>\n",
       "<tr>\n",
       "  <th>Kurtosis:</th>      <td> 2.476</td> <th>  Cond. No.          </th> <td>2.52e+06</td>\n",
       "</tr>\n",
       "</table><br/><br/>Warnings:<br/>[1] Standard Errors are heteroscedasticity and autocorrelation robust (HAC) using 1 lags and without small sample correction<br/>[2] The condition number is large, 2.52e+06. This might indicate that there are<br/>strong multicollinearity or other numerical problems."
      ],
      "text/plain": [
       "<class 'statsmodels.iolib.summary.Summary'>\n",
       "\"\"\"\n",
       "                            OLS Regression Results                            \n",
       "==============================================================================\n",
       "Dep. Variable:             n_confinan   R-squared:                       0.855\n",
       "Model:                            OLS   Adj. R-squared:                  0.811\n",
       "Method:                 Least Squares   F-statistic:                     21.41\n",
       "Date:                Sat, 21 Jul 2018   Prob (F-statistic):           1.26e-05\n",
       "Time:                        13:41:27   Log-Likelihood:                 26.980\n",
       "No. Observations:                  18   AIC:                            -43.96\n",
       "Df Residuals:                      13   BIC:                            -39.51\n",
       "Df Model:                           4                                         \n",
       "Covariance Type:                  HAC                                         \n",
       "==================================================================================\n",
       "                     coef    std err          t      P>|t|      [0.025      0.975]\n",
       "----------------------------------------------------------------------------------\n",
       "Intercept         63.8249     15.903      4.013      0.001      29.468      98.182\n",
       "fulltime_pct       0.0223      0.007      3.327      0.005       0.008       0.037\n",
       "year              -0.0317      0.008     -3.885      0.002      -0.049      -0.014\n",
       "repub_pct         -0.0101      0.017     -0.589      0.566      -0.047       0.027\n",
       "degreelt50_pct     0.0144      0.009      1.549      0.145      -0.006       0.035\n",
       "==============================================================================\n",
       "Omnibus:                        2.687   Durbin-Watson:                   1.537\n",
       "Prob(Omnibus):                  0.261   Jarque-Bera (JB):                2.110\n",
       "Skew:                           0.797   Prob(JB):                        0.348\n",
       "Kurtosis:                       2.476   Cond. No.                     2.52e+06\n",
       "==============================================================================\n",
       "\n",
       "Warnings:\n",
       "[1] Standard Errors are heteroscedasticity and autocorrelation robust (HAC) using 1 lags and without small sample correction\n",
       "[2] The condition number is large, 2.52e+06. This might indicate that there are\n",
       "strong multicollinearity or other numerical problems.\n",
       "\"\"\""
      ]
     },
     "execution_count": 129,
     "metadata": {},
     "output_type": "execute_result"
    }
   ],
   "source": [
    "lm_confinan3.get_robustcov_results(cov_type = 'HAC', maxlags=1).summary()"
   ]
  },
  {
   "cell_type": "markdown",
   "metadata": {},
   "source": [
    "### Solution #2: Take the first differences of your equation instead of the levels\n",
    "(slide 57)"
   ]
  },
  {
   "cell_type": "code",
   "execution_count": 13,
   "metadata": {},
   "outputs": [],
   "source": [
    "by_yearFD = pd.DataFrame()\n",
    "\n",
    "# grab the variables from by_year_ts2 that we want to take the first differences of\n",
    "by_yearFD = by_year_ts[['n_confinan', 'fulltime_pct', 'repub_pct', 'degreelt50_pct']]\n",
    "by_yearFD = by_yearFD.diff()\n",
    "\n",
    "by_yearFD['year'] = by_year_ts['year']"
   ]
  },
  {
   "cell_type": "code",
   "execution_count": 160,
   "metadata": {},
   "outputs": [
    {
     "data": {
      "text/html": [
       "<div>\n",
       "<style scoped>\n",
       "    .dataframe tbody tr th:only-of-type {\n",
       "        vertical-align: middle;\n",
       "    }\n",
       "\n",
       "    .dataframe tbody tr th {\n",
       "        vertical-align: top;\n",
       "    }\n",
       "\n",
       "    .dataframe thead th {\n",
       "        text-align: right;\n",
       "    }\n",
       "</style>\n",
       "<table border=\"1\" class=\"dataframe\">\n",
       "  <thead>\n",
       "    <tr style=\"text-align: right;\">\n",
       "      <th></th>\n",
       "      <th>n_confinan</th>\n",
       "      <th>fulltime_pct</th>\n",
       "      <th>repub_pct</th>\n",
       "      <th>degreelt50_pct</th>\n",
       "      <th>year</th>\n",
       "    </tr>\n",
       "    <tr>\n",
       "      <th>year</th>\n",
       "      <th></th>\n",
       "      <th></th>\n",
       "      <th></th>\n",
       "      <th></th>\n",
       "      <th></th>\n",
       "    </tr>\n",
       "  </thead>\n",
       "  <tbody>\n",
       "    <tr>\n",
       "      <th>1972-01-01</th>\n",
       "      <td>NaN</td>\n",
       "      <td>NaN</td>\n",
       "      <td>NaN</td>\n",
       "      <td>NaN</td>\n",
       "      <td>1972</td>\n",
       "    </tr>\n",
       "    <tr>\n",
       "      <th>1973-01-01</th>\n",
       "      <td>NaN</td>\n",
       "      <td>-3.212636</td>\n",
       "      <td>0.211257</td>\n",
       "      <td>2.081904</td>\n",
       "      <td>1973</td>\n",
       "    </tr>\n",
       "    <tr>\n",
       "      <th>1974-01-01</th>\n",
       "      <td>NaN</td>\n",
       "      <td>-0.494817</td>\n",
       "      <td>-0.912392</td>\n",
       "      <td>0.535141</td>\n",
       "      <td>1974</td>\n",
       "    </tr>\n",
       "    <tr>\n",
       "      <th>1975-01-01</th>\n",
       "      <td>NaN</td>\n",
       "      <td>-1.044791</td>\n",
       "      <td>-4.341160</td>\n",
       "      <td>-0.376816</td>\n",
       "      <td>1975</td>\n",
       "    </tr>\n",
       "    <tr>\n",
       "      <th>1976-01-01</th>\n",
       "      <td>0.088203</td>\n",
       "      <td>-0.450770</td>\n",
       "      <td>-0.375866</td>\n",
       "      <td>0.274322</td>\n",
       "      <td>1976</td>\n",
       "    </tr>\n",
       "  </tbody>\n",
       "</table>\n",
       "</div>"
      ],
      "text/plain": [
       "            n_confinan  fulltime_pct  repub_pct  degreelt50_pct  year\n",
       "year                                                                 \n",
       "1972-01-01         NaN           NaN        NaN             NaN  1972\n",
       "1973-01-01         NaN     -3.212636   0.211257        2.081904  1973\n",
       "1974-01-01         NaN     -0.494817  -0.912392        0.535141  1974\n",
       "1975-01-01         NaN     -1.044791  -4.341160       -0.376816  1975\n",
       "1976-01-01    0.088203     -0.450770  -0.375866        0.274322  1976"
      ]
     },
     "execution_count": 160,
     "metadata": {},
     "output_type": "execute_result"
    }
   ],
   "source": [
    "by_yearFD.head()"
   ]
  },
  {
   "cell_type": "code",
   "execution_count": 14,
   "metadata": {},
   "outputs": [],
   "source": [
    "by_yearFD2 = by_yearFD[by_yearFD['year']<=1992]"
   ]
  },
  {
   "cell_type": "code",
   "execution_count": 15,
   "metadata": {},
   "outputs": [
    {
     "name": "stderr",
     "output_type": "stream",
     "text": [
      "/Users/melindasong/anaconda/lib/python3.5/site-packages/scipy/stats/stats.py:1390: UserWarning: kurtosistest only valid for n>=20 ... continuing anyway, n=17\n",
      "  \"anyway, n=%i\" % int(n))\n"
     ]
    },
    {
     "data": {
      "text/html": [
       "<table class=\"simpletable\">\n",
       "<caption>OLS Regression Results</caption>\n",
       "<tr>\n",
       "  <th>Dep. Variable:</th>       <td>n_confinan</td>    <th>  R-squared:         </th> <td>   0.429</td>\n",
       "</tr>\n",
       "<tr>\n",
       "  <th>Model:</th>                   <td>OLS</td>       <th>  Adj. R-squared:    </th> <td>   0.239</td>\n",
       "</tr>\n",
       "<tr>\n",
       "  <th>Method:</th>             <td>Least Squares</td>  <th>  F-statistic:       </th> <td>   2.253</td>\n",
       "</tr>\n",
       "<tr>\n",
       "  <th>Date:</th>             <td>Fri, 10 Aug 2018</td> <th>  Prob (F-statistic):</th>  <td> 0.124</td> \n",
       "</tr>\n",
       "<tr>\n",
       "  <th>Time:</th>                 <td>15:24:11</td>     <th>  Log-Likelihood:    </th> <td>  22.701</td>\n",
       "</tr>\n",
       "<tr>\n",
       "  <th>No. Observations:</th>      <td>    17</td>      <th>  AIC:               </th> <td>  -35.40</td>\n",
       "</tr>\n",
       "<tr>\n",
       "  <th>Df Residuals:</th>          <td>    12</td>      <th>  BIC:               </th> <td>  -31.24</td>\n",
       "</tr>\n",
       "<tr>\n",
       "  <th>Df Model:</th>              <td>     4</td>      <th>                     </th>     <td> </td>   \n",
       "</tr>\n",
       "<tr>\n",
       "  <th>Covariance Type:</th>      <td>nonrobust</td>    <th>                     </th>     <td> </td>   \n",
       "</tr>\n",
       "</table>\n",
       "<table class=\"simpletable\">\n",
       "<tr>\n",
       "         <td></td>           <th>coef</th>     <th>std err</th>      <th>t</th>      <th>P>|t|</th>  <th>[0.025</th>    <th>0.975]</th>  \n",
       "</tr>\n",
       "<tr>\n",
       "  <th>Intercept</th>      <td>    3.9401</td> <td>    7.613</td> <td>    0.518</td> <td> 0.614</td> <td>  -12.647</td> <td>   20.527</td>\n",
       "</tr>\n",
       "<tr>\n",
       "  <th>fulltime_pct</th>   <td>    0.0155</td> <td>    0.006</td> <td>    2.545</td> <td> 0.026</td> <td>    0.002</td> <td>    0.029</td>\n",
       "</tr>\n",
       "<tr>\n",
       "  <th>year</th>           <td>   -0.0020</td> <td>    0.004</td> <td>   -0.520</td> <td> 0.612</td> <td>   -0.010</td> <td>    0.006</td>\n",
       "</tr>\n",
       "<tr>\n",
       "  <th>repub_pct</th>      <td>   -0.0152</td> <td>    0.014</td> <td>   -1.095</td> <td> 0.295</td> <td>   -0.045</td> <td>    0.015</td>\n",
       "</tr>\n",
       "<tr>\n",
       "  <th>degreelt50_pct</th> <td>   -0.0042</td> <td>    0.021</td> <td>   -0.199</td> <td> 0.846</td> <td>   -0.050</td> <td>    0.042</td>\n",
       "</tr>\n",
       "</table>\n",
       "<table class=\"simpletable\">\n",
       "<tr>\n",
       "  <th>Omnibus:</th>       <td> 0.610</td> <th>  Durbin-Watson:     </th> <td>   2.086</td>\n",
       "</tr>\n",
       "<tr>\n",
       "  <th>Prob(Omnibus):</th> <td> 0.737</td> <th>  Jarque-Bera (JB):  </th> <td>   0.662</td>\n",
       "</tr>\n",
       "<tr>\n",
       "  <th>Skew:</th>          <td> 0.306</td> <th>  Prob(JB):          </th> <td>   0.718</td>\n",
       "</tr>\n",
       "<tr>\n",
       "  <th>Kurtosis:</th>      <td> 2.252</td> <th>  Cond. No.          </th> <td>8.22e+05</td>\n",
       "</tr>\n",
       "</table><br/><br/>Warnings:<br/>[1] Standard Errors assume that the covariance matrix of the errors is correctly specified.<br/>[2] The condition number is large, 8.22e+05. This might indicate that there are<br/>strong multicollinearity or other numerical problems."
      ],
      "text/plain": [
       "<class 'statsmodels.iolib.summary.Summary'>\n",
       "\"\"\"\n",
       "                            OLS Regression Results                            \n",
       "==============================================================================\n",
       "Dep. Variable:             n_confinan   R-squared:                       0.429\n",
       "Model:                            OLS   Adj. R-squared:                  0.239\n",
       "Method:                 Least Squares   F-statistic:                     2.253\n",
       "Date:                Fri, 10 Aug 2018   Prob (F-statistic):              0.124\n",
       "Time:                        15:24:11   Log-Likelihood:                 22.701\n",
       "No. Observations:                  17   AIC:                            -35.40\n",
       "Df Residuals:                      12   BIC:                            -31.24\n",
       "Df Model:                           4                                         \n",
       "Covariance Type:            nonrobust                                         \n",
       "==================================================================================\n",
       "                     coef    std err          t      P>|t|      [0.025      0.975]\n",
       "----------------------------------------------------------------------------------\n",
       "Intercept          3.9401      7.613      0.518      0.614     -12.647      20.527\n",
       "fulltime_pct       0.0155      0.006      2.545      0.026       0.002       0.029\n",
       "year              -0.0020      0.004     -0.520      0.612      -0.010       0.006\n",
       "repub_pct         -0.0152      0.014     -1.095      0.295      -0.045       0.015\n",
       "degreelt50_pct    -0.0042      0.021     -0.199      0.846      -0.050       0.042\n",
       "==============================================================================\n",
       "Omnibus:                        0.610   Durbin-Watson:                   2.086\n",
       "Prob(Omnibus):                  0.737   Jarque-Bera (JB):                0.662\n",
       "Skew:                           0.306   Prob(JB):                        0.718\n",
       "Kurtosis:                       2.252   Cond. No.                     8.22e+05\n",
       "==============================================================================\n",
       "\n",
       "Warnings:\n",
       "[1] Standard Errors assume that the covariance matrix of the errors is correctly specified.\n",
       "[2] The condition number is large, 8.22e+05. This might indicate that there are\n",
       "strong multicollinearity or other numerical problems.\n",
       "\"\"\""
      ]
     },
     "execution_count": 15,
     "metadata": {},
     "output_type": "execute_result"
    }
   ],
   "source": [
    "lm_confinan4 = smf.ols('n_confinan ~ fulltime_pct + year + repub_pct + degreelt50_pct', data = by_yearFD2).fit()\n",
    "lm_confinan4.summary()"
   ]
  },
  {
   "cell_type": "code",
   "execution_count": 18,
   "metadata": {},
   "outputs": [
    {
     "data": {
      "text/plain": [
       "Text(0,0.5,'error')"
      ]
     },
     "execution_count": 18,
     "metadata": {},
     "output_type": "execute_result"
    },
    {
     "data": {
      "image/png": "[encoded data removed]",
      "text/plain": [
       "<Figure size 600x400 with 1 Axes>"
      ]
     },
     "metadata": {},
     "output_type": "display_data"
    }
   ],
   "source": [
    "fd_err = lm_confinan4.resid\n",
    "\n",
    "pylab.scatter(fd_err.index, fd_err)\n",
    "pylab.ylabel('error')"
   ]
  },
  {
   "cell_type": "code",
   "execution_count": 19,
   "metadata": {},
   "outputs": [
    {
     "data": {
      "image/png": "[encoded data removed]",
      "text/plain": [
       "<Figure size 600x400 with 1 Axes>"
      ]
     },
     "metadata": {},
     "output_type": "display_data"
    }
   ],
   "source": [
    "plot_acf(fd_err, lags = 6, zero = False);"
   ]
  },
  {
   "cell_type": "markdown",
   "metadata": {},
   "source": [
    "<br>\n",
    "\n",
    "With full set of years:"
   ]
  },
  {
   "cell_type": "code",
   "execution_count": 166,
   "metadata": {},
   "outputs": [
    {
     "data": {
      "text/html": [
       "<table class=\"simpletable\">\n",
       "<caption>OLS Regression Results</caption>\n",
       "<tr>\n",
       "  <th>Dep. Variable:</th>       <td>n_confinan</td>    <th>  R-squared:         </th> <td>   0.420</td>\n",
       "</tr>\n",
       "<tr>\n",
       "  <th>Model:</th>                   <td>OLS</td>       <th>  Adj. R-squared:    </th> <td>   0.345</td>\n",
       "</tr>\n",
       "<tr>\n",
       "  <th>Method:</th>             <td>Least Squares</td>  <th>  F-statistic:       </th> <td>   5.601</td>\n",
       "</tr>\n",
       "<tr>\n",
       "  <th>Date:</th>             <td>Sat, 21 Jul 2018</td> <th>  Prob (F-statistic):</th>  <td>0.00164</td>\n",
       "</tr>\n",
       "<tr>\n",
       "  <th>Time:</th>                 <td>14:10:06</td>     <th>  Log-Likelihood:    </th> <td>  50.964</td>\n",
       "</tr>\n",
       "<tr>\n",
       "  <th>No. Observations:</th>      <td>    36</td>      <th>  AIC:               </th> <td>  -91.93</td>\n",
       "</tr>\n",
       "<tr>\n",
       "  <th>Df Residuals:</th>          <td>    31</td>      <th>  BIC:               </th> <td>  -84.01</td>\n",
       "</tr>\n",
       "<tr>\n",
       "  <th>Df Model:</th>              <td>     4</td>      <th>                     </th>     <td> </td>   \n",
       "</tr>\n",
       "<tr>\n",
       "  <th>Covariance Type:</th>      <td>nonrobust</td>    <th>                     </th>     <td> </td>   \n",
       "</tr>\n",
       "</table>\n",
       "<table class=\"simpletable\">\n",
       "<tr>\n",
       "         <td></td>           <th>coef</th>     <th>std err</th>      <th>t</th>      <th>P>|t|</th>  <th>[0.025</th>    <th>0.975]</th>  \n",
       "</tr>\n",
       "<tr>\n",
       "  <th>Intercept</th>      <td>   -0.4764</td> <td>    2.107</td> <td>   -0.226</td> <td> 0.823</td> <td>   -4.773</td> <td>    3.820</td>\n",
       "</tr>\n",
       "<tr>\n",
       "  <th>fulltime_pct</th>   <td>    0.0207</td> <td>    0.005</td> <td>    4.521</td> <td> 0.000</td> <td>    0.011</td> <td>    0.030</td>\n",
       "</tr>\n",
       "<tr>\n",
       "  <th>year</th>           <td>    0.0002</td> <td>    0.001</td> <td>    0.219</td> <td> 0.828</td> <td>   -0.002</td> <td>    0.002</td>\n",
       "</tr>\n",
       "<tr>\n",
       "  <th>repub_pct</th>      <td>   -0.0104</td> <td>    0.010</td> <td>   -1.050</td> <td> 0.302</td> <td>   -0.031</td> <td>    0.010</td>\n",
       "</tr>\n",
       "<tr>\n",
       "  <th>degreelt50_pct</th> <td>    0.0063</td> <td>    0.012</td> <td>    0.516</td> <td> 0.610</td> <td>   -0.019</td> <td>    0.031</td>\n",
       "</tr>\n",
       "</table>\n",
       "<table class=\"simpletable\">\n",
       "<tr>\n",
       "  <th>Omnibus:</th>       <td> 1.349</td> <th>  Durbin-Watson:     </th> <td>   1.697</td>\n",
       "</tr>\n",
       "<tr>\n",
       "  <th>Prob(Omnibus):</th> <td> 0.510</td> <th>  Jarque-Bera (JB):  </th> <td>   1.301</td>\n",
       "</tr>\n",
       "<tr>\n",
       "  <th>Skew:</th>          <td>-0.410</td> <th>  Prob(JB):          </th> <td>   0.522</td>\n",
       "</tr>\n",
       "<tr>\n",
       "  <th>Kurtosis:</th>      <td> 2.558</td> <th>  Cond. No.          </th> <td>3.98e+05</td>\n",
       "</tr>\n",
       "</table><br/><br/>Warnings:<br/>[1] Standard Errors assume that the covariance matrix of the errors is correctly specified.<br/>[2] The condition number is large, 3.98e+05. This might indicate that there are<br/>strong multicollinearity or other numerical problems."
      ],
      "text/plain": [
       "<class 'statsmodels.iolib.summary.Summary'>\n",
       "\"\"\"\n",
       "                            OLS Regression Results                            \n",
       "==============================================================================\n",
       "Dep. Variable:             n_confinan   R-squared:                       0.420\n",
       "Model:                            OLS   Adj. R-squared:                  0.345\n",
       "Method:                 Least Squares   F-statistic:                     5.601\n",
       "Date:                Sat, 21 Jul 2018   Prob (F-statistic):            0.00164\n",
       "Time:                        14:10:06   Log-Likelihood:                 50.964\n",
       "No. Observations:                  36   AIC:                            -91.93\n",
       "Df Residuals:                      31   BIC:                            -84.01\n",
       "Df Model:                           4                                         \n",
       "Covariance Type:            nonrobust                                         \n",
       "==================================================================================\n",
       "                     coef    std err          t      P>|t|      [0.025      0.975]\n",
       "----------------------------------------------------------------------------------\n",
       "Intercept         -0.4764      2.107     -0.226      0.823      -4.773       3.820\n",
       "fulltime_pct       0.0207      0.005      4.521      0.000       0.011       0.030\n",
       "year               0.0002      0.001      0.219      0.828      -0.002       0.002\n",
       "repub_pct         -0.0104      0.010     -1.050      0.302      -0.031       0.010\n",
       "degreelt50_pct     0.0063      0.012      0.516      0.610      -0.019       0.031\n",
       "==============================================================================\n",
       "Omnibus:                        1.349   Durbin-Watson:                   1.697\n",
       "Prob(Omnibus):                  0.510   Jarque-Bera (JB):                1.301\n",
       "Skew:                          -0.410   Prob(JB):                        0.522\n",
       "Kurtosis:                       2.558   Cond. No.                     3.98e+05\n",
       "==============================================================================\n",
       "\n",
       "Warnings:\n",
       "[1] Standard Errors assume that the covariance matrix of the errors is correctly specified.\n",
       "[2] The condition number is large, 3.98e+05. This might indicate that there are\n",
       "strong multicollinearity or other numerical problems.\n",
       "\"\"\""
      ]
     },
     "execution_count": 166,
     "metadata": {},
     "output_type": "execute_result"
    }
   ],
   "source": [
    "smf.ols('n_confinan ~ fulltime_pct + year + repub_pct + degreelt50_pct', data = by_yearFD).fit().summary()"
   ]
  },
  {
   "cell_type": "markdown",
   "metadata": {},
   "source": [
    "### Solution #3: Do a feasible GLS regression, which is quasi-differenced -- i.e., Prais-Winston or Cochrane-Orcutt"
   ]
  },
  {
   "cell_type": "code",
   "execution_count": 8,
   "metadata": {},
   "outputs": [],
   "source": [
    "orcutt = importr('orcutt')"
   ]
  },
  {
   "cell_type": "code",
   "execution_count": 10,
   "metadata": {},
   "outputs": [
    {
     "data": {
      "text/plain": [
       "['_Random_seed',\n",
       " '___NAMESPACE___',\n",
       " '___S3MethodsTable___',\n",
       " '__doc__',\n",
       " '__loader__',\n",
       " '__name__',\n",
       " '__package__',\n",
       " '__rdata__',\n",
       " '__rname__',\n",
       " '__spec__',\n",
       " '__version__',\n",
       " '_env',\n",
       " '_exported_names',\n",
       " '_packageName',\n",
       " '_rpy2r',\n",
       " '_symbol_check_after',\n",
       " '_symbol_r2python',\n",
       " '_translation',\n",
       " 'cochrane_orcutt',\n",
       " 'predict_orcutt',\n",
       " 'print_orcutt',\n",
       " 'print_summary_orcutt',\n",
       " 'residual_orcutt',\n",
       " 'summary_orcutt']"
      ]
     },
     "execution_count": 10,
     "metadata": {},
     "output_type": "execute_result"
    }
   ],
   "source": [
    "dir(orcutt)"
   ]
  },
  {
   "cell_type": "code",
   "execution_count": 12,
   "metadata": {},
   "outputs": [
    {
     "name": "stdout",
     "output_type": "stream",
     "text": [
      "\n",
      "Error in cochrane_orcutt(lm_confinan3_r) : \n",
      "  could not find function \"cochrane_orcutt\"\n"
     ]
    },
    {
     "name": "stderr",
     "output_type": "stream",
     "text": [
      "/Users/melindasong/anaconda/envs/py36/lib/python3.6/site-packages/rpy2/rinterface/__init__.py:146: RRuntimeWarning: Error in cochrane_orcutt(lm_confinan3_r) : \n",
      "  could not find function \"cochrane_orcutt\"\n",
      "\n",
      "  warnings.warn(x, RRuntimeWarning)\n"
     ]
    }
   ],
   "source": [
    "%%R -i by_year_ts2\n",
    "\n",
    "lm_confinan3_r = lm(n_confinan ~ fulltime_pct + year + repub_pct + degreelt50_pct, data = by_year_ts2)\n",
    "cochrane_orcutt(lm_confinan3_r)"
   ]
  },
  {
   "cell_type": "code",
   "execution_count": null,
   "metadata": {},
   "outputs": [],
   "source": []
  }
 ],
 "metadata": {
  "kernelspec": {
   "display_name": "py36",
   "language": "python",
   "name": "py36"
  },
  "language_info": {
   "codemirror_mode": {
    "name": "ipython",
    "version": 3
   },
   "file_extension": ".py",
   "mimetype": "text/x-python",
   "name": "python",
   "nbconvert_exporter": "python",
   "pygments_lexer": "ipython3",
   "version": "3.6.5"
  }
 },
 "nbformat": 4,
 "nbformat_minor": 2
}
