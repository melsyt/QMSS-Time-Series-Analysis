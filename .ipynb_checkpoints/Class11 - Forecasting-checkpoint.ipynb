{
 "cells": [
  {
   "cell_type": "markdown",
   "metadata": {},
   "source": [
    "# Regression Analysis of Temporal Processes (Class 11) - Forecast"
   ]
  },
  {
   "cell_type": "code",
   "execution_count": 1,
   "metadata": {},
   "outputs": [],
   "source": [
    "import pandas as pd\n",
    "import numpy as np\n",
    "import seaborn as sns\n",
    "import matplotlib.pyplot as plt\n",
    "%matplotlib inline\n",
    "import statsmodels.api as sm\n",
    "import statsmodels.formula.api as smf\n",
    "from statsmodels.graphics.tsaplots import plot_acf\n",
    "from statsmodels.tsa.arima_model import ARIMA"
   ]
  },
  {
   "cell_type": "code",
   "execution_count": 33,
   "metadata": {},
   "outputs": [],
   "source": [
    "# slide 8\n",
    "GSS = pd.read_csv('GSS.csv')\n",
    "sub = GSS[GSS.year<=2010]\n",
    "\n",
    "sub['kidslt18'] = sub.babies + sub.preteen + sub.teens\n",
    "\n",
    "# get means by year\n",
    "by_year_tmp = sub.groupby('year')[['attend', 'kidslt18']].mean()\n",
    "\n",
    "# prepare dataframe to contain interpolated values\n",
    "by_year = pd.DataFrame({'year': list(np.arange(1972, 2011)), 'attend':0, 'kidslt18':0})\n",
    "by_year.index = by_year.year\n",
    "\n",
    "by_year['attend'] = by_year_tmp.attend\n",
    "by_year['kidslt18'] = by_year_tmp.kidslt18\n",
    "\n",
    "by_year.reset_index(inplace=True, drop=True)\n",
    "by_year.year = by_year.year.astype(int)"
   ]
  },
  {
   "cell_type": "code",
   "execution_count": 48,
   "metadata": {},
   "outputs": [],
   "source": [
    "by_year_ts = by_year.copy()\n",
    "by_year_ts.index = pd.to_datetime(by_year_ts.year, format='%Y')\n",
    "by_year_ts = by_year_ts.interpolate(method = 'linear')"
   ]
  },
  {
   "cell_type": "code",
   "execution_count": 50,
   "metadata": {},
   "outputs": [
    {
     "data": {
      "text/plain": [
       "<matplotlib.axes._subplots.AxesSubplot at 0x1c1dd1b160>"
      ]
     },
     "execution_count": 50,
     "metadata": {},
     "output_type": "execute_result"
    },
    {
     "data": {
      "image/png": "[encoded data removed]",
      "text/plain": [
       "<Figure size 432x288 with 1 Axes>"
      ]
     },
     "metadata": {},
     "output_type": "display_data"
    }
   ],
   "source": [
    "by_year_ts['attend'].plot()"
   ]
  },
  {
   "cell_type": "code",
   "execution_count": 51,
   "metadata": {},
   "outputs": [
    {
     "data": {
      "text/plain": [
       "<matplotlib.axes._subplots.AxesSubplot at 0x1c1dfbbcf8>"
      ]
     },
     "execution_count": 51,
     "metadata": {},
     "output_type": "execute_result"
    },
    {
     "data": {
      "image/png": "[encoded data removed]",
      "text/plain": [
       "<Figure size 432x288 with 1 Axes>"
      ]
     },
     "metadata": {},
     "output_type": "display_data"
    }
   ],
   "source": [
    "by_year_ts['kidslt18'].plot()"
   ]
  },
  {
   "cell_type": "code",
   "execution_count": 52,
   "metadata": {},
   "outputs": [],
   "source": [
    "# slide 11\n",
    "arima_dat = pd.DataFrame({'year': by_year_ts.year, \n",
    "                          'kids': by_year_ts.kidslt18, \n",
    "                          'L1_kids': by_year_ts.kidslt18.shift(1), \n",
    "                          'L2_kids': by_year_ts.kidslt18.shift(2),\n",
    "                          'L1_attend': by_year_ts.attend.shift(1), \n",
    "                          'L2_attend': by_year_ts.attend.shift(2)})"
   ]
  },
  {
   "cell_type": "code",
   "execution_count": 61,
   "metadata": {},
   "outputs": [
    {
     "data": {
      "text/html": [
       "<table class=\"simpletable\">\n",
       "<caption>ARMA Model Results</caption>\n",
       "<tr>\n",
       "  <th>Dep. Variable:</th>       <td>kids</td>       <th>  No. Observations:  </th>    <td>37</td>   \n",
       "</tr>\n",
       "<tr>\n",
       "  <th>Model:</th>            <td>ARMA(2, 0)</td>    <th>  Log Likelihood     </th>  <td>80.386</td> \n",
       "</tr>\n",
       "<tr>\n",
       "  <th>Method:</th>             <td>css-mle</td>     <th>  S.D. of innovations</th>   <td>0.027</td> \n",
       "</tr>\n",
       "<tr>\n",
       "  <th>Date:</th>          <td>Wed, 15 Aug 2018</td> <th>  AIC                </th> <td>-144.773</td>\n",
       "</tr>\n",
       "<tr>\n",
       "  <th>Time:</th>              <td>11:26:21</td>     <th>  BIC                </th> <td>-131.886</td>\n",
       "</tr>\n",
       "<tr>\n",
       "  <th>Sample:</th>           <td>01-01-1974</td>    <th>  HQIC               </th> <td>-140.230</td>\n",
       "</tr>\n",
       "<tr>\n",
       "  <th></th>                 <td>- 01-01-2010</td>   <th>                     </th>     <td> </td>   \n",
       "</tr>\n",
       "</table>\n",
       "<table class=\"simpletable\">\n",
       "<tr>\n",
       "       <td></td>         <th>coef</th>     <th>std err</th>      <th>z</th>      <th>P>|z|</th>  <th>[0.025</th>    <th>0.975]</th>  \n",
       "</tr>\n",
       "<tr>\n",
       "  <th>const</th>      <td>   -0.2338</td> <td>    0.099</td> <td>   -2.368</td> <td> 0.025</td> <td>   -0.427</td> <td>   -0.040</td>\n",
       "</tr>\n",
       "<tr>\n",
       "  <th>L1_kids</th>    <td>    0.2856</td> <td>    0.090</td> <td>    3.164</td> <td> 0.004</td> <td>    0.109</td> <td>    0.463</td>\n",
       "</tr>\n",
       "<tr>\n",
       "  <th>L2_kids</th>    <td>    0.4566</td> <td>    0.081</td> <td>    5.625</td> <td> 0.000</td> <td>    0.297</td> <td>    0.616</td>\n",
       "</tr>\n",
       "<tr>\n",
       "  <th>L1_attend</th>  <td>   -0.1445</td> <td>    0.045</td> <td>   -3.208</td> <td> 0.003</td> <td>   -0.233</td> <td>   -0.056</td>\n",
       "</tr>\n",
       "<tr>\n",
       "  <th>L2_attend</th>  <td>    0.2482</td> <td>    0.047</td> <td>    5.282</td> <td> 0.000</td> <td>    0.156</td> <td>    0.340</td>\n",
       "</tr>\n",
       "<tr>\n",
       "  <th>ar.L1.kids</th> <td>    0.2755</td> <td>    0.145</td> <td>    1.894</td> <td> 0.068</td> <td>   -0.010</td> <td>    0.561</td>\n",
       "</tr>\n",
       "<tr>\n",
       "  <th>ar.L2.kids</th> <td>   -0.5476</td> <td>    0.140</td> <td>   -3.910</td> <td> 0.000</td> <td>   -0.822</td> <td>   -0.273</td>\n",
       "</tr>\n",
       "</table>\n",
       "<table class=\"simpletable\">\n",
       "<caption>Roots</caption>\n",
       "<tr>\n",
       "    <td></td>   <th>            Real</th>  <th>         Imaginary</th> <th>         Modulus</th>  <th>        Frequency</th>\n",
       "</tr>\n",
       "<tr>\n",
       "  <th>AR.1</th> <td>           0.2516</td> <td>          -1.3277j</td> <td>           1.3513</td> <td>          -0.2202</td>\n",
       "</tr>\n",
       "<tr>\n",
       "  <th>AR.2</th> <td>           0.2516</td> <td>          +1.3277j</td> <td>           1.3513</td> <td>           0.2202</td>\n",
       "</tr>\n",
       "</table>"
      ],
      "text/plain": [
       "<class 'statsmodels.iolib.summary.Summary'>\n",
       "\"\"\"\n",
       "                              ARMA Model Results                              \n",
       "==============================================================================\n",
       "Dep. Variable:                   kids   No. Observations:                   37\n",
       "Model:                     ARMA(2, 0)   Log Likelihood                  80.386\n",
       "Method:                       css-mle   S.D. of innovations              0.027\n",
       "Date:                Wed, 15 Aug 2018   AIC                           -144.773\n",
       "Time:                        11:26:21   BIC                           -131.886\n",
       "Sample:                    01-01-1974   HQIC                          -140.230\n",
       "                         - 01-01-2010                                         \n",
       "==============================================================================\n",
       "                 coef    std err          z      P>|z|      [0.025      0.975]\n",
       "------------------------------------------------------------------------------\n",
       "const         -0.2338      0.099     -2.368      0.025      -0.427      -0.040\n",
       "L1_kids        0.2856      0.090      3.164      0.004       0.109       0.463\n",
       "L2_kids        0.4566      0.081      5.625      0.000       0.297       0.616\n",
       "L1_attend     -0.1445      0.045     -3.208      0.003      -0.233      -0.056\n",
       "L2_attend      0.2482      0.047      5.282      0.000       0.156       0.340\n",
       "ar.L1.kids     0.2755      0.145      1.894      0.068      -0.010       0.561\n",
       "ar.L2.kids    -0.5476      0.140     -3.910      0.000      -0.822      -0.273\n",
       "                                    Roots                                    \n",
       "=============================================================================\n",
       "                  Real          Imaginary           Modulus         Frequency\n",
       "-----------------------------------------------------------------------------\n",
       "AR.1            0.2516           -1.3277j            1.3513           -0.2202\n",
       "AR.2            0.2516           +1.3277j            1.3513            0.2202\n",
       "-----------------------------------------------------------------------------\n",
       "\"\"\""
      ]
     },
     "execution_count": 61,
     "metadata": {},
     "output_type": "execute_result"
    }
   ],
   "source": [
    "# The arima model does not accept nan\n",
    "arima_dat2 = arima_dat.dropna()\n",
    "\n",
    "xvars = arima_dat2[['L1_kids', 'L2_kids', 'L1_attend', 'L2_attend']]\n",
    "arima_kids = ARIMA(arima_dat2['kids'], order = (2, 0, 0), exog = xvars).fit()\n",
    "arima_kids.summary()"
   ]
  },
  {
   "cell_type": "markdown",
   "metadata": {},
   "source": [
    "The ARIMA model class has a convenient method to plot the forecasted values: "
   ]
  },
  {
   "cell_type": "code",
   "execution_count": 84,
   "metadata": {},
   "outputs": [
    {
     "data": {
      "image/png": "[encoded data removed]",
      "text/plain": [
       "<Figure size 432x288 with 1 Axes>"
      ]
     },
     "metadata": {},
     "output_type": "display_data"
    }
   ],
   "source": [
    "arima_kids.plot_predict();"
   ]
  },
  {
   "cell_type": "markdown",
   "metadata": {},
   "source": [
    "To plot the prediction intervals as well, we can do the following: "
   ]
  },
  {
   "cell_type": "code",
   "execution_count": 88,
   "metadata": {},
   "outputs": [],
   "source": [
    "# determine prediction interval\n",
    "point_forecast = arima_kids.fittedvalues\n",
    "se = np.std(arima_kids.resid)\n",
    "lo_95 = point_forecast - 1.96*se\n",
    "hi_95 = point_forecast + 1.96*se"
   ]
  },
  {
   "cell_type": "code",
   "execution_count": 95,
   "metadata": {},
   "outputs": [],
   "source": [
    "arima_preds = arima_dat2.copy()\n",
    "arima_preds['point_forecast'] = point_forecast\n",
    "arima_preds['lo_95'] = lo_95\n",
    "arima_preds['hi_95'] = hi_95"
   ]
  },
  {
   "cell_type": "code",
   "execution_count": 110,
   "metadata": {},
   "outputs": [
    {
     "data": {
      "image/png": "[encoded data removed]",
      "text/plain": [
       "<Figure size 432x288 with 1 Axes>"
      ]
     },
     "metadata": {},
     "output_type": "display_data"
    }
   ],
   "source": [
    "fig, ax = plt.subplots()\n",
    "ax = arima_preds['kids'].plot(linestyle=':', color='r', legend=True)\n",
    "ax = arima_preds['point_forecast'].plot(color='b', legend=True)\n",
    "ax = arima_preds['lo_95'].plot(linestyle= '-.', color='black', legend=True)\n",
    "ax = arima_preds['hi_95'].plot(linestyle= '--', color='black', legend=True)"
   ]
  },
  {
   "cell_type": "markdown",
   "metadata": {},
   "source": [
    "Plotting the error bars:"
   ]
  },
  {
   "cell_type": "code",
   "execution_count": 178,
   "metadata": {},
   "outputs": [
    {
     "data": {
      "text/plain": [
       "<ErrorbarContainer object of 3 artists>"
      ]
     },
     "execution_count": 178,
     "metadata": {},
     "output_type": "execute_result"
    },
    {
     "data": {
      "image/png": "[encoded data removed]",
      "text/plain": [
       "<Figure size 432x288 with 1 Axes>"
      ]
     },
     "metadata": {},
     "output_type": "display_data"
    }
   ],
   "source": [
    "fig = plt.figure(1)\n",
    "\n",
    "# create ndarray for error terms\n",
    "error=np.zeros(shape=len(arima_preds))\n",
    "error.fill(1.96*se)\n",
    "\n",
    "plt.errorbar(x=arima_preds.year, y=arima_preds.point_forecast, yerr=error)\n",
    "plt.errorbar(x=arima_preds.year, y=arima_preds.kids, color='r', linestyle=':')"
   ]
  },
  {
   "cell_type": "markdown",
   "metadata": {},
   "source": [
    "### Forecast intervals"
   ]
  },
  {
   "cell_type": "code",
   "execution_count": 188,
   "metadata": {},
   "outputs": [
    {
     "data": {
      "text/html": [
       "<div>\n",
       "<style scoped>\n",
       "    .dataframe tbody tr th:only-of-type {\n",
       "        vertical-align: middle;\n",
       "    }\n",
       "\n",
       "    .dataframe tbody tr th {\n",
       "        vertical-align: top;\n",
       "    }\n",
       "\n",
       "    .dataframe thead th {\n",
       "        text-align: right;\n",
       "    }\n",
       "</style>\n",
       "<table border=\"1\" class=\"dataframe\">\n",
       "  <thead>\n",
       "    <tr style=\"text-align: right;\">\n",
       "      <th></th>\n",
       "      <th>year</th>\n",
       "      <th>kids</th>\n",
       "      <th>F</th>\n",
       "      <th>eF</th>\n",
       "      <th>eF_sq</th>\n",
       "    </tr>\n",
       "    <tr>\n",
       "      <th>year</th>\n",
       "      <th></th>\n",
       "      <th></th>\n",
       "      <th></th>\n",
       "      <th></th>\n",
       "      <th></th>\n",
       "    </tr>\n",
       "  </thead>\n",
       "  <tbody>\n",
       "    <tr>\n",
       "      <th>1974-01-01</th>\n",
       "      <td>1974</td>\n",
       "      <td>1.1943</td>\n",
       "      <td>1.1685</td>\n",
       "      <td>0.0258</td>\n",
       "      <td>0.0007</td>\n",
       "    </tr>\n",
       "    <tr>\n",
       "      <th>1975-01-01</th>\n",
       "      <td>1975</td>\n",
       "      <td>1.0235</td>\n",
       "      <td>1.0319</td>\n",
       "      <td>-0.0084</td>\n",
       "      <td>0.0001</td>\n",
       "    </tr>\n",
       "    <tr>\n",
       "      <th>1976-01-01</th>\n",
       "      <td>1976</td>\n",
       "      <td>1.0007</td>\n",
       "      <td>1.0217</td>\n",
       "      <td>-0.0211</td>\n",
       "      <td>0.0004</td>\n",
       "    </tr>\n",
       "    <tr>\n",
       "      <th>1977-01-01</th>\n",
       "      <td>1977</td>\n",
       "      <td>0.9546</td>\n",
       "      <td>0.9335</td>\n",
       "      <td>0.0211</td>\n",
       "      <td>0.0004</td>\n",
       "    </tr>\n",
       "    <tr>\n",
       "      <th>1978-01-01</th>\n",
       "      <td>1978</td>\n",
       "      <td>0.9295</td>\n",
       "      <td>0.9184</td>\n",
       "      <td>0.0111</td>\n",
       "      <td>0.0001</td>\n",
       "    </tr>\n",
       "  </tbody>\n",
       "</table>\n",
       "</div>"
      ],
      "text/plain": [
       "            year    kids       F      eF   eF_sq\n",
       "year                                            \n",
       "1974-01-01  1974  1.1943  1.1685  0.0258  0.0007\n",
       "1975-01-01  1975  1.0235  1.0319 -0.0084  0.0001\n",
       "1976-01-01  1976  1.0007  1.0217 -0.0211  0.0004\n",
       "1977-01-01  1977  0.9546  0.9335  0.0211  0.0004\n",
       "1978-01-01  1978  0.9295  0.9184  0.0111  0.0001"
      ]
     },
     "execution_count": 188,
     "metadata": {},
     "output_type": "execute_result"
    }
   ],
   "source": [
    "arima_error = arima_preds[['year', 'kids']].copy()\n",
    "arima_error['F'] = arima_preds.point_forecast\n",
    "arima_error['eF'] = arima_error.kids - arima_error.F\n",
    "arima_error['eF_sq'] = np.square(arima_error.eF)\n",
    "\n",
    "arima_error = round(arima_error, 4)\n",
    "arima_error.head()"
   ]
  },
  {
   "cell_type": "code",
   "execution_count": 186,
   "metadata": {},
   "outputs": [
    {
     "data": {
      "text/plain": [
       "0.0007"
      ]
     },
     "execution_count": 186,
     "metadata": {},
     "output_type": "execute_result"
    }
   ],
   "source": [
    "MSFE_arima = round(arima_error.eF_sq.mean(), 4)\n",
    "MSFE_arima"
   ]
  },
  {
   "cell_type": "markdown",
   "metadata": {},
   "source": [
    "### MSFE for the naive model"
   ]
  },
  {
   "cell_type": "code",
   "execution_count": 190,
   "metadata": {},
   "outputs": [
    {
     "data": {
      "text/html": [
       "<div>\n",
       "<style scoped>\n",
       "    .dataframe tbody tr th:only-of-type {\n",
       "        vertical-align: middle;\n",
       "    }\n",
       "\n",
       "    .dataframe tbody tr th {\n",
       "        vertical-align: top;\n",
       "    }\n",
       "\n",
       "    .dataframe thead th {\n",
       "        text-align: right;\n",
       "    }\n",
       "</style>\n",
       "<table border=\"1\" class=\"dataframe\">\n",
       "  <thead>\n",
       "    <tr style=\"text-align: right;\">\n",
       "      <th></th>\n",
       "      <th>year</th>\n",
       "      <th>kids</th>\n",
       "      <th>F</th>\n",
       "      <th>eF</th>\n",
       "      <th>eF_sq</th>\n",
       "    </tr>\n",
       "    <tr>\n",
       "      <th>year</th>\n",
       "      <th></th>\n",
       "      <th></th>\n",
       "      <th></th>\n",
       "      <th></th>\n",
       "      <th></th>\n",
       "    </tr>\n",
       "  </thead>\n",
       "  <tbody>\n",
       "    <tr>\n",
       "      <th>1974-01-01</th>\n",
       "      <td>1974</td>\n",
       "      <td>1.1943</td>\n",
       "      <td>1.1456</td>\n",
       "      <td>0.0487</td>\n",
       "      <td>0.0024</td>\n",
       "    </tr>\n",
       "    <tr>\n",
       "      <th>1975-01-01</th>\n",
       "      <td>1975</td>\n",
       "      <td>1.0235</td>\n",
       "      <td>1.1943</td>\n",
       "      <td>-0.1708</td>\n",
       "      <td>0.0292</td>\n",
       "    </tr>\n",
       "    <tr>\n",
       "      <th>1976-01-01</th>\n",
       "      <td>1976</td>\n",
       "      <td>1.0007</td>\n",
       "      <td>1.0235</td>\n",
       "      <td>-0.0228</td>\n",
       "      <td>0.0005</td>\n",
       "    </tr>\n",
       "    <tr>\n",
       "      <th>1977-01-01</th>\n",
       "      <td>1977</td>\n",
       "      <td>0.9546</td>\n",
       "      <td>1.0007</td>\n",
       "      <td>-0.0461</td>\n",
       "      <td>0.0021</td>\n",
       "    </tr>\n",
       "    <tr>\n",
       "      <th>1978-01-01</th>\n",
       "      <td>1978</td>\n",
       "      <td>0.9295</td>\n",
       "      <td>0.9546</td>\n",
       "      <td>-0.0251</td>\n",
       "      <td>0.0006</td>\n",
       "    </tr>\n",
       "  </tbody>\n",
       "</table>\n",
       "</div>"
      ],
      "text/plain": [
       "            year    kids       F      eF   eF_sq\n",
       "year                                            \n",
       "1974-01-01  1974  1.1943  1.1456  0.0487  0.0024\n",
       "1975-01-01  1975  1.0235  1.1943 -0.1708  0.0292\n",
       "1976-01-01  1976  1.0007  1.0235 -0.0228  0.0005\n",
       "1977-01-01  1977  0.9546  1.0007 -0.0461  0.0021\n",
       "1978-01-01  1978  0.9295  0.9546 -0.0251  0.0006"
      ]
     },
     "execution_count": 190,
     "metadata": {},
     "output_type": "execute_result"
    }
   ],
   "source": [
    "lag_error = arima_preds[['year', 'kids']].copy()\n",
    "lag_error['F'] = arima_preds.L1_kids\n",
    "lag_error['eF'] = lag_error.kids - lag_error.F\n",
    "lag_error['eF_sq'] = np.square(lag_error.eF)\n",
    "\n",
    "lag_error = round(lag_error, 4)\n",
    "\n",
    "MSFE_lag = lag_error.eF_sq.mean()\n",
    "\n",
    "lag_error.head()"
   ]
  },
  {
   "cell_type": "code",
   "execution_count": 191,
   "metadata": {},
   "outputs": [
    {
     "data": {
      "text/plain": [
       "0.0025"
      ]
     },
     "execution_count": 191,
     "metadata": {},
     "output_type": "execute_result"
    }
   ],
   "source": [
    "round(MSFE_lag, 4)"
   ]
  },
  {
   "cell_type": "code",
   "execution_count": 193,
   "metadata": {},
   "outputs": [
    {
     "data": {
      "text/plain": [
       "0.28"
      ]
     },
     "execution_count": 193,
     "metadata": {},
     "output_type": "execute_result"
    }
   ],
   "source": [
    "# slide 34\n",
    "round(MSFE_arima/MSFE_lag, 4)"
   ]
  },
  {
   "cell_type": "markdown",
   "metadata": {},
   "source": [
    "### MSFE for the OLS model"
   ]
  },
  {
   "cell_type": "code",
   "execution_count": 195,
   "metadata": {},
   "outputs": [
    {
     "data": {
      "text/html": [
       "<table class=\"simpletable\">\n",
       "<caption>OLS Regression Results</caption>\n",
       "<tr>\n",
       "  <th>Dep. Variable:</th>          <td>kids</td>       <th>  R-squared:         </th> <td>   0.952</td>\n",
       "</tr>\n",
       "<tr>\n",
       "  <th>Model:</th>                   <td>OLS</td>       <th>  Adj. R-squared:    </th> <td>   0.946</td>\n",
       "</tr>\n",
       "<tr>\n",
       "  <th>Method:</th>             <td>Least Squares</td>  <th>  F-statistic:       </th> <td>   158.9</td>\n",
       "</tr>\n",
       "<tr>\n",
       "  <th>Date:</th>             <td>Wed, 15 Aug 2018</td> <th>  Prob (F-statistic):</th> <td>1.26e-20</td>\n",
       "</tr>\n",
       "<tr>\n",
       "  <th>Time:</th>                 <td>14:32:16</td>     <th>  Log-Likelihood:    </th> <td>  75.213</td>\n",
       "</tr>\n",
       "<tr>\n",
       "  <th>No. Observations:</th>      <td>    37</td>      <th>  AIC:               </th> <td>  -140.4</td>\n",
       "</tr>\n",
       "<tr>\n",
       "  <th>Df Residuals:</th>          <td>    32</td>      <th>  BIC:               </th> <td>  -132.4</td>\n",
       "</tr>\n",
       "<tr>\n",
       "  <th>Df Model:</th>              <td>     4</td>      <th>                     </th>     <td> </td>   \n",
       "</tr>\n",
       "<tr>\n",
       "  <th>Covariance Type:</th>      <td>nonrobust</td>    <th>                     </th>     <td> </td>   \n",
       "</tr>\n",
       "</table>\n",
       "<table class=\"simpletable\">\n",
       "<tr>\n",
       "      <td></td>         <th>coef</th>     <th>std err</th>      <th>t</th>      <th>P>|t|</th>  <th>[0.025</th>    <th>0.975]</th>  \n",
       "</tr>\n",
       "<tr>\n",
       "  <th>Intercept</th> <td>   -0.3235</td> <td>    0.141</td> <td>   -2.301</td> <td> 0.028</td> <td>   -0.610</td> <td>   -0.037</td>\n",
       "</tr>\n",
       "<tr>\n",
       "  <th>L1_kids</th>   <td>    0.5007</td> <td>    0.131</td> <td>    3.828</td> <td> 0.001</td> <td>    0.234</td> <td>    0.767</td>\n",
       "</tr>\n",
       "<tr>\n",
       "  <th>L2_kids</th>   <td>    0.2385</td> <td>    0.116</td> <td>    2.049</td> <td> 0.049</td> <td>    0.001</td> <td>    0.476</td>\n",
       "</tr>\n",
       "<tr>\n",
       "  <th>L1_attend</th> <td>   -0.1426</td> <td>    0.060</td> <td>   -2.373</td> <td> 0.024</td> <td>   -0.265</td> <td>   -0.020</td>\n",
       "</tr>\n",
       "<tr>\n",
       "  <th>L2_attend</th> <td>    0.2711</td> <td>    0.062</td> <td>    4.389</td> <td> 0.000</td> <td>    0.145</td> <td>    0.397</td>\n",
       "</tr>\n",
       "</table>\n",
       "<table class=\"simpletable\">\n",
       "<tr>\n",
       "  <th>Omnibus:</th>       <td> 0.052</td> <th>  Durbin-Watson:     </th> <td>   1.810</td>\n",
       "</tr>\n",
       "<tr>\n",
       "  <th>Prob(Omnibus):</th> <td> 0.974</td> <th>  Jarque-Bera (JB):  </th> <td>   0.249</td>\n",
       "</tr>\n",
       "<tr>\n",
       "  <th>Skew:</th>          <td>-0.041</td> <th>  Prob(JB):          </th> <td>   0.883</td>\n",
       "</tr>\n",
       "<tr>\n",
       "  <th>Kurtosis:</th>      <td> 2.607</td> <th>  Cond. No.          </th> <td>    174.</td>\n",
       "</tr>\n",
       "</table><br/><br/>Warnings:<br/>[1] Standard Errors assume that the covariance matrix of the errors is correctly specified."
      ],
      "text/plain": [
       "<class 'statsmodels.iolib.summary.Summary'>\n",
       "\"\"\"\n",
       "                            OLS Regression Results                            \n",
       "==============================================================================\n",
       "Dep. Variable:                   kids   R-squared:                       0.952\n",
       "Model:                            OLS   Adj. R-squared:                  0.946\n",
       "Method:                 Least Squares   F-statistic:                     158.9\n",
       "Date:                Wed, 15 Aug 2018   Prob (F-statistic):           1.26e-20\n",
       "Time:                        14:32:16   Log-Likelihood:                 75.213\n",
       "No. Observations:                  37   AIC:                            -140.4\n",
       "Df Residuals:                      32   BIC:                            -132.4\n",
       "Df Model:                           4                                         \n",
       "Covariance Type:            nonrobust                                         \n",
       "==============================================================================\n",
       "                 coef    std err          t      P>|t|      [0.025      0.975]\n",
       "------------------------------------------------------------------------------\n",
       "Intercept     -0.3235      0.141     -2.301      0.028      -0.610      -0.037\n",
       "L1_kids        0.5007      0.131      3.828      0.001       0.234       0.767\n",
       "L2_kids        0.2385      0.116      2.049      0.049       0.001       0.476\n",
       "L1_attend     -0.1426      0.060     -2.373      0.024      -0.265      -0.020\n",
       "L2_attend      0.2711      0.062      4.389      0.000       0.145       0.397\n",
       "==============================================================================\n",
       "Omnibus:                        0.052   Durbin-Watson:                   1.810\n",
       "Prob(Omnibus):                  0.974   Jarque-Bera (JB):                0.249\n",
       "Skew:                          -0.041   Prob(JB):                        0.883\n",
       "Kurtosis:                       2.607   Cond. No.                         174.\n",
       "==============================================================================\n",
       "\n",
       "Warnings:\n",
       "[1] Standard Errors assume that the covariance matrix of the errors is correctly specified.\n",
       "\"\"\""
      ]
     },
     "execution_count": 195,
     "metadata": {},
     "output_type": "execute_result"
    }
   ],
   "source": [
    "# slide 36\n",
    "\n",
    "ols = smf.ols('kids ~ L1_kids + L2_kids + L1_attend + L2_attend', data=arima_dat).fit()\n",
    "ols.summary()"
   ]
  },
  {
   "cell_type": "code",
   "execution_count": 197,
   "metadata": {},
   "outputs": [
    {
     "data": {
      "text/plain": [
       "0.001"
      ]
     },
     "execution_count": 197,
     "metadata": {},
     "output_type": "execute_result"
    }
   ],
   "source": [
    "MSFE_ols = np.square(ols.resid).mean()\n",
    "round(MSFE_ols, 4)"
   ]
  },
  {
   "cell_type": "code",
   "execution_count": 198,
   "metadata": {},
   "outputs": [
    {
     "data": {
      "text/plain": [
       "0.4017"
      ]
     },
     "execution_count": 198,
     "metadata": {},
     "output_type": "execute_result"
    }
   ],
   "source": [
    "round(MSFE_ols/MSFE_lag, 4)"
   ]
  },
  {
   "cell_type": "markdown",
   "metadata": {},
   "source": [
    "## Out-of-sample forecasts"
   ]
  },
  {
   "cell_type": "code",
   "execution_count": 253,
   "metadata": {},
   "outputs": [
    {
     "name": "stdout",
     "output_type": "stream",
     "text": [
      "Fit ARIMA: order=(2, 0, 2) seasonal_order=(0, 0, 0, 1); AIC=-95.937, BIC=-82.098, Fit time=0.234 seconds\n",
      "Fit ARIMA: order=(0, 0, 0) seasonal_order=(0, 0, 0, 1); AIC=-99.048, BIC=-90.242, Fit time=0.049 seconds\n",
      "Fit ARIMA: order=(1, 0, 0) seasonal_order=(0, 0, 0, 1); AIC=-97.001, BIC=-86.936, Fit time=0.061 seconds\n",
      "Fit ARIMA: order=(0, 0, 1) seasonal_order=(0, 0, 0, 1); AIC=-97.013, BIC=-86.948, Fit time=0.150 seconds\n",
      "Fit ARIMA: order=(1, 0, 1) seasonal_order=(0, 0, 0, 1); AIC=-95.918, BIC=-84.595, Fit time=0.172 seconds\n",
      "Total fit time: 0.670 seconds\n"
     ]
    }
   ],
   "source": [
    "from pyramid.arima import auto_arima\n",
    "\n",
    "y_train = arima_dat2.loc[(arima_dat2.year >= 1972) & (arima_dat2.year <= 1999), 'kids']\n",
    "x_train = arima_dat2.loc[(arima_dat2.year >= 1972) & (arima_dat2.year <= 1999), arima_dat2.columns != 'kids']\n",
    "x_test = arima_dat2.loc[arima_dat2.year > 1999, arima_dat2.columns != 'kids']\n",
    "\n",
    "arima_train = auto_arima(y_train, exogenous=x_train, trace=True, suppress_warnings=True, stepwise=True)"
   ]
  },
  {
   "cell_type": "code",
   "execution_count": 254,
   "metadata": {},
   "outputs": [],
   "source": [
    "out_of_sample_pred = arima_train.predict(exogenous=x_test, n_periods=11)"
   ]
  },
  {
   "cell_type": "code",
   "execution_count": 255,
   "metadata": {},
   "outputs": [],
   "source": [
    "in_sample_pred = arima_train.predict_in_sample(exogenous=x_train)"
   ]
  },
  {
   "cell_type": "code",
   "execution_count": 256,
   "metadata": {},
   "outputs": [
    {
     "data": {
      "text/html": [
       "<table class=\"simpletable\">\n",
       "<caption>Statespace Model Results</caption>\n",
       "<tr>\n",
       "  <th>Dep. Variable:</th>           <td>y</td>        <th>  No. Observations:  </th>   <td>26</td>   \n",
       "</tr>\n",
       "<tr>\n",
       "  <th>Model:</th>                <td>SARIMAX</td>     <th>  Log Likelihood     </th> <td>56.524</td> \n",
       "</tr>\n",
       "<tr>\n",
       "  <th>Date:</th>            <td>Wed, 15 Aug 2018</td> <th>  AIC                </th> <td>-99.048</td>\n",
       "</tr>\n",
       "<tr>\n",
       "  <th>Time:</th>                <td>15:30:04</td>     <th>  BIC                </th> <td>-90.242</td>\n",
       "</tr>\n",
       "<tr>\n",
       "  <th>Sample:</th>                  <td>0</td>        <th>  HQIC               </th> <td>-96.512</td>\n",
       "</tr>\n",
       "<tr>\n",
       "  <th></th>                       <td> - 26</td>      <th>                     </th>    <td> </td>   \n",
       "</tr>\n",
       "<tr>\n",
       "  <th>Covariance Type:</th>        <td>opg</td>       <th>                     </th>    <td> </td>   \n",
       "</tr>\n",
       "</table>\n",
       "<table class=\"simpletable\">\n",
       "<tr>\n",
       "      <td></td>         <th>coef</th>     <th>std err</th>      <th>z</th>      <th>P>|z|</th>  <th>[0.025</th>    <th>0.975]</th>  \n",
       "</tr>\n",
       "<tr>\n",
       "  <th>intercept</th> <td> 6.493e-06</td> <td>    5.686</td> <td> 1.14e-06</td> <td> 1.000</td> <td>  -11.144</td> <td>   11.144</td>\n",
       "</tr>\n",
       "<tr>\n",
       "  <th>x1</th>        <td>-7.874e-05</td> <td>    0.003</td> <td>   -0.029</td> <td> 0.977</td> <td>   -0.005</td> <td>    0.005</td>\n",
       "</tr>\n",
       "<tr>\n",
       "  <th>x2</th>        <td>    0.3715</td> <td>    0.168</td> <td>    2.212</td> <td> 0.027</td> <td>    0.042</td> <td>    0.701</td>\n",
       "</tr>\n",
       "<tr>\n",
       "  <th>x3</th>        <td>    0.3888</td> <td>    0.138</td> <td>    2.816</td> <td> 0.005</td> <td>    0.118</td> <td>    0.659</td>\n",
       "</tr>\n",
       "<tr>\n",
       "  <th>x4</th>        <td>   -0.1522</td> <td>    0.076</td> <td>   -2.010</td> <td> 0.044</td> <td>   -0.301</td> <td>   -0.004</td>\n",
       "</tr>\n",
       "<tr>\n",
       "  <th>x5</th>        <td>    0.2331</td> <td>    0.071</td> <td>    3.268</td> <td> 0.001</td> <td>    0.093</td> <td>    0.373</td>\n",
       "</tr>\n",
       "<tr>\n",
       "  <th>sigma2</th>    <td>    0.0008</td> <td>    0.000</td> <td>    2.648</td> <td> 0.008</td> <td>    0.000</td> <td>    0.001</td>\n",
       "</tr>\n",
       "</table>\n",
       "<table class=\"simpletable\">\n",
       "<tr>\n",
       "  <th>Ljung-Box (Q):</th>          <td>35.08</td> <th>  Jarque-Bera (JB):  </th> <td>2.08</td>\n",
       "</tr>\n",
       "<tr>\n",
       "  <th>Prob(Q):</th>                <td>0.09</td>  <th>  Prob(JB):          </th> <td>0.35</td>\n",
       "</tr>\n",
       "<tr>\n",
       "  <th>Heteroskedasticity (H):</th> <td>0.63</td>  <th>  Skew:              </th> <td>0.69</td>\n",
       "</tr>\n",
       "<tr>\n",
       "  <th>Prob(H) (two-sided):</th>    <td>0.50</td>  <th>  Kurtosis:          </th> <td>3.17</td>\n",
       "</tr>\n",
       "</table><br/><br/>Warnings:<br/>[1] Covariance matrix calculated using the outer product of gradients (complex-step)."
      ],
      "text/plain": [
       "<class 'statsmodels.iolib.summary.Summary'>\n",
       "\"\"\"\n",
       "                           Statespace Model Results                           \n",
       "==============================================================================\n",
       "Dep. Variable:                      y   No. Observations:                   26\n",
       "Model:                        SARIMAX   Log Likelihood                  56.524\n",
       "Date:                Wed, 15 Aug 2018   AIC                            -99.048\n",
       "Time:                        15:30:04   BIC                            -90.242\n",
       "Sample:                             0   HQIC                           -96.512\n",
       "                                 - 26                                         \n",
       "Covariance Type:                  opg                                         \n",
       "==============================================================================\n",
       "                 coef    std err          z      P>|z|      [0.025      0.975]\n",
       "------------------------------------------------------------------------------\n",
       "intercept   6.493e-06      5.686   1.14e-06      1.000     -11.144      11.144\n",
       "x1         -7.874e-05      0.003     -0.029      0.977      -0.005       0.005\n",
       "x2             0.3715      0.168      2.212      0.027       0.042       0.701\n",
       "x3             0.3888      0.138      2.816      0.005       0.118       0.659\n",
       "x4            -0.1522      0.076     -2.010      0.044      -0.301      -0.004\n",
       "x5             0.2331      0.071      3.268      0.001       0.093       0.373\n",
       "sigma2         0.0008      0.000      2.648      0.008       0.000       0.001\n",
       "===================================================================================\n",
       "Ljung-Box (Q):                       35.08   Jarque-Bera (JB):                 2.08\n",
       "Prob(Q):                              0.09   Prob(JB):                         0.35\n",
       "Heteroskedasticity (H):               0.63   Skew:                             0.69\n",
       "Prob(H) (two-sided):                  0.50   Kurtosis:                         3.17\n",
       "===================================================================================\n",
       "\n",
       "Warnings:\n",
       "[1] Covariance matrix calculated using the outer product of gradients (complex-step).\n",
       "\"\"\""
      ]
     },
     "execution_count": 256,
     "metadata": {},
     "output_type": "execute_result"
    }
   ],
   "source": [
    "# slide 47\n",
    "arima_train.summary()"
   ]
  },
  {
   "cell_type": "markdown",
   "metadata": {},
   "source": [
    "<br>\n",
    "We need y_test values in order to calculate the residuals:"
   ]
  },
  {
   "cell_type": "code",
   "execution_count": 235,
   "metadata": {},
   "outputs": [],
   "source": [
    "y_test = arima_dat2.loc[arima_dat2.year > 1999, 'kids']\n",
    "resid = y_test - out_of_sample_pred \n",
    "se = np.std(resid)"
   ]
  },
  {
   "cell_type": "code",
   "execution_count": 335,
   "metadata": {},
   "outputs": [
    {
     "data": {
      "text/html": [
       "<div>\n",
       "<style scoped>\n",
       "    .dataframe tbody tr th:only-of-type {\n",
       "        vertical-align: middle;\n",
       "    }\n",
       "\n",
       "    .dataframe tbody tr th {\n",
       "        vertical-align: top;\n",
       "    }\n",
       "\n",
       "    .dataframe thead th {\n",
       "        text-align: right;\n",
       "    }\n",
       "</style>\n",
       "<table border=\"1\" class=\"dataframe\">\n",
       "  <thead>\n",
       "    <tr style=\"text-align: right;\">\n",
       "      <th></th>\n",
       "      <th>year</th>\n",
       "      <th>point_forecast</th>\n",
       "      <th>lo_80</th>\n",
       "      <th>hi_80</th>\n",
       "      <th>lo_95</th>\n",
       "      <th>hi_95</th>\n",
       "    </tr>\n",
       "    <tr>\n",
       "      <th>year</th>\n",
       "      <th></th>\n",
       "      <th></th>\n",
       "      <th></th>\n",
       "      <th></th>\n",
       "      <th></th>\n",
       "      <th></th>\n",
       "    </tr>\n",
       "  </thead>\n",
       "  <tbody>\n",
       "    <tr>\n",
       "      <th>2000-01-01</th>\n",
       "      <td>2000</td>\n",
       "      <td>0.652254</td>\n",
       "      <td>0.597178</td>\n",
       "      <td>0.707331</td>\n",
       "      <td>0.567918</td>\n",
       "      <td>0.736590</td>\n",
       "    </tr>\n",
       "    <tr>\n",
       "      <th>2001-01-01</th>\n",
       "      <td>2001</td>\n",
       "      <td>0.665647</td>\n",
       "      <td>0.610570</td>\n",
       "      <td>0.720723</td>\n",
       "      <td>0.581311</td>\n",
       "      <td>0.749983</td>\n",
       "    </tr>\n",
       "    <tr>\n",
       "      <th>2002-01-01</th>\n",
       "      <td>2002</td>\n",
       "      <td>0.617002</td>\n",
       "      <td>0.561925</td>\n",
       "      <td>0.672078</td>\n",
       "      <td>0.532666</td>\n",
       "      <td>0.701338</td>\n",
       "    </tr>\n",
       "    <tr>\n",
       "      <th>2003-01-01</th>\n",
       "      <td>2003</td>\n",
       "      <td>0.552631</td>\n",
       "      <td>0.497554</td>\n",
       "      <td>0.607708</td>\n",
       "      <td>0.468295</td>\n",
       "      <td>0.636967</td>\n",
       "    </tr>\n",
       "    <tr>\n",
       "      <th>2004-01-01</th>\n",
       "      <td>2004</td>\n",
       "      <td>0.532365</td>\n",
       "      <td>0.477289</td>\n",
       "      <td>0.587442</td>\n",
       "      <td>0.448029</td>\n",
       "      <td>0.616701</td>\n",
       "    </tr>\n",
       "    <tr>\n",
       "      <th>2005-01-01</th>\n",
       "      <td>2005</td>\n",
       "      <td>0.558663</td>\n",
       "      <td>0.503587</td>\n",
       "      <td>0.613740</td>\n",
       "      <td>0.474327</td>\n",
       "      <td>0.642999</td>\n",
       "    </tr>\n",
       "    <tr>\n",
       "      <th>2006-01-01</th>\n",
       "      <td>2006</td>\n",
       "      <td>0.609796</td>\n",
       "      <td>0.554719</td>\n",
       "      <td>0.664872</td>\n",
       "      <td>0.525460</td>\n",
       "      <td>0.694132</td>\n",
       "    </tr>\n",
       "    <tr>\n",
       "      <th>2007-01-01</th>\n",
       "      <td>2007</td>\n",
       "      <td>0.613961</td>\n",
       "      <td>0.558884</td>\n",
       "      <td>0.669037</td>\n",
       "      <td>0.529625</td>\n",
       "      <td>0.698297</td>\n",
       "    </tr>\n",
       "    <tr>\n",
       "      <th>2008-01-01</th>\n",
       "      <td>2008</td>\n",
       "      <td>0.594897</td>\n",
       "      <td>0.539821</td>\n",
       "      <td>0.649974</td>\n",
       "      <td>0.510561</td>\n",
       "      <td>0.679233</td>\n",
       "    </tr>\n",
       "    <tr>\n",
       "      <th>2009-01-01</th>\n",
       "      <td>2009</td>\n",
       "      <td>0.601546</td>\n",
       "      <td>0.546470</td>\n",
       "      <td>0.656623</td>\n",
       "      <td>0.517210</td>\n",
       "      <td>0.685882</td>\n",
       "    </tr>\n",
       "    <tr>\n",
       "      <th>2010-01-01</th>\n",
       "      <td>2010</td>\n",
       "      <td>0.603699</td>\n",
       "      <td>0.548623</td>\n",
       "      <td>0.658776</td>\n",
       "      <td>0.519363</td>\n",
       "      <td>0.688035</td>\n",
       "    </tr>\n",
       "  </tbody>\n",
       "</table>\n",
       "</div>"
      ],
      "text/plain": [
       "            year  point_forecast     lo_80     hi_80     lo_95     hi_95\n",
       "year                                                                    \n",
       "2000-01-01  2000        0.652254  0.597178  0.707331  0.567918  0.736590\n",
       "2001-01-01  2001        0.665647  0.610570  0.720723  0.581311  0.749983\n",
       "2002-01-01  2002        0.617002  0.561925  0.672078  0.532666  0.701338\n",
       "2003-01-01  2003        0.552631  0.497554  0.607708  0.468295  0.636967\n",
       "2004-01-01  2004        0.532365  0.477289  0.587442  0.448029  0.616701\n",
       "2005-01-01  2005        0.558663  0.503587  0.613740  0.474327  0.642999\n",
       "2006-01-01  2006        0.609796  0.554719  0.664872  0.525460  0.694132\n",
       "2007-01-01  2007        0.613961  0.558884  0.669037  0.529625  0.698297\n",
       "2008-01-01  2008        0.594897  0.539821  0.649974  0.510561  0.679233\n",
       "2009-01-01  2009        0.601546  0.546470  0.656623  0.517210  0.685882\n",
       "2010-01-01  2010        0.603699  0.548623  0.658776  0.519363  0.688035"
      ]
     },
     "execution_count": 335,
     "metadata": {},
     "output_type": "execute_result"
    }
   ],
   "source": [
    "# reproduce the dataframe on slide 48\n",
    "\n",
    "multistep = x_test.year.copy().to_frame()\n",
    "multistep['point_forecast'] = out_of_sample_pred\n",
    "multistep['lo_80'] = out_of_sample_pred - 1.28*se\n",
    "multistep['hi_80'] = out_of_sample_pred + 1.28*se\n",
    "multistep['lo_95'] = out_of_sample_pred - 1.96*se\n",
    "multistep['hi_95'] = out_of_sample_pred + 1.96*se\n",
    "multistep"
   ]
  },
  {
   "cell_type": "code",
   "execution_count": 337,
   "metadata": {},
   "outputs": [
    {
     "data": {
      "text/plain": [
       "[<matplotlib.lines.Line2D at 0x1c2121df98>]"
      ]
     },
     "execution_count": 337,
     "metadata": {},
     "output_type": "execute_result"
    },
    {
     "data": {
      "image/png": "[encoded data removed]",
      "text/plain": [
       "<Figure size 432x288 with 1 Axes>"
      ]
     },
     "metadata": {},
     "output_type": "display_data"
    }
   ],
   "source": [
    "plt.plot(arima_dat.year.values, arima_dat.kids, color='black')\n",
    "plt.plot(x_train.year.values, in_sample_pred, color='g')\n",
    "plt.plot(x_test.year.values, out_of_sample_pred, color='r', linestyle= '--')\n",
    "plt.plot(multistep.year.values, multistep.lo_80, color='gray')\n",
    "plt.plot(multistep.year.values, multistep.hi_80, color='gray')\n",
    "plt.plot(multistep.year.values, multistep.lo_95, color='b')\n",
    "plt.plot(multistep.year.values, multistep.hi_95, color='b')"
   ]
  },
  {
   "cell_type": "markdown",
   "metadata": {},
   "source": [
    "## Traffic fatalities example"
   ]
  },
  {
   "cell_type": "code",
   "execution_count": 20,
   "metadata": {},
   "outputs": [
    {
     "data": {
      "text/plain": [
       "(65, 4)"
      ]
     },
     "execution_count": 20,
     "metadata": {},
     "output_type": "execute_result"
    }
   ],
   "source": [
    "# slide 52\n",
    "fatal_unemp = pd.read_csv('fatalities.csv')\n",
    "\n",
    "fatal_unemp.shape"
   ]
  },
  {
   "cell_type": "code",
   "execution_count": 21,
   "metadata": {},
   "outputs": [],
   "source": [
    "fatal_unemp['year_ts'] = pd.to_datetime(fatal_unemp['year'], format = \"%Y\")\n",
    "fatal_unemp.set_index('year_ts', inplace=True)\n",
    "\n",
    "train = fatal_unemp[fatal_unemp.year<1992]\n",
    "test = fatal_unemp[fatal_unemp.year>=1992]"
   ]
  },
  {
   "cell_type": "code",
   "execution_count": 25,
   "metadata": {},
   "outputs": [
    {
     "name": "stdout",
     "output_type": "stream",
     "text": [
      "Fit ARIMA: order=(2, 1, 2) seasonal_order=(0, 0, 0, 1); AIC=-32.152, BIC=-19.824, Fit time=0.346 seconds\n",
      "Fit ARIMA: order=(0, 1, 0) seasonal_order=(0, 0, 0, 1); AIC=-35.650, BIC=-30.367, Fit time=0.024 seconds\n",
      "Fit ARIMA: order=(1, 1, 0) seasonal_order=(0, 0, 0, 1); AIC=-34.244, BIC=-27.199, Fit time=0.065 seconds\n",
      "Fit ARIMA: order=(0, 1, 1) seasonal_order=(0, 0, 0, 1); AIC=-34.049, BIC=-27.004, Fit time=0.063 seconds\n",
      "Fit ARIMA: order=(1, 1, 1) seasonal_order=(0, 0, 0, 1); AIC=-32.922, BIC=-24.116, Fit time=0.137 seconds\n",
      "Total fit time: 0.641 seconds\n"
     ]
    }
   ],
   "source": [
    "train_exog = train.umempl.values.reshape(-1, 1)\n",
    "aaFit = auto_arima(train.fatpbvmt, exogenous=train_exog, trace=True, suppress_warnings=True)"
   ]
  },
  {
   "cell_type": "code",
   "execution_count": null,
   "metadata": {},
   "outputs": [],
   "source": [
    "aaTrain_pred = arima_train.predict_in_sample(exogenous=train_exog)"
   ]
  },
  {
   "cell_type": "code",
   "execution_count": 26,
   "metadata": {},
   "outputs": [],
   "source": [
    "test_exog = test.umempl.values.reshape(-1, 1)\n",
    "aaTest_pred= aaFit.predict(exogenous=test_exog, n_periods=21)"
   ]
  },
  {
   "cell_type": "code",
   "execution_count": 32,
   "metadata": {},
   "outputs": [
    {
     "data": {
      "text/plain": [
       "[<matplotlib.lines.Line2D at 0x1c19f1b438>]"
      ]
     },
     "execution_count": 32,
     "metadata": {},
     "output_type": "execute_result"
    },
    {
     "data": {
      "image/png": "[encoded data removed]",
      "text/plain": [
       "<Figure size 432x288 with 1 Axes>"
      ]
     },
     "metadata": {},
     "output_type": "display_data"
    }
   ],
   "source": [
    "plt.plot(train.year.values, train.fatpbvmt, color='black')\n",
    "plt.plot(test.year.values, aaTest_pred, color='r', linestyle= '--')"
   ]
  },
  {
   "cell_type": "code",
   "execution_count": null,
   "metadata": {},
   "outputs": [],
   "source": []
  }
 ],
 "metadata": {
  "kernelspec": {
   "display_name": "py36",
   "language": "python",
   "name": "py36"
  },
  "language_info": {
   "codemirror_mode": {
    "name": "ipython",
    "version": 3
   },
   "file_extension": ".py",
   "mimetype": "text/x-python",
   "name": "python",
   "nbconvert_exporter": "python",
   "pygments_lexer": "ipython3",
   "version": "3.6.5"
  }
 },
 "nbformat": 4,
 "nbformat_minor": 2
}
