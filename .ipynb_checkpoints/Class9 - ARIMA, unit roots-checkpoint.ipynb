{
 "cells": [
  {
   "cell_type": "markdown",
   "metadata": {},
   "source": [
    "# Regression Analysis of Temporal Processes (Class 9) - ARIMA, Unit Roots"
   ]
  },
  {
   "cell_type": "code",
   "execution_count": 3,
   "metadata": {},
   "outputs": [],
   "source": [
    "import warnings\n",
    "warnings.filterwarnings(\"ignore\")"
   ]
  },
  {
   "cell_type": "code",
   "execution_count": 62,
   "metadata": {},
   "outputs": [],
   "source": [
    "import pandas as pd\n",
    "import numpy as np\n",
    "import seaborn as sns\n",
    "import matplotlib.pyplot as plt\n",
    "%matplotlib inline\n",
    "from matplotlib.ticker import MaxNLocator\n",
    "import statsmodels.api as sm\n",
    "import statsmodels.formula.api as smf\n",
    "from statsmodels.compat import lzip\n",
    "from statsmodels.graphics.tsaplots import plot_acf\n",
    "import pylab\n",
    "from statsmodels.stats.stattools import durbin_watson\n",
    "from statsmodels.stats.diagnostic import acorr_breusch_godfrey\n",
    "from statsmodels.stats.diagnostic import acorr_ljungbox"
   ]
  },
  {
   "cell_type": "markdown",
   "metadata": {},
   "source": [
    "Code from last class:"
   ]
  },
  {
   "cell_type": "code",
   "execution_count": 67,
   "metadata": {},
   "outputs": [],
   "source": [
    "GSS = pd.read_csv('trends-gss.csv')\n",
    "variables = [\"cohort\", \"year\", \"sex\", \"age\", \"marital\", \"degree\"]\n",
    "sub = GSS[variables].copy()"
   ]
  },
  {
   "cell_type": "code",
   "execution_count": 68,
   "metadata": {},
   "outputs": [],
   "source": [
    "sub['married'] = np.where(pd.isnull(sub.marital), np.nan, \n",
    "                          np.where(sub.marital==1, 1, 0))\n",
    "sub['baplus'] = np.where(pd.isnull(sub.degree), np.nan, \n",
    "                         np.where(sub.degree>=3, 1, 0))\n",
    "\n",
    "sub['marriedlt50'] = np.where(pd.isnull(sub.married) | pd.isnull(sub.age), np.nan, \n",
    "                              np.where((sub.married==1) & (sub.age<50), 1, 0))\n",
    "sub['degreelt50'] = np.where(pd.isnull(sub.baplus) | pd.isnull(sub.age), np.nan,\n",
    "                              np.where((sub.baplus==1) & (sub.age<50), 1, 0))\n",
    "\n",
    "by_year = sub.groupby('year', as_index = False)[['year', 'marriedlt50', 'degreelt50']].mean()"
   ]
  },
  {
   "cell_type": "code",
   "execution_count": 4,
   "metadata": {},
   "outputs": [
    {
     "data": {
      "text/html": [
       "<div>\n",
       "<style scoped>\n",
       "    .dataframe tbody tr th:only-of-type {\n",
       "        vertical-align: middle;\n",
       "    }\n",
       "\n",
       "    .dataframe tbody tr th {\n",
       "        vertical-align: top;\n",
       "    }\n",
       "\n",
       "    .dataframe thead th {\n",
       "        text-align: right;\n",
       "    }\n",
       "</style>\n",
       "<table border=\"1\" class=\"dataframe\">\n",
       "  <thead>\n",
       "    <tr style=\"text-align: right;\">\n",
       "      <th></th>\n",
       "      <th>year</th>\n",
       "      <th>marriedlt50</th>\n",
       "      <th>degreelt50</th>\n",
       "    </tr>\n",
       "  </thead>\n",
       "  <tbody>\n",
       "    <tr>\n",
       "      <th>0</th>\n",
       "      <td>1972</td>\n",
       "      <td>712.0</td>\n",
       "      <td>123.0</td>\n",
       "    </tr>\n",
       "    <tr>\n",
       "      <th>1</th>\n",
       "      <td>1973</td>\n",
       "      <td>666.0</td>\n",
       "      <td>146.0</td>\n",
       "    </tr>\n",
       "    <tr>\n",
       "      <th>2</th>\n",
       "      <td>1974</td>\n",
       "      <td>658.0</td>\n",
       "      <td>152.0</td>\n",
       "    </tr>\n",
       "    <tr>\n",
       "      <th>3</th>\n",
       "      <td>1975</td>\n",
       "      <td>627.0</td>\n",
       "      <td>147.0</td>\n",
       "    </tr>\n",
       "    <tr>\n",
       "      <th>4</th>\n",
       "      <td>1976</td>\n",
       "      <td>599.0</td>\n",
       "      <td>152.0</td>\n",
       "    </tr>\n",
       "  </tbody>\n",
       "</table>\n",
       "</div>"
      ],
      "text/plain": [
       "   year  marriedlt50  degreelt50\n",
       "0  1972        712.0       123.0\n",
       "1  1973        666.0       146.0\n",
       "2  1974        658.0       152.0\n",
       "3  1975        627.0       147.0\n",
       "4  1976        599.0       152.0"
      ]
     },
     "execution_count": 4,
     "metadata": {},
     "output_type": "execute_result"
    }
   ],
   "source": [
    "sub.groupby('year', as_index = False)[['marriedlt50', 'degreelt50']].sum().head()"
   ]
  },
  {
   "cell_type": "code",
   "execution_count": 5,
   "metadata": {},
   "outputs": [
    {
     "data": {
      "text/html": [
       "<div>\n",
       "<style scoped>\n",
       "    .dataframe tbody tr th:only-of-type {\n",
       "        vertical-align: middle;\n",
       "    }\n",
       "\n",
       "    .dataframe tbody tr th {\n",
       "        vertical-align: top;\n",
       "    }\n",
       "\n",
       "    .dataframe thead th {\n",
       "        text-align: right;\n",
       "    }\n",
       "</style>\n",
       "<table border=\"1\" class=\"dataframe\">\n",
       "  <thead>\n",
       "    <tr style=\"text-align: right;\">\n",
       "      <th></th>\n",
       "      <th>year</th>\n",
       "      <th>marriedlt50</th>\n",
       "      <th>degreelt50</th>\n",
       "    </tr>\n",
       "  </thead>\n",
       "  <tbody>\n",
       "    <tr>\n",
       "      <th>0</th>\n",
       "      <td>1972</td>\n",
       "      <td>1608</td>\n",
       "      <td>1586</td>\n",
       "    </tr>\n",
       "    <tr>\n",
       "      <th>1</th>\n",
       "      <td>1973</td>\n",
       "      <td>1500</td>\n",
       "      <td>1485</td>\n",
       "    </tr>\n",
       "    <tr>\n",
       "      <th>2</th>\n",
       "      <td>1974</td>\n",
       "      <td>1478</td>\n",
       "      <td>1477</td>\n",
       "    </tr>\n",
       "    <tr>\n",
       "      <th>3</th>\n",
       "      <td>1975</td>\n",
       "      <td>1485</td>\n",
       "      <td>1485</td>\n",
       "    </tr>\n",
       "    <tr>\n",
       "      <th>4</th>\n",
       "      <td>1976</td>\n",
       "      <td>1493</td>\n",
       "      <td>1487</td>\n",
       "    </tr>\n",
       "  </tbody>\n",
       "</table>\n",
       "</div>"
      ],
      "text/plain": [
       "   year  marriedlt50  degreelt50\n",
       "0  1972         1608        1586\n",
       "1  1973         1500        1485\n",
       "2  1974         1478        1477\n",
       "3  1975         1485        1485\n",
       "4  1976         1493        1487"
      ]
     },
     "execution_count": 5,
     "metadata": {},
     "output_type": "execute_result"
    }
   ],
   "source": [
    "sub.groupby('year', as_index = False).agg('count')[['year', 'marriedlt50', 'degreelt50']].head()"
   ]
  },
  {
   "cell_type": "code",
   "execution_count": 69,
   "metadata": {},
   "outputs": [],
   "source": [
    "add_years_df = pd.DataFrame(data = pd.Series([1979, 1981, 1992]), columns = ['year'])\n",
    "by_year = pd.concat([by_year, add_years_df], sort = False, ignore_index = True)\n",
    "\n",
    "by_year = by_year.sort_values(['year'])\n",
    "\n",
    "#by_year['year'] = pd.to_datetime(by_year['year'], format = \"%Y\")\n",
    "#by_year = by_year.set_index('year', drop = False)\n",
    "#by_year['year'] = by_year['year'].dt.year\n",
    "\n",
    "by_year_ts = by_year.interpolate(method = 'linear')\n",
    "\n",
    "by_year_ts['marriedlt50_pct'] = by_year_ts['marriedlt50']*100 \n",
    "by_year_ts['degreelt50_pct'] = by_year_ts['degreelt50']*100 \n",
    "\n",
    "by_year_ts2 = by_year_ts[by_year_ts['year']<=1992].copy()\n",
    "#by_year_ts2.set_index('year', drop=False, inplace=True)"
   ]
  },
  {
   "cell_type": "markdown",
   "metadata": {},
   "source": [
    "## Augmented Dickey-Fuller test\n",
    "\n",
    "<br>\n",
    "The augmented Dickey-Fuller test is available in Python in the `statsmodels` module. However, we will use the functions provided in the `ARCH` package as the results offered are more comprehensive than those provided in `statsmodel`. "
   ]
  },
  {
   "cell_type": "code",
   "execution_count": 34,
   "metadata": {},
   "outputs": [
    {
     "data": {
      "text/html": [
       "<table class=\"simpletable\">\n",
       "<caption>Augmented Dickey-Fuller Results</caption>\n",
       "<tr>\n",
       "  <td>Test Statistic</td>    <td>-1.308</td>\n",
       "</tr>\n",
       "<tr>\n",
       "  <td>P-value</td>            <td>0.176</td>\n",
       "</tr>\n",
       "<tr>\n",
       "  <td>Lags</td>                   <td>0</td>\n",
       "</tr>\n",
       "</table><br/><br/>Trend: No Trend<br/>Critical Values: -2.69 (1%), -1.96 (5%), -1.61 (10%)<br/>Null Hypothesis: The process contains a unit root.<br/>Alternative Hypothesis: The process is weakly stationary."
      ],
      "text/plain": [
       "<class 'arch.unitroot.unitroot.ADF'>\n",
       "\"\"\"\n",
       "   Augmented Dickey-Fuller Results   \n",
       "=====================================\n",
       "Test Statistic                 -1.308\n",
       "P-value                         0.176\n",
       "Lags                                0\n",
       "-------------------------------------\n",
       "\n",
       "Trend: No Trend\n",
       "Critical Values: -2.69 (1%), -1.96 (5%), -1.61 (10%)\n",
       "Null Hypothesis: The process contains a unit root.\n",
       "Alternative Hypothesis: The process is weakly stationary.\n",
       "\"\"\""
      ]
     },
     "execution_count": 34,
     "metadata": {},
     "output_type": "execute_result"
    }
   ],
   "source": [
    "from arch.unitroot import ADF\n",
    "\n",
    "ADF(by_year_ts2['marriedlt50_pct'], lags = 0, trend = 'nc')"
   ]
  },
  {
   "cell_type": "code",
   "execution_count": 9,
   "metadata": {},
   "outputs": [
    {
     "data": {
      "text/html": [
       "<table class=\"simpletable\">\n",
       "<caption>Augmented Dickey-Fuller Results</caption>\n",
       "<tr>\n",
       "  <td>Test Statistic</td>    <td>-2.246</td>\n",
       "</tr>\n",
       "<tr>\n",
       "  <td>P-value</td>            <td>0.024</td>\n",
       "</tr>\n",
       "<tr>\n",
       "  <td>Lags</td>                   <td>4</td>\n",
       "</tr>\n",
       "</table><br/><br/>Trend: No Trend<br/>Critical Values: -2.72 (1%), -1.96 (5%), -1.60 (10%)<br/>Null Hypothesis: The process contains a unit root.<br/>Alternative Hypothesis: The process is weakly stationary."
      ],
      "text/plain": [
       "<class 'arch.unitroot.unitroot.ADF'>\n",
       "\"\"\"\n",
       "   Augmented Dickey-Fuller Results   \n",
       "=====================================\n",
       "Test Statistic                 -2.246\n",
       "P-value                         0.024\n",
       "Lags                                4\n",
       "-------------------------------------\n",
       "\n",
       "Trend: No Trend\n",
       "Critical Values: -2.72 (1%), -1.96 (5%), -1.60 (10%)\n",
       "Null Hypothesis: The process contains a unit root.\n",
       "Alternative Hypothesis: The process is weakly stationary.\n",
       "\"\"\""
      ]
     },
     "execution_count": 9,
     "metadata": {},
     "output_type": "execute_result"
    }
   ],
   "source": [
    "# (slide 11)\n",
    "ADF(by_year_ts2['marriedlt50_pct'], lags = 4, trend = 'nc')"
   ]
  },
  {
   "cell_type": "code",
   "execution_count": 10,
   "metadata": {},
   "outputs": [
    {
     "name": "stderr",
     "output_type": "stream",
     "text": [
      "/Users/melindasong/anaconda/envs/py36/lib/python3.6/site-packages/scipy/stats/stats.py:1394: UserWarning: kurtosistest only valid for n>=20 ... continuing anyway, n=16\n",
      "  \"anyway, n=%i\" % int(n))\n"
     ]
    },
    {
     "data": {
      "text/html": [
       "<table class=\"simpletable\">\n",
       "<caption>OLS Regression Results</caption>\n",
       "<tr>\n",
       "  <th>Dep. Variable:</th>            <td>y</td>        <th>  R-squared:         </th> <td>   0.408</td>\n",
       "</tr>\n",
       "<tr>\n",
       "  <th>Model:</th>                   <td>OLS</td>       <th>  Adj. R-squared:    </th> <td>   0.139</td>\n",
       "</tr>\n",
       "<tr>\n",
       "  <th>Method:</th>             <td>Least Squares</td>  <th>  F-statistic:       </th> <td>   1.515</td>\n",
       "</tr>\n",
       "<tr>\n",
       "  <th>Date:</th>             <td>Mon, 13 Aug 2018</td> <th>  Prob (F-statistic):</th>  <td> 0.263</td> \n",
       "</tr>\n",
       "<tr>\n",
       "  <th>Time:</th>                 <td>18:14:34</td>     <th>  Log-Likelihood:    </th> <td> -30.905</td>\n",
       "</tr>\n",
       "<tr>\n",
       "  <th>No. Observations:</th>      <td>    16</td>      <th>  AIC:               </th> <td>   71.81</td>\n",
       "</tr>\n",
       "<tr>\n",
       "  <th>Df Residuals:</th>          <td>    11</td>      <th>  BIC:               </th> <td>   75.67</td>\n",
       "</tr>\n",
       "<tr>\n",
       "  <th>Df Model:</th>              <td>     5</td>      <th>                     </th>     <td> </td>   \n",
       "</tr>\n",
       "<tr>\n",
       "  <th>Covariance Type:</th>      <td>nonrobust</td>    <th>                     </th>     <td> </td>   \n",
       "</tr>\n",
       "</table>\n",
       "<table class=\"simpletable\">\n",
       "<tr>\n",
       "   <td></td>     <th>coef</th>     <th>std err</th>      <th>t</th>      <th>P>|t|</th>  <th>[0.025</th>    <th>0.975]</th>  \n",
       "</tr>\n",
       "<tr>\n",
       "  <th>x1</th> <td>   -0.0426</td> <td>    0.019</td> <td>   -2.246</td> <td> 0.046</td> <td>   -0.084</td> <td>   -0.001</td>\n",
       "</tr>\n",
       "<tr>\n",
       "  <th>x2</th> <td>   -0.3859</td> <td>    0.247</td> <td>   -1.564</td> <td> 0.146</td> <td>   -0.929</td> <td>    0.157</td>\n",
       "</tr>\n",
       "<tr>\n",
       "  <th>x3</th> <td>   -0.4659</td> <td>    0.260</td> <td>   -1.793</td> <td> 0.101</td> <td>   -1.038</td> <td>    0.106</td>\n",
       "</tr>\n",
       "<tr>\n",
       "  <th>x4</th> <td>   -0.2833</td> <td>    0.263</td> <td>   -1.076</td> <td> 0.305</td> <td>   -0.863</td> <td>    0.296</td>\n",
       "</tr>\n",
       "<tr>\n",
       "  <th>x5</th> <td>   -0.5177</td> <td>    0.253</td> <td>   -2.047</td> <td> 0.065</td> <td>   -1.074</td> <td>    0.039</td>\n",
       "</tr>\n",
       "</table>\n",
       "<table class=\"simpletable\">\n",
       "<tr>\n",
       "  <th>Omnibus:</th>       <td> 0.533</td> <th>  Durbin-Watson:     </th> <td>   1.867</td>\n",
       "</tr>\n",
       "<tr>\n",
       "  <th>Prob(Omnibus):</th> <td> 0.766</td> <th>  Jarque-Bera (JB):  </th> <td>   0.593</td>\n",
       "</tr>\n",
       "<tr>\n",
       "  <th>Skew:</th>          <td> 0.205</td> <th>  Prob(JB):          </th> <td>   0.744</td>\n",
       "</tr>\n",
       "<tr>\n",
       "  <th>Kurtosis:</th>      <td> 2.151</td> <th>  Cond. No.          </th> <td>    25.4</td>\n",
       "</tr>\n",
       "</table><br/><br/>Warnings:<br/>[1] Standard Errors assume that the covariance matrix of the errors is correctly specified."
      ],
      "text/plain": [
       "<class 'statsmodels.iolib.summary.Summary'>\n",
       "\"\"\"\n",
       "                            OLS Regression Results                            \n",
       "==============================================================================\n",
       "Dep. Variable:                      y   R-squared:                       0.408\n",
       "Model:                            OLS   Adj. R-squared:                  0.139\n",
       "Method:                 Least Squares   F-statistic:                     1.515\n",
       "Date:                Mon, 13 Aug 2018   Prob (F-statistic):              0.263\n",
       "Time:                        18:14:34   Log-Likelihood:                -30.905\n",
       "No. Observations:                  16   AIC:                             71.81\n",
       "Df Residuals:                      11   BIC:                             75.67\n",
       "Df Model:                           5                                         \n",
       "Covariance Type:            nonrobust                                         \n",
       "==============================================================================\n",
       "                 coef    std err          t      P>|t|      [0.025      0.975]\n",
       "------------------------------------------------------------------------------\n",
       "x1            -0.0426      0.019     -2.246      0.046      -0.084      -0.001\n",
       "x2            -0.3859      0.247     -1.564      0.146      -0.929       0.157\n",
       "x3            -0.4659      0.260     -1.793      0.101      -1.038       0.106\n",
       "x4            -0.2833      0.263     -1.076      0.305      -0.863       0.296\n",
       "x5            -0.5177      0.253     -2.047      0.065      -1.074       0.039\n",
       "==============================================================================\n",
       "Omnibus:                        0.533   Durbin-Watson:                   1.867\n",
       "Prob(Omnibus):                  0.766   Jarque-Bera (JB):                0.593\n",
       "Skew:                           0.205   Prob(JB):                        0.744\n",
       "Kurtosis:                       2.151   Cond. No.                         25.4\n",
       "==============================================================================\n",
       "\n",
       "Warnings:\n",
       "[1] Standard Errors assume that the covariance matrix of the errors is correctly specified.\n",
       "\"\"\""
      ]
     },
     "execution_count": 10,
     "metadata": {},
     "output_type": "execute_result"
    }
   ],
   "source": [
    "# (slide 12)\n",
    "ADF(by_year_ts2['marriedlt50_pct'], lags = 4, trend = 'nc').regression.summary()"
   ]
  },
  {
   "cell_type": "code",
   "execution_count": 11,
   "metadata": {},
   "outputs": [
    {
     "data": {
      "text/html": [
       "<table class=\"simpletable\">\n",
       "<caption>Augmented Dickey-Fuller Results</caption>\n",
       "<tr>\n",
       "  <td>Test Statistic</td>    <td>-1.642</td>\n",
       "</tr>\n",
       "<tr>\n",
       "  <td>P-value</td>            <td>0.461</td>\n",
       "</tr>\n",
       "<tr>\n",
       "  <td>Lags</td>                   <td>0</td>\n",
       "</tr>\n",
       "</table><br/><br/>Trend: Constant<br/>Critical Values: -3.81 (1%), -3.02 (5%), -2.65 (10%)<br/>Null Hypothesis: The process contains a unit root.<br/>Alternative Hypothesis: The process is weakly stationary."
      ],
      "text/plain": [
       "<class 'arch.unitroot.unitroot.ADF'>\n",
       "\"\"\"\n",
       "   Augmented Dickey-Fuller Results   \n",
       "=====================================\n",
       "Test Statistic                 -1.642\n",
       "P-value                         0.461\n",
       "Lags                                0\n",
       "-------------------------------------\n",
       "\n",
       "Trend: Constant\n",
       "Critical Values: -3.81 (1%), -3.02 (5%), -2.65 (10%)\n",
       "Null Hypothesis: The process contains a unit root.\n",
       "Alternative Hypothesis: The process is weakly stationary.\n",
       "\"\"\""
      ]
     },
     "execution_count": 11,
     "metadata": {},
     "output_type": "execute_result"
    }
   ],
   "source": [
    "# (slide 15)\n",
    "ADF(by_year_ts2['marriedlt50_pct'], lags = 0, trend = 'c')"
   ]
  },
  {
   "cell_type": "code",
   "execution_count": 12,
   "metadata": {},
   "outputs": [
    {
     "data": {
      "text/html": [
       "<table class=\"simpletable\">\n",
       "<caption>Augmented Dickey-Fuller Results</caption>\n",
       "<tr>\n",
       "  <td>Test Statistic</td>    <td>-2.027</td>\n",
       "</tr>\n",
       "<tr>\n",
       "  <td>P-value</td>            <td>0.275</td>\n",
       "</tr>\n",
       "<tr>\n",
       "  <td>Lags</td>                   <td>4</td>\n",
       "</tr>\n",
       "</table><br/><br/>Trend: Constant<br/>Critical Values: -3.92 (1%), -3.07 (5%), -2.67 (10%)<br/>Null Hypothesis: The process contains a unit root.<br/>Alternative Hypothesis: The process is weakly stationary."
      ],
      "text/plain": [
       "<class 'arch.unitroot.unitroot.ADF'>\n",
       "\"\"\"\n",
       "   Augmented Dickey-Fuller Results   \n",
       "=====================================\n",
       "Test Statistic                 -2.027\n",
       "P-value                         0.275\n",
       "Lags                                4\n",
       "-------------------------------------\n",
       "\n",
       "Trend: Constant\n",
       "Critical Values: -3.92 (1%), -3.07 (5%), -2.67 (10%)\n",
       "Null Hypothesis: The process contains a unit root.\n",
       "Alternative Hypothesis: The process is weakly stationary.\n",
       "\"\"\""
      ]
     },
     "execution_count": 12,
     "metadata": {},
     "output_type": "execute_result"
    }
   ],
   "source": [
    "# (slide 16)\n",
    "ADF(by_year_ts2['marriedlt50_pct'], lags = 4, trend = 'c')"
   ]
  },
  {
   "cell_type": "code",
   "execution_count": 13,
   "metadata": {},
   "outputs": [
    {
     "data": {
      "text/html": [
       "<table class=\"simpletable\">\n",
       "<caption>Augmented Dickey-Fuller Results</caption>\n",
       "<tr>\n",
       "  <td>Test Statistic</td>    <td>-2.360</td>\n",
       "</tr>\n",
       "<tr>\n",
       "  <td>P-value</td>            <td>0.401</td>\n",
       "</tr>\n",
       "<tr>\n",
       "  <td>Lags</td>                   <td>0</td>\n",
       "</tr>\n",
       "</table><br/><br/>Trend: Constant and Linear Time Trend<br/>Critical Values: -4.50 (1%), -3.66 (5%), -3.27 (10%)<br/>Null Hypothesis: The process contains a unit root.<br/>Alternative Hypothesis: The process is weakly stationary."
      ],
      "text/plain": [
       "<class 'arch.unitroot.unitroot.ADF'>\n",
       "\"\"\"\n",
       "   Augmented Dickey-Fuller Results   \n",
       "=====================================\n",
       "Test Statistic                 -2.360\n",
       "P-value                         0.401\n",
       "Lags                                0\n",
       "-------------------------------------\n",
       "\n",
       "Trend: Constant and Linear Time Trend\n",
       "Critical Values: -4.50 (1%), -3.66 (5%), -3.27 (10%)\n",
       "Null Hypothesis: The process contains a unit root.\n",
       "Alternative Hypothesis: The process is weakly stationary.\n",
       "\"\"\""
      ]
     },
     "execution_count": 13,
     "metadata": {},
     "output_type": "execute_result"
    }
   ],
   "source": [
    "# (slide 19)\n",
    "ADF(by_year_ts2['marriedlt50_pct'], lags = 0, trend = 'ct')"
   ]
  },
  {
   "cell_type": "code",
   "execution_count": 14,
   "metadata": {},
   "outputs": [
    {
     "data": {
      "text/html": [
       "<table class=\"simpletable\">\n",
       "<caption>OLS Regression Results</caption>\n",
       "<tr>\n",
       "  <th>Dep. Variable:</th>            <td>y</td>        <th>  R-squared:         </th> <td>   0.267</td>\n",
       "</tr>\n",
       "<tr>\n",
       "  <th>Model:</th>                   <td>OLS</td>       <th>  Adj. R-squared:    </th> <td>   0.180</td>\n",
       "</tr>\n",
       "<tr>\n",
       "  <th>Method:</th>             <td>Least Squares</td>  <th>  F-statistic:       </th> <td>   3.092</td>\n",
       "</tr>\n",
       "<tr>\n",
       "  <th>Date:</th>             <td>Mon, 13 Aug 2018</td> <th>  Prob (F-statistic):</th>  <td>0.0716</td> \n",
       "</tr>\n",
       "<tr>\n",
       "  <th>Time:</th>                 <td>18:14:45</td>     <th>  Log-Likelihood:    </th> <td> -39.099</td>\n",
       "</tr>\n",
       "<tr>\n",
       "  <th>No. Observations:</th>      <td>    20</td>      <th>  AIC:               </th> <td>   84.20</td>\n",
       "</tr>\n",
       "<tr>\n",
       "  <th>Df Residuals:</th>          <td>    17</td>      <th>  BIC:               </th> <td>   87.19</td>\n",
       "</tr>\n",
       "<tr>\n",
       "  <th>Df Model:</th>              <td>     2</td>      <th>                     </th>     <td> </td>   \n",
       "</tr>\n",
       "<tr>\n",
       "  <th>Covariance Type:</th>      <td>nonrobust</td>    <th>                     </th>     <td> </td>   \n",
       "</tr>\n",
       "</table>\n",
       "<table class=\"simpletable\">\n",
       "<tr>\n",
       "    <td></td>       <th>coef</th>     <th>std err</th>      <th>t</th>      <th>P>|t|</th>  <th>[0.025</th>    <th>0.975]</th>  \n",
       "</tr>\n",
       "<tr>\n",
       "  <th>x1</th>    <td>   -0.5441</td> <td>    0.231</td> <td>   -2.360</td> <td> 0.031</td> <td>   -1.031</td> <td>   -0.058</td>\n",
       "</tr>\n",
       "<tr>\n",
       "  <th>const</th> <td>   22.9549</td> <td>   10.235</td> <td>    2.243</td> <td> 0.039</td> <td>    1.360</td> <td>   44.549</td>\n",
       "</tr>\n",
       "<tr>\n",
       "  <th>x2</th>    <td>   -0.2928</td> <td>    0.165</td> <td>   -1.779</td> <td> 0.093</td> <td>   -0.640</td> <td>    0.054</td>\n",
       "</tr>\n",
       "</table>\n",
       "<table class=\"simpletable\">\n",
       "<tr>\n",
       "  <th>Omnibus:</th>       <td> 0.316</td> <th>  Durbin-Watson:     </th> <td>   1.897</td>\n",
       "</tr>\n",
       "<tr>\n",
       "  <th>Prob(Omnibus):</th> <td> 0.854</td> <th>  Jarque-Bera (JB):  </th> <td>   0.371</td>\n",
       "</tr>\n",
       "<tr>\n",
       "  <th>Skew:</th>          <td>-0.252</td> <th>  Prob(JB):          </th> <td>   0.831</td>\n",
       "</tr>\n",
       "<tr>\n",
       "  <th>Kurtosis:</th>      <td> 2.562</td> <th>  Cond. No.          </th> <td>    964.</td>\n",
       "</tr>\n",
       "</table><br/><br/>Warnings:<br/>[1] Standard Errors assume that the covariance matrix of the errors is correctly specified."
      ],
      "text/plain": [
       "<class 'statsmodels.iolib.summary.Summary'>\n",
       "\"\"\"\n",
       "                            OLS Regression Results                            \n",
       "==============================================================================\n",
       "Dep. Variable:                      y   R-squared:                       0.267\n",
       "Model:                            OLS   Adj. R-squared:                  0.180\n",
       "Method:                 Least Squares   F-statistic:                     3.092\n",
       "Date:                Mon, 13 Aug 2018   Prob (F-statistic):             0.0716\n",
       "Time:                        18:14:45   Log-Likelihood:                -39.099\n",
       "No. Observations:                  20   AIC:                             84.20\n",
       "Df Residuals:                      17   BIC:                             87.19\n",
       "Df Model:                           2                                         \n",
       "Covariance Type:            nonrobust                                         \n",
       "==============================================================================\n",
       "                 coef    std err          t      P>|t|      [0.025      0.975]\n",
       "------------------------------------------------------------------------------\n",
       "x1            -0.5441      0.231     -2.360      0.031      -1.031      -0.058\n",
       "const         22.9549     10.235      2.243      0.039       1.360      44.549\n",
       "x2            -0.2928      0.165     -1.779      0.093      -0.640       0.054\n",
       "==============================================================================\n",
       "Omnibus:                        0.316   Durbin-Watson:                   1.897\n",
       "Prob(Omnibus):                  0.854   Jarque-Bera (JB):                0.371\n",
       "Skew:                          -0.252   Prob(JB):                        0.831\n",
       "Kurtosis:                       2.562   Cond. No.                         964.\n",
       "==============================================================================\n",
       "\n",
       "Warnings:\n",
       "[1] Standard Errors assume that the covariance matrix of the errors is correctly specified.\n",
       "\"\"\""
      ]
     },
     "execution_count": 14,
     "metadata": {},
     "output_type": "execute_result"
    }
   ],
   "source": [
    "# (slide 20)\n",
    "ADF(by_year_ts2['marriedlt50_pct'], lags = 0, trend = 'ct').regression.summary()"
   ]
  },
  {
   "cell_type": "code",
   "execution_count": 15,
   "metadata": {},
   "outputs": [
    {
     "data": {
      "text/html": [
       "<table class=\"simpletable\">\n",
       "<caption>Augmented Dickey-Fuller Results</caption>\n",
       "<tr>\n",
       "  <td>Test Statistic</td>    <td>-0.359</td>\n",
       "</tr>\n",
       "<tr>\n",
       "  <td>P-value</td>            <td>0.988</td>\n",
       "</tr>\n",
       "<tr>\n",
       "  <td>Lags</td>                   <td>4</td>\n",
       "</tr>\n",
       "</table><br/><br/>Trend: Constant and Linear Time Trend<br/>Critical Values: -4.67 (1%), -3.73 (5%), -3.31 (10%)<br/>Null Hypothesis: The process contains a unit root.<br/>Alternative Hypothesis: The process is weakly stationary."
      ],
      "text/plain": [
       "<class 'arch.unitroot.unitroot.ADF'>\n",
       "\"\"\"\n",
       "   Augmented Dickey-Fuller Results   \n",
       "=====================================\n",
       "Test Statistic                 -0.359\n",
       "P-value                         0.988\n",
       "Lags                                4\n",
       "-------------------------------------\n",
       "\n",
       "Trend: Constant and Linear Time Trend\n",
       "Critical Values: -4.67 (1%), -3.73 (5%), -3.31 (10%)\n",
       "Null Hypothesis: The process contains a unit root.\n",
       "Alternative Hypothesis: The process is weakly stationary.\n",
       "\"\"\""
      ]
     },
     "execution_count": 15,
     "metadata": {},
     "output_type": "execute_result"
    }
   ],
   "source": [
    "# (slide 21)\n",
    "ADF(by_year_ts2['marriedlt50_pct'], lags = 4, trend = 'ct')"
   ]
  },
  {
   "cell_type": "markdown",
   "metadata": {},
   "source": [
    "## Phillips-Perron test\n",
    "(slide 23)"
   ]
  },
  {
   "cell_type": "code",
   "execution_count": 16,
   "metadata": {},
   "outputs": [
    {
     "data": {
      "text/html": [
       "<table class=\"simpletable\">\n",
       "<caption>Phillips-Perron Test (Z-tau)</caption>\n",
       "<tr>\n",
       "  <td>Test Statistic</td>    <td>-1.597</td>\n",
       "</tr>\n",
       "<tr>\n",
       "  <td>P-value</td>            <td>0.485</td>\n",
       "</tr>\n",
       "<tr>\n",
       "  <td>Lags</td>                   <td>2</td>\n",
       "</tr>\n",
       "</table><br/><br/>Trend: Constant<br/>Critical Values: -3.81 (1%), -3.02 (5%), -2.65 (10%)<br/>Null Hypothesis: The process contains a unit root.<br/>Alternative Hypothesis: The process is weakly stationary."
      ],
      "text/plain": [
       "<class 'arch.unitroot.unitroot.PhillipsPerron'>\n",
       "\"\"\"\n",
       "     Phillips-Perron Test (Z-tau)    \n",
       "=====================================\n",
       "Test Statistic                 -1.597\n",
       "P-value                         0.485\n",
       "Lags                                2\n",
       "-------------------------------------\n",
       "\n",
       "Trend: Constant\n",
       "Critical Values: -3.81 (1%), -3.02 (5%), -2.65 (10%)\n",
       "Null Hypothesis: The process contains a unit root.\n",
       "Alternative Hypothesis: The process is weakly stationary.\n",
       "\"\"\""
      ]
     },
     "execution_count": 16,
     "metadata": {},
     "output_type": "execute_result"
    }
   ],
   "source": [
    "from arch.unitroot import PhillipsPerron\n",
    "\n",
    "PhillipsPerron(by_year_ts2['marriedlt50_pct'], lags = 2)"
   ]
  },
  {
   "cell_type": "markdown",
   "metadata": {},
   "source": [
    "## What do we do if we have unit roots?"
   ]
  },
  {
   "cell_type": "code",
   "execution_count": 70,
   "metadata": {},
   "outputs": [],
   "source": [
    "# (slide 27)\n",
    "by_yearFD = pd.DataFrame()\n",
    "\n",
    "# grab the variables from by_year_ts2 that we want to take the first differences of\n",
    "by_yearFD = by_year_ts2[['marriedlt50_pct', 'degreelt50_pct']]\n",
    "by_yearFD = by_yearFD.diff()\n",
    "\n",
    "by_yearFD['year'] = by_year_ts2['year']"
   ]
  },
  {
   "cell_type": "markdown",
   "metadata": {},
   "source": [
    "The `ADF` function doesn't accept nan values, so we have to drop them in the data frame. As such, the results might be a bit different compared to the results from R."
   ]
  },
  {
   "cell_type": "code",
   "execution_count": 71,
   "metadata": {},
   "outputs": [],
   "source": [
    "by_yearFD2 = by_yearFD.dropna()"
   ]
  },
  {
   "cell_type": "code",
   "execution_count": 37,
   "metadata": {},
   "outputs": [
    {
     "data": {
      "text/html": [
       "<table class=\"simpletable\">\n",
       "<caption>Augmented Dickey-Fuller Results</caption>\n",
       "<tr>\n",
       "  <td>Test Statistic</td>    <td>-5.202</td>\n",
       "</tr>\n",
       "<tr>\n",
       "  <td>P-value</td>            <td>0.000</td>\n",
       "</tr>\n",
       "<tr>\n",
       "  <td>Lags</td>                   <td>0</td>\n",
       "</tr>\n",
       "</table><br/><br/>Trend: Constant and Linear Time Trend<br/>Critical Values: -4.53 (1%), -3.67 (5%), -3.28 (10%)<br/>Null Hypothesis: The process contains a unit root.<br/>Alternative Hypothesis: The process is weakly stationary."
      ],
      "text/plain": [
       "<class 'arch.unitroot.unitroot.ADF'>\n",
       "\"\"\"\n",
       "   Augmented Dickey-Fuller Results   \n",
       "=====================================\n",
       "Test Statistic                 -5.202\n",
       "P-value                         0.000\n",
       "Lags                                0\n",
       "-------------------------------------\n",
       "\n",
       "Trend: Constant and Linear Time Trend\n",
       "Critical Values: -4.53 (1%), -3.67 (5%), -3.28 (10%)\n",
       "Null Hypothesis: The process contains a unit root.\n",
       "Alternative Hypothesis: The process is weakly stationary.\n",
       "\"\"\""
      ]
     },
     "execution_count": 37,
     "metadata": {},
     "output_type": "execute_result"
    }
   ],
   "source": [
    "# (slide 27)\n",
    "\n",
    "ADF(by_yearFD2['marriedlt50_pct'], lags = 0, trend = 'ct')"
   ]
  },
  {
   "cell_type": "code",
   "execution_count": 20,
   "metadata": {},
   "outputs": [
    {
     "data": {
      "text/html": [
       "<table class=\"simpletable\">\n",
       "<caption>Augmented Dickey-Fuller Results</caption>\n",
       "<tr>\n",
       "  <td>Test Statistic</td>    <td>-5.127</td>\n",
       "</tr>\n",
       "<tr>\n",
       "  <td>P-value</td>            <td>0.000</td>\n",
       "</tr>\n",
       "<tr>\n",
       "  <td>Lags</td>                   <td>0</td>\n",
       "</tr>\n",
       "</table><br/><br/>Trend: Constant and Linear Time Trend<br/>Critical Values: -4.53 (1%), -3.67 (5%), -3.28 (10%)<br/>Null Hypothesis: The process contains a unit root.<br/>Alternative Hypothesis: The process is weakly stationary."
      ],
      "text/plain": [
       "<class 'arch.unitroot.unitroot.ADF'>\n",
       "\"\"\"\n",
       "   Augmented Dickey-Fuller Results   \n",
       "=====================================\n",
       "Test Statistic                 -5.127\n",
       "P-value                         0.000\n",
       "Lags                                0\n",
       "-------------------------------------\n",
       "\n",
       "Trend: Constant and Linear Time Trend\n",
       "Critical Values: -4.53 (1%), -3.67 (5%), -3.28 (10%)\n",
       "Null Hypothesis: The process contains a unit root.\n",
       "Alternative Hypothesis: The process is weakly stationary.\n",
       "\"\"\""
      ]
     },
     "execution_count": 20,
     "metadata": {},
     "output_type": "execute_result"
    }
   ],
   "source": [
    "# (slide 28)\n",
    "\n",
    "ADF(by_yearFD2['degreelt50_pct'], lags = 0, trend = 'ct')"
   ]
  },
  {
   "cell_type": "markdown",
   "metadata": {},
   "source": [
    "### The difference model\n",
    "(slide 29)"
   ]
  },
  {
   "cell_type": "code",
   "execution_count": 21,
   "metadata": {},
   "outputs": [
    {
     "data": {
      "text/html": [
       "<table class=\"simpletable\">\n",
       "<caption>OLS Regression Results</caption>\n",
       "<tr>\n",
       "  <th>Dep. Variable:</th>     <td>marriedlt50_pct</td> <th>  R-squared:         </th> <td>   0.418</td>\n",
       "</tr>\n",
       "<tr>\n",
       "  <th>Model:</th>                   <td>OLS</td>       <th>  Adj. R-squared:    </th> <td>   0.349</td>\n",
       "</tr>\n",
       "<tr>\n",
       "  <th>Method:</th>             <td>Least Squares</td>  <th>  F-statistic:       </th> <td>   6.102</td>\n",
       "</tr>\n",
       "<tr>\n",
       "  <th>Date:</th>             <td>Mon, 13 Aug 2018</td> <th>  Prob (F-statistic):</th>  <td>0.0101</td> \n",
       "</tr>\n",
       "<tr>\n",
       "  <th>Time:</th>                 <td>18:14:57</td>     <th>  Log-Likelihood:    </th> <td> -36.791</td>\n",
       "</tr>\n",
       "<tr>\n",
       "  <th>No. Observations:</th>      <td>    20</td>      <th>  AIC:               </th> <td>   79.58</td>\n",
       "</tr>\n",
       "<tr>\n",
       "  <th>Df Residuals:</th>          <td>    17</td>      <th>  BIC:               </th> <td>   82.57</td>\n",
       "</tr>\n",
       "<tr>\n",
       "  <th>Df Model:</th>              <td>     2</td>      <th>                     </th>     <td> </td>   \n",
       "</tr>\n",
       "<tr>\n",
       "  <th>Covariance Type:</th>      <td>nonrobust</td>    <th>                     </th>     <td> </td>   \n",
       "</tr>\n",
       "</table>\n",
       "<table class=\"simpletable\">\n",
       "<tr>\n",
       "         <td></td>           <th>coef</th>     <th>std err</th>      <th>t</th>      <th>P>|t|</th>  <th>[0.025</th>    <th>0.975]</th>  \n",
       "</tr>\n",
       "<tr>\n",
       "  <th>Intercept</th>      <td> -113.7794</td> <td>  126.990</td> <td>   -0.896</td> <td> 0.383</td> <td> -381.705</td> <td>  154.146</td>\n",
       "</tr>\n",
       "<tr>\n",
       "  <th>degreelt50_pct</th> <td>    1.3279</td> <td>    0.393</td> <td>    3.380</td> <td> 0.004</td> <td>    0.499</td> <td>    2.157</td>\n",
       "</tr>\n",
       "<tr>\n",
       "  <th>year</th>           <td>    0.0569</td> <td>    0.064</td> <td>    0.888</td> <td> 0.387</td> <td>   -0.078</td> <td>    0.192</td>\n",
       "</tr>\n",
       "</table>\n",
       "<table class=\"simpletable\">\n",
       "<tr>\n",
       "  <th>Omnibus:</th>       <td> 0.554</td> <th>  Durbin-Watson:     </th> <td>   2.536</td>\n",
       "</tr>\n",
       "<tr>\n",
       "  <th>Prob(Omnibus):</th> <td> 0.758</td> <th>  Jarque-Bera (JB):  </th> <td>   0.605</td>\n",
       "</tr>\n",
       "<tr>\n",
       "  <th>Skew:</th>          <td> 0.324</td> <th>  Prob(JB):          </th> <td>   0.739</td>\n",
       "</tr>\n",
       "<tr>\n",
       "  <th>Kurtosis:</th>      <td> 2.446</td> <th>  Cond. No.          </th> <td>6.82e+05</td>\n",
       "</tr>\n",
       "</table><br/><br/>Warnings:<br/>[1] Standard Errors assume that the covariance matrix of the errors is correctly specified.<br/>[2] The condition number is large, 6.82e+05. This might indicate that there are<br/>strong multicollinearity or other numerical problems."
      ],
      "text/plain": [
       "<class 'statsmodels.iolib.summary.Summary'>\n",
       "\"\"\"\n",
       "                            OLS Regression Results                            \n",
       "==============================================================================\n",
       "Dep. Variable:        marriedlt50_pct   R-squared:                       0.418\n",
       "Model:                            OLS   Adj. R-squared:                  0.349\n",
       "Method:                 Least Squares   F-statistic:                     6.102\n",
       "Date:                Mon, 13 Aug 2018   Prob (F-statistic):             0.0101\n",
       "Time:                        18:14:57   Log-Likelihood:                -36.791\n",
       "No. Observations:                  20   AIC:                             79.58\n",
       "Df Residuals:                      17   BIC:                             82.57\n",
       "Df Model:                           2                                         \n",
       "Covariance Type:            nonrobust                                         \n",
       "==================================================================================\n",
       "                     coef    std err          t      P>|t|      [0.025      0.975]\n",
       "----------------------------------------------------------------------------------\n",
       "Intercept       -113.7794    126.990     -0.896      0.383    -381.705     154.146\n",
       "degreelt50_pct     1.3279      0.393      3.380      0.004       0.499       2.157\n",
       "year               0.0569      0.064      0.888      0.387      -0.078       0.192\n",
       "==============================================================================\n",
       "Omnibus:                        0.554   Durbin-Watson:                   2.536\n",
       "Prob(Omnibus):                  0.758   Jarque-Bera (JB):                0.605\n",
       "Skew:                           0.324   Prob(JB):                        0.739\n",
       "Kurtosis:                       2.446   Cond. No.                     6.82e+05\n",
       "==============================================================================\n",
       "\n",
       "Warnings:\n",
       "[1] Standard Errors assume that the covariance matrix of the errors is correctly specified.\n",
       "[2] The condition number is large, 6.82e+05. This might indicate that there are\n",
       "strong multicollinearity or other numerical problems.\n",
       "\"\"\""
      ]
     },
     "execution_count": 21,
     "metadata": {},
     "output_type": "execute_result"
    }
   ],
   "source": [
    "lm_Dmarried = smf.ols('marriedlt50_pct ~ degreelt50_pct + year', data = by_yearFD).fit()\n",
    "lm_Dmarried.summary()"
   ]
  },
  {
   "cell_type": "markdown",
   "metadata": {},
   "source": [
    "### Autocorrelations of the differences\n",
    "(slide 30)"
   ]
  },
  {
   "cell_type": "code",
   "execution_count": 258,
   "metadata": {},
   "outputs": [
    {
     "data": {
      "image/png": "[encoded data removed]",
      "text/plain": [
       "<Figure size 600x400 with 1 Axes>"
      ]
     },
     "metadata": {},
     "output_type": "display_data"
    }
   ],
   "source": [
    "e3 = lm_Dmarried.resid\n",
    "plot_acf(e3, lags = 13, zero = False);"
   ]
  },
  {
   "cell_type": "code",
   "execution_count": 259,
   "metadata": {},
   "outputs": [
    {
     "data": {
      "text/plain": [
       "Text(0,0.5,'e3')"
      ]
     },
     "execution_count": 259,
     "metadata": {},
     "output_type": "execute_result"
    },
    {
     "data": {
      "image/png": "[encoded data removed]",
      "text/plain": [
       "<Figure size 600x400 with 1 Axes>"
      ]
     },
     "metadata": {},
     "output_type": "display_data"
    }
   ],
   "source": [
    "pylab.scatter(e3.index, e3)\n",
    "pylab.ylabel('e3')"
   ]
  },
  {
   "cell_type": "code",
   "execution_count": 260,
   "metadata": {},
   "outputs": [
    {
     "data": {
      "text/plain": [
       "2.5363286307482955"
      ]
     },
     "execution_count": 260,
     "metadata": {},
     "output_type": "execute_result"
    }
   ],
   "source": [
    "# (slide 32)\n",
    "\n",
    "durbin_watson(e3)"
   ]
  },
  {
   "cell_type": "code",
   "execution_count": 261,
   "metadata": {},
   "outputs": [
    {
     "name": "stdout",
     "output_type": "stream",
     "text": [
      "LM test = 1.7487111184182447\n",
      "p-value = 0.18603884480084537\n"
     ]
    }
   ],
   "source": [
    "# Breusch-Godfrey test\n",
    "\n",
    "lmtest, pval, fval, f_pval = acorr_breusch_godfrey(lm_Dmarried, nlags = 1)\n",
    "print('LM test =', lmtest)\n",
    "print('p-value =', pval)"
   ]
  },
  {
   "cell_type": "code",
   "execution_count": 22,
   "metadata": {},
   "outputs": [
    {
     "name": "stdout",
     "output_type": "stream",
     "text": [
      "LM test = 9.113700283000764\n",
      "p-value = 0.05831950289393525\n"
     ]
    }
   ],
   "source": [
    "# slide 33\n",
    "lmtest, pval, fval, f_pval = acorr_breusch_godfrey(lm_Dmarried, nlags = 4)\n",
    "print('LM test =', lmtest)\n",
    "print('p-value =', pval)"
   ]
  },
  {
   "cell_type": "markdown",
   "metadata": {},
   "source": [
    "## ARIMA models"
   ]
  },
  {
   "cell_type": "markdown",
   "metadata": {},
   "source": [
    "ARIMA models are difficult to estimate. Therefore, it's common for different software to produce slightly different results as they use different methods of estimation, and different optimization algorithms.\n",
    "\n",
    "According to the contributors of the `statsmodels` library, it's recommended to use the `SARIMAX` class instead of `ARIMA` because it's better maintained. Through testing, `SARIMAX` also produces consistent results compared to those from R. Thus from here on out we will be using `SARIMAX` and keeping the default `seasonal_order` argument setting as (0, 0, 0, 0), which generalizes to the usual ARIMA model.  "
   ]
  },
  {
   "cell_type": "code",
   "execution_count": 90,
   "metadata": {},
   "outputs": [
    {
     "data": {
      "text/html": [
       "<table class=\"simpletable\">\n",
       "<caption>Statespace Model Results</caption>\n",
       "<tr>\n",
       "  <th>Dep. Variable:</th>    <td>marriedlt50_pct</td> <th>  No. Observations:  </th>   <td>21</td>   \n",
       "</tr>\n",
       "<tr>\n",
       "  <th>Model:</th>           <td>SARIMAX(1, 0, 0)</td> <th>  Log Likelihood     </th> <td>-35.644</td>\n",
       "</tr>\n",
       "<tr>\n",
       "  <th>Date:</th>            <td>Tue, 28 Aug 2018</td> <th>  AIC                </th> <td>81.288</td> \n",
       "</tr>\n",
       "<tr>\n",
       "  <th>Time:</th>                <td>21:36:11</td>     <th>  BIC                </th> <td>86.511</td> \n",
       "</tr>\n",
       "<tr>\n",
       "  <th>Sample:</th>                  <td>0</td>        <th>  HQIC               </th> <td>82.421</td> \n",
       "</tr>\n",
       "<tr>\n",
       "  <th></th>                       <td> - 21</td>      <th>                     </th>    <td> </td>   \n",
       "</tr>\n",
       "<tr>\n",
       "  <th>Covariance Type:</th>        <td>opg</td>       <th>                     </th>    <td> </td>   \n",
       "</tr>\n",
       "</table>\n",
       "<table class=\"simpletable\">\n",
       "<tr>\n",
       "         <td></td>           <th>coef</th>     <th>std err</th>      <th>z</th>      <th>P>|z|</th>  <th>[0.025</th>    <th>0.975]</th>  \n",
       "</tr>\n",
       "<tr>\n",
       "  <th>degreelt50_pct</th> <td>    1.5576</td> <td>    0.476</td> <td>    3.274</td> <td> 0.001</td> <td>    0.625</td> <td>    2.490</td>\n",
       "</tr>\n",
       "<tr>\n",
       "  <th>year</th>           <td>   -1.1117</td> <td>    0.170</td> <td>   -6.529</td> <td> 0.000</td> <td>   -1.445</td> <td>   -0.778</td>\n",
       "</tr>\n",
       "<tr>\n",
       "  <th>intercept</th>      <td> 2222.4483</td> <td>  332.313</td> <td>    6.688</td> <td> 0.000</td> <td> 1571.126</td> <td> 2873.770</td>\n",
       "</tr>\n",
       "<tr>\n",
       "  <th>ar.L1</th>          <td>    0.3393</td> <td>    0.351</td> <td>    0.968</td> <td> 0.333</td> <td>   -0.348</td> <td>    1.027</td>\n",
       "</tr>\n",
       "<tr>\n",
       "  <th>sigma2</th>         <td>    1.6157</td> <td>    0.651</td> <td>    2.483</td> <td> 0.013</td> <td>    0.341</td> <td>    2.891</td>\n",
       "</tr>\n",
       "</table>\n",
       "<table class=\"simpletable\">\n",
       "<tr>\n",
       "  <th>Ljung-Box (Q):</th>          <td>18.16</td> <th>  Jarque-Bera (JB):  </th> <td>0.14</td> \n",
       "</tr>\n",
       "<tr>\n",
       "  <th>Prob(Q):</th>                <td>0.58</td>  <th>  Prob(JB):          </th> <td>0.93</td> \n",
       "</tr>\n",
       "<tr>\n",
       "  <th>Heteroskedasticity (H):</th> <td>1.79</td>  <th>  Skew:              </th> <td>-0.20</td>\n",
       "</tr>\n",
       "<tr>\n",
       "  <th>Prob(H) (two-sided):</th>    <td>0.46</td>  <th>  Kurtosis:          </th> <td>2.90</td> \n",
       "</tr>\n",
       "</table><br/><br/>Warnings:<br/>[1] Covariance matrix calculated using the outer product of gradients (complex-step)."
      ],
      "text/plain": [
       "<class 'statsmodels.iolib.summary.Summary'>\n",
       "\"\"\"\n",
       "                           Statespace Model Results                           \n",
       "==============================================================================\n",
       "Dep. Variable:        marriedlt50_pct   No. Observations:                   21\n",
       "Model:               SARIMAX(1, 0, 0)   Log Likelihood                 -35.644\n",
       "Date:                Tue, 28 Aug 2018   AIC                             81.288\n",
       "Time:                        21:36:11   BIC                             86.511\n",
       "Sample:                             0   HQIC                            82.421\n",
       "                                 - 21                                         \n",
       "Covariance Type:                  opg                                         \n",
       "==================================================================================\n",
       "                     coef    std err          z      P>|z|      [0.025      0.975]\n",
       "----------------------------------------------------------------------------------\n",
       "degreelt50_pct     1.5576      0.476      3.274      0.001       0.625       2.490\n",
       "year              -1.1117      0.170     -6.529      0.000      -1.445      -0.778\n",
       "intercept       2222.4483    332.313      6.688      0.000    1571.126    2873.770\n",
       "ar.L1              0.3393      0.351      0.968      0.333      -0.348       1.027\n",
       "sigma2             1.6157      0.651      2.483      0.013       0.341       2.891\n",
       "===================================================================================\n",
       "Ljung-Box (Q):                       18.16   Jarque-Bera (JB):                 0.14\n",
       "Prob(Q):                              0.58   Prob(JB):                         0.93\n",
       "Heteroskedasticity (H):               1.79   Skew:                            -0.20\n",
       "Prob(H) (two-sided):                  0.46   Kurtosis:                         2.90\n",
       "===================================================================================\n",
       "\n",
       "Warnings:\n",
       "[1] Covariance matrix calculated using the outer product of gradients (complex-step).\n",
       "\"\"\""
      ]
     },
     "execution_count": 90,
     "metadata": {},
     "output_type": "execute_result"
    }
   ],
   "source": [
    "# slide 38\n",
    "from statsmodels.tsa.arima_model import ARIMA\n",
    "from statsmodels.tsa.statespace.sarimax import SARIMAX\n",
    "\n",
    "by_year_ts2['intercept'] = 1\n",
    "arima_married100 = SARIMAX(by_year_ts2['marriedlt50_pct'], order = (1, 0, 0), exog = by_year_ts2[['degreelt50_pct', 'year', 'intercept']]).fit()\n",
    "arima_married100.summary()"
   ]
  },
  {
   "cell_type": "markdown",
   "metadata": {},
   "source": [
    "<br>\n",
    "Plotting residuals:"
   ]
  },
  {
   "cell_type": "code",
   "execution_count": 265,
   "metadata": {},
   "outputs": [
    {
     "data": {
      "text/plain": [
       "<matplotlib.axes._subplots.AxesSubplot at 0x1c2e649ac8>"
      ]
     },
     "execution_count": 265,
     "metadata": {},
     "output_type": "execute_result"
    },
    {
     "data": {
      "image/png": "[encoded data removed]",
      "text/plain": [
       "<Figure size 600x400 with 1 Axes>"
      ]
     },
     "metadata": {},
     "output_type": "display_data"
    }
   ],
   "source": [
    "# Get residuals, set to dataframe, and rename error column\n",
    "arima_married100_err = arima_married100.resid.to_frame().reset_index().rename(columns={0: 'error'})\n",
    "\n",
    "arima_married100_err['year'] = by_year_ts2['year']\n",
    "\n",
    "arima_married100_err.plot.scatter(x='year', y='error')"
   ]
  },
  {
   "cell_type": "markdown",
   "metadata": {},
   "source": [
    "<br>\n",
    "Plotting ACF of residuals"
   ]
  },
  {
   "cell_type": "code",
   "execution_count": 266,
   "metadata": {},
   "outputs": [
    {
     "data": {
      "image/png": "[encoded data removed]",
      "text/plain": [
       "<Figure size 600x400 with 1 Axes>"
      ]
     },
     "metadata": {},
     "output_type": "display_data"
    }
   ],
   "source": [
    "plot_acf(arima_married100.resid, lags = 13, zero = False);"
   ]
  },
  {
   "cell_type": "code",
   "execution_count": 80,
   "metadata": {},
   "outputs": [],
   "source": [
    "# slide 40\n",
    "\n",
    "arima_married010 = SARIMAX(by_year_ts2['marriedlt50_pct'], order = (0, 1, 0), exog = by_year_ts2[['degreelt50_pct', 'year']]).\\\n",
    "                    fit(trend='nc')"
   ]
  },
  {
   "cell_type": "code",
   "execution_count": 81,
   "metadata": {},
   "outputs": [
    {
     "data": {
      "text/html": [
       "<table class=\"simpletable\">\n",
       "<caption>Statespace Model Results</caption>\n",
       "<tr>\n",
       "  <th>Dep. Variable:</th>    <td>marriedlt50_pct</td> <th>  No. Observations:  </th>   <td>21</td>   \n",
       "</tr>\n",
       "<tr>\n",
       "  <th>Model:</th>           <td>SARIMAX(0, 1, 0)</td> <th>  Log Likelihood     </th> <td>-37.244</td>\n",
       "</tr>\n",
       "<tr>\n",
       "  <th>Date:</th>            <td>Tue, 28 Aug 2018</td> <th>  AIC                </th> <td>80.488</td> \n",
       "</tr>\n",
       "<tr>\n",
       "  <th>Time:</th>                <td>21:33:27</td>     <th>  BIC                </th> <td>83.476</td> \n",
       "</tr>\n",
       "<tr>\n",
       "  <th>Sample:</th>                  <td>0</td>        <th>  HQIC               </th> <td>81.072</td> \n",
       "</tr>\n",
       "<tr>\n",
       "  <th></th>                       <td> - 21</td>      <th>                     </th>    <td> </td>   \n",
       "</tr>\n",
       "<tr>\n",
       "  <th>Covariance Type:</th>        <td>opg</td>       <th>                     </th>    <td> </td>   \n",
       "</tr>\n",
       "</table>\n",
       "<table class=\"simpletable\">\n",
       "<tr>\n",
       "         <td></td>           <th>coef</th>     <th>std err</th>      <th>z</th>      <th>P>|z|</th>  <th>[0.025</th>    <th>0.975]</th>  \n",
       "</tr>\n",
       "<tr>\n",
       "  <th>degreelt50_pct</th> <td>    1.3272</td> <td>    0.311</td> <td>    4.266</td> <td> 0.000</td> <td>    0.718</td> <td>    1.937</td>\n",
       "</tr>\n",
       "<tr>\n",
       "  <th>year</th>           <td>   -1.0536</td> <td>    0.411</td> <td>   -2.566</td> <td> 0.010</td> <td>   -1.858</td> <td>   -0.249</td>\n",
       "</tr>\n",
       "<tr>\n",
       "  <th>sigma2</th>         <td>    2.4267</td> <td>    1.062</td> <td>    2.285</td> <td> 0.022</td> <td>    0.345</td> <td>    4.509</td>\n",
       "</tr>\n",
       "</table>\n",
       "<table class=\"simpletable\">\n",
       "<tr>\n",
       "  <th>Ljung-Box (Q):</th>          <td>12.56</td> <th>  Jarque-Bera (JB):  </th> <td>0.96</td>\n",
       "</tr>\n",
       "<tr>\n",
       "  <th>Prob(Q):</th>                <td>0.86</td>  <th>  Prob(JB):          </th> <td>0.62</td>\n",
       "</tr>\n",
       "<tr>\n",
       "  <th>Heteroskedasticity (H):</th> <td>1.62</td>  <th>  Skew:              </th> <td>0.41</td>\n",
       "</tr>\n",
       "<tr>\n",
       "  <th>Prob(H) (two-sided):</th>    <td>0.54</td>  <th>  Kurtosis:          </th> <td>2.31</td>\n",
       "</tr>\n",
       "</table><br/><br/>Warnings:<br/>[1] Covariance matrix calculated using the outer product of gradients (complex-step)."
      ],
      "text/plain": [
       "<class 'statsmodels.iolib.summary.Summary'>\n",
       "\"\"\"\n",
       "                           Statespace Model Results                           \n",
       "==============================================================================\n",
       "Dep. Variable:        marriedlt50_pct   No. Observations:                   21\n",
       "Model:               SARIMAX(0, 1, 0)   Log Likelihood                 -37.244\n",
       "Date:                Tue, 28 Aug 2018   AIC                             80.488\n",
       "Time:                        21:33:27   BIC                             83.476\n",
       "Sample:                             0   HQIC                            81.072\n",
       "                                 - 21                                         \n",
       "Covariance Type:                  opg                                         \n",
       "==================================================================================\n",
       "                     coef    std err          z      P>|z|      [0.025      0.975]\n",
       "----------------------------------------------------------------------------------\n",
       "degreelt50_pct     1.3272      0.311      4.266      0.000       0.718       1.937\n",
       "year              -1.0536      0.411     -2.566      0.010      -1.858      -0.249\n",
       "sigma2             2.4267      1.062      2.285      0.022       0.345       4.509\n",
       "===================================================================================\n",
       "Ljung-Box (Q):                       12.56   Jarque-Bera (JB):                 0.96\n",
       "Prob(Q):                              0.86   Prob(JB):                         0.62\n",
       "Heteroskedasticity (H):               1.62   Skew:                             0.41\n",
       "Prob(H) (two-sided):                  0.54   Kurtosis:                         2.31\n",
       "===================================================================================\n",
       "\n",
       "Warnings:\n",
       "[1] Covariance matrix calculated using the outer product of gradients (complex-step).\n",
       "\"\"\""
      ]
     },
     "execution_count": 81,
     "metadata": {},
     "output_type": "execute_result"
    }
   ],
   "source": [
    "arima_married010.summary()"
   ]
  },
  {
   "cell_type": "code",
   "execution_count": 83,
   "metadata": {},
   "outputs": [],
   "source": [
    "arima_married520 = SARIMAX(by_year_ts2['marriedlt50_pct'], order = (5, 2, 0), exog = by_year_ts2['degreelt50_pct']).\\\n",
    "                    fit(trend = 'nc')"
   ]
  },
  {
   "cell_type": "code",
   "execution_count": 84,
   "metadata": {},
   "outputs": [
    {
     "data": {
      "text/html": [
       "<table class=\"simpletable\">\n",
       "<caption>Statespace Model Results</caption>\n",
       "<tr>\n",
       "  <th>Dep. Variable:</th>    <td>marriedlt50_pct</td> <th>  No. Observations:  </th>   <td>21</td>   \n",
       "</tr>\n",
       "<tr>\n",
       "  <th>Model:</th>           <td>SARIMAX(5, 2, 0)</td> <th>  Log Likelihood     </th> <td>-34.459</td>\n",
       "</tr>\n",
       "<tr>\n",
       "  <th>Date:</th>            <td>Tue, 28 Aug 2018</td> <th>  AIC                </th> <td>82.918</td> \n",
       "</tr>\n",
       "<tr>\n",
       "  <th>Time:</th>                <td>21:34:30</td>     <th>  BIC                </th> <td>89.529</td> \n",
       "</tr>\n",
       "<tr>\n",
       "  <th>Sample:</th>                  <td>0</td>        <th>  HQIC               </th> <td>84.037</td> \n",
       "</tr>\n",
       "<tr>\n",
       "  <th></th>                       <td> - 21</td>      <th>                     </th>    <td> </td>   \n",
       "</tr>\n",
       "<tr>\n",
       "  <th>Covariance Type:</th>        <td>opg</td>       <th>                     </th>    <td> </td>   \n",
       "</tr>\n",
       "</table>\n",
       "<table class=\"simpletable\">\n",
       "<tr>\n",
       "         <td></td>           <th>coef</th>     <th>std err</th>      <th>z</th>      <th>P>|z|</th>  <th>[0.025</th>    <th>0.975]</th>  \n",
       "</tr>\n",
       "<tr>\n",
       "  <th>degreelt50_pct</th> <td>    1.0463</td> <td>    0.333</td> <td>    3.146</td> <td> 0.002</td> <td>    0.394</td> <td>    1.698</td>\n",
       "</tr>\n",
       "<tr>\n",
       "  <th>ar.L1</th>          <td>   -1.2398</td> <td>    0.457</td> <td>   -2.711</td> <td> 0.007</td> <td>   -2.136</td> <td>   -0.344</td>\n",
       "</tr>\n",
       "<tr>\n",
       "  <th>ar.L2</th>          <td>   -1.0801</td> <td>    0.471</td> <td>   -2.291</td> <td> 0.022</td> <td>   -2.004</td> <td>   -0.156</td>\n",
       "</tr>\n",
       "<tr>\n",
       "  <th>ar.L3</th>          <td>   -1.0279</td> <td>    0.462</td> <td>   -2.225</td> <td> 0.026</td> <td>   -1.933</td> <td>   -0.123</td>\n",
       "</tr>\n",
       "<tr>\n",
       "  <th>ar.L4</th>          <td>   -1.0339</td> <td>    0.296</td> <td>   -3.489</td> <td> 0.000</td> <td>   -1.615</td> <td>   -0.453</td>\n",
       "</tr>\n",
       "<tr>\n",
       "  <th>ar.L5</th>          <td>   -0.5304</td> <td>    0.270</td> <td>   -1.963</td> <td> 0.050</td> <td>   -1.060</td> <td>   -0.001</td>\n",
       "</tr>\n",
       "<tr>\n",
       "  <th>sigma2</th>         <td>    1.8095</td> <td>    1.064</td> <td>    1.701</td> <td> 0.089</td> <td>   -0.276</td> <td>    3.895</td>\n",
       "</tr>\n",
       "</table>\n",
       "<table class=\"simpletable\">\n",
       "<tr>\n",
       "  <th>Ljung-Box (Q):</th>          <td>14.02</td> <th>  Jarque-Bera (JB):  </th> <td>0.38</td>\n",
       "</tr>\n",
       "<tr>\n",
       "  <th>Prob(Q):</th>                <td>0.73</td>  <th>  Prob(JB):          </th> <td>0.83</td>\n",
       "</tr>\n",
       "<tr>\n",
       "  <th>Heteroskedasticity (H):</th> <td>1.30</td>  <th>  Skew:              </th> <td>0.17</td>\n",
       "</tr>\n",
       "<tr>\n",
       "  <th>Prob(H) (two-sided):</th>    <td>0.76</td>  <th>  Kurtosis:          </th> <td>2.39</td>\n",
       "</tr>\n",
       "</table><br/><br/>Warnings:<br/>[1] Covariance matrix calculated using the outer product of gradients (complex-step)."
      ],
      "text/plain": [
       "<class 'statsmodels.iolib.summary.Summary'>\n",
       "\"\"\"\n",
       "                           Statespace Model Results                           \n",
       "==============================================================================\n",
       "Dep. Variable:        marriedlt50_pct   No. Observations:                   21\n",
       "Model:               SARIMAX(5, 2, 0)   Log Likelihood                 -34.459\n",
       "Date:                Tue, 28 Aug 2018   AIC                             82.918\n",
       "Time:                        21:34:30   BIC                             89.529\n",
       "Sample:                             0   HQIC                            84.037\n",
       "                                 - 21                                         \n",
       "Covariance Type:                  opg                                         \n",
       "==================================================================================\n",
       "                     coef    std err          z      P>|z|      [0.025      0.975]\n",
       "----------------------------------------------------------------------------------\n",
       "degreelt50_pct     1.0463      0.333      3.146      0.002       0.394       1.698\n",
       "ar.L1             -1.2398      0.457     -2.711      0.007      -2.136      -0.344\n",
       "ar.L2             -1.0801      0.471     -2.291      0.022      -2.004      -0.156\n",
       "ar.L3             -1.0279      0.462     -2.225      0.026      -1.933      -0.123\n",
       "ar.L4             -1.0339      0.296     -3.489      0.000      -1.615      -0.453\n",
       "ar.L5             -0.5304      0.270     -1.963      0.050      -1.060      -0.001\n",
       "sigma2             1.8095      1.064      1.701      0.089      -0.276       3.895\n",
       "===================================================================================\n",
       "Ljung-Box (Q):                       14.02   Jarque-Bera (JB):                 0.38\n",
       "Prob(Q):                              0.73   Prob(JB):                         0.83\n",
       "Heteroskedasticity (H):               1.30   Skew:                             0.17\n",
       "Prob(H) (two-sided):                  0.76   Kurtosis:                         2.39\n",
       "===================================================================================\n",
       "\n",
       "Warnings:\n",
       "[1] Covariance matrix calculated using the outer product of gradients (complex-step).\n",
       "\"\"\""
      ]
     },
     "execution_count": 84,
     "metadata": {},
     "output_type": "execute_result"
    }
   ],
   "source": [
    "arima_married520.summary()"
   ]
  },
  {
   "cell_type": "code",
   "execution_count": 85,
   "metadata": {},
   "outputs": [],
   "source": [
    "# Create a new dataframe containing the necessary columns we will graph\n",
    "year = pd.Series(by_year_ts2['year'], name='year')\n",
    "\n",
    "marriedlt50pct = pd.Series(by_year_ts2['marriedlt50_pct'], name='marriedlt50_pct')\n",
    "D1_marriedlt50_pct = pd.Series(by_year_ts2['marriedlt50_pct'].diff(), name='D1_marriedlt50_pct')\n",
    "D2_marriedlt50_pct = pd.Series(D1_marriedlt50_pct.diff(), name='D2_marriedlt50_pct')\n",
    "\n",
    "degreelt50_pct = pd.Series(by_year_ts2['degreelt50_pct'], name='degreelt50_pct')\n",
    "D1_degreelt50_pct = pd.Series(by_year_ts2['degreelt50_pct'].diff(), name='D1_degreelt50_pct')\n",
    "D2_degreelt50_pct = pd.Series(D1_degreelt50_pct.diff(), name='D2_degreelt50_pct')\n",
    "\n",
    "Diff_dat = pd.concat([year, marriedlt50pct, D1_marriedlt50_pct, D2_marriedlt50_pct,\n",
    "                      degreelt50_pct, D1_degreelt50_pct, D2_degreelt50_pct], axis=1)"
   ]
  },
  {
   "cell_type": "code",
   "execution_count": 86,
   "metadata": {},
   "outputs": [
    {
     "data": {
      "text/plain": [
       "[<matplotlib.lines.Line2D at 0x1c2b79a748>]"
      ]
     },
     "execution_count": 86,
     "metadata": {},
     "output_type": "execute_result"
    },
    {
     "data": {
      "image/png": "[encoded data removed]",
      "text/plain": [
       "<Figure size 432x288 with 1 Axes>"
      ]
     },
     "metadata": {},
     "output_type": "display_data"
    }
   ],
   "source": [
    "# slide 43\n",
    "plt.style.use('seaborn-whitegrid')\n",
    "\n",
    "ax = plt.figure().gca()\n",
    "ax.xaxis.set_major_locator(MaxNLocator(integer=True))\n",
    "\n",
    "plt.plot(Diff_dat['year'], Diff_dat['marriedlt50_pct'])\n",
    "plt.plot(Diff_dat['year'], Diff_dat['D1_marriedlt50_pct'])\n",
    "plt.plot(Diff_dat['year'], Diff_dat['D2_marriedlt50_pct'])"
   ]
  },
  {
   "cell_type": "code",
   "execution_count": 314,
   "metadata": {},
   "outputs": [
    {
     "data": {
      "text/plain": [
       "[<matplotlib.lines.Line2D at 0x1c1a5b40b8>]"
      ]
     },
     "execution_count": 314,
     "metadata": {},
     "output_type": "execute_result"
    },
    {
     "data": {
      "image/png": "[encoded data removed]",
      "text/plain": [
       "<Figure size 600x400 with 1 Axes>"
      ]
     },
     "metadata": {},
     "output_type": "display_data"
    }
   ],
   "source": [
    "# slide 44\n",
    "ax = plt.figure().gca()\n",
    "ax.xaxis.set_major_locator(MaxNLocator(integer=True))\n",
    "\n",
    "plt.plot(Diff_dat['year'], Diff_dat['degreelt50_pct'])\n",
    "plt.plot(Diff_dat['year'], Diff_dat['D1_degreelt50_pct'])\n",
    "plt.plot(Diff_dat['year'], Diff_dat['D2_degreelt50_pct'])"
   ]
  },
  {
   "cell_type": "markdown",
   "metadata": {},
   "source": [
    "Box-Pierce test on `arima_married520`:\n",
    "\n",
    "None of the p-values are statistically significant so we do not have evidence of serial correlation. "
   ]
  },
  {
   "cell_type": "code",
   "execution_count": 91,
   "metadata": {},
   "outputs": [
    {
     "data": {
      "text/plain": [
       "array([0.04608016, 0.13556847, 0.26182163, 0.40125976, 0.54431377,\n",
       "       0.66171829, 0.76687243, 0.84181614])"
      ]
     },
     "execution_count": 91,
     "metadata": {},
     "output_type": "execute_result"
    }
   ],
   "source": [
    "# slide 46\n",
    "arima_married520_resid = arima_married520.resid\n",
    "\n",
    "acorr_ljungbox(arima_married520_resid, boxpierce=True)[3]"
   ]
  },
  {
   "cell_type": "markdown",
   "metadata": {},
   "source": [
    "<br>\n",
    "Try ARIMA(5, 1, 0):"
   ]
  },
  {
   "cell_type": "code",
   "execution_count": 399,
   "metadata": {},
   "outputs": [],
   "source": [
    "Diff_dat1 = Diff_dat[['D1_marriedlt50_pct', 'D1_degreelt50_pct']].copy()\n",
    "\n",
    "Diff_dat1.dropna(inplace=True)"
   ]
  },
  {
   "cell_type": "code",
   "execution_count": 93,
   "metadata": {},
   "outputs": [
    {
     "data": {
      "text/html": [
       "<table class=\"simpletable\">\n",
       "<caption>Statespace Model Results</caption>\n",
       "<tr>\n",
       "  <th>Dep. Variable:</th>    <td>marriedlt50_pct</td> <th>  No. Observations:  </th>   <td>21</td>   \n",
       "</tr>\n",
       "<tr>\n",
       "  <th>Model:</th>           <td>SARIMAX(5, 1, 0)</td> <th>  Log Likelihood     </th> <td>-37.384</td>\n",
       "</tr>\n",
       "<tr>\n",
       "  <th>Date:</th>            <td>Tue, 28 Aug 2018</td> <th>  AIC                </th> <td>88.767</td> \n",
       "</tr>\n",
       "<tr>\n",
       "  <th>Time:</th>                <td>21:39:19</td>     <th>  BIC                </th> <td>95.737</td> \n",
       "</tr>\n",
       "<tr>\n",
       "  <th>Sample:</th>                  <td>0</td>        <th>  HQIC               </th> <td>90.128</td> \n",
       "</tr>\n",
       "<tr>\n",
       "  <th></th>                       <td> - 21</td>      <th>                     </th>    <td> </td>   \n",
       "</tr>\n",
       "<tr>\n",
       "  <th>Covariance Type:</th>        <td>opg</td>       <th>                     </th>    <td> </td>   \n",
       "</tr>\n",
       "</table>\n",
       "<table class=\"simpletable\">\n",
       "<tr>\n",
       "         <td></td>           <th>coef</th>     <th>std err</th>      <th>z</th>      <th>P>|z|</th>  <th>[0.025</th>    <th>0.975]</th>  \n",
       "</tr>\n",
       "<tr>\n",
       "  <th>degreelt50_pct</th> <td>    1.0593</td> <td>    0.360</td> <td>    2.940</td> <td> 0.003</td> <td>    0.353</td> <td>    1.766</td>\n",
       "</tr>\n",
       "<tr>\n",
       "  <th>ar.L1</th>          <td>    0.0248</td> <td>    0.282</td> <td>    0.088</td> <td> 0.930</td> <td>   -0.529</td> <td>    0.578</td>\n",
       "</tr>\n",
       "<tr>\n",
       "  <th>ar.L2</th>          <td>    0.0665</td> <td>    0.237</td> <td>    0.281</td> <td> 0.779</td> <td>   -0.398</td> <td>    0.531</td>\n",
       "</tr>\n",
       "<tr>\n",
       "  <th>ar.L3</th>          <td>    0.1009</td> <td>    0.213</td> <td>    0.475</td> <td> 0.635</td> <td>   -0.316</td> <td>    0.517</td>\n",
       "</tr>\n",
       "<tr>\n",
       "  <th>ar.L4</th>          <td>    0.0034</td> <td>    0.201</td> <td>    0.017</td> <td> 0.986</td> <td>   -0.390</td> <td>    0.396</td>\n",
       "</tr>\n",
       "<tr>\n",
       "  <th>ar.L5</th>          <td>    0.4887</td> <td>    0.273</td> <td>    1.788</td> <td> 0.074</td> <td>   -0.047</td> <td>    1.024</td>\n",
       "</tr>\n",
       "<tr>\n",
       "  <th>sigma2</th>         <td>    2.2801</td> <td>    1.234</td> <td>    1.848</td> <td> 0.065</td> <td>   -0.138</td> <td>    4.698</td>\n",
       "</tr>\n",
       "</table>\n",
       "<table class=\"simpletable\">\n",
       "<tr>\n",
       "  <th>Ljung-Box (Q):</th>          <td>15.93</td> <th>  Jarque-Bera (JB):  </th> <td>1.16</td>\n",
       "</tr>\n",
       "<tr>\n",
       "  <th>Prob(Q):</th>                <td>0.66</td>  <th>  Prob(JB):          </th> <td>0.56</td>\n",
       "</tr>\n",
       "<tr>\n",
       "  <th>Heteroskedasticity (H):</th> <td>0.90</td>  <th>  Skew:              </th> <td>0.40</td>\n",
       "</tr>\n",
       "<tr>\n",
       "  <th>Prob(H) (two-sided):</th>    <td>0.90</td>  <th>  Kurtosis:          </th> <td>2.13</td>\n",
       "</tr>\n",
       "</table><br/><br/>Warnings:<br/>[1] Covariance matrix calculated using the outer product of gradients (complex-step)."
      ],
      "text/plain": [
       "<class 'statsmodels.iolib.summary.Summary'>\n",
       "\"\"\"\n",
       "                           Statespace Model Results                           \n",
       "==============================================================================\n",
       "Dep. Variable:        marriedlt50_pct   No. Observations:                   21\n",
       "Model:               SARIMAX(5, 1, 0)   Log Likelihood                 -37.384\n",
       "Date:                Tue, 28 Aug 2018   AIC                             88.767\n",
       "Time:                        21:39:19   BIC                             95.737\n",
       "Sample:                             0   HQIC                            90.128\n",
       "                                 - 21                                         \n",
       "Covariance Type:                  opg                                         \n",
       "==================================================================================\n",
       "                     coef    std err          z      P>|z|      [0.025      0.975]\n",
       "----------------------------------------------------------------------------------\n",
       "degreelt50_pct     1.0593      0.360      2.940      0.003       0.353       1.766\n",
       "ar.L1              0.0248      0.282      0.088      0.930      -0.529       0.578\n",
       "ar.L2              0.0665      0.237      0.281      0.779      -0.398       0.531\n",
       "ar.L3              0.1009      0.213      0.475      0.635      -0.316       0.517\n",
       "ar.L4              0.0034      0.201      0.017      0.986      -0.390       0.396\n",
       "ar.L5              0.4887      0.273      1.788      0.074      -0.047       1.024\n",
       "sigma2             2.2801      1.234      1.848      0.065      -0.138       4.698\n",
       "===================================================================================\n",
       "Ljung-Box (Q):                       15.93   Jarque-Bera (JB):                 1.16\n",
       "Prob(Q):                              0.66   Prob(JB):                         0.56\n",
       "Heteroskedasticity (H):               0.90   Skew:                             0.40\n",
       "Prob(H) (two-sided):                  0.90   Kurtosis:                         2.13\n",
       "===================================================================================\n",
       "\n",
       "Warnings:\n",
       "[1] Covariance matrix calculated using the outer product of gradients (complex-step).\n",
       "\"\"\""
      ]
     },
     "execution_count": 93,
     "metadata": {},
     "output_type": "execute_result"
    }
   ],
   "source": [
    "# slide 47\n",
    "\n",
    "arima_married510 = SARIMAX(by_year_ts2['marriedlt50_pct'], order = (5, 1, 0), exog = by_year_ts2['degreelt50_pct']).\\\n",
    "                        fit(trend='nc') \n",
    "arima_married510.summary()"
   ]
  },
  {
   "cell_type": "code",
   "execution_count": 94,
   "metadata": {},
   "outputs": [
    {
     "data": {
      "text/plain": [
       "array([0.79571495, 0.96600249, 0.99137974, 0.99623159, 0.99928975,\n",
       "       0.99964647, 0.99984859, 0.99993862])"
      ]
     },
     "execution_count": 94,
     "metadata": {},
     "output_type": "execute_result"
    }
   ],
   "source": [
    "# slide 49\n",
    "arima_married510_resid = arima_married510.resid\n",
    "\n",
    "acorr_ljungbox(arima_married510_resid, boxpierce=True)[3]"
   ]
  },
  {
   "cell_type": "markdown",
   "metadata": {},
   "source": [
    "The `auto_arima` function from the `pyramid` package can be used to automatically select the optimum parameters for the ARIMA model by computing the comparing AIC values. "
   ]
  },
  {
   "cell_type": "markdown",
   "metadata": {},
   "source": [
    "## Traffic fatalities example"
   ]
  },
  {
   "cell_type": "code",
   "execution_count": 8,
   "metadata": {},
   "outputs": [],
   "source": [
    "# slide 56\n",
    "\n",
    "fatal_unemp = pd.read_csv('fatalities.csv')\n",
    "fatal_unemp = fatal_unemp.rename(columns={'fatpbvmt':'fatalities', 'umempl': 'unemployment'})\n",
    "\n",
    "plot_dat = fatal_unemp[['year', 'fatalities', 'unemployment']].copy()\n",
    "plot_dat = pd.melt(plot_dat, id_vars=['year'], value_vars=['fatalities', 'unemployment'])"
   ]
  },
  {
   "cell_type": "code",
   "execution_count": 26,
   "metadata": {},
   "outputs": [
    {
     "data": {
      "text/plain": [
       "<matplotlib.axes._subplots.AxesSubplot at 0x1c1aed0438>"
      ]
     },
     "execution_count": 26,
     "metadata": {},
     "output_type": "execute_result"
    },
    {
     "data": {
      "image/png": "[encoded data removed]",
      "text/plain": [
       "<Figure size 432x288 with 1 Axes>"
      ]
     },
     "metadata": {},
     "output_type": "display_data"
    }
   ],
   "source": [
    "fig, ax = plt.subplots()\n",
    "sns.lineplot(x='year', y='value', hue='variable', data=plot_dat, ax=ax)\n",
    "sns.regplot(x='year', y='value', data=plot_dat[plot_dat.variable=='unemployment'], ax=ax, scatter=False, ci=False, marker='-', color='#ff7f0e')\n",
    "sns.regplot(x='year', y='value', data=plot_dat[plot_dat.variable=='fatalities'], ax=ax, scatter=False, ci=False, color='#1f77b4')"
   ]
  },
  {
   "cell_type": "markdown",
   "metadata": {},
   "source": [
    "#### Too simple model"
   ]
  },
  {
   "cell_type": "code",
   "execution_count": 27,
   "metadata": {},
   "outputs": [
    {
     "data": {
      "text/html": [
       "<table class=\"simpletable\">\n",
       "<caption>OLS Regression Results</caption>\n",
       "<tr>\n",
       "  <th>Dep. Variable:</th>       <td>fatalities</td>    <th>  R-squared:         </th> <td>   0.221</td>\n",
       "</tr>\n",
       "<tr>\n",
       "  <th>Model:</th>                   <td>OLS</td>       <th>  Adj. R-squared:    </th> <td>   0.209</td>\n",
       "</tr>\n",
       "<tr>\n",
       "  <th>Method:</th>             <td>Least Squares</td>  <th>  F-statistic:       </th> <td>   17.92</td>\n",
       "</tr>\n",
       "<tr>\n",
       "  <th>Date:</th>             <td>Tue, 28 Aug 2018</td> <th>  Prob (F-statistic):</th> <td>7.64e-05</td>\n",
       "</tr>\n",
       "<tr>\n",
       "  <th>Time:</th>                 <td>15:33:05</td>     <th>  Log-Likelihood:    </th> <td> -127.19</td>\n",
       "</tr>\n",
       "<tr>\n",
       "  <th>No. Observations:</th>      <td>    65</td>      <th>  AIC:               </th> <td>   258.4</td>\n",
       "</tr>\n",
       "<tr>\n",
       "  <th>Df Residuals:</th>          <td>    63</td>      <th>  BIC:               </th> <td>   262.7</td>\n",
       "</tr>\n",
       "<tr>\n",
       "  <th>Df Model:</th>              <td>     1</td>      <th>                     </th>     <td> </td>   \n",
       "</tr>\n",
       "<tr>\n",
       "  <th>Covariance Type:</th>      <td>nonrobust</td>    <th>                     </th>     <td> </td>   \n",
       "</tr>\n",
       "</table>\n",
       "<table class=\"simpletable\">\n",
       "<tr>\n",
       "        <td></td>          <th>coef</th>     <th>std err</th>      <th>t</th>      <th>P>|t|</th>  <th>[0.025</th>    <th>0.975]</th>  \n",
       "</tr>\n",
       "<tr>\n",
       "  <th>Intercept</th>    <td>    6.7638</td> <td>    0.799</td> <td>    8.470</td> <td> 0.000</td> <td>    5.168</td> <td>    8.360</td>\n",
       "</tr>\n",
       "<tr>\n",
       "  <th>unemployment</th> <td>   -0.5607</td> <td>    0.132</td> <td>   -4.233</td> <td> 0.000</td> <td>   -0.825</td> <td>   -0.296</td>\n",
       "</tr>\n",
       "</table>\n",
       "<table class=\"simpletable\">\n",
       "<tr>\n",
       "  <th>Omnibus:</th>       <td> 5.023</td> <th>  Durbin-Watson:     </th> <td>   0.100</td>\n",
       "</tr>\n",
       "<tr>\n",
       "  <th>Prob(Omnibus):</th> <td> 0.081</td> <th>  Jarque-Bera (JB):  </th> <td>   2.194</td>\n",
       "</tr>\n",
       "<tr>\n",
       "  <th>Skew:</th>          <td>-0.037</td> <th>  Prob(JB):          </th> <td>   0.334</td>\n",
       "</tr>\n",
       "<tr>\n",
       "  <th>Kurtosis:</th>      <td> 2.103</td> <th>  Cond. No.          </th> <td>    22.9</td>\n",
       "</tr>\n",
       "</table><br/><br/>Warnings:<br/>[1] Standard Errors assume that the covariance matrix of the errors is correctly specified."
      ],
      "text/plain": [
       "<class 'statsmodels.iolib.summary.Summary'>\n",
       "\"\"\"\n",
       "                            OLS Regression Results                            \n",
       "==============================================================================\n",
       "Dep. Variable:             fatalities   R-squared:                       0.221\n",
       "Model:                            OLS   Adj. R-squared:                  0.209\n",
       "Method:                 Least Squares   F-statistic:                     17.92\n",
       "Date:                Tue, 28 Aug 2018   Prob (F-statistic):           7.64e-05\n",
       "Time:                        15:33:05   Log-Likelihood:                -127.19\n",
       "No. Observations:                  65   AIC:                             258.4\n",
       "Df Residuals:                      63   BIC:                             262.7\n",
       "Df Model:                           1                                         \n",
       "Covariance Type:            nonrobust                                         \n",
       "================================================================================\n",
       "                   coef    std err          t      P>|t|      [0.025      0.975]\n",
       "--------------------------------------------------------------------------------\n",
       "Intercept        6.7638      0.799      8.470      0.000       5.168       8.360\n",
       "unemployment    -0.5607      0.132     -4.233      0.000      -0.825      -0.296\n",
       "==============================================================================\n",
       "Omnibus:                        5.023   Durbin-Watson:                   0.100\n",
       "Prob(Omnibus):                  0.081   Jarque-Bera (JB):                2.194\n",
       "Skew:                          -0.037   Prob(JB):                        0.334\n",
       "Kurtosis:                       2.103   Cond. No.                         22.9\n",
       "==============================================================================\n",
       "\n",
       "Warnings:\n",
       "[1] Standard Errors assume that the covariance matrix of the errors is correctly specified.\n",
       "\"\"\""
      ]
     },
     "execution_count": 27,
     "metadata": {},
     "output_type": "execute_result"
    }
   ],
   "source": [
    "lm_fatal = smf.ols('fatalities ~ unemployment', data=fatal_unemp).fit()\n",
    "lm_fatal.summary()"
   ]
  },
  {
   "cell_type": "markdown",
   "metadata": {},
   "source": [
    "#### With trend"
   ]
  },
  {
   "cell_type": "code",
   "execution_count": 28,
   "metadata": {},
   "outputs": [
    {
     "data": {
      "text/html": [
       "<table class=\"simpletable\">\n",
       "<caption>OLS Regression Results</caption>\n",
       "<tr>\n",
       "  <th>Dep. Variable:</th>       <td>fatalities</td>    <th>  R-squared:         </th> <td>   0.955</td>\n",
       "</tr>\n",
       "<tr>\n",
       "  <th>Model:</th>                   <td>OLS</td>       <th>  Adj. R-squared:    </th> <td>   0.953</td>\n",
       "</tr>\n",
       "<tr>\n",
       "  <th>Method:</th>             <td>Least Squares</td>  <th>  F-statistic:       </th> <td>   650.8</td>\n",
       "</tr>\n",
       "<tr>\n",
       "  <th>Date:</th>             <td>Tue, 28 Aug 2018</td> <th>  Prob (F-statistic):</th> <td>2.45e-42</td>\n",
       "</tr>\n",
       "<tr>\n",
       "  <th>Time:</th>                 <td>15:33:40</td>     <th>  Log-Likelihood:    </th> <td> -34.871</td>\n",
       "</tr>\n",
       "<tr>\n",
       "  <th>No. Observations:</th>      <td>    65</td>      <th>  AIC:               </th> <td>   75.74</td>\n",
       "</tr>\n",
       "<tr>\n",
       "  <th>Df Residuals:</th>          <td>    62</td>      <th>  BIC:               </th> <td>   82.27</td>\n",
       "</tr>\n",
       "<tr>\n",
       "  <th>Df Model:</th>              <td>     2</td>      <th>                     </th>     <td> </td>   \n",
       "</tr>\n",
       "<tr>\n",
       "  <th>Covariance Type:</th>      <td>nonrobust</td>    <th>                     </th>     <td> </td>   \n",
       "</tr>\n",
       "</table>\n",
       "<table class=\"simpletable\">\n",
       "<tr>\n",
       "        <td></td>          <th>coef</th>     <th>std err</th>      <th>t</th>      <th>P>|t|</th>  <th>[0.025</th>    <th>0.975]</th>  \n",
       "</tr>\n",
       "<tr>\n",
       "  <th>Intercept</th>    <td>  194.8010</td> <td>    5.950</td> <td>   32.738</td> <td> 0.000</td> <td>  182.906</td> <td>  206.695</td>\n",
       "</tr>\n",
       "<tr>\n",
       "  <th>unemployment</th> <td>   -0.1266</td> <td>    0.035</td> <td>   -3.609</td> <td> 0.001</td> <td>   -0.197</td> <td>   -0.056</td>\n",
       "</tr>\n",
       "<tr>\n",
       "  <th>year</th>         <td>   -0.0962</td> <td>    0.003</td> <td>  -31.618</td> <td> 0.000</td> <td>   -0.102</td> <td>   -0.090</td>\n",
       "</tr>\n",
       "</table>\n",
       "<table class=\"simpletable\">\n",
       "<tr>\n",
       "  <th>Omnibus:</th>       <td> 7.708</td> <th>  Durbin-Watson:     </th> <td>   0.120</td>\n",
       "</tr>\n",
       "<tr>\n",
       "  <th>Prob(Omnibus):</th> <td> 0.021</td> <th>  Jarque-Bera (JB):  </th> <td>   7.973</td>\n",
       "</tr>\n",
       "<tr>\n",
       "  <th>Skew:</th>          <td> 0.856</td> <th>  Prob(JB):          </th> <td>  0.0186</td>\n",
       "</tr>\n",
       "<tr>\n",
       "  <th>Kurtosis:</th>      <td> 2.897</td> <th>  Cond. No.          </th> <td>2.24e+05</td>\n",
       "</tr>\n",
       "</table><br/><br/>Warnings:<br/>[1] Standard Errors assume that the covariance matrix of the errors is correctly specified.<br/>[2] The condition number is large, 2.24e+05. This might indicate that there are<br/>strong multicollinearity or other numerical problems."
      ],
      "text/plain": [
       "<class 'statsmodels.iolib.summary.Summary'>\n",
       "\"\"\"\n",
       "                            OLS Regression Results                            \n",
       "==============================================================================\n",
       "Dep. Variable:             fatalities   R-squared:                       0.955\n",
       "Model:                            OLS   Adj. R-squared:                  0.953\n",
       "Method:                 Least Squares   F-statistic:                     650.8\n",
       "Date:                Tue, 28 Aug 2018   Prob (F-statistic):           2.45e-42\n",
       "Time:                        15:33:40   Log-Likelihood:                -34.871\n",
       "No. Observations:                  65   AIC:                             75.74\n",
       "Df Residuals:                      62   BIC:                             82.27\n",
       "Df Model:                           2                                         \n",
       "Covariance Type:            nonrobust                                         \n",
       "================================================================================\n",
       "                   coef    std err          t      P>|t|      [0.025      0.975]\n",
       "--------------------------------------------------------------------------------\n",
       "Intercept      194.8010      5.950     32.738      0.000     182.906     206.695\n",
       "unemployment    -0.1266      0.035     -3.609      0.001      -0.197      -0.056\n",
       "year            -0.0962      0.003    -31.618      0.000      -0.102      -0.090\n",
       "==============================================================================\n",
       "Omnibus:                        7.708   Durbin-Watson:                   0.120\n",
       "Prob(Omnibus):                  0.021   Jarque-Bera (JB):                7.973\n",
       "Skew:                           0.856   Prob(JB):                       0.0186\n",
       "Kurtosis:                       2.897   Cond. No.                     2.24e+05\n",
       "==============================================================================\n",
       "\n",
       "Warnings:\n",
       "[1] Standard Errors assume that the covariance matrix of the errors is correctly specified.\n",
       "[2] The condition number is large, 2.24e+05. This might indicate that there are\n",
       "strong multicollinearity or other numerical problems.\n",
       "\"\"\""
      ]
     },
     "execution_count": 28,
     "metadata": {},
     "output_type": "execute_result"
    }
   ],
   "source": [
    "lm_fatal2 = smf.ols('fatalities ~ unemployment + year', data=fatal_unemp).fit()\n",
    "lm_fatal2.summary()"
   ]
  },
  {
   "cell_type": "code",
   "execution_count": 63,
   "metadata": {},
   "outputs": [],
   "source": [
    "from rpy2.robjects.packages import importr\n",
    "\n",
    "car = importr('car')\n",
    "\n",
    "%load_ext rpy2.ipython"
   ]
  },
  {
   "cell_type": "code",
   "execution_count": 64,
   "metadata": {},
   "outputs": [
    {
     "data": {
      "text/plain": [
       " lag Autocorrelation D-W Statistic p-value\n",
       "   1       0.8585750     0.1199867       0\n",
       "   2       0.7136906     0.2851972       0\n",
       "   3       0.5318447     0.5110479       0\n",
       "   4       0.3702410     0.7366427       0\n",
       " Alternative hypothesis: rho[lag] != 0\n"
      ]
     },
     "metadata": {},
     "output_type": "display_data"
    }
   ],
   "source": [
    "%%R -i fatal_unemp\n",
    "\n",
    "durbinWatsonTest(lm(fatalities ~ unemployment + year, data=fatal_unemp), max.lag=4)"
   ]
  },
  {
   "cell_type": "code",
   "execution_count": 66,
   "metadata": {},
   "outputs": [
    {
     "data": {
      "image/png": "[encoded data removed]",
      "text/plain": [
       "<Figure size 432x288 with 1 Axes>"
      ]
     },
     "metadata": {},
     "output_type": "display_data"
    }
   ],
   "source": [
    "# slide 61 \n",
    "plot_acf(lm_fatal2.resid, lags=19, zero=False);"
   ]
  },
  {
   "cell_type": "code",
   "execution_count": 55,
   "metadata": {},
   "outputs": [
    {
     "data": {
      "image/png": "[encoded data removed]",
      "text/plain": [
       "<Figure size 432x288 with 1 Axes>"
      ]
     },
     "metadata": {},
     "output_type": "display_data"
    }
   ],
   "source": [
    "from statsmodels.graphics.tsaplots import plot_pacf\n",
    "plot_pacf(lm_fatal2.resid, lags=19, zero=False);"
   ]
  },
  {
   "cell_type": "code",
   "execution_count": 56,
   "metadata": {},
   "outputs": [
    {
     "name": "stdout",
     "output_type": "stream",
     "text": [
      "Fit ARIMA: order=(2, 2, 2) seasonal_order=(0, 0, 0, 1); AIC=-59.045, BIC=-46.186, Fit time=0.313 seconds\n",
      "Fit ARIMA: order=(0, 2, 0) seasonal_order=(0, 0, 0, 1); AIC=-32.369, BIC=-28.083, Fit time=0.034 seconds\n",
      "Fit ARIMA: order=(1, 2, 0) seasonal_order=(0, 0, 0, 1); AIC=-49.269, BIC=-42.840, Fit time=0.047 seconds\n",
      "Fit ARIMA: order=(0, 2, 1) seasonal_order=(0, 0, 0, 1); AIC=-62.692, BIC=-56.262, Fit time=0.136 seconds\n",
      "Fit ARIMA: order=(1, 2, 1) seasonal_order=(0, 0, 0, 1); AIC=-61.552, BIC=-52.980, Fit time=0.216 seconds\n",
      "Fit ARIMA: order=(0, 2, 2) seasonal_order=(0, 0, 0, 1); AIC=-61.354, BIC=-52.782, Fit time=0.269 seconds\n",
      "Fit ARIMA: order=(1, 2, 2) seasonal_order=(0, 0, 0, 1); AIC=-58.818, BIC=-48.102, Fit time=0.246 seconds\n",
      "Total fit time: 1.266 seconds\n"
     ]
    },
    {
     "data": {
      "text/plain": [
       "ARIMA(callback=None, disp=0, maxiter=50, method=None, order=(0, 2, 1),\n",
       "   out_of_sample_size=0, scoring='mse', scoring_args={},\n",
       "   seasonal_order=(0, 0, 0, 1), solver='lbfgs', start_params=None,\n",
       "   suppress_warnings=True, transparams=True, trend='c')"
      ]
     },
     "execution_count": 56,
     "metadata": {},
     "output_type": "execute_result"
    }
   ],
   "source": [
    "# slide 62\n",
    "from pyramid.arima import auto_arima\n",
    "\n",
    "auto_arima(lm_fatal2.resid, trace=True, suppress_warnings=True)"
   ]
  },
  {
   "cell_type": "code",
   "execution_count": 96,
   "metadata": {},
   "outputs": [
    {
     "data": {
      "text/html": [
       "<table class=\"simpletable\">\n",
       "<caption>Statespace Model Results</caption>\n",
       "<tr>\n",
       "  <th>Dep. Variable:</th>      <td>fatalities</td>    <th>  No. Observations:  </th>   <td>65</td>   \n",
       "</tr>\n",
       "<tr>\n",
       "  <th>Model:</th>           <td>SARIMAX(0, 2, 1)</td> <th>  Log Likelihood     </th> <td>36.156</td> \n",
       "</tr>\n",
       "<tr>\n",
       "  <th>Date:</th>            <td>Tue, 28 Aug 2018</td> <th>  AIC                </th> <td>-66.312</td>\n",
       "</tr>\n",
       "<tr>\n",
       "  <th>Time:</th>                <td>21:43:29</td>     <th>  BIC                </th> <td>-59.883</td>\n",
       "</tr>\n",
       "<tr>\n",
       "  <th>Sample:</th>                  <td>0</td>        <th>  HQIC               </th> <td>-63.784</td>\n",
       "</tr>\n",
       "<tr>\n",
       "  <th></th>                       <td> - 65</td>      <th>                     </th>    <td> </td>   \n",
       "</tr>\n",
       "<tr>\n",
       "  <th>Covariance Type:</th>        <td>opg</td>       <th>                     </th>    <td> </td>   \n",
       "</tr>\n",
       "</table>\n",
       "<table class=\"simpletable\">\n",
       "<tr>\n",
       "        <td></td>          <th>coef</th>     <th>std err</th>      <th>z</th>      <th>P>|z|</th>  <th>[0.025</th>    <th>0.975]</th>  \n",
       "</tr>\n",
       "<tr>\n",
       "  <th>unemployment</th> <td>   -0.0866</td> <td>    0.011</td> <td>   -7.710</td> <td> 0.000</td> <td>   -0.109</td> <td>   -0.065</td>\n",
       "</tr>\n",
       "<tr>\n",
       "  <th>ma.L1</th>        <td>   -0.7993</td> <td>    0.056</td> <td>  -14.228</td> <td> 0.000</td> <td>   -0.909</td> <td>   -0.689</td>\n",
       "</tr>\n",
       "<tr>\n",
       "  <th>sigma2</th>       <td>    0.0183</td> <td>    0.003</td> <td>    5.762</td> <td> 0.000</td> <td>    0.012</td> <td>    0.024</td>\n",
       "</tr>\n",
       "</table>\n",
       "<table class=\"simpletable\">\n",
       "<tr>\n",
       "  <th>Ljung-Box (Q):</th>          <td>34.51</td> <th>  Jarque-Bera (JB):  </th> <td>0.15</td>\n",
       "</tr>\n",
       "<tr>\n",
       "  <th>Prob(Q):</th>                <td>0.72</td>  <th>  Prob(JB):          </th> <td>0.93</td>\n",
       "</tr>\n",
       "<tr>\n",
       "  <th>Heteroskedasticity (H):</th> <td>0.18</td>  <th>  Skew:              </th> <td>0.10</td>\n",
       "</tr>\n",
       "<tr>\n",
       "  <th>Prob(H) (two-sided):</th>    <td>0.00</td>  <th>  Kurtosis:          </th> <td>3.14</td>\n",
       "</tr>\n",
       "</table><br/><br/>Warnings:<br/>[1] Covariance matrix calculated using the outer product of gradients (complex-step)."
      ],
      "text/plain": [
       "<class 'statsmodels.iolib.summary.Summary'>\n",
       "\"\"\"\n",
       "                           Statespace Model Results                           \n",
       "==============================================================================\n",
       "Dep. Variable:             fatalities   No. Observations:                   65\n",
       "Model:               SARIMAX(0, 2, 1)   Log Likelihood                  36.156\n",
       "Date:                Tue, 28 Aug 2018   AIC                            -66.312\n",
       "Time:                        21:43:29   BIC                            -59.883\n",
       "Sample:                             0   HQIC                           -63.784\n",
       "                                 - 65                                         \n",
       "Covariance Type:                  opg                                         \n",
       "================================================================================\n",
       "                   coef    std err          z      P>|z|      [0.025      0.975]\n",
       "--------------------------------------------------------------------------------\n",
       "unemployment    -0.0866      0.011     -7.710      0.000      -0.109      -0.065\n",
       "ma.L1           -0.7993      0.056    -14.228      0.000      -0.909      -0.689\n",
       "sigma2           0.0183      0.003      5.762      0.000       0.012       0.024\n",
       "===================================================================================\n",
       "Ljung-Box (Q):                       34.51   Jarque-Bera (JB):                 0.15\n",
       "Prob(Q):                              0.72   Prob(JB):                         0.93\n",
       "Heteroskedasticity (H):               0.18   Skew:                             0.10\n",
       "Prob(H) (two-sided):                  0.00   Kurtosis:                         3.14\n",
       "===================================================================================\n",
       "\n",
       "Warnings:\n",
       "[1] Covariance matrix calculated using the outer product of gradients (complex-step).\n",
       "\"\"\""
      ]
     },
     "execution_count": 96,
     "metadata": {},
     "output_type": "execute_result"
    }
   ],
   "source": [
    "# slide 63\n",
    "arima_dat_021 = SARIMAX(fatal_unemp['fatalities'], order=(0, 2, 1), exog=fatal_unemp['unemployment']).fit()\n",
    "arima_dat_021.summary()"
   ]
  },
  {
   "cell_type": "code",
   "execution_count": 101,
   "metadata": {},
   "outputs": [
    {
     "name": "stdout",
     "output_type": "stream",
     "text": [
      "p-values:  [3.18181440e-04 1.43781224e-03 4.44032102e-03 1.08037458e-02\n",
      " 2.23717949e-02 4.05936167e-02 6.83023257e-02 1.05078719e-01\n",
      " 1.52552236e-01 2.11130594e-01 2.77714438e-01 3.51598655e-01\n",
      " 4.29144699e-01 5.06518485e-01 5.82021514e-01 6.47185957e-01\n",
      " 7.09725214e-01 7.63784746e-01 8.12079593e-01 8.54966642e-01\n",
      " 8.89976895e-01 9.18091936e-01 9.39984146e-01 9.56901056e-01\n",
      " 9.69541856e-01 9.75091702e-01 9.82164293e-01 9.87790304e-01\n",
      " 9.91768360e-01 9.94550461e-01]\n"
     ]
    }
   ],
   "source": [
    "# slide 64\n",
    "lbvalue, pvalue = acorr_ljungbox(arima_dat_021.resid)\n",
    "print('p-values: ', pvalue)"
   ]
  },
  {
   "cell_type": "markdown",
   "metadata": {},
   "source": [
    "No evidence of autocorrelation for the most part"
   ]
  },
  {
   "cell_type": "code",
   "execution_count": 102,
   "metadata": {},
   "outputs": [
    {
     "data": {
      "text/html": [
       "<table class=\"simpletable\">\n",
       "<caption>Statespace Model Results</caption>\n",
       "<tr>\n",
       "  <th>Dep. Variable:</th>      <td>fatalities</td>    <th>  No. Observations:  </th>   <td>65</td>   \n",
       "</tr>\n",
       "<tr>\n",
       "  <th>Model:</th>           <td>SARIMAX(0, 1, 1)</td> <th>  Log Likelihood     </th> <td>28.341</td> \n",
       "</tr>\n",
       "<tr>\n",
       "  <th>Date:</th>            <td>Tue, 28 Aug 2018</td> <th>  AIC                </th> <td>-50.681</td>\n",
       "</tr>\n",
       "<tr>\n",
       "  <th>Time:</th>                <td>21:46:07</td>     <th>  BIC                </th> <td>-44.205</td>\n",
       "</tr>\n",
       "<tr>\n",
       "  <th>Sample:</th>                  <td>0</td>        <th>  HQIC               </th> <td>-48.130</td>\n",
       "</tr>\n",
       "<tr>\n",
       "  <th></th>                       <td> - 65</td>      <th>                     </th>    <td> </td>   \n",
       "</tr>\n",
       "<tr>\n",
       "  <th>Covariance Type:</th>        <td>opg</td>       <th>                     </th>    <td> </td>   \n",
       "</tr>\n",
       "</table>\n",
       "<table class=\"simpletable\">\n",
       "<tr>\n",
       "        <td></td>          <th>coef</th>     <th>std err</th>      <th>z</th>      <th>P>|z|</th>  <th>[0.025</th>    <th>0.975]</th>  \n",
       "</tr>\n",
       "<tr>\n",
       "  <th>unemployment</th> <td>   -0.0831</td> <td>    0.017</td> <td>   -4.833</td> <td> 0.000</td> <td>   -0.117</td> <td>   -0.049</td>\n",
       "</tr>\n",
       "<tr>\n",
       "  <th>ma.L1</th>        <td>    0.3276</td> <td>    0.124</td> <td>    2.633</td> <td> 0.008</td> <td>    0.084</td> <td>    0.572</td>\n",
       "</tr>\n",
       "<tr>\n",
       "  <th>sigma2</th>       <td>    0.0241</td> <td>    0.004</td> <td>    6.017</td> <td> 0.000</td> <td>    0.016</td> <td>    0.032</td>\n",
       "</tr>\n",
       "</table>\n",
       "<table class=\"simpletable\">\n",
       "<tr>\n",
       "  <th>Ljung-Box (Q):</th>          <td>28.47</td> <th>  Jarque-Bera (JB):  </th> <td>1.60</td> \n",
       "</tr>\n",
       "<tr>\n",
       "  <th>Prob(Q):</th>                <td>0.91</td>  <th>  Prob(JB):          </th> <td>0.45</td> \n",
       "</tr>\n",
       "<tr>\n",
       "  <th>Heteroskedasticity (H):</th> <td>0.10</td>  <th>  Skew:              </th> <td>-0.37</td>\n",
       "</tr>\n",
       "<tr>\n",
       "  <th>Prob(H) (two-sided):</th>    <td>0.00</td>  <th>  Kurtosis:          </th> <td>3.21</td> \n",
       "</tr>\n",
       "</table><br/><br/>Warnings:<br/>[1] Covariance matrix calculated using the outer product of gradients (complex-step)."
      ],
      "text/plain": [
       "<class 'statsmodels.iolib.summary.Summary'>\n",
       "\"\"\"\n",
       "                           Statespace Model Results                           \n",
       "==============================================================================\n",
       "Dep. Variable:             fatalities   No. Observations:                   65\n",
       "Model:               SARIMAX(0, 1, 1)   Log Likelihood                  28.341\n",
       "Date:                Tue, 28 Aug 2018   AIC                            -50.681\n",
       "Time:                        21:46:07   BIC                            -44.205\n",
       "Sample:                             0   HQIC                           -48.130\n",
       "                                 - 65                                         \n",
       "Covariance Type:                  opg                                         \n",
       "================================================================================\n",
       "                   coef    std err          z      P>|z|      [0.025      0.975]\n",
       "--------------------------------------------------------------------------------\n",
       "unemployment    -0.0831      0.017     -4.833      0.000      -0.117      -0.049\n",
       "ma.L1            0.3276      0.124      2.633      0.008       0.084       0.572\n",
       "sigma2           0.0241      0.004      6.017      0.000       0.016       0.032\n",
       "===================================================================================\n",
       "Ljung-Box (Q):                       28.47   Jarque-Bera (JB):                 1.60\n",
       "Prob(Q):                              0.91   Prob(JB):                         0.45\n",
       "Heteroskedasticity (H):               0.10   Skew:                            -0.37\n",
       "Prob(H) (two-sided):                  0.00   Kurtosis:                         3.21\n",
       "===================================================================================\n",
       "\n",
       "Warnings:\n",
       "[1] Covariance matrix calculated using the outer product of gradients (complex-step).\n",
       "\"\"\""
      ]
     },
     "execution_count": 102,
     "metadata": {},
     "output_type": "execute_result"
    }
   ],
   "source": [
    "# slide 65\n",
    "\n",
    "arima_dat_011 = SARIMAX(fatal_unemp['fatalities'], order=(0, 1, 1), exog=fatal_unemp['unemployment']).fit()\n",
    "arima_dat_011.summary()"
   ]
  }
 ],
 "metadata": {
  "kernelspec": {
   "display_name": "py36",
   "language": "python",
   "name": "py36"
  },
  "language_info": {
   "codemirror_mode": {
    "name": "ipython",
    "version": 3
   },
   "file_extension": ".py",
   "mimetype": "text/x-python",
   "name": "python",
   "nbconvert_exporter": "python",
   "pygments_lexer": "ipython3",
   "version": "3.6.5"
  }
 },
 "nbformat": 4,
 "nbformat_minor": 2
}
