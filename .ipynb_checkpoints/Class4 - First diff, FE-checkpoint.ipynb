{
 "cells": [
  {
   "cell_type": "markdown",
   "metadata": {},
   "source": [
    "# Regression Analysis of Temporal Processes (Class 4) - First Difference, Fixed Effects"
   ]
  },
  {
   "cell_type": "code",
   "execution_count": 1,
   "metadata": {},
   "outputs": [],
   "source": [
    "import pandas as pd\n",
    "import numpy as np\n",
    "import seaborn as sns\n",
    "import matplotlib.pyplot as plt\n",
    "%matplotlib inline\n",
    "import statsmodels.api as sm\n",
    "import statsmodels.formula.api as smf"
   ]
  },
  {
   "cell_type": "markdown",
   "metadata": {},
   "source": [
    "## 1. An OLS example: Taxes and income"
   ]
  },
  {
   "cell_type": "markdown",
   "metadata": {},
   "source": [
    "### Load in data"
   ]
  },
  {
   "cell_type": "code",
   "execution_count": 2,
   "metadata": {},
   "outputs": [],
   "source": [
    "pan = pd.read_csv('panel-for-R.csv')\n",
    "\n",
    "variables = [\"tax\", \"idnum\", \"panelwave\", \"age\", \"sex\", \"realinc\", \"race\", \"region\", \"coop\", \"happy\", \"wrkstat\", \"marital\"]\n",
    "\n",
    "sub = pan.loc[:, variables]"
   ]
  },
  {
   "cell_type": "markdown",
   "metadata": {},
   "source": [
    "### Taxes"
   ]
  },
  {
   "cell_type": "code",
   "execution_count": 3,
   "metadata": {},
   "outputs": [
    {
     "data": {
      "text/plain": [
       "toohigh  tax\n",
       "1.0      3.0      35\n",
       "2.0      2.0    1356\n",
       "3.0      1.0    1805\n",
       "dtype: int64"
      ]
     },
     "execution_count": 3,
     "metadata": {},
     "output_type": "execute_result"
    }
   ],
   "source": [
    "# make reverse-coded version of 'tax' called 'toohigh'\n",
    "\n",
    "sub['toohigh'] = 4 - sub['tax']\n",
    "\n",
    "sub.groupby(['toohigh', 'tax']).size()"
   ]
  },
  {
   "cell_type": "markdown",
   "metadata": {},
   "source": [
    "### The naive OLS results\n",
    "(slide 9)"
   ]
  },
  {
   "cell_type": "code",
   "execution_count": 4,
   "metadata": {},
   "outputs": [
    {
     "data": {
      "text/html": [
       "<table class=\"simpletable\">\n",
       "<caption>OLS Regression Results</caption>\n",
       "<tr>\n",
       "  <th>Dep. Variable:</th>         <td>toohigh</td>     <th>  R-squared:         </th> <td>   0.006</td>\n",
       "</tr>\n",
       "<tr>\n",
       "  <th>Model:</th>                   <td>OLS</td>       <th>  Adj. R-squared:    </th> <td>   0.004</td>\n",
       "</tr>\n",
       "<tr>\n",
       "  <th>Method:</th>             <td>Least Squares</td>  <th>  F-statistic:       </th> <td>   5.284</td>\n",
       "</tr>\n",
       "<tr>\n",
       "  <th>Date:</th>             <td>Sun, 12 Aug 2018</td> <th>  Prob (F-statistic):</th>  <td>0.00124</td>\n",
       "</tr>\n",
       "<tr>\n",
       "  <th>Time:</th>                 <td>23:25:55</td>     <th>  Log-Likelihood:    </th> <td> -2182.6</td>\n",
       "</tr>\n",
       "<tr>\n",
       "  <th>No. Observations:</th>      <td>  2856</td>      <th>  AIC:               </th> <td>   4373.</td>\n",
       "</tr>\n",
       "<tr>\n",
       "  <th>Df Residuals:</th>          <td>  2852</td>      <th>  BIC:               </th> <td>   4397.</td>\n",
       "</tr>\n",
       "<tr>\n",
       "  <th>Df Model:</th>              <td>     3</td>      <th>                     </th>     <td> </td>   \n",
       "</tr>\n",
       "<tr>\n",
       "  <th>Covariance Type:</th>      <td>nonrobust</td>    <th>                     </th>     <td> </td>   \n",
       "</tr>\n",
       "</table>\n",
       "<table class=\"simpletable\">\n",
       "<tr>\n",
       "          <td></td>             <th>coef</th>     <th>std err</th>      <th>t</th>      <th>P>|t|</th>  <th>[0.025</th>    <th>0.975]</th>  \n",
       "</tr>\n",
       "<tr>\n",
       "  <th>Intercept</th>         <td>    2.2662</td> <td>    0.095</td> <td>   23.831</td> <td> 0.000</td> <td>    2.080</td> <td>    2.453</td>\n",
       "</tr>\n",
       "<tr>\n",
       "  <th>C(panelwave)[T.2]</th> <td>   -0.0142</td> <td>    0.023</td> <td>   -0.619</td> <td> 0.536</td> <td>   -0.059</td> <td>    0.031</td>\n",
       "</tr>\n",
       "<tr>\n",
       "  <th>C(panelwave)[T.3]</th> <td>   -0.0550</td> <td>    0.024</td> <td>   -2.273</td> <td> 0.023</td> <td>   -0.102</td> <td>   -0.008</td>\n",
       "</tr>\n",
       "<tr>\n",
       "  <th>np.log(realinc)</th>   <td>    0.0300</td> <td>    0.009</td> <td>    3.209</td> <td> 0.001</td> <td>    0.012</td> <td>    0.048</td>\n",
       "</tr>\n",
       "</table>\n",
       "<table class=\"simpletable\">\n",
       "<tr>\n",
       "  <th>Omnibus:</th>       <td>2564.366</td> <th>  Durbin-Watson:     </th> <td>   1.467</td>\n",
       "</tr>\n",
       "<tr>\n",
       "  <th>Prob(Omnibus):</th>  <td> 0.000</td>  <th>  Jarque-Bera (JB):  </th> <td> 267.036</td>\n",
       "</tr>\n",
       "<tr>\n",
       "  <th>Skew:</th>           <td>-0.445</td>  <th>  Prob(JB):          </th> <td>1.03e-58</td>\n",
       "</tr>\n",
       "<tr>\n",
       "  <th>Kurtosis:</th>       <td> 1.795</td>  <th>  Cond. No.          </th> <td>    99.8</td>\n",
       "</tr>\n",
       "</table><br/><br/>Warnings:<br/>[1] Standard Errors assume that the covariance matrix of the errors is correctly specified."
      ],
      "text/plain": [
       "<class 'statsmodels.iolib.summary.Summary'>\n",
       "\"\"\"\n",
       "                            OLS Regression Results                            \n",
       "==============================================================================\n",
       "Dep. Variable:                toohigh   R-squared:                       0.006\n",
       "Model:                            OLS   Adj. R-squared:                  0.004\n",
       "Method:                 Least Squares   F-statistic:                     5.284\n",
       "Date:                Sun, 12 Aug 2018   Prob (F-statistic):            0.00124\n",
       "Time:                        23:25:55   Log-Likelihood:                -2182.6\n",
       "No. Observations:                2856   AIC:                             4373.\n",
       "Df Residuals:                    2852   BIC:                             4397.\n",
       "Df Model:                           3                                         \n",
       "Covariance Type:            nonrobust                                         \n",
       "=====================================================================================\n",
       "                        coef    std err          t      P>|t|      [0.025      0.975]\n",
       "-------------------------------------------------------------------------------------\n",
       "Intercept             2.2662      0.095     23.831      0.000       2.080       2.453\n",
       "C(panelwave)[T.2]    -0.0142      0.023     -0.619      0.536      -0.059       0.031\n",
       "C(panelwave)[T.3]    -0.0550      0.024     -2.273      0.023      -0.102      -0.008\n",
       "np.log(realinc)       0.0300      0.009      3.209      0.001       0.012       0.048\n",
       "==============================================================================\n",
       "Omnibus:                     2564.366   Durbin-Watson:                   1.467\n",
       "Prob(Omnibus):                  0.000   Jarque-Bera (JB):              267.036\n",
       "Skew:                          -0.445   Prob(JB):                     1.03e-58\n",
       "Kurtosis:                       1.795   Cond. No.                         99.8\n",
       "==============================================================================\n",
       "\n",
       "Warnings:\n",
       "[1] Standard Errors assume that the covariance matrix of the errors is correctly specified.\n",
       "\"\"\""
      ]
     },
     "execution_count": 4,
     "metadata": {},
     "output_type": "execute_result"
    }
   ],
   "source": [
    "lm1 = smf.ols('toohigh ~ np.log(realinc) + C(panelwave)', data = sub).fit()\n",
    "lm1.summary()"
   ]
  },
  {
   "cell_type": "markdown",
   "metadata": {},
   "source": [
    "### The naive OLS results, with clustered SE's\n",
    "(slide 10)"
   ]
  },
  {
   "cell_type": "markdown",
   "metadata": {},
   "source": [
    "For regressions with panel data, we use the `linearmodels` module, which is an extension of `statsmodels`. \n",
    "\n",
    "First we need to turn our Pandas dataframe `sub` into a multiindex dataframe by setting `idnum` and `panelwave` as indices. Since `panelwave` will be used as a variable in the model, we need to keep it as a variable in the dataframe as well. "
   ]
  },
  {
   "cell_type": "code",
   "execution_count": 4,
   "metadata": {},
   "outputs": [],
   "source": [
    "sub = sub.set_index(['idnum', 'panelwave'], drop=False)"
   ]
  },
  {
   "cell_type": "code",
   "execution_count": 6,
   "metadata": {},
   "outputs": [
    {
     "name": "stderr",
     "output_type": "stream",
     "text": [
      "/Users/melindasong/anaconda/lib/python3.5/site-packages/linearmodels/utility.py:496: MissingValueWarning: \n",
      "Inputs contain missing values. Dropping rows with missing observations.\n",
      "  warnings.warn(missing_value_warning_msg, MissingValueWarning)\n"
     ]
    },
    {
     "data": {
      "text/html": [
       "<table class=\"simpletable\">\n",
       "<caption>PooledOLS Estimation Summary</caption>\n",
       "<tr>\n",
       "  <th>Dep. Variable:</th>         <td>toohigh</td>     <th>  R-squared:         </th>    <td>0.0055</td>  \n",
       "</tr>\n",
       "<tr>\n",
       "  <th>Estimator:</th>            <td>PooledOLS</td>    <th>  R-squared (Between):</th>   <td>0.0060</td>  \n",
       "</tr>\n",
       "<tr>\n",
       "  <th>No. Observations:</th>       <td>2856</td>       <th>  R-squared (Within):</th>    <td>0.0053</td>  \n",
       "</tr>\n",
       "<tr>\n",
       "  <th>Date:</th>             <td>Sun, Aug 12 2018</td> <th>  R-squared (Overall):</th>   <td>0.0055</td>  \n",
       "</tr>\n",
       "<tr>\n",
       "  <th>Time:</th>                 <td>23:26:05</td>     <th>  Log-likelihood     </th>    <td>-2182.6</td> \n",
       "</tr>\n",
       "<tr>\n",
       "  <th>Cov. Estimator:</th>       <td>Clustered</td>    <th>                     </th>       <td></td>     \n",
       "</tr>\n",
       "<tr>\n",
       "  <th></th>                          <td></td>         <th>  F-statistic:       </th>    <td>5.2841</td>  \n",
       "</tr>\n",
       "<tr>\n",
       "  <th>Entities:</th>               <td>1272</td>       <th>  P-value            </th>    <td>0.0012</td>  \n",
       "</tr>\n",
       "<tr>\n",
       "  <th>Avg Obs:</th>               <td>2.2453</td>      <th>  Distribution:      </th>   <td>F(3,2852)</td>\n",
       "</tr>\n",
       "<tr>\n",
       "  <th>Min Obs:</th>               <td>1.0000</td>      <th>                     </th>       <td></td>     \n",
       "</tr>\n",
       "<tr>\n",
       "  <th>Max Obs:</th>               <td>3.0000</td>      <th>  F-statistic (robust):</th>  <td>5.2552</td>  \n",
       "</tr>\n",
       "<tr>\n",
       "  <th></th>                          <td></td>         <th>  P-value            </th>    <td>0.0013</td>  \n",
       "</tr>\n",
       "<tr>\n",
       "  <th>Time periods:</th>             <td>3</td>        <th>  Distribution:      </th>   <td>F(3,2852)</td>\n",
       "</tr>\n",
       "<tr>\n",
       "  <th>Avg Obs:</th>               <td>952.00</td>      <th>                     </th>       <td></td>     \n",
       "</tr>\n",
       "<tr>\n",
       "  <th>Min Obs:</th>               <td>774.00</td>      <th>                     </th>       <td></td>     \n",
       "</tr>\n",
       "<tr>\n",
       "  <th>Max Obs:</th>               <td>1144.0</td>      <th>                     </th>       <td></td>     \n",
       "</tr>\n",
       "<tr>\n",
       "  <th></th>                          <td></td>         <th>                     </th>       <td></td>     \n",
       "</tr>\n",
       "</table>\n",
       "<table class=\"simpletable\">\n",
       "<caption>Parameter Estimates</caption>\n",
       "<tr>\n",
       "           <td></td>           <th>Parameter</th> <th>Std. Err.</th> <th>T-stat</th>  <th>P-value</th> <th>Lower CI</th> <th>Upper CI</th>\n",
       "</tr>\n",
       "<tr>\n",
       "  <th>Intercept</th>            <td>2.2662</td>    <td>0.1151</td>   <td>19.685</td>  <td>0.0000</td>   <td>2.0404</td>   <td>2.4919</td> \n",
       "</tr>\n",
       "<tr>\n",
       "  <th>C(panelwave)[T.2.0]</th>  <td>-0.0142</td>   <td>0.0182</td>   <td>-0.7794</td> <td>0.4358</td>   <td>-0.0499</td>  <td>0.0215</td> \n",
       "</tr>\n",
       "<tr>\n",
       "  <th>C(panelwave)[T.3.0]</th>  <td>-0.0550</td>   <td>0.0204</td>   <td>-2.7029</td> <td>0.0069</td>   <td>-0.0949</td>  <td>-0.0151</td>\n",
       "</tr>\n",
       "<tr>\n",
       "  <th>np.log(realinc)</th>      <td>0.0300</td>    <td>0.0114</td>   <td>2.6408</td>  <td>0.0083</td>   <td>0.0077</td>   <td>0.0523</td> \n",
       "</tr>\n",
       "</table><br/>id: 0x11084b5c0"
      ],
      "text/plain": [
       "                          PooledOLS Estimation Summary                          \n",
       "================================================================================\n",
       "Dep. Variable:                toohigh   R-squared:                        0.0055\n",
       "Estimator:                  PooledOLS   R-squared (Between):              0.0060\n",
       "No. Observations:                2856   R-squared (Within):               0.0053\n",
       "Date:                Sun, Aug 12 2018   R-squared (Overall):              0.0055\n",
       "Time:                        23:26:05   Log-likelihood                   -2182.6\n",
       "Cov. Estimator:             Clustered                                           \n",
       "                                        F-statistic:                      5.2841\n",
       "Entities:                        1272   P-value                           0.0012\n",
       "Avg Obs:                       2.2453   Distribution:                  F(3,2852)\n",
       "Min Obs:                       1.0000                                           \n",
       "Max Obs:                       3.0000   F-statistic (robust):             5.2552\n",
       "                                        P-value                           0.0013\n",
       "Time periods:                       3   Distribution:                  F(3,2852)\n",
       "Avg Obs:                       952.00                                           \n",
       "Min Obs:                       774.00                                           \n",
       "Max Obs:                       1144.0                                           \n",
       "                                                                                \n",
       "                                  Parameter Estimates                                  \n",
       "=======================================================================================\n",
       "                     Parameter  Std. Err.     T-stat    P-value    Lower CI    Upper CI\n",
       "---------------------------------------------------------------------------------------\n",
       "Intercept               2.2662     0.1151     19.685     0.0000      2.0404      2.4919\n",
       "C(panelwave)[T.2.0]    -0.0142     0.0182    -0.7794     0.4358     -0.0499      0.0215\n",
       "C(panelwave)[T.3.0]    -0.0550     0.0204    -2.7029     0.0069     -0.0949     -0.0151\n",
       "np.log(realinc)         0.0300     0.0114     2.6408     0.0083      0.0077      0.0523\n",
       "=======================================================================================\n",
       "PanelResults, id: 0x11084b5c0"
      ]
     },
     "execution_count": 6,
     "metadata": {},
     "output_type": "execute_result"
    }
   ],
   "source": [
    "from linearmodels import PooledOLS\n",
    "lm1 = PooledOLS.from_formula('toohigh ~ 1 + np.log(realinc) + C(panelwave)', data = sub).fit(cov_type = 'clustered', cluster_entity = True)\n",
    "lm1"
   ]
  },
  {
   "cell_type": "markdown",
   "metadata": {},
   "source": [
    "## 3. First differences regression model"
   ]
  },
  {
   "cell_type": "markdown",
   "metadata": {},
   "source": [
    "Test results produced by `FirstDifferenceOLS` could not be reconciled with R outputs, so for this step I use the `plm` function from R to generate results and demonstrate Python's capability in handling R functions. \n",
    "\n",
    "We can use the `rpy2` module to establish connection with R. The `rpy2` module provides a Python interface to the R language. First we import `rpy2` and call the necessary extension `%load_ext rpy2.ipython`."
   ]
  },
  {
   "cell_type": "code",
   "execution_count": 8,
   "metadata": {},
   "outputs": [],
   "source": [
    "from rpy2.robjects.packages import importr\n",
    "plm = importr('plm')\n",
    "%load_ext rpy2.ipython"
   ]
  },
  {
   "cell_type": "markdown",
   "metadata": {},
   "source": [
    "<br>\n",
    "\n",
    "Use `%%` to indicate that the entire cell will be evaluated in R mode. `-i` is to import existing variable in the environment. Here we check our dataframe `d` and see that in R mode, the columns have been automatically renamed: "
   ]
  },
  {
   "cell_type": "code",
   "execution_count": 14,
   "metadata": {},
   "outputs": [
    {
     "data": {
      "text/plain": [
       "Oneway (individual) effect First-Difference Model\n",
       "\n",
       "Call:\n",
       "plm(formula = toohigh ~ I(log(realinc)) + as.factor(panelwave), \n",
       "    data = sub, model = \"fd\", index = c(\"idnum\", \"panelwave\"))\n",
       "\n",
       "Unbalanced Panel: n = 1272, T = 1-3, N = 2856\n",
       "Observations used in estimation: 1584\n",
       "\n",
       "Residuals:\n",
       "    Min.  1st Qu.   Median     Mean  3rd Qu.     Max. \n",
       "-2.00609  0.00534  0.01441 -0.00173  0.04535  2.04936 \n",
       "\n",
       "Coefficients:\n",
       "                        Estimate Std. Error t-value Pr(>|t|)  \n",
       "I(log(realinc))        0.0080027  0.0155508  0.5146  0.60690  \n",
       "as.factor(panelwave)2 -0.0079221  0.0186111 -0.4257  0.67041  \n",
       "as.factor(panelwave)3 -0.0514694  0.0265387 -1.9394  0.05263 .\n",
       "---\n",
       "Signif. codes:  0 ‘***’ 0.001 ‘**’ 0.01 ‘*’ 0.05 ‘.’ 0.1 ‘ ’ 1\n",
       "\n",
       "Total Sum of Squares:    467.83\n",
       "Residual Sum of Squares: 467.36\n",
       "R-Squared:      0.001047\n",
       "Adj. R-Squared: -0.00021675\n",
       "F-statistic: 0.807207 on 2 and 1581 DF, p-value: 0.44629\n"
      ]
     },
     "metadata": {},
     "output_type": "display_data"
    }
   ],
   "source": [
    "%%R -i sub\n",
    "\n",
    "plm_fd = plm(toohigh ~ I(log(realinc)) + as.factor(panelwave), index=c(\"idnum\", \"panelwave\"), model=\"fd\", data= sub)\n",
    "summary(plm_fd)"
   ]
  },
  {
   "cell_type": "markdown",
   "metadata": {},
   "source": [
    "## 4. Adding controls and strange things"
   ]
  },
  {
   "cell_type": "code",
   "execution_count": 37,
   "metadata": {},
   "outputs": [
    {
     "data": {
      "text/plain": [
       "Oneway (individual) effect First-Difference Model\n",
       "\n",
       "Call:\n",
       "plm(formula = toohigh ~ I(log(realinc)) + as.factor(panelwave) + \n",
       "    sex + as.factor(race) + as.factor(marital) + age, data = sub, \n",
       "    model = \"fd\", index = c(\"idnum\", \"panelwave\"))\n",
       "\n",
       "Unbalanced Panel: n = 1270, T = 1-3, N = 2831\n",
       "Observations used in estimation: 1561\n",
       "\n",
       "Residuals:\n",
       "    Min.  1st Qu.   Median     Mean  3rd Qu.     Max. \n",
       "-2.02464  0.00343  0.01697 -0.00181  0.04479  2.04890 \n",
       "\n",
       "Coefficients:\n",
       "                         Estimate  Std. Error t-value Pr(>|t|)\n",
       "I(log(realinc))        0.00944139  0.01570910  0.6010   0.5479\n",
       "as.factor(panelwave)2  0.00055901  0.02422992  0.0231   0.9816\n",
       "as.factor(panelwave)3 -0.03241638  0.04064361 -0.7976   0.4252\n",
       "sex                    0.13327721  0.18301508  0.7282   0.4666\n",
       "as.factor(race)2       0.11103905  0.14199217  0.7820   0.4343\n",
       "as.factor(race)3      -0.01661910  0.06761879 -0.2458   0.8059\n",
       "as.factor(marital)2    0.06968914  0.11349007  0.6141   0.5393\n",
       "as.factor(marital)3    0.12197322  0.07533016  1.6192   0.1056\n",
       "as.factor(marital)4   -0.11638806  0.09244514 -1.2590   0.2082\n",
       "as.factor(marital)5   -0.00061688  0.07765552 -0.0079   0.9937\n",
       "age                   -0.00453379  0.00755149 -0.6004   0.5483\n",
       "\n",
       "Total Sum of Squares:    462.98\n",
       "Residual Sum of Squares: 459.98\n",
       "R-Squared:      0.0064867\n",
       "Adj. R-Squared: 7.6949e-05\n",
       "F-statistic: 1.00977 on 10 and 1550 DF, p-value: 0.43256\n"
      ]
     },
     "metadata": {},
     "output_type": "display_data"
    }
   ],
   "source": [
    "%%R -i sub\n",
    "\n",
    "sub = na.omit(sub)\n",
    "plm_fd2 = plm(toohigh ~ I(log(realinc)) + as.factor(panelwave) + sex + as.factor(race) + \n",
    "              as.factor(marital) + age, \n",
    "              index = c(\"idnum\", \"panelwave\"),\n",
    "              model = \"fd\", data = sub)\n",
    "summary(plm_fd2)"
   ]
  },
  {
   "cell_type": "markdown",
   "metadata": {},
   "source": [
    "### Investigating differences"
   ]
  },
  {
   "cell_type": "code",
   "execution_count": 10,
   "metadata": {},
   "outputs": [],
   "source": [
    "sub['logrealinc'] = np.log(sub.loc[:, 'realinc'])\n",
    "\n",
    "# create first differences for the `logrealinc` variable using functions available in Pandas\n",
    "sub['d_logrealinc'] = sub['logrealinc'].groupby(level = 0).diff()"
   ]
  },
  {
   "cell_type": "code",
   "execution_count": 11,
   "metadata": {},
   "outputs": [],
   "source": [
    "# create indicators for race and marital\n",
    "sub['race2'] = np.where(sub['race'] == 2, 1, 0)\n",
    "sub['race3'] = np.where(sub['race'] == 3, 1, 0)\n",
    "\n",
    "sub['marital2'] = np.where(sub['marital'] == 2, 1, 0)\n",
    "sub['marital3'] = np.where(sub['marital'] == 3, 1, 0)\n",
    "sub['marital4'] = np.where(sub['marital'] == 4, 1, 0)\n",
    "sub['marital5'] = np.where(sub['marital'] == 5, 1, 0)"
   ]
  },
  {
   "cell_type": "code",
   "execution_count": 12,
   "metadata": {},
   "outputs": [],
   "source": [
    "# create first differences for the following variables\n",
    "sub['d_sex'] = sub['sex'].groupby(level = 0).diff()\n",
    "sub['d_age'] = sub['age'].groupby(level = 0).diff()\n",
    "sub['d_toohigh'] = sub['toohigh'].groupby(level = 0).diff()\n",
    "sub['d_race2'] = sub['race2'].groupby(level = 0).diff()\n",
    "sub['d_race3'] = sub['race3'].groupby(level = 0).diff()\n",
    "sub['d_marital2'] = sub['marital2'].groupby(level = 0).diff()\n",
    "sub['d_marital3'] = sub['marital3'].groupby(level = 0).diff()\n",
    "sub['d_marital4'] = sub['marital4'].groupby(level = 0).diff()\n",
    "sub['d_marital5'] = sub['marital5'].groupby(level = 0).diff()"
   ]
  },
  {
   "cell_type": "code",
   "execution_count": 13,
   "metadata": {},
   "outputs": [
    {
     "data": {
      "text/plain": [
       "count    2756.000000\n",
       "mean        2.014514\n",
       "std         1.752511\n",
       "min       -21.000000\n",
       "25%         2.000000\n",
       "50%         2.000000\n",
       "75%         2.000000\n",
       "max        31.000000\n",
       "Name: d_age, dtype: float64"
      ]
     },
     "execution_count": 13,
     "metadata": {},
     "output_type": "execute_result"
    }
   ],
   "source": [
    "# look at statistic summary of `d_age`\n",
    "sub['d_age'].describe()"
   ]
  },
  {
   "cell_type": "code",
   "execution_count": 14,
   "metadata": {},
   "outputs": [],
   "source": [
    "# create a subset of the sub dataframe with the following conditions satisfied\n",
    "constants = sub[(sub['d_age']==2) & (sub['d_sex']==0) & (sub['d_race2']==0) & (sub['d_race3']==0)]"
   ]
  },
  {
   "cell_type": "code",
   "execution_count": 15,
   "metadata": {},
   "outputs": [
    {
     "data": {
      "text/html": [
       "<table class=\"simpletable\">\n",
       "<caption>OLS Regression Results</caption>\n",
       "<tr>\n",
       "  <th>Dep. Variable:</th>        <td>d_toohigh</td>    <th>  R-squared:         </th> <td>   0.005</td>\n",
       "</tr>\n",
       "<tr>\n",
       "  <th>Model:</th>                   <td>OLS</td>       <th>  Adj. R-squared:    </th> <td>   0.001</td>\n",
       "</tr>\n",
       "<tr>\n",
       "  <th>Method:</th>             <td>Least Squares</td>  <th>  F-statistic:       </th> <td>   1.273</td>\n",
       "</tr>\n",
       "<tr>\n",
       "  <th>Date:</th>             <td>Sun, 12 Aug 2018</td> <th>  Prob (F-statistic):</th>  <td> 0.273</td> \n",
       "</tr>\n",
       "<tr>\n",
       "  <th>Time:</th>                 <td>23:26:42</td>     <th>  Log-Likelihood:    </th> <td> -1117.0</td>\n",
       "</tr>\n",
       "<tr>\n",
       "  <th>No. Observations:</th>      <td>  1401</td>      <th>  AIC:               </th> <td>   2246.</td>\n",
       "</tr>\n",
       "<tr>\n",
       "  <th>Df Residuals:</th>          <td>  1395</td>      <th>  BIC:               </th> <td>   2277.</td>\n",
       "</tr>\n",
       "<tr>\n",
       "  <th>Df Model:</th>              <td>     5</td>      <th>                     </th>     <td> </td>   \n",
       "</tr>\n",
       "<tr>\n",
       "  <th>Covariance Type:</th>      <td>nonrobust</td>    <th>                     </th>     <td> </td>   \n",
       "</tr>\n",
       "</table>\n",
       "<table class=\"simpletable\">\n",
       "<tr>\n",
       "        <td></td>          <th>coef</th>     <th>std err</th>      <th>t</th>      <th>P>|t|</th>  <th>[0.025</th>    <th>0.975]</th>  \n",
       "</tr>\n",
       "<tr>\n",
       "  <th>Intercept</th>    <td>   -0.0056</td> <td>    0.003</td> <td>   -1.931</td> <td> 0.054</td> <td>   -0.011</td> <td> 8.92e-05</td>\n",
       "</tr>\n",
       "<tr>\n",
       "  <th>d_logrealinc</th> <td>    0.0155</td> <td>    0.017</td> <td>    0.908</td> <td> 0.364</td> <td>   -0.018</td> <td>    0.049</td>\n",
       "</tr>\n",
       "<tr>\n",
       "  <th>d_race2</th>      <td> 1.709e-17</td> <td>  2.7e-17</td> <td>    0.633</td> <td> 0.527</td> <td>-3.59e-17</td> <td> 7.01e-17</td>\n",
       "</tr>\n",
       "<tr>\n",
       "  <th>d_race3</th>      <td>-2.645e-18</td> <td> 1.25e-17</td> <td>   -0.211</td> <td> 0.833</td> <td>-2.72e-17</td> <td> 2.19e-17</td>\n",
       "</tr>\n",
       "<tr>\n",
       "  <th>d_sex</th>        <td> 1.323e-17</td> <td> 1.03e-17</td> <td>    1.290</td> <td> 0.197</td> <td>-6.88e-18</td> <td> 3.33e-17</td>\n",
       "</tr>\n",
       "<tr>\n",
       "  <th>d_age</th>        <td>   -0.0112</td> <td>    0.006</td> <td>   -1.931</td> <td> 0.054</td> <td>   -0.023</td> <td>    0.000</td>\n",
       "</tr>\n",
       "<tr>\n",
       "  <th>d_marital2</th>   <td>    0.0732</td> <td>    0.120</td> <td>    0.611</td> <td> 0.541</td> <td>   -0.162</td> <td>    0.308</td>\n",
       "</tr>\n",
       "<tr>\n",
       "  <th>d_marital3</th>   <td>    0.0850</td> <td>    0.078</td> <td>    1.091</td> <td> 0.275</td> <td>   -0.068</td> <td>    0.238</td>\n",
       "</tr>\n",
       "<tr>\n",
       "  <th>d_marital4</th>   <td>   -0.1417</td> <td>    0.093</td> <td>   -1.518</td> <td> 0.129</td> <td>   -0.325</td> <td>    0.041</td>\n",
       "</tr>\n",
       "<tr>\n",
       "  <th>d_marital5</th>   <td>    0.0183</td> <td>    0.083</td> <td>    0.221</td> <td> 0.825</td> <td>   -0.144</td> <td>    0.181</td>\n",
       "</tr>\n",
       "</table>\n",
       "<table class=\"simpletable\">\n",
       "<tr>\n",
       "  <th>Omnibus:</th>       <td>39.790</td> <th>  Durbin-Watson:     </th> <td>   2.314</td>\n",
       "</tr>\n",
       "<tr>\n",
       "  <th>Prob(Omnibus):</th> <td> 0.000</td> <th>  Jarque-Bera (JB):  </th> <td>  93.809</td>\n",
       "</tr>\n",
       "<tr>\n",
       "  <th>Skew:</th>          <td> 0.044</td> <th>  Prob(JB):          </th> <td>4.26e-21</td>\n",
       "</tr>\n",
       "<tr>\n",
       "  <th>Kurtosis:</th>      <td> 4.265</td> <th>  Cond. No.          </th> <td>2.02e+18</td>\n",
       "</tr>\n",
       "</table><br/><br/>Warnings:<br/>[1] Standard Errors assume that the covariance matrix of the errors is correctly specified.<br/>[2] The smallest eigenvalue is 1.71e-33. This might indicate that there are<br/>strong multicollinearity problems or that the design matrix is singular."
      ],
      "text/plain": [
       "<class 'statsmodels.iolib.summary.Summary'>\n",
       "\"\"\"\n",
       "                            OLS Regression Results                            \n",
       "==============================================================================\n",
       "Dep. Variable:              d_toohigh   R-squared:                       0.005\n",
       "Model:                            OLS   Adj. R-squared:                  0.001\n",
       "Method:                 Least Squares   F-statistic:                     1.273\n",
       "Date:                Sun, 12 Aug 2018   Prob (F-statistic):              0.273\n",
       "Time:                        23:26:42   Log-Likelihood:                -1117.0\n",
       "No. Observations:                1401   AIC:                             2246.\n",
       "Df Residuals:                    1395   BIC:                             2277.\n",
       "Df Model:                           5                                         \n",
       "Covariance Type:            nonrobust                                         \n",
       "================================================================================\n",
       "                   coef    std err          t      P>|t|      [0.025      0.975]\n",
       "--------------------------------------------------------------------------------\n",
       "Intercept       -0.0056      0.003     -1.931      0.054      -0.011    8.92e-05\n",
       "d_logrealinc     0.0155      0.017      0.908      0.364      -0.018       0.049\n",
       "d_race2       1.709e-17    2.7e-17      0.633      0.527   -3.59e-17    7.01e-17\n",
       "d_race3      -2.645e-18   1.25e-17     -0.211      0.833   -2.72e-17    2.19e-17\n",
       "d_sex         1.323e-17   1.03e-17      1.290      0.197   -6.88e-18    3.33e-17\n",
       "d_age           -0.0112      0.006     -1.931      0.054      -0.023       0.000\n",
       "d_marital2       0.0732      0.120      0.611      0.541      -0.162       0.308\n",
       "d_marital3       0.0850      0.078      1.091      0.275      -0.068       0.238\n",
       "d_marital4      -0.1417      0.093     -1.518      0.129      -0.325       0.041\n",
       "d_marital5       0.0183      0.083      0.221      0.825      -0.144       0.181\n",
       "==============================================================================\n",
       "Omnibus:                       39.790   Durbin-Watson:                   2.314\n",
       "Prob(Omnibus):                  0.000   Jarque-Bera (JB):               93.809\n",
       "Skew:                           0.044   Prob(JB):                     4.26e-21\n",
       "Kurtosis:                       4.265   Cond. No.                     2.02e+18\n",
       "==============================================================================\n",
       "\n",
       "Warnings:\n",
       "[1] Standard Errors assume that the covariance matrix of the errors is correctly specified.\n",
       "[2] The smallest eigenvalue is 1.71e-33. This might indicate that there are\n",
       "strong multicollinearity problems or that the design matrix is singular.\n",
       "\"\"\""
      ]
     },
     "execution_count": 15,
     "metadata": {},
     "output_type": "execute_result"
    }
   ],
   "source": [
    "smf.ols('d_toohigh ~ d_logrealinc + d_race2 + d_race3 + d_sex + d_age + d_marital2 + d_marital3 + \\\n",
    "        d_marital4 + d_marital5', data = constants).fit().summary()"
   ]
  },
  {
   "cell_type": "markdown",
   "metadata": {},
   "source": [
    "## 5. How to think about the first differenced model\n",
    "\n",
    "(slide 58)"
   ]
  },
  {
   "cell_type": "code",
   "execution_count": 16,
   "metadata": {},
   "outputs": [
    {
     "data": {
      "text/plain": [
       "3.0    1805\n",
       "2.0    1356\n",
       "1.0      35\n",
       "Name: toohigh, dtype: int64"
      ]
     },
     "execution_count": 16,
     "metadata": {},
     "output_type": "execute_result"
    }
   ],
   "source": [
    "sub['toohigh'].value_counts()"
   ]
  },
  {
   "cell_type": "code",
   "execution_count": 17,
   "metadata": {},
   "outputs": [
    {
     "data": {
      "text/plain": [
       " 0.0    1316\n",
       "-1.0     276\n",
       " 1.0     225\n",
       "-2.0       5\n",
       " 2.0       5\n",
       "Name: d_toohigh, dtype: int64"
      ]
     },
     "execution_count": 17,
     "metadata": {},
     "output_type": "execute_result"
    }
   ],
   "source": [
    "sub['d_toohigh'].value_counts()"
   ]
  },
  {
   "cell_type": "code",
   "execution_count": 18,
   "metadata": {},
   "outputs": [
    {
     "data": {
      "text/plain": [
       "count    4272.000000\n",
       "mean       10.011207\n",
       "std         1.070262\n",
       "min         5.556828\n",
       "25%         9.450783\n",
       "50%        10.149664\n",
       "75%        10.695999\n",
       "max        11.892414\n",
       "Name: logrealinc, dtype: float64"
      ]
     },
     "execution_count": 18,
     "metadata": {},
     "output_type": "execute_result"
    }
   ],
   "source": [
    "sub['logrealinc'].describe()"
   ]
  },
  {
   "cell_type": "code",
   "execution_count": 19,
   "metadata": {},
   "outputs": [
    {
     "data": {
      "text/plain": [
       "count    2362.000000\n",
       "mean       -0.004238\n",
       "std         0.846324\n",
       "min        -6.335586\n",
       "25%        -0.233896\n",
       "50%        -0.033226\n",
       "75%         0.250355\n",
       "max         6.101905\n",
       "Name: d_logrealinc, dtype: float64"
      ]
     },
     "execution_count": 19,
     "metadata": {},
     "output_type": "execute_result"
    }
   ],
   "source": [
    "sub['d_logrealinc'].describe()"
   ]
  },
  {
   "cell_type": "markdown",
   "metadata": {},
   "source": [
    "### The issue of variance \n",
    "(slide 64)"
   ]
  },
  {
   "cell_type": "code",
   "execution_count": 20,
   "metadata": {},
   "outputs": [
    {
     "data": {
      "text/plain": [
       "toohigh         0.269090\n",
       "d_toohigh       0.295496\n",
       "logrealinc      1.145460\n",
       "d_logrealinc    0.716265\n",
       "dtype: float64"
      ]
     },
     "execution_count": 20,
     "metadata": {},
     "output_type": "execute_result"
    }
   ],
   "source": [
    "tax_vars = ['toohigh', 'd_toohigh', 'logrealinc', 'd_logrealinc']\n",
    "\n",
    "sub[tax_vars].agg('var')"
   ]
  },
  {
   "cell_type": "markdown",
   "metadata": {},
   "source": [
    "### Looking at \"locally appropriate\""
   ]
  },
  {
   "cell_type": "code",
   "execution_count": 21,
   "metadata": {},
   "outputs": [
    {
     "data": {
      "text/plain": [
       "<matplotlib.axes._subplots.AxesSubplot at 0x129d21358>"
      ]
     },
     "execution_count": 21,
     "metadata": {},
     "output_type": "execute_result"
    },
    {
     "data": {
      "image/png": "[encoded data removed]",
      "text/plain": [
       "<Figure size 432x288 with 1 Axes>"
      ]
     },
     "metadata": {},
     "output_type": "display_data"
    }
   ],
   "source": [
    "sub['d_logrealinc'].hist(bins = 55)"
   ]
  },
  {
   "cell_type": "markdown",
   "metadata": {},
   "source": [
    "### What about nonlinear change?"
   ]
  },
  {
   "cell_type": "code",
   "execution_count": 22,
   "metadata": {},
   "outputs": [
    {
     "data": {
      "text/plain": [
       "count    2362.000000\n",
       "mean       -0.004238\n",
       "std         0.846324\n",
       "min        -6.335586\n",
       "25%        -0.233896\n",
       "50%        -0.033226\n",
       "75%         0.250355\n",
       "max         6.101905\n",
       "Name: d_logrealinc, dtype: float64"
      ]
     },
     "execution_count": 22,
     "metadata": {},
     "output_type": "execute_result"
    }
   ],
   "source": [
    "# slide 69\n",
    "sub['d_logrealinc'].describe()"
   ]
  },
  {
   "cell_type": "code",
   "execution_count": 23,
   "metadata": {},
   "outputs": [
    {
     "data": {
      "text/plain": [
       "little loss    727\n",
       "big gain       597\n",
       "big loss       571\n",
       "little gain    467\n",
       "Name: d_log_cat, dtype: int64"
      ]
     },
     "execution_count": 23,
     "metadata": {},
     "output_type": "execute_result"
    }
   ],
   "source": [
    "# slide 69\n",
    "sub['d_log_cat'] = pd.cut(sub['d_logrealinc'], bins = [-7, -.234, -.033, .25, 6.2],\n",
    "                          labels = [\"big loss\", \"little loss\", \"little gain\", \"big gain\"])\n",
    "\n",
    "sub['d_log_cat'].value_counts()"
   ]
  },
  {
   "cell_type": "code",
   "execution_count": 24,
   "metadata": {},
   "outputs": [],
   "source": [
    "sub['d_log_cat'] = sub['d_log_cat'].astype(str)"
   ]
  },
  {
   "cell_type": "code",
   "execution_count": 25,
   "metadata": {},
   "outputs": [
    {
     "data": {
      "text/html": [
       "<table class=\"simpletable\">\n",
       "<caption>OLS Regression Results</caption>\n",
       "<tr>\n",
       "  <th>Dep. Variable:</th>        <td>d_toohigh</td>    <th>  R-squared:         </th> <td>   0.005</td>\n",
       "</tr>\n",
       "<tr>\n",
       "  <th>Model:</th>                   <td>OLS</td>       <th>  Adj. R-squared:    </th> <td>   0.002</td>\n",
       "</tr>\n",
       "<tr>\n",
       "  <th>Method:</th>             <td>Least Squares</td>  <th>  F-statistic:       </th> <td>   1.941</td>\n",
       "</tr>\n",
       "<tr>\n",
       "  <th>Date:</th>             <td>Sun, 12 Aug 2018</td> <th>  Prob (F-statistic):</th>  <td> 0.101</td> \n",
       "</tr>\n",
       "<tr>\n",
       "  <th>Time:</th>                 <td>23:26:57</td>     <th>  Log-Likelihood:    </th> <td> -1248.5</td>\n",
       "</tr>\n",
       "<tr>\n",
       "  <th>No. Observations:</th>      <td>  1550</td>      <th>  AIC:               </th> <td>   2507.</td>\n",
       "</tr>\n",
       "<tr>\n",
       "  <th>Df Residuals:</th>          <td>  1545</td>      <th>  BIC:               </th> <td>   2534.</td>\n",
       "</tr>\n",
       "<tr>\n",
       "  <th>Df Model:</th>              <td>     4</td>      <th>                     </th>     <td> </td>   \n",
       "</tr>\n",
       "<tr>\n",
       "  <th>Covariance Type:</th>      <td>nonrobust</td>    <th>                     </th>     <td> </td>   \n",
       "</tr>\n",
       "</table>\n",
       "<table class=\"simpletable\">\n",
       "<tr>\n",
       "                                <td></td>                                  <th>coef</th>     <th>std err</th>      <th>t</th>      <th>P>|t|</th>  <th>[0.025</th>    <th>0.975]</th>  \n",
       "</tr>\n",
       "<tr>\n",
       "  <th>Intercept</th>                                                    <td>   -0.0539</td> <td>    0.018</td> <td>   -2.919</td> <td> 0.004</td> <td>   -0.090</td> <td>   -0.018</td>\n",
       "</tr>\n",
       "<tr>\n",
       "  <th>C(d_log_cat, Treatment(reference='big loss'))[T.big gain]</th>    <td>    0.0949</td> <td>    0.039</td> <td>    2.410</td> <td> 0.016</td> <td>    0.018</td> <td>    0.172</td>\n",
       "</tr>\n",
       "<tr>\n",
       "  <th>C(d_log_cat, Treatment(reference='big loss'))[T.little gain]</th> <td>    0.0616</td> <td>    0.042</td> <td>    1.475</td> <td> 0.141</td> <td>   -0.020</td> <td>    0.143</td>\n",
       "</tr>\n",
       "<tr>\n",
       "  <th>C(d_log_cat, Treatment(reference='big loss'))[T.little loss]</th> <td>    0.0519</td> <td>    0.037</td> <td>    1.394</td> <td> 0.164</td> <td>   -0.021</td> <td>    0.125</td>\n",
       "</tr>\n",
       "<tr>\n",
       "  <th>C(panelwave)[T.2]</th>                                            <td>   -0.0118</td> <td>    0.017</td> <td>   -0.703</td> <td> 0.482</td> <td>   -0.045</td> <td>    0.021</td>\n",
       "</tr>\n",
       "<tr>\n",
       "  <th>C(panelwave)[T.3]</th>                                            <td>   -0.0421</td> <td>    0.017</td> <td>   -2.512</td> <td> 0.012</td> <td>   -0.075</td> <td>   -0.009</td>\n",
       "</tr>\n",
       "</table>\n",
       "<table class=\"simpletable\">\n",
       "<tr>\n",
       "  <th>Omnibus:</th>       <td>41.067</td> <th>  Durbin-Watson:     </th> <td>   2.373</td>\n",
       "</tr>\n",
       "<tr>\n",
       "  <th>Prob(Omnibus):</th> <td> 0.000</td> <th>  Jarque-Bera (JB):  </th> <td>  95.271</td>\n",
       "</tr>\n",
       "<tr>\n",
       "  <th>Skew:</th>          <td>-0.000</td> <th>  Prob(JB):          </th> <td>2.05e-21</td>\n",
       "</tr>\n",
       "<tr>\n",
       "  <th>Kurtosis:</th>      <td> 4.215</td> <th>  Cond. No.          </th> <td>1.86e+15</td>\n",
       "</tr>\n",
       "</table><br/><br/>Warnings:<br/>[1] Standard Errors assume that the covariance matrix of the errors is correctly specified.<br/>[2] The smallest eigenvalue is 7.62e-28. This might indicate that there are<br/>strong multicollinearity problems or that the design matrix is singular."
      ],
      "text/plain": [
       "<class 'statsmodels.iolib.summary.Summary'>\n",
       "\"\"\"\n",
       "                            OLS Regression Results                            \n",
       "==============================================================================\n",
       "Dep. Variable:              d_toohigh   R-squared:                       0.005\n",
       "Model:                            OLS   Adj. R-squared:                  0.002\n",
       "Method:                 Least Squares   F-statistic:                     1.941\n",
       "Date:                Sun, 12 Aug 2018   Prob (F-statistic):              0.101\n",
       "Time:                        23:26:57   Log-Likelihood:                -1248.5\n",
       "No. Observations:                1550   AIC:                             2507.\n",
       "Df Residuals:                    1545   BIC:                             2534.\n",
       "Df Model:                           4                                         \n",
       "Covariance Type:            nonrobust                                         \n",
       "================================================================================================================================\n",
       "                                                                   coef    std err          t      P>|t|      [0.025      0.975]\n",
       "--------------------------------------------------------------------------------------------------------------------------------\n",
       "Intercept                                                       -0.0539      0.018     -2.919      0.004      -0.090      -0.018\n",
       "C(d_log_cat, Treatment(reference='big loss'))[T.big gain]        0.0949      0.039      2.410      0.016       0.018       0.172\n",
       "C(d_log_cat, Treatment(reference='big loss'))[T.little gain]     0.0616      0.042      1.475      0.141      -0.020       0.143\n",
       "C(d_log_cat, Treatment(reference='big loss'))[T.little loss]     0.0519      0.037      1.394      0.164      -0.021       0.125\n",
       "C(panelwave)[T.2]                                               -0.0118      0.017     -0.703      0.482      -0.045       0.021\n",
       "C(panelwave)[T.3]                                               -0.0421      0.017     -2.512      0.012      -0.075      -0.009\n",
       "==============================================================================\n",
       "Omnibus:                       41.067   Durbin-Watson:                   2.373\n",
       "Prob(Omnibus):                  0.000   Jarque-Bera (JB):               95.271\n",
       "Skew:                          -0.000   Prob(JB):                     2.05e-21\n",
       "Kurtosis:                       4.215   Cond. No.                     1.86e+15\n",
       "==============================================================================\n",
       "\n",
       "Warnings:\n",
       "[1] Standard Errors assume that the covariance matrix of the errors is correctly specified.\n",
       "[2] The smallest eigenvalue is 7.62e-28. This might indicate that there are\n",
       "strong multicollinearity problems or that the design matrix is singular.\n",
       "\"\"\""
      ]
     },
     "execution_count": 25,
     "metadata": {},
     "output_type": "execute_result"
    }
   ],
   "source": [
    "# slide 70\n",
    "\n",
    "fd_tax_unbal2 = smf.ols(\"d_toohigh ~ C(d_log_cat, Treatment(reference='big loss')) + C(panelwave)\", \\\n",
    "                        data = sub, missing = 'drop').fit()\n",
    "fd_tax_unbal2.summary()"
   ]
  },
  {
   "cell_type": "markdown",
   "metadata": {},
   "source": [
    "## 6. From our first differences model to the fixed effects model\n",
    "\n",
    "Skipping code on slides that are for teaching purposes only (slides 77 - 88). Start at slide 94."
   ]
  },
  {
   "cell_type": "markdown",
   "metadata": {},
   "source": [
    "Use `PanelOLS` from the `linearmodels` module to estimate fixed effects. Add `EntityEffects` to the formula to include entity (fixed) effects in the model. "
   ]
  },
  {
   "cell_type": "code",
   "execution_count": 26,
   "metadata": {},
   "outputs": [
    {
     "name": "stderr",
     "output_type": "stream",
     "text": [
      "/Users/melindasong/anaconda/lib/python3.5/site-packages/linearmodels/utility.py:496: MissingValueWarning: \n",
      "Inputs contain missing values. Dropping rows with missing observations.\n",
      "  warnings.warn(missing_value_warning_msg, MissingValueWarning)\n"
     ]
    },
    {
     "data": {
      "text/html": [
       "<table class=\"simpletable\">\n",
       "<caption>PanelOLS Estimation Summary</caption>\n",
       "<tr>\n",
       "  <th>Dep. Variable:</th>         <td>toohigh</td>     <th>  R-squared:         </th>    <td>0.0059</td>  \n",
       "</tr>\n",
       "<tr>\n",
       "  <th>Estimator:</th>            <td>PanelOLS</td>     <th>  R-squared (Between):</th>   <td>0.0046</td>  \n",
       "</tr>\n",
       "<tr>\n",
       "  <th>No. Observations:</th>       <td>2856</td>       <th>  R-squared (Within):</th>    <td>0.0059</td>  \n",
       "</tr>\n",
       "<tr>\n",
       "  <th>Date:</th>             <td>Sun, Aug 12 2018</td> <th>  R-squared (Overall):</th>   <td>0.0046</td>  \n",
       "</tr>\n",
       "<tr>\n",
       "  <th>Time:</th>                 <td>23:27:04</td>     <th>  Log-likelihood     </th>    <td>-505.60</td> \n",
       "</tr>\n",
       "<tr>\n",
       "  <th>Cov. Estimator:</th>      <td>Unadjusted</td>    <th>                     </th>       <td></td>     \n",
       "</tr>\n",
       "<tr>\n",
       "  <th></th>                          <td></td>         <th>  F-statistic:       </th>    <td>3.1105</td>  \n",
       "</tr>\n",
       "<tr>\n",
       "  <th>Entities:</th>               <td>1272</td>       <th>  P-value            </th>    <td>0.0255</td>  \n",
       "</tr>\n",
       "<tr>\n",
       "  <th>Avg Obs:</th>               <td>2.2453</td>      <th>  Distribution:      </th>   <td>F(3,1581)</td>\n",
       "</tr>\n",
       "<tr>\n",
       "  <th>Min Obs:</th>               <td>1.0000</td>      <th>                     </th>       <td></td>     \n",
       "</tr>\n",
       "<tr>\n",
       "  <th>Max Obs:</th>               <td>3.0000</td>      <th>  F-statistic (robust):</th>  <td>3.1105</td>  \n",
       "</tr>\n",
       "<tr>\n",
       "  <th></th>                          <td></td>         <th>  P-value            </th>    <td>0.0255</td>  \n",
       "</tr>\n",
       "<tr>\n",
       "  <th>Time periods:</th>             <td>3</td>        <th>  Distribution:      </th>   <td>F(3,1581)</td>\n",
       "</tr>\n",
       "<tr>\n",
       "  <th>Avg Obs:</th>               <td>952.00</td>      <th>                     </th>       <td></td>     \n",
       "</tr>\n",
       "<tr>\n",
       "  <th>Min Obs:</th>               <td>774.00</td>      <th>                     </th>       <td></td>     \n",
       "</tr>\n",
       "<tr>\n",
       "  <th>Max Obs:</th>               <td>1144.0</td>      <th>                     </th>       <td></td>     \n",
       "</tr>\n",
       "<tr>\n",
       "  <th></th>                          <td></td>         <th>                     </th>       <td></td>     \n",
       "</tr>\n",
       "</table>\n",
       "<table class=\"simpletable\">\n",
       "<caption>Parameter Estimates</caption>\n",
       "<tr>\n",
       "           <td></td>           <th>Parameter</th> <th>Std. Err.</th> <th>T-stat</th>  <th>P-value</th> <th>Lower CI</th> <th>Upper CI</th>\n",
       "</tr>\n",
       "<tr>\n",
       "  <th>Intercept</th>            <td>2.4204</td>    <td>0.1573</td>   <td>15.392</td>  <td>0.0000</td>   <td>2.1120</td>   <td>2.7289</td> \n",
       "</tr>\n",
       "<tr>\n",
       "  <th>C(panelwave)[T.2.0]</th>  <td>-0.0143</td>   <td>0.0188</td>   <td>-0.7591</td> <td>0.4479</td>   <td>-0.0513</td>  <td>0.0227</td> \n",
       "</tr>\n",
       "<tr>\n",
       "  <th>C(panelwave)[T.3.0]</th>  <td>-0.0559</td>   <td>0.0201</td>   <td>-2.7781</td> <td>0.0055</td>   <td>-0.0954</td>  <td>-0.0164</td>\n",
       "</tr>\n",
       "<tr>\n",
       "  <th>logrealinc</th>           <td>0.0147</td>    <td>0.0156</td>   <td>0.9421</td>  <td>0.3463</td>   <td>-0.0159</td>  <td>0.0453</td> \n",
       "</tr>\n",
       "</table><br/><br/>F-test for Poolability: 2.7816<br/>P-value: 0.0000<br/>Distribution: F(1271,1581)<br/><br/>Included effects: Entity<br/>id: 0x129d2c320"
      ],
      "text/plain": [
       "                          PanelOLS Estimation Summary                           \n",
       "================================================================================\n",
       "Dep. Variable:                toohigh   R-squared:                        0.0059\n",
       "Estimator:                   PanelOLS   R-squared (Between):              0.0046\n",
       "No. Observations:                2856   R-squared (Within):               0.0059\n",
       "Date:                Sun, Aug 12 2018   R-squared (Overall):              0.0046\n",
       "Time:                        23:27:04   Log-likelihood                   -505.60\n",
       "Cov. Estimator:            Unadjusted                                           \n",
       "                                        F-statistic:                      3.1105\n",
       "Entities:                        1272   P-value                           0.0255\n",
       "Avg Obs:                       2.2453   Distribution:                  F(3,1581)\n",
       "Min Obs:                       1.0000                                           \n",
       "Max Obs:                       3.0000   F-statistic (robust):             3.1105\n",
       "                                        P-value                           0.0255\n",
       "Time periods:                       3   Distribution:                  F(3,1581)\n",
       "Avg Obs:                       952.00                                           \n",
       "Min Obs:                       774.00                                           \n",
       "Max Obs:                       1144.0                                           \n",
       "                                                                                \n",
       "                                  Parameter Estimates                                  \n",
       "=======================================================================================\n",
       "                     Parameter  Std. Err.     T-stat    P-value    Lower CI    Upper CI\n",
       "---------------------------------------------------------------------------------------\n",
       "Intercept               2.4204     0.1573     15.392     0.0000      2.1120      2.7289\n",
       "C(panelwave)[T.2.0]    -0.0143     0.0188    -0.7591     0.4479     -0.0513      0.0227\n",
       "C(panelwave)[T.3.0]    -0.0559     0.0201    -2.7781     0.0055     -0.0954     -0.0164\n",
       "logrealinc              0.0147     0.0156     0.9421     0.3463     -0.0159      0.0453\n",
       "=======================================================================================\n",
       "\n",
       "F-test for Poolability: 2.7816\n",
       "P-value: 0.0000\n",
       "Distribution: F(1271,1581)\n",
       "\n",
       "Included effects: Entity\n",
       "PanelEffectsResults, id: 0x129d2c320"
      ]
     },
     "execution_count": 26,
     "metadata": {},
     "output_type": "execute_result"
    }
   ],
   "source": [
    "from linearmodels import PanelOLS\n",
    "fe_tax_unbal = PanelOLS.from_formula('toohigh ~ 1 + logrealinc + C(panelwave) + EntityEffects', data = sub).fit()\n",
    "fe_tax_unbal"
   ]
  },
  {
   "cell_type": "markdown",
   "metadata": {},
   "source": [
    "### Pooled logistic regression \n",
    "(slide 103)"
   ]
  },
  {
   "cell_type": "markdown",
   "metadata": {},
   "source": [
    "By default, `numpy` counts NaN as 0. So we need to specifically tell our conditional function to treat the NaN values separately.  "
   ]
  },
  {
   "cell_type": "code",
   "execution_count": 27,
   "metadata": {},
   "outputs": [
    {
     "data": {
      "text/plain": [
       "1.0    1805\n",
       "0.0    1391\n",
       "Name: toohighest, dtype: int64"
      ]
     },
     "execution_count": 27,
     "metadata": {},
     "output_type": "execute_result"
    }
   ],
   "source": [
    "sub['toohighest'] = np.where(pd.isnull(sub['toohigh']), np.nan, np.where(sub['toohigh'] > 2, 1, 0))\n",
    "sub['toohighest'].value_counts()"
   ]
  },
  {
   "cell_type": "code",
   "execution_count": 28,
   "metadata": {},
   "outputs": [
    {
     "data": {
      "text/html": [
       "<table class=\"simpletable\">\n",
       "<caption>Generalized Linear Model Regression Results</caption>\n",
       "<tr>\n",
       "  <th>Dep. Variable:</th>     <td>toohighest</td>    <th>  No. Observations:  </th>  <td>  2856</td>  \n",
       "</tr>\n",
       "<tr>\n",
       "  <th>Model:</th>                 <td>GLM</td>       <th>  Df Residuals:      </th>  <td>  2852</td>  \n",
       "</tr>\n",
       "<tr>\n",
       "  <th>Model Family:</th>       <td>Binomial</td>     <th>  Df Model:          </th>  <td>     3</td>  \n",
       "</tr>\n",
       "<tr>\n",
       "  <th>Link Function:</th>        <td>logit</td>      <th>  Scale:             </th> <td>  1.0000</td> \n",
       "</tr>\n",
       "<tr>\n",
       "  <th>Method:</th>               <td>IRLS</td>       <th>  Log-Likelihood:    </th> <td> -1950.6</td> \n",
       "</tr>\n",
       "<tr>\n",
       "  <th>Date:</th>           <td>Sun, 12 Aug 2018</td> <th>  Deviance:          </th> <td>  3901.1</td> \n",
       "</tr>\n",
       "<tr>\n",
       "  <th>Time:</th>               <td>23:27:08</td>     <th>  Pearson chi2:      </th> <td>2.86e+03</td> \n",
       "</tr>\n",
       "<tr>\n",
       "  <th>No. Iterations:</th>         <td>4</td>        <th>  Covariance Type:   </th> <td>nonrobust</td>\n",
       "</tr>\n",
       "</table>\n",
       "<table class=\"simpletable\">\n",
       "<tr>\n",
       "          <td></td>             <th>coef</th>     <th>std err</th>      <th>z</th>      <th>P>|z|</th>  <th>[0.025</th>    <th>0.975]</th>  \n",
       "</tr>\n",
       "<tr>\n",
       "  <th>Intercept</th>         <td>   -0.7912</td> <td>    0.369</td> <td>   -2.142</td> <td> 0.032</td> <td>   -1.515</td> <td>   -0.067</td>\n",
       "</tr>\n",
       "<tr>\n",
       "  <th>C(panelwave)[T.2]</th> <td>   -0.0666</td> <td>    0.089</td> <td>   -0.747</td> <td> 0.455</td> <td>   -0.242</td> <td>    0.108</td>\n",
       "</tr>\n",
       "<tr>\n",
       "  <th>C(panelwave)[T.3]</th> <td>   -0.2437</td> <td>    0.094</td> <td>   -2.599</td> <td> 0.009</td> <td>   -0.428</td> <td>   -0.060</td>\n",
       "</tr>\n",
       "<tr>\n",
       "  <th>logrealinc</th>        <td>    0.1117</td> <td>    0.036</td> <td>    3.069</td> <td> 0.002</td> <td>    0.040</td> <td>    0.183</td>\n",
       "</tr>\n",
       "</table>"
      ],
      "text/plain": [
       "<class 'statsmodels.iolib.summary.Summary'>\n",
       "\"\"\"\n",
       "                 Generalized Linear Model Regression Results                  \n",
       "==============================================================================\n",
       "Dep. Variable:             toohighest   No. Observations:                 2856\n",
       "Model:                            GLM   Df Residuals:                     2852\n",
       "Model Family:                Binomial   Df Model:                            3\n",
       "Link Function:                  logit   Scale:                          1.0000\n",
       "Method:                          IRLS   Log-Likelihood:                -1950.6\n",
       "Date:                Sun, 12 Aug 2018   Deviance:                       3901.1\n",
       "Time:                        23:27:08   Pearson chi2:                 2.86e+03\n",
       "No. Iterations:                     4   Covariance Type:             nonrobust\n",
       "=====================================================================================\n",
       "                        coef    std err          z      P>|z|      [0.025      0.975]\n",
       "-------------------------------------------------------------------------------------\n",
       "Intercept            -0.7912      0.369     -2.142      0.032      -1.515      -0.067\n",
       "C(panelwave)[T.2]    -0.0666      0.089     -0.747      0.455      -0.242       0.108\n",
       "C(panelwave)[T.3]    -0.2437      0.094     -2.599      0.009      -0.428      -0.060\n",
       "logrealinc            0.1117      0.036      3.069      0.002       0.040       0.183\n",
       "=====================================================================================\n",
       "\"\"\""
      ]
     },
     "execution_count": 28,
     "metadata": {},
     "output_type": "execute_result"
    }
   ],
   "source": [
    "logit1 = smf.glm('toohighest ~ logrealinc + C(panelwave)', data = sub, family=sm.families.Binomial()).fit()\n",
    "logit1.summary()"
   ]
  },
  {
   "cell_type": "code",
   "execution_count": 29,
   "metadata": {},
   "outputs": [
    {
     "data": {
      "text/plain": [
       "Intercept            0.453310\n",
       "C(panelwave)[T.2]    0.935530\n",
       "C(panelwave)[T.3]    0.783684\n",
       "logrealinc           1.118206\n",
       "dtype: float64"
      ]
     },
     "execution_count": 29,
     "metadata": {},
     "output_type": "execute_result"
    }
   ],
   "source": [
    "np.exp(logit1.params)"
   ]
  },
  {
   "cell_type": "markdown",
   "metadata": {},
   "source": [
    "### The conditional logistic regression"
   ]
  },
  {
   "cell_type": "markdown",
   "metadata": {},
   "source": [
    "The modules available in Python to perform conditional logistic regression have limited use cases. Thus we will employ the `clogit` function available in the R `survival` package. "
   ]
  },
  {
   "cell_type": "code",
   "execution_count": 32,
   "metadata": {},
   "outputs": [],
   "source": [
    "import warnings\n",
    "warnings.filterwarnings('ignore')"
   ]
  },
  {
   "cell_type": "code",
   "execution_count": 38,
   "metadata": {},
   "outputs": [],
   "source": [
    "survival = importr('survival')"
   ]
  },
  {
   "cell_type": "code",
   "execution_count": 34,
   "metadata": {},
   "outputs": [
    {
     "data": {
      "text/plain": [
       "Call:\n",
       "coxph(formula = Surv(rep(1, 6000L), I(toohighest == 1)) ~ logrealinc + \n",
       "    as.factor(panelwave) + strata(idnum), data = sub, method = \"exact\")\n",
       "\n",
       "  n= 2856, number of events= 1600 \n",
       "   (3144 observations deleted due to missingness)\n",
       "\n",
       "                         coef exp(coef) se(coef)      z Pr(>|z|)   \n",
       "logrealinc             0.1495    1.1612   0.1321  1.132  0.25782   \n",
       "as.factor(panelwave)2 -0.1199    0.8870   0.1333 -0.900  0.36831   \n",
       "as.factor(panelwave)3 -0.4641    0.6287   0.1419 -3.271  0.00107 **\n",
       "---\n",
       "Signif. codes:  0 ‘***’ 0.001 ‘**’ 0.01 ‘*’ 0.05 ‘.’ 0.1 ‘ ’ 1\n",
       "\n",
       "                      exp(coef) exp(-coef) lower .95 upper .95\n",
       "logrealinc               1.1612     0.8612    0.8964    1.5043\n",
       "as.factor(panelwave)2    0.8870     1.1274    0.6831    1.1518\n",
       "as.factor(panelwave)3    0.6287     1.5905    0.4761    0.8303\n",
       "\n",
       "Rsquare= 0.004   (max possible= 0.216 )\n",
       "Likelihood ratio test= 12.63  on 3 df,   p=0.005511\n",
       "Wald test            = 12.33  on 3 df,   p=0.006331\n",
       "Score (logrank) test = 12.5  on 3 df,   p=0.005863\n",
       "\n"
      ]
     },
     "metadata": {},
     "output_type": "display_data"
    }
   ],
   "source": [
    "%%R -i sub\n",
    "\n",
    "clogit1 = clogit(I(toohighest==1) ~ logrealinc + as.factor(panelwave) + strata(idnum), data=sub)\n",
    "summary(clogit1)"
   ]
  },
  {
   "cell_type": "code",
   "execution_count": null,
   "metadata": {},
   "outputs": [],
   "source": []
  }
 ],
 "metadata": {
  "kernelspec": {
   "display_name": "py36",
   "language": "python",
   "name": "py36"
  },
  "language_info": {
   "codemirror_mode": {
    "name": "ipython",
    "version": 3
   },
   "file_extension": ".py",
   "mimetype": "text/x-python",
   "name": "python",
   "nbconvert_exporter": "python",
   "pygments_lexer": "ipython3",
   "version": "3.6.5"
  }
 },
 "nbformat": 4,
 "nbformat_minor": 2
}
