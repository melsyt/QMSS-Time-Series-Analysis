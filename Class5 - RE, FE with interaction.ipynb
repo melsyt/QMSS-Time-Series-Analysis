{
 "cells": [
  {
   "cell_type": "markdown",
   "metadata": {},
   "source": [
    "# Regression Analysis of Temporal Processes (Class 5) - Random Effects, Fixed Effects with interaction "
   ]
  },
  {
   "cell_type": "markdown",
   "metadata": {},
   "source": [
    "## 1. Random effects"
   ]
  },
  {
   "cell_type": "markdown",
   "metadata": {},
   "source": [
    "First we import the modules that we need and set up the data we used in the previous class"
   ]
  },
  {
   "cell_type": "code",
   "execution_count": 1,
   "metadata": {},
   "outputs": [],
   "source": [
    "import pandas as pd\n",
    "import numpy as np\n",
    "import seaborn as sns\n",
    "import matplotlib.pyplot as plt\n",
    "%matplotlib inline\n",
    "import statsmodels.api as sm\n",
    "import statsmodels.formula.api as smf\n",
    "from scipy import stats\n",
    "import numpy.linalg as la"
   ]
  },
  {
   "cell_type": "code",
   "execution_count": 2,
   "metadata": {},
   "outputs": [],
   "source": [
    "pan = pd.read_csv('panel-for-R.csv')\n",
    "\n",
    "variables = [\"tax\", \"idnum\", \"panelwave\", \"age\", \"sex\", \"realinc\", \"race\", \"region\", \"coop\", \"happy\", \"wrkstat\", \"marital\"]\n",
    "\n",
    "sub = pan[variables].copy()"
   ]
  },
  {
   "cell_type": "code",
   "execution_count": 3,
   "metadata": {},
   "outputs": [],
   "source": [
    "sub['toohigh'] = 4 - sub['tax']\n",
    "\n",
    "sub = sub.set_index(['idnum', 'panelwave'], drop=False)\n",
    "\n",
    "sub['logrealinc'] = np.log(sub.loc[:, 'realinc'])"
   ]
  },
  {
   "cell_type": "code",
   "execution_count": 4,
   "metadata": {},
   "outputs": [
    {
     "name": "stderr",
     "output_type": "stream",
     "text": [
      "/Users/melindasong/anaconda/envs/py36/lib/python3.6/site-packages/linearmodels/utility.py:496: MissingValueWarning: \n",
      "Inputs contain missing values. Dropping rows with missing observations.\n",
      "  warnings.warn(missing_value_warning_msg, MissingValueWarning)\n"
     ]
    },
    {
     "data": {
      "text/html": [
       "<table class=\"simpletable\">\n",
       "<caption>RandomEffects Estimation Summary</caption>\n",
       "<tr>\n",
       "  <th>Dep. Variable:</th>         <td>toohigh</td>     <th>  R-squared:         </th>    <td>0.1827</td>  \n",
       "</tr>\n",
       "<tr>\n",
       "  <th>Estimator:</th>          <td>RandomEffects</td>  <th>  R-squared (Between):</th>   <td>0.0059</td>  \n",
       "</tr>\n",
       "<tr>\n",
       "  <th>No. Observations:</th>       <td>2856</td>       <th>  R-squared (Within):</th>    <td>0.0056</td>  \n",
       "</tr>\n",
       "<tr>\n",
       "  <th>Date:</th>             <td>Thu, Aug 16 2018</td> <th>  R-squared (Overall):</th>   <td>0.0054</td>  \n",
       "</tr>\n",
       "<tr>\n",
       "  <th>Time:</th>                 <td>11:57:50</td>     <th>  Log-likelihood     </th>    <td>-1346.3</td> \n",
       "</tr>\n",
       "<tr>\n",
       "  <th>Cov. Estimator:</th>      <td>Unadjusted</td>    <th>                     </th>       <td></td>     \n",
       "</tr>\n",
       "<tr>\n",
       "  <th></th>                          <td></td>         <th>  F-statistic:       </th>    <td>212.57</td>  \n",
       "</tr>\n",
       "<tr>\n",
       "  <th>Entities:</th>               <td>1272</td>       <th>  P-value            </th>    <td>0.0000</td>  \n",
       "</tr>\n",
       "<tr>\n",
       "  <th>Avg Obs:</th>               <td>2.2453</td>      <th>  Distribution:      </th>   <td>F(3,2852)</td>\n",
       "</tr>\n",
       "<tr>\n",
       "  <th>Min Obs:</th>               <td>1.0000</td>      <th>                     </th>       <td></td>     \n",
       "</tr>\n",
       "<tr>\n",
       "  <th>Max Obs:</th>               <td>3.0000</td>      <th>  F-statistic (robust):</th>  <td>5.3526</td>  \n",
       "</tr>\n",
       "<tr>\n",
       "  <th></th>                          <td></td>         <th>  P-value            </th>    <td>0.0011</td>  \n",
       "</tr>\n",
       "<tr>\n",
       "  <th>Time periods:</th>             <td>3</td>        <th>  Distribution:      </th>   <td>F(3,2852)</td>\n",
       "</tr>\n",
       "<tr>\n",
       "  <th>Avg Obs:</th>               <td>952.00</td>      <th>                     </th>       <td></td>     \n",
       "</tr>\n",
       "<tr>\n",
       "  <th>Min Obs:</th>               <td>774.00</td>      <th>                     </th>       <td></td>     \n",
       "</tr>\n",
       "<tr>\n",
       "  <th>Max Obs:</th>               <td>1144.0</td>      <th>                     </th>       <td></td>     \n",
       "</tr>\n",
       "<tr>\n",
       "  <th></th>                          <td></td>         <th>                     </th>       <td></td>     \n",
       "</tr>\n",
       "</table>\n",
       "<table class=\"simpletable\">\n",
       "<caption>Parameter Estimates</caption>\n",
       "<tr>\n",
       "           <td></td>           <th>Parameter</th> <th>Std. Err.</th> <th>T-stat</th>  <th>P-value</th> <th>Lower CI</th> <th>Upper CI</th>\n",
       "</tr>\n",
       "<tr>\n",
       "  <th>Intercept</th>            <td>2.3162</td>    <td>0.1010</td>   <td>22.926</td>  <td>0.0000</td>   <td>2.1181</td>   <td>2.5142</td> \n",
       "</tr>\n",
       "<tr>\n",
       "  <th>C(panelwave)[T.2.0]</th>  <td>-0.0162</td>   <td>0.0179</td>   <td>-0.9091</td> <td>0.3634</td>   <td>-0.0513</td>  <td>0.0188</td> \n",
       "</tr>\n",
       "<tr>\n",
       "  <th>C(panelwave)[T.3.0]</th>  <td>-0.0569</td>   <td>0.0191</td>   <td>-2.9845</td> <td>0.0029</td>   <td>-0.0943</td>  <td>-0.0195</td>\n",
       "</tr>\n",
       "<tr>\n",
       "  <th>logrealinc</th>           <td>0.0254</td>    <td>0.0100</td>   <td>2.5495</td>  <td>0.0108</td>   <td>0.0059</td>   <td>0.0450</td> \n",
       "</tr>\n",
       "</table><br/>id: 0x1c1f9f7b70"
      ],
      "text/plain": [
       "                        RandomEffects Estimation Summary                        \n",
       "================================================================================\n",
       "Dep. Variable:                toohigh   R-squared:                        0.1827\n",
       "Estimator:              RandomEffects   R-squared (Between):              0.0059\n",
       "No. Observations:                2856   R-squared (Within):               0.0056\n",
       "Date:                Thu, Aug 16 2018   R-squared (Overall):              0.0054\n",
       "Time:                        11:57:50   Log-likelihood                   -1346.3\n",
       "Cov. Estimator:            Unadjusted                                           \n",
       "                                        F-statistic:                      212.57\n",
       "Entities:                        1272   P-value                           0.0000\n",
       "Avg Obs:                       2.2453   Distribution:                  F(3,2852)\n",
       "Min Obs:                       1.0000                                           \n",
       "Max Obs:                       3.0000   F-statistic (robust):             5.3526\n",
       "                                        P-value                           0.0011\n",
       "Time periods:                       3   Distribution:                  F(3,2852)\n",
       "Avg Obs:                       952.00                                           \n",
       "Min Obs:                       774.00                                           \n",
       "Max Obs:                       1144.0                                           \n",
       "                                                                                \n",
       "                                  Parameter Estimates                                  \n",
       "=======================================================================================\n",
       "                     Parameter  Std. Err.     T-stat    P-value    Lower CI    Upper CI\n",
       "---------------------------------------------------------------------------------------\n",
       "Intercept               2.3162     0.1010     22.926     0.0000      2.1181      2.5142\n",
       "C(panelwave)[T.2.0]    -0.0162     0.0179    -0.9091     0.3634     -0.0513      0.0188\n",
       "C(panelwave)[T.3.0]    -0.0569     0.0191    -2.9845     0.0029     -0.0943     -0.0195\n",
       "logrealinc              0.0254     0.0100     2.5495     0.0108      0.0059      0.0450\n",
       "=======================================================================================\n",
       "RandomEffectsResults, id: 0x1c1f9f7b70"
      ]
     },
     "execution_count": 4,
     "metadata": {},
     "output_type": "execute_result"
    }
   ],
   "source": [
    "# slide 14\n",
    "from linearmodels.panel import RandomEffects\n",
    "\n",
    "re_tax = RandomEffects.from_formula('toohigh ~ 1 + logrealinc + C(panelwave)', data = sub).fit()\n",
    "re_tax"
   ]
  },
  {
   "cell_type": "code",
   "execution_count": 5,
   "metadata": {},
   "outputs": [
    {
     "data": {
      "text/plain": [
       "Effects                   0.120515\n",
       "Residual                  0.150702\n",
       "Percent due to Effects    0.444349\n",
       "Name: Variance Decomposition, dtype: float64"
      ]
     },
     "execution_count": 5,
     "metadata": {},
     "output_type": "execute_result"
    }
   ],
   "source": [
    "# idiosyncratic and individual effects variances\n",
    "re_tax.variance_decomposition"
   ]
  },
  {
   "cell_type": "code",
   "execution_count": 24,
   "metadata": {},
   "outputs": [
    {
     "data": {
      "text/html": [
       "<div>\n",
       "<style scoped>\n",
       "    .dataframe tbody tr th:only-of-type {\n",
       "        vertical-align: middle;\n",
       "    }\n",
       "\n",
       "    .dataframe tbody tr th {\n",
       "        vertical-align: top;\n",
       "    }\n",
       "\n",
       "    .dataframe thead th {\n",
       "        text-align: right;\n",
       "    }\n",
       "</style>\n",
       "<table border=\"1\" class=\"dataframe\">\n",
       "  <thead>\n",
       "    <tr style=\"text-align: right;\">\n",
       "      <th></th>\n",
       "      <th>theta</th>\n",
       "    </tr>\n",
       "  </thead>\n",
       "  <tbody>\n",
       "    <tr>\n",
       "      <th>count</th>\n",
       "      <td>1272.000000</td>\n",
       "    </tr>\n",
       "    <tr>\n",
       "      <th>mean</th>\n",
       "      <td>0.386091</td>\n",
       "    </tr>\n",
       "    <tr>\n",
       "      <th>std</th>\n",
       "      <td>0.084980</td>\n",
       "    </tr>\n",
       "    <tr>\n",
       "      <th>min</th>\n",
       "      <td>0.254418</td>\n",
       "    </tr>\n",
       "    <tr>\n",
       "      <th>25%</th>\n",
       "      <td>0.254418</td>\n",
       "    </tr>\n",
       "    <tr>\n",
       "      <th>50%</th>\n",
       "      <td>0.457413</td>\n",
       "    </tr>\n",
       "    <tr>\n",
       "      <th>75%</th>\n",
       "      <td>0.457413</td>\n",
       "    </tr>\n",
       "    <tr>\n",
       "      <th>max</th>\n",
       "      <td>0.457413</td>\n",
       "    </tr>\n",
       "  </tbody>\n",
       "</table>\n",
       "</div>"
      ],
      "text/plain": [
       "             theta\n",
       "count  1272.000000\n",
       "mean      0.386091\n",
       "std       0.084980\n",
       "min       0.254418\n",
       "25%       0.254418\n",
       "50%       0.457413\n",
       "75%       0.457413\n",
       "max       0.457413"
      ]
     },
     "execution_count": 24,
     "metadata": {},
     "output_type": "execute_result"
    }
   ],
   "source": [
    "re_tax.theta.describe()"
   ]
  },
  {
   "cell_type": "code",
   "execution_count": 66,
   "metadata": {},
   "outputs": [
    {
     "name": "stdout",
     "output_type": "stream",
     "text": [
      "Total sum of squares:  525.255225596566\n",
      "Residual sum of squares:  429.27118037383093\n"
     ]
    }
   ],
   "source": [
    "# slide 15\n",
    "\n",
    "print('Total sum of squares: ', re_tax.total_ss)\n",
    "print('Residual sum of squares: ', re_tax.resid_ss)"
   ]
  },
  {
   "cell_type": "markdown",
   "metadata": {},
   "source": [
    "R-squared, F-statistics, and p-value can be seen from the summary table printed above. "
   ]
  },
  {
   "cell_type": "code",
   "execution_count": 9,
   "metadata": {},
   "outputs": [
    {
     "name": "stdout",
     "output_type": "stream",
     "text": [
      "sigma_u = 0.34715\n",
      "sigma_e = 0.3882\n",
      "rho = 0.44435\n"
     ]
    }
   ],
   "source": [
    "# slide 16\n",
    "\n",
    "print('sigma_u =', round(np.sqrt(re_tax.variance_decomposition[0]), 5))\n",
    "print('sigma_e =', round(np.sqrt(re_tax.variance_decomposition[1]), 5))\n",
    "print('rho =', round(re_tax.variance_decomposition[2], 5))"
   ]
  },
  {
   "cell_type": "markdown",
   "metadata": {},
   "source": [
    "(Slide 19) Since we did not run the fe_tax model in the last class because it was for teaching purposes only, we are skipping the Hausman test as well. \n",
    "\n",
    "For reference, this test can be performed using the following function borrowed from https://github.com/sglyon/econtools/blob/master/Python/econtools/metrics.py  \n",
    "(The function had to be revised slightly because `statsmodels.regression.linear_panel.PanelLMRandomResults` has been deprecated.)"
   ]
  },
  {
   "cell_type": "code",
   "execution_count": 27,
   "metadata": {},
   "outputs": [],
   "source": [
    "def hausman(fe, re):\n",
    "    \"\"\"\n",
    "    Compute hausman test for fixed effects/random effects models\n",
    "    b = beta_fe\n",
    "    B = beta_re\n",
    "    From theory we have that b is always consistent, but B is consistent\n",
    "    under the alternative hypothesis and efficient under the null.\n",
    "    The test statistic is computed as\n",
    "    z = (b - B)' [V_b - v_B^{-1}](b - B)\n",
    "    The statistic is distributed z \\sim \\chi^2(k), where k is the number\n",
    "    of regressors in the model.\n",
    "    Parameters\n",
    "    ==========\n",
    "    fe : statsmodels.regression.linear_panel.PanelLMWithinResults\n",
    "        The results obtained by using sm.PanelLM with the\n",
    "        method='within' option.\n",
    "    re : statsmodels.regression.linear_panel.PanelLMRandomResults\n",
    "        The results obtained by using sm.PanelLM with the\n",
    "        method='swar' option.\n",
    "    Returns\n",
    "    =======\n",
    "    chi2 : float\n",
    "        The test statistic\n",
    "    df : int\n",
    "        The number of degrees of freedom for the distribution of the\n",
    "        test statistic\n",
    "    pval : float\n",
    "        The p-value associated with the null hypothesis\n",
    "    Notes\n",
    "    =====\n",
    "    The null hypothesis supports the claim that the random effects\n",
    "    estimator is \"better\". If we reject this hypothesis it is the same\n",
    "    as saying we should be using fixed effects because there are\n",
    "    systematic differences in the coefficients.\n",
    "    \"\"\"\n",
    "\n",
    "    # Pull data out\n",
    "    b = fe.params.values\n",
    "    B = re.params.values\n",
    "    v_b = fe.cov.values\n",
    "    v_B = re.cov.values\n",
    "\n",
    "    # NOTE: find df. fe should toss time-invariant variables, but it\n",
    "    #       doesn't. It does return garbage so we use that to filter\n",
    "    df = b[np.abs(b) < 1e8].size\n",
    "\n",
    "    # compute test statistic and associated p-value\n",
    "    chi2 = np.dot((b - B).T, la.inv(v_b - v_B).dot(b - B))\n",
    "    pval = stats.chi2.sf(chi2, df)\n",
    "\n",
    "    return chi2, df, pval"
   ]
  },
  {
   "cell_type": "markdown",
   "metadata": {},
   "source": [
    "## 2. Fixed effects with interactions"
   ]
  },
  {
   "cell_type": "markdown",
   "metadata": {},
   "source": [
    "(slide 26)"
   ]
  },
  {
   "cell_type": "code",
   "execution_count": 29,
   "metadata": {},
   "outputs": [],
   "source": [
    "variables = ['tax', 'coop', 'realinc', 'educ', 'panelwave', 'idnum', 'race', 'partyid', 'polviews']\n",
    "fsub_int = pan[variables].copy()\n",
    "\n",
    "fsub_int['race2'] = np.where(pd.isnull(fsub_int.race), np.nan, \n",
    "                             np.where(fsub_int.race==2, 1, 0))\n",
    "fsub_int['race3'] = np.where(pd.isnull(fsub_int.race), np.nan, \n",
    "                             np.where(fsub_int.race == 3, 1, 0))\n",
    "\n",
    "fsub_int = fsub_int.rename(columns = {'polviews': 'conservative'})"
   ]
  },
  {
   "cell_type": "code",
   "execution_count": 30,
   "metadata": {},
   "outputs": [],
   "source": [
    "#To perform any panel data analysis, we need to convert this dataframe to a multiindex dataframe:\n",
    "fsub_int = fsub_int.set_index(['idnum', 'panelwave'], drop=False)\n",
    "\n",
    "# create first-differenced variables\n",
    "fsub_int['d_race2'] = fsub_int['race2'].groupby(level = 0).diff()\n",
    "fsub_int['d_race3'] = fsub_int['race3'].groupby(level = 0).diff()\n",
    "\n",
    "# rename columns\n",
    "fsub_int = fsub_int.rename(columns = {'race2': 'black'})\n",
    "fsub_int = fsub_int.rename(columns = {'race3': 'other'})"
   ]
  },
  {
   "cell_type": "markdown",
   "metadata": {},
   "source": [
    "### Fixed effects without interactions\n",
    "(slide 28)"
   ]
  },
  {
   "cell_type": "code",
   "execution_count": 68,
   "metadata": {},
   "outputs": [
    {
     "name": "stderr",
     "output_type": "stream",
     "text": [
      "/Users/melindasong/anaconda/envs/py36/lib/python3.6/site-packages/linearmodels/utility.py:496: MissingValueWarning: \n",
      "Inputs contain missing values. Dropping rows with missing observations.\n",
      "  warnings.warn(missing_value_warning_msg, MissingValueWarning)\n"
     ]
    },
    {
     "ename": "AbsorbingEffectError",
     "evalue": "\nThe model cannot be estimated. The included effects have fully absorbed\none or more of the variables. This occurs when one or more of the dependent\nvariable is perfectly explained using the effects included in the model.\n",
     "output_type": "error",
     "traceback": [
      "\u001b[0;31m---------------------------------------------------------------------------\u001b[0m",
      "\u001b[0;31mAbsorbingEffectError\u001b[0m                      Traceback (most recent call last)",
      "\u001b[0;32m<ipython-input-68-f1bdc53ecd1d>\u001b[0m in \u001b[0;36m<module>\u001b[0;34m()\u001b[0m\n\u001b[1;32m      5\u001b[0m \u001b[0;34m\u001b[0m\u001b[0m\n\u001b[1;32m      6\u001b[0m \u001b[0;31m# add `EntityEffects` to indicate one-way fixed effects in the model\u001b[0m\u001b[0;34m\u001b[0m\u001b[0;34m\u001b[0m\u001b[0m\n\u001b[0;32m----> 7\u001b[0;31m \u001b[0mfe_race_int1\u001b[0m \u001b[0;34m=\u001b[0m \u001b[0mPanelOLS\u001b[0m\u001b[0;34m.\u001b[0m\u001b[0mfrom_formula\u001b[0m\u001b[0;34m(\u001b[0m\u001b[0;34m\"conservative ~ black + other + panelwave + EntityEffects\"\u001b[0m\u001b[0;34m,\u001b[0m \u001b[0mdata\u001b[0m \u001b[0;34m=\u001b[0m \u001b[0mfsub_int2\u001b[0m\u001b[0;34m)\u001b[0m\u001b[0;34m.\u001b[0m\u001b[0mfit\u001b[0m\u001b[0;34m(\u001b[0m\u001b[0;34m)\u001b[0m\u001b[0;34m\u001b[0m\u001b[0m\n\u001b[0m\u001b[1;32m      8\u001b[0m \u001b[0mfe_race_int1\u001b[0m\u001b[0;34m\u001b[0m\u001b[0m\n",
      "\u001b[0;32m~/anaconda/envs/py36/lib/python3.6/site-packages/linearmodels/panel/model.py\u001b[0m in \u001b[0;36mfit\u001b[0;34m(self, use_lsdv, cov_type, debiased, auto_df, count_effects, **cov_config)\u001b[0m\n\u001b[1;32m   1167\u001b[0m         \u001b[0;32mif\u001b[0m \u001b[0mself\u001b[0m\u001b[0;34m.\u001b[0m\u001b[0mentity_effects\u001b[0m \u001b[0;32mor\u001b[0m \u001b[0mself\u001b[0m\u001b[0;34m.\u001b[0m\u001b[0mtime_effects\u001b[0m \u001b[0;32mor\u001b[0m \u001b[0mself\u001b[0m\u001b[0;34m.\u001b[0m\u001b[0mother_effects\u001b[0m\u001b[0;34m:\u001b[0m\u001b[0;34m\u001b[0m\u001b[0m\n\u001b[1;32m   1168\u001b[0m             \u001b[0;32mif\u001b[0m \u001b[0mmatrix_rank\u001b[0m\u001b[0;34m(\u001b[0m\u001b[0mx\u001b[0m\u001b[0;34m)\u001b[0m \u001b[0;34m<\u001b[0m \u001b[0mx\u001b[0m\u001b[0;34m.\u001b[0m\u001b[0mshape\u001b[0m\u001b[0;34m[\u001b[0m\u001b[0;36m1\u001b[0m\u001b[0;34m]\u001b[0m\u001b[0;34m:\u001b[0m\u001b[0;34m\u001b[0m\u001b[0m\n\u001b[0;32m-> 1169\u001b[0;31m                 \u001b[0;32mraise\u001b[0m \u001b[0mAbsorbingEffectError\u001b[0m\u001b[0;34m(\u001b[0m\u001b[0mabsorbing_error_msg\u001b[0m\u001b[0;34m)\u001b[0m\u001b[0;34m\u001b[0m\u001b[0m\n\u001b[0m\u001b[1;32m   1170\u001b[0m \u001b[0;34m\u001b[0m\u001b[0m\n\u001b[1;32m   1171\u001b[0m         \u001b[0mparams\u001b[0m \u001b[0;34m=\u001b[0m \u001b[0mlstsq\u001b[0m\u001b[0;34m(\u001b[0m\u001b[0mx\u001b[0m\u001b[0;34m,\u001b[0m \u001b[0my\u001b[0m\u001b[0;34m)\u001b[0m\u001b[0;34m[\u001b[0m\u001b[0;36m0\u001b[0m\u001b[0;34m]\u001b[0m\u001b[0;34m\u001b[0m\u001b[0m\n",
      "\u001b[0;31mAbsorbingEffectError\u001b[0m: \nThe model cannot be estimated. The included effects have fully absorbed\none or more of the variables. This occurs when one or more of the dependent\nvariable is perfectly explained using the effects included in the model.\n"
     ]
    }
   ],
   "source": [
    "from linearmodels.panel import PanelOLS\n",
    "\n",
    "# Subset the dataframe to only include people who did not change their race\n",
    "fsub_int2 = fsub_int[(fsub_int.d_race2 == 0) & (fsub_int.d_race3 == 0)].copy()\n",
    "\n",
    "# add `EntityEffects` to indicate one-way fixed effects in the model\n",
    "fe_race_int1 = PanelOLS.from_formula(\"conservative ~ black + other + panelwave + EntityEffects\", data = fsub_int2).fit()\n",
    "fe_race_int1"
   ]
  },
  {
   "cell_type": "markdown",
   "metadata": {},
   "source": [
    "`linearmodels` cannot fit this model with `black` and `other` as predictors because each of them perfectly explains the dependent variable. The `plm` function R automatically removed these two variables. We can take them out to produce the same results as `plm`:"
   ]
  },
  {
   "cell_type": "code",
   "execution_count": 69,
   "metadata": {},
   "outputs": [
    {
     "name": "stderr",
     "output_type": "stream",
     "text": [
      "/Users/melindasong/anaconda/envs/py36/lib/python3.6/site-packages/linearmodels/utility.py:496: MissingValueWarning: \n",
      "Inputs contain missing values. Dropping rows with missing observations.\n",
      "  warnings.warn(missing_value_warning_msg, MissingValueWarning)\n"
     ]
    },
    {
     "data": {
      "text/html": [
       "<table class=\"simpletable\">\n",
       "<caption>PanelOLS Estimation Summary</caption>\n",
       "<tr>\n",
       "  <th>Dep. Variable:</th>      <td>conservative</td>   <th>  R-squared:         </th>    <td>0.0049</td>  \n",
       "</tr>\n",
       "<tr>\n",
       "  <th>Estimator:</th>            <td>PanelOLS</td>     <th>  R-squared (Between):</th>   <td>0.0907</td>  \n",
       "</tr>\n",
       "<tr>\n",
       "  <th>No. Observations:</th>       <td>2598</td>       <th>  R-squared (Within):</th>    <td>0.0049</td>  \n",
       "</tr>\n",
       "<tr>\n",
       "  <th>Date:</th>             <td>Mon, Aug 13 2018</td> <th>  R-squared (Overall):</th>   <td>0.0900</td>  \n",
       "</tr>\n",
       "<tr>\n",
       "  <th>Time:</th>                 <td>22:52:44</td>     <th>  Log-likelihood     </th>    <td>-2223.3</td> \n",
       "</tr>\n",
       "<tr>\n",
       "  <th>Cov. Estimator:</th>      <td>Unadjusted</td>    <th>                     </th>       <td></td>     \n",
       "</tr>\n",
       "<tr>\n",
       "  <th></th>                          <td></td>         <th>  F-statistic:       </th>    <td>5.5802</td>  \n",
       "</tr>\n",
       "<tr>\n",
       "  <th>Entities:</th>               <td>1472</td>       <th>  P-value            </th>    <td>0.0183</td>  \n",
       "</tr>\n",
       "<tr>\n",
       "  <th>Avg Obs:</th>               <td>1.7649</td>      <th>  Distribution:      </th>   <td>F(1,1125)</td>\n",
       "</tr>\n",
       "<tr>\n",
       "  <th>Min Obs:</th>               <td>1.0000</td>      <th>                     </th>       <td></td>     \n",
       "</tr>\n",
       "<tr>\n",
       "  <th>Max Obs:</th>               <td>2.0000</td>      <th>  F-statistic (robust):</th>  <td>5.5802</td>  \n",
       "</tr>\n",
       "<tr>\n",
       "  <th></th>                          <td></td>         <th>  P-value            </th>    <td>0.0183</td>  \n",
       "</tr>\n",
       "<tr>\n",
       "  <th>Time periods:</th>             <td>2</td>        <th>  Distribution:      </th>   <td>F(1,1125)</td>\n",
       "</tr>\n",
       "<tr>\n",
       "  <th>Avg Obs:</th>               <td>1299.0</td>      <th>                     </th>       <td></td>     \n",
       "</tr>\n",
       "<tr>\n",
       "  <th>Min Obs:</th>               <td>1196.0</td>      <th>                     </th>       <td></td>     \n",
       "</tr>\n",
       "<tr>\n",
       "  <th>Max Obs:</th>               <td>1402.0</td>      <th>                     </th>       <td></td>     \n",
       "</tr>\n",
       "<tr>\n",
       "  <th></th>                          <td></td>         <th>                     </th>       <td></td>     \n",
       "</tr>\n",
       "</table>\n",
       "<table class=\"simpletable\">\n",
       "<caption>Parameter Estimates</caption>\n",
       "<tr>\n",
       "      <td></td>      <th>Parameter</th> <th>Std. Err.</th> <th>T-stat</th> <th>P-value</th> <th>Lower CI</th> <th>Upper CI</th>\n",
       "</tr>\n",
       "<tr>\n",
       "  <th>panelwave</th>  <td>0.0861</td>    <td>0.0365</td>   <td>2.3622</td> <td>0.0183</td>   <td>0.0146</td>   <td>0.1577</td> \n",
       "</tr>\n",
       "</table><br/><br/>F-test for Poolability: 4.0714<br/>P-value: 0.0000<br/>Distribution: F(1471,1125)<br/><br/>Included effects: Entity<br/>id: 0x1c1a6e0eb8"
      ],
      "text/plain": [
       "                          PanelOLS Estimation Summary                           \n",
       "================================================================================\n",
       "Dep. Variable:           conservative   R-squared:                        0.0049\n",
       "Estimator:                   PanelOLS   R-squared (Between):              0.0907\n",
       "No. Observations:                2598   R-squared (Within):               0.0049\n",
       "Date:                Mon, Aug 13 2018   R-squared (Overall):              0.0900\n",
       "Time:                        22:52:44   Log-likelihood                   -2223.3\n",
       "Cov. Estimator:            Unadjusted                                           \n",
       "                                        F-statistic:                      5.5802\n",
       "Entities:                        1472   P-value                           0.0183\n",
       "Avg Obs:                       1.7649   Distribution:                  F(1,1125)\n",
       "Min Obs:                       1.0000                                           \n",
       "Max Obs:                       2.0000   F-statistic (robust):             5.5802\n",
       "                                        P-value                           0.0183\n",
       "Time periods:                       2   Distribution:                  F(1,1125)\n",
       "Avg Obs:                       1299.0                                           \n",
       "Min Obs:                       1196.0                                           \n",
       "Max Obs:                       1402.0                                           \n",
       "                                                                                \n",
       "                             Parameter Estimates                              \n",
       "==============================================================================\n",
       "            Parameter  Std. Err.     T-stat    P-value    Lower CI    Upper CI\n",
       "------------------------------------------------------------------------------\n",
       "panelwave      0.0861     0.0365     2.3622     0.0183      0.0146      0.1577\n",
       "==============================================================================\n",
       "\n",
       "F-test for Poolability: 4.0714\n",
       "P-value: 0.0000\n",
       "Distribution: F(1471,1125)\n",
       "\n",
       "Included effects: Entity\n",
       "PanelEffectsResults, id: 0x1c1a6e0eb8"
      ]
     },
     "execution_count": 69,
     "metadata": {},
     "output_type": "execute_result"
    }
   ],
   "source": [
    "fe_race_int1 = PanelOLS.from_formula(\"conservative ~ panelwave + EntityEffects\", data = fsub_int2).fit()\n",
    "fe_race_int1"
   ]
  },
  {
   "cell_type": "markdown",
   "metadata": {},
   "source": [
    "### Fixed effects with interactions\n",
    "(slide 30)"
   ]
  },
  {
   "cell_type": "code",
   "execution_count": 75,
   "metadata": {},
   "outputs": [
    {
     "name": "stderr",
     "output_type": "stream",
     "text": [
      "/Users/melindasong/anaconda/envs/py36/lib/python3.6/site-packages/linearmodels/utility.py:496: MissingValueWarning: \n",
      "Inputs contain missing values. Dropping rows with missing observations.\n",
      "  warnings.warn(missing_value_warning_msg, MissingValueWarning)\n"
     ]
    },
    {
     "ename": "AbsorbingEffectError",
     "evalue": "\nThe model cannot be estimated. The included effects have fully absorbed\none or more of the variables. This occurs when one or more of the dependent\nvariable is perfectly explained using the effects included in the model.\n",
     "output_type": "error",
     "traceback": [
      "\u001b[0;31m---------------------------------------------------------------------------\u001b[0m",
      "\u001b[0;31mAbsorbingEffectError\u001b[0m                      Traceback (most recent call last)",
      "\u001b[0;32m<ipython-input-75-9ff32dcebc6f>\u001b[0m in \u001b[0;36m<module>\u001b[0;34m()\u001b[0m\n\u001b[1;32m      1\u001b[0m fe_race_int2 = PanelOLS.from_formula('conservative ~ black*panelwave + other*panelwave + EntityEffects',\n\u001b[0;32m----> 2\u001b[0;31m                                     data = fsub_int2).fit()\n\u001b[0m\u001b[1;32m      3\u001b[0m \u001b[0mfe_race_int2\u001b[0m\u001b[0;34m\u001b[0m\u001b[0m\n",
      "\u001b[0;32m~/anaconda/envs/py36/lib/python3.6/site-packages/linearmodels/panel/model.py\u001b[0m in \u001b[0;36mfit\u001b[0;34m(self, use_lsdv, cov_type, debiased, auto_df, count_effects, **cov_config)\u001b[0m\n\u001b[1;32m   1167\u001b[0m         \u001b[0;32mif\u001b[0m \u001b[0mself\u001b[0m\u001b[0;34m.\u001b[0m\u001b[0mentity_effects\u001b[0m \u001b[0;32mor\u001b[0m \u001b[0mself\u001b[0m\u001b[0;34m.\u001b[0m\u001b[0mtime_effects\u001b[0m \u001b[0;32mor\u001b[0m \u001b[0mself\u001b[0m\u001b[0;34m.\u001b[0m\u001b[0mother_effects\u001b[0m\u001b[0;34m:\u001b[0m\u001b[0;34m\u001b[0m\u001b[0m\n\u001b[1;32m   1168\u001b[0m             \u001b[0;32mif\u001b[0m \u001b[0mmatrix_rank\u001b[0m\u001b[0;34m(\u001b[0m\u001b[0mx\u001b[0m\u001b[0;34m)\u001b[0m \u001b[0;34m<\u001b[0m \u001b[0mx\u001b[0m\u001b[0;34m.\u001b[0m\u001b[0mshape\u001b[0m\u001b[0;34m[\u001b[0m\u001b[0;36m1\u001b[0m\u001b[0;34m]\u001b[0m\u001b[0;34m:\u001b[0m\u001b[0;34m\u001b[0m\u001b[0m\n\u001b[0;32m-> 1169\u001b[0;31m                 \u001b[0;32mraise\u001b[0m \u001b[0mAbsorbingEffectError\u001b[0m\u001b[0;34m(\u001b[0m\u001b[0mabsorbing_error_msg\u001b[0m\u001b[0;34m)\u001b[0m\u001b[0;34m\u001b[0m\u001b[0m\n\u001b[0m\u001b[1;32m   1170\u001b[0m \u001b[0;34m\u001b[0m\u001b[0m\n\u001b[1;32m   1171\u001b[0m         \u001b[0mparams\u001b[0m \u001b[0;34m=\u001b[0m \u001b[0mlstsq\u001b[0m\u001b[0;34m(\u001b[0m\u001b[0mx\u001b[0m\u001b[0;34m,\u001b[0m \u001b[0my\u001b[0m\u001b[0;34m)\u001b[0m\u001b[0;34m[\u001b[0m\u001b[0;36m0\u001b[0m\u001b[0;34m]\u001b[0m\u001b[0;34m\u001b[0m\u001b[0m\n",
      "\u001b[0;31mAbsorbingEffectError\u001b[0m: \nThe model cannot be estimated. The included effects have fully absorbed\none or more of the variables. This occurs when one or more of the dependent\nvariable is perfectly explained using the effects included in the model.\n"
     ]
    }
   ],
   "source": [
    "fe_race_int2 = PanelOLS.from_formula('conservative ~ black*panelwave + other*panelwave + EntityEffects',\n",
    "                                    data = fsub_int2).fit()\n",
    "fe_race_int2"
   ]
  },
  {
   "cell_type": "markdown",
   "metadata": {},
   "source": [
    "Same issue as above. We need to adjust the formula to produce the same results as `plm`.\n",
    "\n",
    "Note that specifying an interaction term with `*`  means that the interaction term and individual terms are in the model. For example, with `black*panelwave`, the model will try to fit `black + panelwave + black:panelwave`. As we've seen above, the `black` variable explains the dependent variable perfectly so `linearmodel` will not fit this model. Instead, we will use `:` to tell `linearmodels` that we just want to fit the interaction term. "
   ]
  },
  {
   "cell_type": "code",
   "execution_count": 76,
   "metadata": {},
   "outputs": [
    {
     "name": "stderr",
     "output_type": "stream",
     "text": [
      "/Users/melindasong/anaconda/envs/py36/lib/python3.6/site-packages/linearmodels/utility.py:496: MissingValueWarning: \n",
      "Inputs contain missing values. Dropping rows with missing observations.\n",
      "  warnings.warn(missing_value_warning_msg, MissingValueWarning)\n"
     ]
    },
    {
     "data": {
      "text/html": [
       "<table class=\"simpletable\">\n",
       "<caption>PanelOLS Estimation Summary</caption>\n",
       "<tr>\n",
       "  <th>Dep. Variable:</th>      <td>conservative</td>   <th>  R-squared:         </th>    <td>0.0152</td>  \n",
       "</tr>\n",
       "<tr>\n",
       "  <th>Estimator:</th>            <td>PanelOLS</td>     <th>  R-squared (Between):</th>   <td>0.0911</td>  \n",
       "</tr>\n",
       "<tr>\n",
       "  <th>No. Observations:</th>       <td>2598</td>       <th>  R-squared (Within):</th>    <td>0.0152</td>  \n",
       "</tr>\n",
       "<tr>\n",
       "  <th>Date:</th>             <td>Mon, Aug 13 2018</td> <th>  R-squared (Overall):</th>   <td>0.0893</td>  \n",
       "</tr>\n",
       "<tr>\n",
       "  <th>Time:</th>                 <td>22:56:54</td>     <th>  Log-likelihood     </th>    <td>-2209.8</td> \n",
       "</tr>\n",
       "<tr>\n",
       "  <th>Cov. Estimator:</th>      <td>Unadjusted</td>    <th>                     </th>       <td></td>     \n",
       "</tr>\n",
       "<tr>\n",
       "  <th></th>                          <td></td>         <th>  F-statistic:       </th>    <td>5.7926</td>  \n",
       "</tr>\n",
       "<tr>\n",
       "  <th>Entities:</th>               <td>1472</td>       <th>  P-value            </th>    <td>0.0006</td>  \n",
       "</tr>\n",
       "<tr>\n",
       "  <th>Avg Obs:</th>               <td>1.7649</td>      <th>  Distribution:      </th>   <td>F(3,1123)</td>\n",
       "</tr>\n",
       "<tr>\n",
       "  <th>Min Obs:</th>               <td>1.0000</td>      <th>                     </th>       <td></td>     \n",
       "</tr>\n",
       "<tr>\n",
       "  <th>Max Obs:</th>               <td>2.0000</td>      <th>  F-statistic (robust):</th>  <td>5.7926</td>  \n",
       "</tr>\n",
       "<tr>\n",
       "  <th></th>                          <td></td>         <th>  P-value            </th>    <td>0.0006</td>  \n",
       "</tr>\n",
       "<tr>\n",
       "  <th>Time periods:</th>             <td>2</td>        <th>  Distribution:      </th>   <td>F(3,1123)</td>\n",
       "</tr>\n",
       "<tr>\n",
       "  <th>Avg Obs:</th>               <td>1299.0</td>      <th>                     </th>       <td></td>     \n",
       "</tr>\n",
       "<tr>\n",
       "  <th>Min Obs:</th>               <td>1196.0</td>      <th>                     </th>       <td></td>     \n",
       "</tr>\n",
       "<tr>\n",
       "  <th>Max Obs:</th>               <td>1402.0</td>      <th>                     </th>       <td></td>     \n",
       "</tr>\n",
       "<tr>\n",
       "  <th></th>                          <td></td>         <th>                     </th>       <td></td>     \n",
       "</tr>\n",
       "</table>\n",
       "<table class=\"simpletable\">\n",
       "<caption>Parameter Estimates</caption>\n",
       "<tr>\n",
       "         <td></td>         <th>Parameter</th> <th>Std. Err.</th> <th>T-stat</th>  <th>P-value</th> <th>Lower CI</th> <th>Upper CI</th>\n",
       "</tr>\n",
       "<tr>\n",
       "  <th>panelwave</th>        <td>0.1213</td>    <td>0.0403</td>   <td>3.0117</td>  <td>0.0027</td>   <td>0.0423</td>   <td>0.2003</td> \n",
       "</tr>\n",
       "<tr>\n",
       "  <th>black:panelwave</th>  <td>-0.3291</td>   <td>0.1061</td>   <td>-3.1011</td> <td>0.0020</td>   <td>-0.5373</td>  <td>-0.1209</td>\n",
       "</tr>\n",
       "<tr>\n",
       "  <th>other:panelwave</th>  <td>0.1945</td>    <td>0.1663</td>   <td>1.1692</td>  <td>0.2426</td>   <td>-0.1319</td>  <td>0.5208</td> \n",
       "</tr>\n",
       "</table><br/><br/>F-test for Poolability: 4.0566<br/>P-value: 0.0000<br/>Distribution: F(1471,1123)<br/><br/>Included effects: Entity<br/>id: 0x1c1825d198"
      ],
      "text/plain": [
       "                          PanelOLS Estimation Summary                           \n",
       "================================================================================\n",
       "Dep. Variable:           conservative   R-squared:                        0.0152\n",
       "Estimator:                   PanelOLS   R-squared (Between):              0.0911\n",
       "No. Observations:                2598   R-squared (Within):               0.0152\n",
       "Date:                Mon, Aug 13 2018   R-squared (Overall):              0.0893\n",
       "Time:                        22:56:54   Log-likelihood                   -2209.8\n",
       "Cov. Estimator:            Unadjusted                                           \n",
       "                                        F-statistic:                      5.7926\n",
       "Entities:                        1472   P-value                           0.0006\n",
       "Avg Obs:                       1.7649   Distribution:                  F(3,1123)\n",
       "Min Obs:                       1.0000                                           \n",
       "Max Obs:                       2.0000   F-statistic (robust):             5.7926\n",
       "                                        P-value                           0.0006\n",
       "Time periods:                       2   Distribution:                  F(3,1123)\n",
       "Avg Obs:                       1299.0                                           \n",
       "Min Obs:                       1196.0                                           \n",
       "Max Obs:                       1402.0                                           \n",
       "                                                                                \n",
       "                                Parameter Estimates                                \n",
       "===================================================================================\n",
       "                 Parameter  Std. Err.     T-stat    P-value    Lower CI    Upper CI\n",
       "-----------------------------------------------------------------------------------\n",
       "panelwave           0.1213     0.0403     3.0117     0.0027      0.0423      0.2003\n",
       "black:panelwave    -0.3291     0.1061    -3.1011     0.0020     -0.5373     -0.1209\n",
       "other:panelwave     0.1945     0.1663     1.1692     0.2426     -0.1319      0.5208\n",
       "===================================================================================\n",
       "\n",
       "F-test for Poolability: 4.0566\n",
       "P-value: 0.0000\n",
       "Distribution: F(1471,1123)\n",
       "\n",
       "Included effects: Entity\n",
       "PanelEffectsResults, id: 0x1c1825d198"
      ]
     },
     "execution_count": 76,
     "metadata": {},
     "output_type": "execute_result"
    }
   ],
   "source": [
    "fe_race_int2 = PanelOLS.from_formula('conservative ~ panelwave + black:panelwave + other:panelwave + EntityEffects',\n",
    "                                    data = fsub_int2).fit()\n",
    "fe_race_int2"
   ]
  },
  {
   "cell_type": "markdown",
   "metadata": {},
   "source": [
    "### Looking at pooled OLS \n",
    "(slide 35)"
   ]
  },
  {
   "cell_type": "code",
   "execution_count": 78,
   "metadata": {},
   "outputs": [
    {
     "name": "stderr",
     "output_type": "stream",
     "text": [
      "/Users/melindasong/anaconda/envs/py36/lib/python3.6/site-packages/linearmodels/utility.py:496: MissingValueWarning: \n",
      "Inputs contain missing values. Dropping rows with missing observations.\n",
      "  warnings.warn(missing_value_warning_msg, MissingValueWarning)\n"
     ]
    },
    {
     "data": {
      "text/html": [
       "<table class=\"simpletable\">\n",
       "<caption>PooledOLS Estimation Summary</caption>\n",
       "<tr>\n",
       "  <th>Dep. Variable:</th>      <td>conservative</td>   <th>  R-squared:         </th>    <td>0.0123</td>  \n",
       "</tr>\n",
       "<tr>\n",
       "  <th>Estimator:</th>            <td>PooledOLS</td>    <th>  R-squared (Between):</th>   <td>0.0116</td>  \n",
       "</tr>\n",
       "<tr>\n",
       "  <th>No. Observations:</th>       <td>2598</td>       <th>  R-squared (Within):</th>    <td>0.0049</td>  \n",
       "</tr>\n",
       "<tr>\n",
       "  <th>Date:</th>             <td>Mon, Aug 13 2018</td> <th>  R-squared (Overall):</th>   <td>0.0123</td>  \n",
       "</tr>\n",
       "<tr>\n",
       "  <th>Time:</th>                 <td>23:02:21</td>     <th>  Log-likelihood     </th>    <td>-4604.5</td> \n",
       "</tr>\n",
       "<tr>\n",
       "  <th>Cov. Estimator:</th>      <td>Unadjusted</td>    <th>                     </th>       <td></td>     \n",
       "</tr>\n",
       "<tr>\n",
       "  <th></th>                          <td></td>         <th>  F-statistic:       </th>    <td>10.729</td>  \n",
       "</tr>\n",
       "<tr>\n",
       "  <th>Entities:</th>               <td>1472</td>       <th>  P-value            </th>    <td>0.0000</td>  \n",
       "</tr>\n",
       "<tr>\n",
       "  <th>Avg Obs:</th>               <td>1.7649</td>      <th>  Distribution:      </th>   <td>F(3,2594)</td>\n",
       "</tr>\n",
       "<tr>\n",
       "  <th>Min Obs:</th>               <td>1.0000</td>      <th>                     </th>       <td></td>     \n",
       "</tr>\n",
       "<tr>\n",
       "  <th>Max Obs:</th>               <td>2.0000</td>      <th>  F-statistic (robust):</th>  <td>10.729</td>  \n",
       "</tr>\n",
       "<tr>\n",
       "  <th></th>                          <td></td>         <th>  P-value            </th>    <td>0.0000</td>  \n",
       "</tr>\n",
       "<tr>\n",
       "  <th>Time periods:</th>             <td>2</td>        <th>  Distribution:      </th>   <td>F(3,2594)</td>\n",
       "</tr>\n",
       "<tr>\n",
       "  <th>Avg Obs:</th>               <td>1299.0</td>      <th>                     </th>       <td></td>     \n",
       "</tr>\n",
       "<tr>\n",
       "  <th>Min Obs:</th>               <td>1196.0</td>      <th>                     </th>       <td></td>     \n",
       "</tr>\n",
       "<tr>\n",
       "  <th>Max Obs:</th>               <td>1402.0</td>      <th>                     </th>       <td></td>     \n",
       "</tr>\n",
       "<tr>\n",
       "  <th></th>                          <td></td>         <th>                     </th>       <td></td>     \n",
       "</tr>\n",
       "</table>\n",
       "<table class=\"simpletable\">\n",
       "<caption>Parameter Estimates</caption>\n",
       "<tr>\n",
       "      <td></td>      <th>Parameter</th> <th>Std. Err.</th> <th>T-stat</th>  <th>P-value</th> <th>Lower CI</th> <th>Upper CI</th>\n",
       "</tr>\n",
       "<tr>\n",
       "  <th>Intercept</th>  <td>3.9393</td>    <td>0.1417</td>   <td>27.794</td>  <td>0.0000</td>   <td>3.6614</td>   <td>4.2172</td> \n",
       "</tr>\n",
       "<tr>\n",
       "  <th>black</th>      <td>-0.3618</td>   <td>0.0817</td>   <td>-4.4265</td> <td>0.0000</td>   <td>-0.5221</td>  <td>-0.2015</td>\n",
       "</tr>\n",
       "<tr>\n",
       "  <th>other</th>      <td>-0.4105</td>   <td>0.1163</td>   <td>-3.5306</td> <td>0.0004</td>   <td>-0.6385</td>  <td>-0.1825</td>\n",
       "</tr>\n",
       "<tr>\n",
       "  <th>panelwave</th>  <td>0.0929</td>    <td>0.0561</td>   <td>1.6565</td>  <td>0.0977</td>   <td>-0.0171</td>  <td>0.2030</td> \n",
       "</tr>\n",
       "</table><br/>id: 0x1c1cc1bac8"
      ],
      "text/plain": [
       "                          PooledOLS Estimation Summary                          \n",
       "================================================================================\n",
       "Dep. Variable:           conservative   R-squared:                        0.0123\n",
       "Estimator:                  PooledOLS   R-squared (Between):              0.0116\n",
       "No. Observations:                2598   R-squared (Within):               0.0049\n",
       "Date:                Mon, Aug 13 2018   R-squared (Overall):              0.0123\n",
       "Time:                        23:02:21   Log-likelihood                   -4604.5\n",
       "Cov. Estimator:            Unadjusted                                           \n",
       "                                        F-statistic:                      10.729\n",
       "Entities:                        1472   P-value                           0.0000\n",
       "Avg Obs:                       1.7649   Distribution:                  F(3,2594)\n",
       "Min Obs:                       1.0000                                           \n",
       "Max Obs:                       2.0000   F-statistic (robust):             10.729\n",
       "                                        P-value                           0.0000\n",
       "Time periods:                       2   Distribution:                  F(3,2594)\n",
       "Avg Obs:                       1299.0                                           \n",
       "Min Obs:                       1196.0                                           \n",
       "Max Obs:                       1402.0                                           \n",
       "                                                                                \n",
       "                             Parameter Estimates                              \n",
       "==============================================================================\n",
       "            Parameter  Std. Err.     T-stat    P-value    Lower CI    Upper CI\n",
       "------------------------------------------------------------------------------\n",
       "Intercept      3.9393     0.1417     27.794     0.0000      3.6614      4.2172\n",
       "black         -0.3618     0.0817    -4.4265     0.0000     -0.5221     -0.2015\n",
       "other         -0.4105     0.1163    -3.5306     0.0004     -0.6385     -0.1825\n",
       "panelwave      0.0929     0.0561     1.6565     0.0977     -0.0171      0.2030\n",
       "==============================================================================\n",
       "PanelResults, id: 0x1c1cc1bac8"
      ]
     },
     "execution_count": 78,
     "metadata": {},
     "output_type": "execute_result"
    }
   ],
   "source": [
    "from linearmodels.panel import PooledOLS\n",
    "PooledOLS.from_formula('conservative ~ 1 + black + other + panelwave', data = fsub_int2).fit()"
   ]
  },
  {
   "cell_type": "code",
   "execution_count": 80,
   "metadata": {},
   "outputs": [
    {
     "name": "stderr",
     "output_type": "stream",
     "text": [
      "/Users/melindasong/anaconda/envs/py36/lib/python3.6/site-packages/linearmodels/utility.py:496: MissingValueWarning: \n",
      "Inputs contain missing values. Dropping rows with missing observations.\n",
      "  warnings.warn(missing_value_warning_msg, MissingValueWarning)\n"
     ]
    },
    {
     "data": {
      "text/html": [
       "<table class=\"simpletable\">\n",
       "<caption>PooledOLS Estimation Summary</caption>\n",
       "<tr>\n",
       "  <th>Dep. Variable:</th>      <td>conservative</td>   <th>  R-squared:         </th>    <td>0.0137</td>  \n",
       "</tr>\n",
       "<tr>\n",
       "  <th>Estimator:</th>            <td>PooledOLS</td>    <th>  R-squared (Between):</th>   <td>0.0117</td>  \n",
       "</tr>\n",
       "<tr>\n",
       "  <th>No. Observations:</th>       <td>2598</td>       <th>  R-squared (Within):</th>    <td>0.0140</td>  \n",
       "</tr>\n",
       "<tr>\n",
       "  <th>Date:</th>             <td>Mon, Aug 13 2018</td> <th>  R-squared (Overall):</th>   <td>0.0137</td>  \n",
       "</tr>\n",
       "<tr>\n",
       "  <th>Time:</th>                 <td>23:03:51</td>     <th>  Log-likelihood     </th>    <td>-4602.6</td> \n",
       "</tr>\n",
       "<tr>\n",
       "  <th>Cov. Estimator:</th>      <td>Unadjusted</td>    <th>                     </th>       <td></td>     \n",
       "</tr>\n",
       "<tr>\n",
       "  <th></th>                          <td></td>         <th>  F-statistic:       </th>    <td>7.2133</td>  \n",
       "</tr>\n",
       "<tr>\n",
       "  <th>Entities:</th>               <td>1472</td>       <th>  P-value            </th>    <td>0.0000</td>  \n",
       "</tr>\n",
       "<tr>\n",
       "  <th>Avg Obs:</th>               <td>1.7649</td>      <th>  Distribution:      </th>   <td>F(5,2592)</td>\n",
       "</tr>\n",
       "<tr>\n",
       "  <th>Min Obs:</th>               <td>1.0000</td>      <th>                     </th>       <td></td>     \n",
       "</tr>\n",
       "<tr>\n",
       "  <th>Max Obs:</th>               <td>2.0000</td>      <th>  F-statistic (robust):</th>  <td>7.2133</td>  \n",
       "</tr>\n",
       "<tr>\n",
       "  <th></th>                          <td></td>         <th>  P-value            </th>    <td>0.0000</td>  \n",
       "</tr>\n",
       "<tr>\n",
       "  <th>Time periods:</th>             <td>2</td>        <th>  Distribution:      </th>   <td>F(5,2592)</td>\n",
       "</tr>\n",
       "<tr>\n",
       "  <th>Avg Obs:</th>               <td>1299.0</td>      <th>                     </th>       <td></td>     \n",
       "</tr>\n",
       "<tr>\n",
       "  <th>Min Obs:</th>               <td>1196.0</td>      <th>                     </th>       <td></td>     \n",
       "</tr>\n",
       "<tr>\n",
       "  <th>Max Obs:</th>               <td>1402.0</td>      <th>                     </th>       <td></td>     \n",
       "</tr>\n",
       "<tr>\n",
       "  <th></th>                          <td></td>         <th>                     </th>       <td></td>     \n",
       "</tr>\n",
       "</table>\n",
       "<table class=\"simpletable\">\n",
       "<caption>Parameter Estimates</caption>\n",
       "<tr>\n",
       "         <td></td>         <th>Parameter</th> <th>Std. Err.</th> <th>T-stat</th>  <th>P-value</th> <th>Lower CI</th> <th>Upper CI</th>\n",
       "</tr>\n",
       "<tr>\n",
       "  <th>Intercept</th>        <td>3.8319</td>    <td>0.1574</td>   <td>24.338</td>  <td>0.0000</td>   <td>3.5232</td>   <td>4.1406</td> \n",
       "</tr>\n",
       "<tr>\n",
       "  <th>black</th>            <td>0.4253</td>    <td>0.4116</td>   <td>1.0335</td>  <td>0.3015</td>   <td>-0.3817</td>  <td>1.2324</td> \n",
       "</tr>\n",
       "<tr>\n",
       "  <th>panelwave</th>        <td>0.1365</td>    <td>0.0626</td>   <td>2.1797</td>  <td>0.0294</td>   <td>0.0137</td>   <td>0.2593</td> \n",
       "</tr>\n",
       "<tr>\n",
       "  <th>black:panelwave</th>  <td>-0.3198</td>   <td>0.1639</td>   <td>-1.9513</td> <td>0.0511</td>   <td>-0.6412</td>  <td>0.0016</td> \n",
       "</tr>\n",
       "<tr>\n",
       "  <th>other</th>            <td>-0.4193</td>   <td>0.5815</td>   <td>-0.7211</td> <td>0.4709</td>   <td>-1.5596</td>  <td>0.7210</td> \n",
       "</tr>\n",
       "<tr>\n",
       "  <th>other:panelwave</th>  <td>0.0046</td>    <td>0.2357</td>   <td>0.0194</td>  <td>0.9845</td>   <td>-0.4577</td>  <td>0.4668</td> \n",
       "</tr>\n",
       "</table><br/>id: 0x1c1824acc0"
      ],
      "text/plain": [
       "                          PooledOLS Estimation Summary                          \n",
       "================================================================================\n",
       "Dep. Variable:           conservative   R-squared:                        0.0137\n",
       "Estimator:                  PooledOLS   R-squared (Between):              0.0117\n",
       "No. Observations:                2598   R-squared (Within):               0.0140\n",
       "Date:                Mon, Aug 13 2018   R-squared (Overall):              0.0137\n",
       "Time:                        23:03:51   Log-likelihood                   -4602.6\n",
       "Cov. Estimator:            Unadjusted                                           \n",
       "                                        F-statistic:                      7.2133\n",
       "Entities:                        1472   P-value                           0.0000\n",
       "Avg Obs:                       1.7649   Distribution:                  F(5,2592)\n",
       "Min Obs:                       1.0000                                           \n",
       "Max Obs:                       2.0000   F-statistic (robust):             7.2133\n",
       "                                        P-value                           0.0000\n",
       "Time periods:                       2   Distribution:                  F(5,2592)\n",
       "Avg Obs:                       1299.0                                           \n",
       "Min Obs:                       1196.0                                           \n",
       "Max Obs:                       1402.0                                           \n",
       "                                                                                \n",
       "                                Parameter Estimates                                \n",
       "===================================================================================\n",
       "                 Parameter  Std. Err.     T-stat    P-value    Lower CI    Upper CI\n",
       "-----------------------------------------------------------------------------------\n",
       "Intercept           3.8319     0.1574     24.338     0.0000      3.5232      4.1406\n",
       "black               0.4253     0.4116     1.0335     0.3015     -0.3817      1.2324\n",
       "panelwave           0.1365     0.0626     2.1797     0.0294      0.0137      0.2593\n",
       "black:panelwave    -0.3198     0.1639    -1.9513     0.0511     -0.6412      0.0016\n",
       "other              -0.4193     0.5815    -0.7211     0.4709     -1.5596      0.7210\n",
       "other:panelwave     0.0046     0.2357     0.0194     0.9845     -0.4577      0.4668\n",
       "===================================================================================\n",
       "PanelResults, id: 0x1c1824acc0"
      ]
     },
     "execution_count": 80,
     "metadata": {},
     "output_type": "execute_result"
    }
   ],
   "source": [
    "PooledOLS.from_formula('conservative ~ 1 + black*panelwave + other*panelwave', data = fsub_int2).fit()"
   ]
  },
  {
   "cell_type": "code",
   "execution_count": null,
   "metadata": {},
   "outputs": [],
   "source": []
  }
 ],
 "metadata": {
  "kernelspec": {
   "display_name": "py36",
   "language": "python",
   "name": "py36"
  },
  "language_info": {
   "codemirror_mode": {
    "name": "ipython",
    "version": 3
   },
   "file_extension": ".py",
   "mimetype": "text/x-python",
   "name": "python",
   "nbconvert_exporter": "python",
   "pygments_lexer": "ipython3",
   "version": "3.6.5"
  }
 },
 "nbformat": 4,
 "nbformat_minor": 2
}
