{
 "cells": [
  {
   "cell_type": "markdown",
   "metadata": {},
   "source": [
    "# Regression Analysis of Temporal Processes (Class 6a) - Survival"
   ]
  },
  {
   "cell_type": "code",
   "execution_count": 1,
   "metadata": {},
   "outputs": [
    {
     "name": "stderr",
     "output_type": "stream",
     "text": [
      "/Users/melindasong/anaconda/envs/py36/lib/python3.6/importlib/_bootstrap.py:219: RuntimeWarning: numpy.dtype size changed, may indicate binary incompatibility. Expected 96, got 88\n",
      "  return f(*args, **kwds)\n",
      "/Users/melindasong/anaconda/envs/py36/lib/python3.6/importlib/_bootstrap.py:219: RuntimeWarning: numpy.dtype size changed, may indicate binary incompatibility. Expected 96, got 88\n",
      "  return f(*args, **kwds)\n",
      "/Users/melindasong/anaconda/envs/py36/lib/python3.6/importlib/_bootstrap.py:219: RuntimeWarning: numpy.dtype size changed, may indicate binary incompatibility. Expected 96, got 88\n",
      "  return f(*args, **kwds)\n"
     ]
    }
   ],
   "source": [
    "import pandas as pd\n",
    "import numpy as np\n",
    "import matplotlib.pyplot as plt\n",
    "%matplotlib inline\n",
    "import statsmodels.api as sm\n",
    "import statsmodels.formula.api as smf\n",
    "from scipy import stats"
   ]
  },
  {
   "cell_type": "markdown",
   "metadata": {},
   "source": [
    "## 1a. One-time events"
   ]
  },
  {
   "cell_type": "code",
   "execution_count": 2,
   "metadata": {},
   "outputs": [],
   "source": [
    "pan = pd.read_csv('panel-for-R.csv')"
   ]
  },
  {
   "cell_type": "markdown",
   "metadata": {},
   "source": [
    "(slide 39)"
   ]
  },
  {
   "cell_type": "code",
   "execution_count": 39,
   "metadata": {},
   "outputs": [],
   "source": [
    "variables = ['age', 'year', 'sex', 'idnum', 'panelwave', 'wrkstat', 'educ', 'region']\n",
    "sub = pan[variables].copy()\n",
    "\n",
    "sub['ft'] = np.where(pd.isna(sub['wrkstat']), np.nan, \n",
    "                     np.where(sub['wrkstat']==1, 1, 0))"
   ]
  },
  {
   "cell_type": "code",
   "execution_count": 40,
   "metadata": {},
   "outputs": [],
   "source": [
    "# drop people working full-time in wave 1\n",
    "sub['drop'] = np.where((sub['ft']==1) & (sub['panelwave']==1), 1, 0)"
   ]
  },
  {
   "cell_type": "code",
   "execution_count": 41,
   "metadata": {},
   "outputs": [],
   "source": [
    "# get idnum of subjects we're going to drop\n",
    "drop_idnum = sub.idnum[sub['drop']==1].unique()"
   ]
  },
  {
   "cell_type": "code",
   "execution_count": 42,
   "metadata": {},
   "outputs": [],
   "source": [
    "# subset the sub dataframe to include subjects whose idnum is not in the drop_idnum list\n",
    "subpt = sub.loc[~sub['idnum'].isin(drop_idnum)].copy()"
   ]
  },
  {
   "cell_type": "code",
   "execution_count": 43,
   "metadata": {},
   "outputs": [],
   "source": [
    "subpt['ytwo'] = np.where(pd.isna(subpt['ft']), np.nan, \n",
    "                         np.where((subpt['ft']==1) & (subpt['panelwave']==2), 2, 0))\n",
    "subpt_two = subpt.loc[subpt['ytwo']==2, 'idnum'].unique()\n",
    "subpt['ytwo_two'] = np.where(subpt['idnum'].isin(subpt_two), 2, 0)\n",
    "\n",
    "subpt['ythree'] = np.where(pd.isna(subpt['ft']), np.nan, \n",
    "                         np.where((subpt['ft']==1) & (subpt['panelwave']==3), 3, 0))\n",
    "subpt_three = subpt.loc[subpt['ythree']==3, 'idnum'].unique() \n",
    "subpt['ythree_three'] = np.where(subpt['idnum'].isin(subpt_three), 3, 0)"
   ]
  },
  {
   "cell_type": "code",
   "execution_count": 44,
   "metadata": {},
   "outputs": [],
   "source": [
    "subpt.loc[:, 'combo'] = subpt['ytwo_two'].astype(str) + subpt['ythree_three'].astype(str)"
   ]
  },
  {
   "cell_type": "code",
   "execution_count": 35,
   "metadata": {},
   "outputs": [
    {
     "data": {
      "text/plain": [
       "00    2454\n",
       "23     222\n",
       "20     165\n",
       "03     159\n",
       "Name: combo, dtype: int64"
      ]
     },
     "execution_count": 35,
     "metadata": {},
     "output_type": "execute_result"
    }
   ],
   "source": [
    "# (slide 42)\n",
    "subpt['combo'].value_counts()"
   ]
  },
  {
   "cell_type": "code",
   "execution_count": 10,
   "metadata": {},
   "outputs": [
    {
     "data": {
      "text/plain": [
       "ft   combo\n",
       "0.0  00       1891\n",
       "     03        105\n",
       "     20         84\n",
       "     23         74\n",
       "1.0  03         53\n",
       "     20         55\n",
       "     23        148\n",
       "dtype: int64"
      ]
     },
     "execution_count": 10,
     "metadata": {},
     "output_type": "execute_result"
    }
   ],
   "source": [
    "subpt.groupby(['ft', 'combo']).size()"
   ]
  },
  {
   "cell_type": "code",
   "execution_count": 45,
   "metadata": {},
   "outputs": [
    {
     "data": {
      "text/plain": [
       "ft   combo\n",
       "0.0  00       1891\n",
       "     03        105\n",
       "     20         55\n",
       "     23         74\n",
       "1.0  03         53\n",
       "     20         55\n",
       "     23         74\n",
       "dtype: int64"
      ]
     },
     "execution_count": 45,
     "metadata": {},
     "output_type": "execute_result"
    }
   ],
   "source": [
    "# (slide 43)\n",
    "subpt.loc[(subpt['combo']=='20') & (subpt['year']==2010), 'ft'] = np.nan\n",
    "subpt.loc[(subpt['combo']=='23') & (subpt['year']==2010), 'ft'] = np.nan\n",
    "subpt.groupby(['ft', 'combo']).size()"
   ]
  },
  {
   "cell_type": "code",
   "execution_count": 46,
   "metadata": {},
   "outputs": [
    {
     "data": {
      "text/html": [
       "<table class=\"simpletable\">\n",
       "<caption>Generalized Linear Model Regression Results</caption>\n",
       "<tr>\n",
       "  <th>Dep. Variable:</th>         <td>ft</td>        <th>  No. Observations:  </th>  <td>  1309</td>  \n",
       "</tr>\n",
       "<tr>\n",
       "  <th>Model:</th>                 <td>GLM</td>       <th>  Df Residuals:      </th>  <td>  1307</td>  \n",
       "</tr>\n",
       "<tr>\n",
       "  <th>Model Family:</th>       <td>Binomial</td>     <th>  Df Model:          </th>  <td>     1</td>  \n",
       "</tr>\n",
       "<tr>\n",
       "  <th>Link Function:</th>        <td>logit</td>      <th>  Scale:             </th> <td>  1.0000</td> \n",
       "</tr>\n",
       "<tr>\n",
       "  <th>Method:</th>               <td>IRLS</td>       <th>  Log-Likelihood:    </th> <td> -522.01</td> \n",
       "</tr>\n",
       "<tr>\n",
       "  <th>Date:</th>           <td>Mon, 13 Aug 2018</td> <th>  Deviance:          </th> <td>  1044.0</td> \n",
       "</tr>\n",
       "<tr>\n",
       "  <th>Time:</th>               <td>23:28:04</td>     <th>  Pearson chi2:      </th> <td>1.31e+03</td> \n",
       "</tr>\n",
       "<tr>\n",
       "  <th>No. Iterations:</th>         <td>5</td>        <th>  Covariance Type:   </th> <td>nonrobust</td>\n",
       "</tr>\n",
       "</table>\n",
       "<table class=\"simpletable\">\n",
       "<tr>\n",
       "         <td></td>            <th>coef</th>     <th>std err</th>      <th>z</th>      <th>P>|z|</th>  <th>[0.025</th>    <th>0.975]</th>  \n",
       "</tr>\n",
       "<tr>\n",
       "  <th>Intercept</th>       <td>   -1.6187</td> <td>    0.096</td> <td>  -16.796</td> <td> 0.000</td> <td>   -1.808</td> <td>   -1.430</td>\n",
       "</tr>\n",
       "<tr>\n",
       "  <th>C(nyear)[T.4.0]</th> <td>   -0.5764</td> <td>    0.174</td> <td>   -3.314</td> <td> 0.001</td> <td>   -0.917</td> <td>   -0.236</td>\n",
       "</tr>\n",
       "</table>"
      ],
      "text/plain": [
       "<class 'statsmodels.iolib.summary.Summary'>\n",
       "\"\"\"\n",
       "                 Generalized Linear Model Regression Results                  \n",
       "==============================================================================\n",
       "Dep. Variable:                     ft   No. Observations:                 1309\n",
       "Model:                            GLM   Df Residuals:                     1307\n",
       "Model Family:                Binomial   Df Model:                            1\n",
       "Link Function:                  logit   Scale:                          1.0000\n",
       "Method:                          IRLS   Log-Likelihood:                -522.01\n",
       "Date:                Mon, 13 Aug 2018   Deviance:                       1044.0\n",
       "Time:                        23:28:04   Pearson chi2:                 1.31e+03\n",
       "No. Iterations:                     5   Covariance Type:             nonrobust\n",
       "===================================================================================\n",
       "                      coef    std err          z      P>|z|      [0.025      0.975]\n",
       "-----------------------------------------------------------------------------------\n",
       "Intercept          -1.6187      0.096    -16.796      0.000      -1.808      -1.430\n",
       "C(nyear)[T.4.0]    -0.5764      0.174     -3.314      0.001      -0.917      -0.236\n",
       "===================================================================================\n",
       "\"\"\""
      ]
     },
     "execution_count": 46,
     "metadata": {},
     "output_type": "execute_result"
    }
   ],
   "source": [
    "# (slide 44)\n",
    "subpt['nyear'] = subpt.loc[:, 'year'] - 2006\n",
    "lo1 = smf.glm('ft ~ C(nyear)', data = subpt[subpt['year']>2006], family=sm.families.Binomial()).fit()\n",
    "lo1.summary()"
   ]
  },
  {
   "cell_type": "code",
   "execution_count": 13,
   "metadata": {},
   "outputs": [
    {
     "data": {
      "text/plain": [
       "Intercept          0.198157\n",
       "C(nyear)[T.4.0]    0.561902\n",
       "dtype: float64"
      ]
     },
     "execution_count": 13,
     "metadata": {},
     "output_type": "execute_result"
    }
   ],
   "source": [
    "# slide 47\n",
    "np.exp(lo1.params)"
   ]
  },
  {
   "cell_type": "code",
   "execution_count": 14,
   "metadata": {},
   "outputs": [
    {
     "data": {
      "text/html": [
       "<table class=\"simpletable\">\n",
       "<caption>Generalized Linear Model Regression Results</caption>\n",
       "<tr>\n",
       "  <th>Dep. Variable:</th>         <td>ft</td>        <th>  No. Observations:  </th>  <td>  1292</td>  \n",
       "</tr>\n",
       "<tr>\n",
       "  <th>Model:</th>                 <td>GLM</td>       <th>  Df Residuals:      </th>  <td>  1287</td>  \n",
       "</tr>\n",
       "<tr>\n",
       "  <th>Model Family:</th>       <td>Binomial</td>     <th>  Df Model:          </th>  <td>     4</td>  \n",
       "</tr>\n",
       "<tr>\n",
       "  <th>Link Function:</th>        <td>logit</td>      <th>  Scale:             </th> <td>  1.0000</td> \n",
       "</tr>\n",
       "<tr>\n",
       "  <th>Method:</th>               <td>IRLS</td>       <th>  Log-Likelihood:    </th> <td> -442.45</td> \n",
       "</tr>\n",
       "<tr>\n",
       "  <th>Date:</th>           <td>Mon, 13 Aug 2018</td> <th>  Deviance:          </th> <td>  884.90</td> \n",
       "</tr>\n",
       "<tr>\n",
       "  <th>Time:</th>               <td>23:07:10</td>     <th>  Pearson chi2:      </th> <td>1.20e+03</td> \n",
       "</tr>\n",
       "<tr>\n",
       "  <th>No. Iterations:</th>         <td>6</td>        <th>  Covariance Type:   </th> <td>nonrobust</td>\n",
       "</tr>\n",
       "</table>\n",
       "<table class=\"simpletable\">\n",
       "<tr>\n",
       "         <td></td>            <th>coef</th>     <th>std err</th>      <th>z</th>      <th>P>|z|</th>  <th>[0.025</th>    <th>0.975]</th>  \n",
       "</tr>\n",
       "<tr>\n",
       "  <th>Intercept</th>       <td>    0.1529</td> <td>    0.607</td> <td>    0.252</td> <td> 0.801</td> <td>   -1.038</td> <td>    1.343</td>\n",
       "</tr>\n",
       "<tr>\n",
       "  <th>C(nyear)[T.4.0]</th> <td>   -0.3444</td> <td>    0.186</td> <td>   -1.851</td> <td> 0.064</td> <td>   -0.709</td> <td>    0.020</td>\n",
       "</tr>\n",
       "<tr>\n",
       "  <th>age</th>             <td>   -0.0568</td> <td>    0.005</td> <td>  -10.825</td> <td> 0.000</td> <td>   -0.067</td> <td>   -0.046</td>\n",
       "</tr>\n",
       "<tr>\n",
       "  <th>educ</th>            <td>    0.0905</td> <td>    0.030</td> <td>    3.058</td> <td> 0.002</td> <td>    0.032</td> <td>    0.149</td>\n",
       "</tr>\n",
       "<tr>\n",
       "  <th>sex</th>             <td>   -0.1435</td> <td>    0.196</td> <td>   -0.730</td> <td> 0.465</td> <td>   -0.529</td> <td>    0.242</td>\n",
       "</tr>\n",
       "</table>"
      ],
      "text/plain": [
       "<class 'statsmodels.iolib.summary.Summary'>\n",
       "\"\"\"\n",
       "                 Generalized Linear Model Regression Results                  \n",
       "==============================================================================\n",
       "Dep. Variable:                     ft   No. Observations:                 1292\n",
       "Model:                            GLM   Df Residuals:                     1287\n",
       "Model Family:                Binomial   Df Model:                            4\n",
       "Link Function:                  logit   Scale:                          1.0000\n",
       "Method:                          IRLS   Log-Likelihood:                -442.45\n",
       "Date:                Mon, 13 Aug 2018   Deviance:                       884.90\n",
       "Time:                        23:07:10   Pearson chi2:                 1.20e+03\n",
       "No. Iterations:                     6   Covariance Type:             nonrobust\n",
       "===================================================================================\n",
       "                      coef    std err          z      P>|z|      [0.025      0.975]\n",
       "-----------------------------------------------------------------------------------\n",
       "Intercept           0.1529      0.607      0.252      0.801      -1.038       1.343\n",
       "C(nyear)[T.4.0]    -0.3444      0.186     -1.851      0.064      -0.709       0.020\n",
       "age                -0.0568      0.005    -10.825      0.000      -0.067      -0.046\n",
       "educ                0.0905      0.030      3.058      0.002       0.032       0.149\n",
       "sex                -0.1435      0.196     -0.730      0.465      -0.529       0.242\n",
       "===================================================================================\n",
       "\"\"\""
      ]
     },
     "execution_count": 14,
     "metadata": {},
     "output_type": "execute_result"
    }
   ],
   "source": [
    "# (slide 48)\n",
    "lo2 = smf.glm('ft ~ C(nyear) + age + educ + sex', data = subpt[subpt['year']>2006], \n",
    "              family = sm.families.Binomial()).fit()\n",
    "lo2.summary()"
   ]
  },
  {
   "cell_type": "code",
   "execution_count": 15,
   "metadata": {},
   "outputs": [
    {
     "data": {
      "text/html": [
       "<table class=\"simpletable\">\n",
       "<caption>Generalized Linear Model Regression Results</caption>\n",
       "<tr>\n",
       "  <th>Dep. Variable:</th>         <td>ft</td>        <th>  No. Observations:  </th>  <td>   619</td>  \n",
       "</tr>\n",
       "<tr>\n",
       "  <th>Model:</th>                 <td>GLM</td>       <th>  Df Residuals:      </th>  <td>   614</td>  \n",
       "</tr>\n",
       "<tr>\n",
       "  <th>Model Family:</th>       <td>Binomial</td>     <th>  Df Model:          </th>  <td>     4</td>  \n",
       "</tr>\n",
       "<tr>\n",
       "  <th>Link Function:</th>        <td>logit</td>      <th>  Scale:             </th> <td>  1.0000</td> \n",
       "</tr>\n",
       "<tr>\n",
       "  <th>Method:</th>               <td>IRLS</td>       <th>  Log-Likelihood:    </th> <td> -329.37</td> \n",
       "</tr>\n",
       "<tr>\n",
       "  <th>Date:</th>           <td>Mon, 13 Aug 2018</td> <th>  Deviance:          </th> <td>  658.74</td> \n",
       "</tr>\n",
       "<tr>\n",
       "  <th>Time:</th>               <td>23:07:16</td>     <th>  Pearson chi2:      </th>  <td>  623.</td>  \n",
       "</tr>\n",
       "<tr>\n",
       "  <th>No. Iterations:</th>         <td>4</td>        <th>  Covariance Type:   </th> <td>nonrobust</td>\n",
       "</tr>\n",
       "</table>\n",
       "<table class=\"simpletable\">\n",
       "<tr>\n",
       "         <td></td>            <th>coef</th>     <th>std err</th>      <th>z</th>      <th>P>|z|</th>  <th>[0.025</th>    <th>0.975]</th>  \n",
       "</tr>\n",
       "<tr>\n",
       "  <th>Intercept</th>       <td>   -0.4189</td> <td>    0.747</td> <td>   -0.561</td> <td> 0.575</td> <td>   -1.882</td> <td>    1.044</td>\n",
       "</tr>\n",
       "<tr>\n",
       "  <th>C(nyear)[T.4.0]</th> <td>   -0.4991</td> <td>    0.209</td> <td>   -2.387</td> <td> 0.017</td> <td>   -0.909</td> <td>   -0.089</td>\n",
       "</tr>\n",
       "<tr>\n",
       "  <th>age</th>             <td>   -0.0355</td> <td>    0.009</td> <td>   -3.971</td> <td> 0.000</td> <td>   -0.053</td> <td>   -0.018</td>\n",
       "</tr>\n",
       "<tr>\n",
       "  <th>educ</th>            <td>    0.1084</td> <td>    0.033</td> <td>    3.295</td> <td> 0.001</td> <td>    0.044</td> <td>    0.173</td>\n",
       "</tr>\n",
       "<tr>\n",
       "  <th>sex</th>             <td>   -0.3051</td> <td>    0.225</td> <td>   -1.357</td> <td> 0.175</td> <td>   -0.746</td> <td>    0.136</td>\n",
       "</tr>\n",
       "</table>"
      ],
      "text/plain": [
       "<class 'statsmodels.iolib.summary.Summary'>\n",
       "\"\"\"\n",
       "                 Generalized Linear Model Regression Results                  \n",
       "==============================================================================\n",
       "Dep. Variable:                     ft   No. Observations:                  619\n",
       "Model:                            GLM   Df Residuals:                      614\n",
       "Model Family:                Binomial   Df Model:                            4\n",
       "Link Function:                  logit   Scale:                          1.0000\n",
       "Method:                          IRLS   Log-Likelihood:                -329.37\n",
       "Date:                Mon, 13 Aug 2018   Deviance:                       658.74\n",
       "Time:                        23:07:16   Pearson chi2:                     623.\n",
       "No. Iterations:                     4   Covariance Type:             nonrobust\n",
       "===================================================================================\n",
       "                      coef    std err          z      P>|z|      [0.025      0.975]\n",
       "-----------------------------------------------------------------------------------\n",
       "Intercept          -0.4189      0.747     -0.561      0.575      -1.882       1.044\n",
       "C(nyear)[T.4.0]    -0.4991      0.209     -2.387      0.017      -0.909      -0.089\n",
       "age                -0.0355      0.009     -3.971      0.000      -0.053      -0.018\n",
       "educ                0.1084      0.033      3.295      0.001       0.044       0.173\n",
       "sex                -0.3051      0.225     -1.357      0.175      -0.746       0.136\n",
       "===================================================================================\n",
       "\"\"\""
      ]
     },
     "execution_count": 15,
     "metadata": {},
     "output_type": "execute_result"
    }
   ],
   "source": [
    "# (slide 52)\n",
    "lo3 = smf.glm('ft ~ C(nyear) + age + educ + sex', \n",
    "              data = subpt[(subpt.year > 2006) & (subpt.age > 22) & (subpt.age < 60)],\n",
    "              family = sm.families.Binomial()).fit()\n",
    "lo3.summary()"
   ]
  },
  {
   "cell_type": "code",
   "execution_count": 17,
   "metadata": {},
   "outputs": [
    {
     "data": {
      "text/html": [
       "<table class=\"simpletable\">\n",
       "<caption>Generalized Linear Model Regression Results</caption>\n",
       "<tr>\n",
       "  <th>Dep. Variable:</th>         <td>ft</td>        <th>  No. Observations:  </th>  <td>   619</td>  \n",
       "</tr>\n",
       "<tr>\n",
       "  <th>Model:</th>                 <td>GLM</td>       <th>  Df Residuals:      </th>  <td>   613</td>  \n",
       "</tr>\n",
       "<tr>\n",
       "  <th>Model Family:</th>       <td>Binomial</td>     <th>  Df Model:          </th>  <td>     5</td>  \n",
       "</tr>\n",
       "<tr>\n",
       "  <th>Link Function:</th>        <td>logit</td>      <th>  Scale:             </th> <td>  1.0000</td> \n",
       "</tr>\n",
       "<tr>\n",
       "  <th>Method:</th>               <td>IRLS</td>       <th>  Log-Likelihood:    </th> <td> -328.20</td> \n",
       "</tr>\n",
       "<tr>\n",
       "  <th>Date:</th>           <td>Mon, 13 Aug 2018</td> <th>  Deviance:          </th> <td>  656.40</td> \n",
       "</tr>\n",
       "<tr>\n",
       "  <th>Time:</th>               <td>23:08:57</td>     <th>  Pearson chi2:      </th>  <td>  616.</td>  \n",
       "</tr>\n",
       "<tr>\n",
       "  <th>No. Iterations:</th>         <td>4</td>        <th>  Covariance Type:   </th> <td>nonrobust</td>\n",
       "</tr>\n",
       "</table>\n",
       "<table class=\"simpletable\">\n",
       "<tr>\n",
       "                <td></td>                   <th>coef</th>     <th>std err</th>      <th>z</th>      <th>P>|z|</th>  <th>[0.025</th>    <th>0.975]</th>  \n",
       "</tr>\n",
       "<tr>\n",
       "  <th>Intercept</th>                     <td>   -0.6097</td> <td>    0.636</td> <td>   -0.958</td> <td> 0.338</td> <td>   -1.857</td> <td>    0.637</td>\n",
       "</tr>\n",
       "<tr>\n",
       "  <th>C(nyear)[T.4.0]</th>               <td>   -1.1184</td> <td>    0.476</td> <td>   -2.351</td> <td> 0.019</td> <td>   -2.051</td> <td>   -0.186</td>\n",
       "</tr>\n",
       "<tr>\n",
       "  <th>C(sex)[T.2.0]</th>                 <td>   -0.5111</td> <td>    0.261</td> <td>   -1.955</td> <td> 0.051</td> <td>   -1.023</td> <td>    0.001</td>\n",
       "</tr>\n",
       "<tr>\n",
       "  <th>C(nyear)[T.4.0]:C(sex)[T.2.0]</th> <td>    0.7893</td> <td>    0.530</td> <td>    1.488</td> <td> 0.137</td> <td>   -0.250</td> <td>    1.829</td>\n",
       "</tr>\n",
       "<tr>\n",
       "  <th>age</th>                           <td>   -0.0354</td> <td>    0.009</td> <td>   -3.932</td> <td> 0.000</td> <td>   -0.053</td> <td>   -0.018</td>\n",
       "</tr>\n",
       "<tr>\n",
       "  <th>educ</th>                          <td>    0.1107</td> <td>    0.033</td> <td>    3.348</td> <td> 0.001</td> <td>    0.046</td> <td>    0.176</td>\n",
       "</tr>\n",
       "</table>"
      ],
      "text/plain": [
       "<class 'statsmodels.iolib.summary.Summary'>\n",
       "\"\"\"\n",
       "                 Generalized Linear Model Regression Results                  \n",
       "==============================================================================\n",
       "Dep. Variable:                     ft   No. Observations:                  619\n",
       "Model:                            GLM   Df Residuals:                      613\n",
       "Model Family:                Binomial   Df Model:                            5\n",
       "Link Function:                  logit   Scale:                          1.0000\n",
       "Method:                          IRLS   Log-Likelihood:                -328.20\n",
       "Date:                Mon, 13 Aug 2018   Deviance:                       656.40\n",
       "Time:                        23:08:57   Pearson chi2:                     616.\n",
       "No. Iterations:                     4   Covariance Type:             nonrobust\n",
       "=================================================================================================\n",
       "                                    coef    std err          z      P>|z|      [0.025      0.975]\n",
       "-------------------------------------------------------------------------------------------------\n",
       "Intercept                        -0.6097      0.636     -0.958      0.338      -1.857       0.637\n",
       "C(nyear)[T.4.0]                  -1.1184      0.476     -2.351      0.019      -2.051      -0.186\n",
       "C(sex)[T.2.0]                    -0.5111      0.261     -1.955      0.051      -1.023       0.001\n",
       "C(nyear)[T.4.0]:C(sex)[T.2.0]     0.7893      0.530      1.488      0.137      -0.250       1.829\n",
       "age                              -0.0354      0.009     -3.932      0.000      -0.053      -0.018\n",
       "educ                              0.1107      0.033      3.348      0.001       0.046       0.176\n",
       "=================================================================================================\n",
       "\"\"\""
      ]
     },
     "execution_count": 17,
     "metadata": {},
     "output_type": "execute_result"
    }
   ],
   "source": [
    "# (slide 55)\n",
    "lo4 = smf.glm('ft ~ C(nyear)*C(sex) + age + educ', \n",
    "              data = subpt[(subpt.year > 2006) & (subpt.age > 22) & (subpt.age < 60)],\n",
    "              family = sm.families.Binomial()).fit()\n",
    "lo4.summary()"
   ]
  },
  {
   "cell_type": "markdown",
   "metadata": {},
   "source": [
    "## 1b. Repeated events"
   ]
  },
  {
   "cell_type": "markdown",
   "metadata": {},
   "source": [
    "We need to undo the dropping of any observations:"
   ]
  },
  {
   "cell_type": "code",
   "execution_count": 18,
   "metadata": {},
   "outputs": [],
   "source": [
    "subpt['ft'] = np.where(pd.isna(subpt['wrkstat']), np.nan, \n",
    "                     np.where(subpt['wrkstat']==1, 1, 0))"
   ]
  },
  {
   "cell_type": "code",
   "execution_count": 19,
   "metadata": {},
   "outputs": [],
   "source": [
    "# slide 60\n",
    "subpt['lft'] = np.where((((subpt['combo']=='20') & (subpt['year']==2010)) | \n",
    "                        ((subpt['combo']=='23') & (subpt['year']==2010))), 1,\n",
    "                       np.where((((subpt['combo']=='20') & (pd.isna(subpt['year'])))| \n",
    "                        ((subpt['combo']=='23') & (pd.isna(subpt['year'])))), np.nan, 0))"
   ]
  },
  {
   "cell_type": "code",
   "execution_count": 16,
   "metadata": {},
   "outputs": [
    {
     "data": {
      "text/html": [
       "<table class=\"simpletable\">\n",
       "<caption>Generalized Linear Model Regression Results</caption>\n",
       "<tr>\n",
       "  <th>Dep. Variable:</th>         <td>ft</td>        <th>  No. Observations:  </th>  <td>  1412</td>  \n",
       "</tr>\n",
       "<tr>\n",
       "  <th>Model:</th>                 <td>GLM</td>       <th>  Df Residuals:      </th>  <td>  1410</td>  \n",
       "</tr>\n",
       "<tr>\n",
       "  <th>Model Family:</th>       <td>Binomial</td>     <th>  Df Model:          </th>  <td>     1</td>  \n",
       "</tr>\n",
       "<tr>\n",
       "  <th>Link Function:</th>        <td>logit</td>      <th>  Scale:             </th> <td>  1.0000</td> \n",
       "</tr>\n",
       "<tr>\n",
       "  <th>Method:</th>               <td>IRLS</td>       <th>  Log-Likelihood:    </th> <td> -666.91</td> \n",
       "</tr>\n",
       "<tr>\n",
       "  <th>Date:</th>           <td>Wed, 18 Jul 2018</td> <th>  Deviance:          </th> <td>  1333.8</td> \n",
       "</tr>\n",
       "<tr>\n",
       "  <th>Time:</th>               <td>23:25:36</td>     <th>  Pearson chi2:      </th> <td>1.41e+03</td> \n",
       "</tr>\n",
       "<tr>\n",
       "  <th>No. Iterations:</th>         <td>4</td>        <th>  Covariance Type:   </th> <td>nonrobust</td>\n",
       "</tr>\n",
       "</table>\n",
       "<table class=\"simpletable\">\n",
       "<tr>\n",
       "      <td></td>         <th>coef</th>     <th>std err</th>      <th>z</th>      <th>P>|z|</th>  <th>[0.025</th>    <th>0.975]</th>  \n",
       "</tr>\n",
       "<tr>\n",
       "  <th>Intercept</th> <td>   -1.8570</td> <td>    0.217</td> <td>   -8.565</td> <td> 0.000</td> <td>   -2.282</td> <td>   -1.432</td>\n",
       "</tr>\n",
       "<tr>\n",
       "  <th>nyear</th>     <td>    0.1192</td> <td>    0.069</td> <td>    1.723</td> <td> 0.085</td> <td>   -0.016</td> <td>    0.255</td>\n",
       "</tr>\n",
       "</table>"
      ],
      "text/plain": [
       "<class 'statsmodels.iolib.summary.Summary'>\n",
       "\"\"\"\n",
       "                 Generalized Linear Model Regression Results                  \n",
       "==============================================================================\n",
       "Dep. Variable:                     ft   No. Observations:                 1412\n",
       "Model:                            GLM   Df Residuals:                     1410\n",
       "Model Family:                Binomial   Df Model:                            1\n",
       "Link Function:                  logit   Scale:                          1.0000\n",
       "Method:                          IRLS   Log-Likelihood:                -666.91\n",
       "Date:                Wed, 18 Jul 2018   Deviance:                       1333.8\n",
       "Time:                        23:25:36   Pearson chi2:                 1.41e+03\n",
       "No. Iterations:                     4   Covariance Type:             nonrobust\n",
       "==============================================================================\n",
       "                 coef    std err          z      P>|z|      [0.025      0.975]\n",
       "------------------------------------------------------------------------------\n",
       "Intercept     -1.8570      0.217     -8.565      0.000      -2.282      -1.432\n",
       "nyear          0.1192      0.069      1.723      0.085      -0.016       0.255\n",
       "==============================================================================\n",
       "\"\"\""
      ]
     },
     "execution_count": 16,
     "metadata": {},
     "output_type": "execute_result"
    }
   ],
   "source": [
    "# slide 62\n",
    "smf.glm('ft ~ nyear', data = subpt[subpt['year']>2006], family = sm.families.Binomial()).fit().summary()"
   ]
  },
  {
   "cell_type": "code",
   "execution_count": 20,
   "metadata": {},
   "outputs": [
    {
     "data": {
      "text/html": [
       "<table class=\"simpletable\">\n",
       "<caption>Generalized Linear Model Regression Results</caption>\n",
       "<tr>\n",
       "  <th>Dep. Variable:</th>         <td>ft</td>        <th>  No. Observations:  </th>  <td>  1412</td>  \n",
       "</tr>\n",
       "<tr>\n",
       "  <th>Model:</th>                 <td>GLM</td>       <th>  Df Residuals:      </th>  <td>  1409</td>  \n",
       "</tr>\n",
       "<tr>\n",
       "  <th>Model Family:</th>       <td>Binomial</td>     <th>  Df Model:          </th>  <td>     2</td>  \n",
       "</tr>\n",
       "<tr>\n",
       "  <th>Link Function:</th>        <td>logit</td>      <th>  Scale:             </th> <td>  1.0000</td> \n",
       "</tr>\n",
       "<tr>\n",
       "  <th>Method:</th>               <td>IRLS</td>       <th>  Log-Likelihood:    </th> <td> -583.24</td> \n",
       "</tr>\n",
       "<tr>\n",
       "  <th>Date:</th>           <td>Mon, 13 Aug 2018</td> <th>  Deviance:          </th> <td>  1166.5</td> \n",
       "</tr>\n",
       "<tr>\n",
       "  <th>Time:</th>               <td>23:10:47</td>     <th>  Pearson chi2:      </th> <td>1.41e+03</td> \n",
       "</tr>\n",
       "<tr>\n",
       "  <th>No. Iterations:</th>         <td>5</td>        <th>  Covariance Type:   </th> <td>nonrobust</td>\n",
       "</tr>\n",
       "</table>\n",
       "<table class=\"simpletable\">\n",
       "<tr>\n",
       "         <td></td>            <th>coef</th>     <th>std err</th>      <th>z</th>      <th>P>|z|</th>  <th>[0.025</th>    <th>0.975]</th>  \n",
       "</tr>\n",
       "<tr>\n",
       "  <th>Intercept</th>       <td>   -1.6187</td> <td>    0.096</td> <td>  -16.796</td> <td> 0.000</td> <td>   -1.808</td> <td>   -1.430</td>\n",
       "</tr>\n",
       "<tr>\n",
       "  <th>C(nyear)[T.4.0]</th> <td>   -0.5764</td> <td>    0.174</td> <td>   -3.314</td> <td> 0.001</td> <td>   -0.917</td> <td>   -0.236</td>\n",
       "</tr>\n",
       "<tr>\n",
       "  <th>lft</th>             <td>    3.1319</td> <td>    0.263</td> <td>   11.926</td> <td> 0.000</td> <td>    2.617</td> <td>    3.647</td>\n",
       "</tr>\n",
       "</table>"
      ],
      "text/plain": [
       "<class 'statsmodels.iolib.summary.Summary'>\n",
       "\"\"\"\n",
       "                 Generalized Linear Model Regression Results                  \n",
       "==============================================================================\n",
       "Dep. Variable:                     ft   No. Observations:                 1412\n",
       "Model:                            GLM   Df Residuals:                     1409\n",
       "Model Family:                Binomial   Df Model:                            2\n",
       "Link Function:                  logit   Scale:                          1.0000\n",
       "Method:                          IRLS   Log-Likelihood:                -583.24\n",
       "Date:                Mon, 13 Aug 2018   Deviance:                       1166.5\n",
       "Time:                        23:10:47   Pearson chi2:                 1.41e+03\n",
       "No. Iterations:                     5   Covariance Type:             nonrobust\n",
       "===================================================================================\n",
       "                      coef    std err          z      P>|z|      [0.025      0.975]\n",
       "-----------------------------------------------------------------------------------\n",
       "Intercept          -1.6187      0.096    -16.796      0.000      -1.808      -1.430\n",
       "C(nyear)[T.4.0]    -0.5764      0.174     -3.314      0.001      -0.917      -0.236\n",
       "lft                 3.1319      0.263     11.926      0.000       2.617       3.647\n",
       "===================================================================================\n",
       "\"\"\""
      ]
     },
     "execution_count": 20,
     "metadata": {},
     "output_type": "execute_result"
    }
   ],
   "source": [
    "# slide 64\n",
    "\n",
    "lo2 = smf.glm('ft ~ C(nyear) + lft', data = subpt[subpt['year']>2006], family = sm.families.Binomial()).fit()\n",
    "lo2.summary()"
   ]
  },
  {
   "cell_type": "code",
   "execution_count": 21,
   "metadata": {},
   "outputs": [
    {
     "data": {
      "text/html": [
       "<table class=\"simpletable\">\n",
       "<caption>Generalized Linear Model Regression Results</caption>\n",
       "<tr>\n",
       "  <th>Dep. Variable:</th>         <td>ft</td>        <th>  No. Observations:  </th>  <td>  1394</td>  \n",
       "</tr>\n",
       "<tr>\n",
       "  <th>Model:</th>                 <td>GLM</td>       <th>  Df Residuals:      </th>  <td>  1388</td>  \n",
       "</tr>\n",
       "<tr>\n",
       "  <th>Model Family:</th>       <td>Binomial</td>     <th>  Df Model:          </th>  <td>     5</td>  \n",
       "</tr>\n",
       "<tr>\n",
       "  <th>Link Function:</th>        <td>logit</td>      <th>  Scale:             </th> <td>  1.0000</td> \n",
       "</tr>\n",
       "<tr>\n",
       "  <th>Method:</th>               <td>IRLS</td>       <th>  Log-Likelihood:    </th> <td> -503.38</td> \n",
       "</tr>\n",
       "<tr>\n",
       "  <th>Date:</th>           <td>Mon, 13 Aug 2018</td> <th>  Deviance:          </th> <td>  1006.8</td> \n",
       "</tr>\n",
       "<tr>\n",
       "  <th>Time:</th>               <td>23:10:59</td>     <th>  Pearson chi2:      </th> <td>1.28e+03</td> \n",
       "</tr>\n",
       "<tr>\n",
       "  <th>No. Iterations:</th>         <td>6</td>        <th>  Covariance Type:   </th> <td>nonrobust</td>\n",
       "</tr>\n",
       "</table>\n",
       "<table class=\"simpletable\">\n",
       "<tr>\n",
       "         <td></td>            <th>coef</th>     <th>std err</th>      <th>z</th>      <th>P>|z|</th>  <th>[0.025</th>    <th>0.975]</th>  \n",
       "</tr>\n",
       "<tr>\n",
       "  <th>Intercept</th>       <td>   -0.1068</td> <td>    0.572</td> <td>   -0.187</td> <td> 0.852</td> <td>   -1.228</td> <td>    1.015</td>\n",
       "</tr>\n",
       "<tr>\n",
       "  <th>C(nyear)[T.4.0]</th> <td>   -0.3556</td> <td>    0.185</td> <td>   -1.922</td> <td> 0.055</td> <td>   -0.718</td> <td>    0.007</td>\n",
       "</tr>\n",
       "<tr>\n",
       "  <th>lft</th>             <td>    2.5970</td> <td>    0.280</td> <td>    9.282</td> <td> 0.000</td> <td>    2.049</td> <td>    3.145</td>\n",
       "</tr>\n",
       "<tr>\n",
       "  <th>sex</th>             <td>   -0.1171</td> <td>    0.183</td> <td>   -0.641</td> <td> 0.522</td> <td>   -0.475</td> <td>    0.241</td>\n",
       "</tr>\n",
       "<tr>\n",
       "  <th>educ</th>            <td>    0.0957</td> <td>    0.028</td> <td>    3.400</td> <td> 0.001</td> <td>    0.041</td> <td>    0.151</td>\n",
       "</tr>\n",
       "<tr>\n",
       "  <th>age</th>             <td>   -0.0535</td> <td>    0.005</td> <td>  -10.833</td> <td> 0.000</td> <td>   -0.063</td> <td>   -0.044</td>\n",
       "</tr>\n",
       "</table>"
      ],
      "text/plain": [
       "<class 'statsmodels.iolib.summary.Summary'>\n",
       "\"\"\"\n",
       "                 Generalized Linear Model Regression Results                  \n",
       "==============================================================================\n",
       "Dep. Variable:                     ft   No. Observations:                 1394\n",
       "Model:                            GLM   Df Residuals:                     1388\n",
       "Model Family:                Binomial   Df Model:                            5\n",
       "Link Function:                  logit   Scale:                          1.0000\n",
       "Method:                          IRLS   Log-Likelihood:                -503.38\n",
       "Date:                Mon, 13 Aug 2018   Deviance:                       1006.8\n",
       "Time:                        23:10:59   Pearson chi2:                 1.28e+03\n",
       "No. Iterations:                     6   Covariance Type:             nonrobust\n",
       "===================================================================================\n",
       "                      coef    std err          z      P>|z|      [0.025      0.975]\n",
       "-----------------------------------------------------------------------------------\n",
       "Intercept          -0.1068      0.572     -0.187      0.852      -1.228       1.015\n",
       "C(nyear)[T.4.0]    -0.3556      0.185     -1.922      0.055      -0.718       0.007\n",
       "lft                 2.5970      0.280      9.282      0.000       2.049       3.145\n",
       "sex                -0.1171      0.183     -0.641      0.522      -0.475       0.241\n",
       "educ                0.0957      0.028      3.400      0.001       0.041       0.151\n",
       "age                -0.0535      0.005    -10.833      0.000      -0.063      -0.044\n",
       "===================================================================================\n",
       "\"\"\""
      ]
     },
     "execution_count": 21,
     "metadata": {},
     "output_type": "execute_result"
    }
   ],
   "source": [
    "# slide 66\n",
    "\n",
    "lo3 = smf.glm('ft ~ C(nyear) + lft + sex + educ + age', data = subpt[subpt['year']>2006], family = sm.families.Binomial()).fit()\n",
    "lo3.summary()"
   ]
  },
  {
   "cell_type": "markdown",
   "metadata": {},
   "source": [
    "## 1c. Multiple outcomes "
   ]
  },
  {
   "cell_type": "code",
   "execution_count": 47,
   "metadata": {},
   "outputs": [],
   "source": [
    "# (slide 70)\n",
    "subpt.loc[subpt['wrkstat']==1, 'work'] = 3\n",
    "subpt.loc[subpt['wrkstat']==2, 'work'] = 2\n",
    "subpt.loc[subpt['wrkstat']>2, 'work'] = 1"
   ]
  },
  {
   "cell_type": "code",
   "execution_count": 23,
   "metadata": {},
   "outputs": [
    {
     "name": "stdout",
     "output_type": "stream",
     "text": [
      "Optimization terminated successfully.\n",
      "         Current function value: 0.832511\n",
      "         Iterations 5\n"
     ]
    },
    {
     "data": {
      "text/html": [
       "<table class=\"simpletable\">\n",
       "<caption>MNLogit Regression Results</caption>\n",
       "<tr>\n",
       "  <th>Dep. Variable:</th>       <td>work</td>       <th>  No. Observations:  </th>  <td>  1412</td> \n",
       "</tr>\n",
       "<tr>\n",
       "  <th>Model:</th>              <td>MNLogit</td>     <th>  Df Residuals:      </th>  <td>  1408</td> \n",
       "</tr>\n",
       "<tr>\n",
       "  <th>Method:</th>               <td>MLE</td>       <th>  Df Model:          </th>  <td>     2</td> \n",
       "</tr>\n",
       "<tr>\n",
       "  <th>Date:</th>          <td>Mon, 13 Aug 2018</td> <th>  Pseudo R-squ.:     </th> <td>0.002430</td>\n",
       "</tr>\n",
       "<tr>\n",
       "  <th>Time:</th>              <td>23:12:57</td>     <th>  Log-Likelihood:    </th> <td> -1175.5</td>\n",
       "</tr>\n",
       "<tr>\n",
       "  <th>converged:</th>           <td>True</td>       <th>  LL-Null:           </th> <td> -1178.4</td>\n",
       "</tr>\n",
       "<tr>\n",
       "  <th> </th>                      <td> </td>        <th>  LLR p-value:       </th>  <td>0.05704</td>\n",
       "</tr>\n",
       "</table>\n",
       "<table class=\"simpletable\">\n",
       "<tr>\n",
       "   <th>work=2</th>      <th>coef</th>     <th>std err</th>      <th>z</th>      <th>P>|z|</th>  <th>[0.025</th>    <th>0.975]</th>  \n",
       "</tr>\n",
       "<tr>\n",
       "  <th>Intercept</th> <td>   -0.9969</td> <td>    0.401</td> <td>   -2.487</td> <td> 0.013</td> <td>   -1.782</td> <td>   -0.211</td>\n",
       "</tr>\n",
       "<tr>\n",
       "  <th>panelwave</th> <td>   -0.2712</td> <td>    0.164</td> <td>   -1.652</td> <td> 0.099</td> <td>   -0.593</td> <td>    0.051</td>\n",
       "</tr>\n",
       "<tr>\n",
       "   <th>work=3</th>      <th>coef</th>     <th>std err</th>      <th>z</th>      <th>P>|z|</th>  <th>[0.025</th>    <th>0.975]</th>  \n",
       "</tr>\n",
       "<tr>\n",
       "  <th>Intercept</th> <td>   -1.8153</td> <td>    0.357</td> <td>   -5.088</td> <td> 0.000</td> <td>   -2.514</td> <td>   -1.116</td>\n",
       "</tr>\n",
       "<tr>\n",
       "  <th>panelwave</th> <td>    0.1955</td> <td>    0.141</td> <td>    1.389</td> <td> 0.165</td> <td>   -0.080</td> <td>    0.471</td>\n",
       "</tr>\n",
       "</table>"
      ],
      "text/plain": [
       "<class 'statsmodels.iolib.summary.Summary'>\n",
       "\"\"\"\n",
       "                          MNLogit Regression Results                          \n",
       "==============================================================================\n",
       "Dep. Variable:                   work   No. Observations:                 1412\n",
       "Model:                        MNLogit   Df Residuals:                     1408\n",
       "Method:                           MLE   Df Model:                            2\n",
       "Date:                Mon, 13 Aug 2018   Pseudo R-squ.:                0.002430\n",
       "Time:                        23:12:57   Log-Likelihood:                -1175.5\n",
       "converged:                       True   LL-Null:                       -1178.4\n",
       "                                        LLR p-value:                   0.05704\n",
       "==============================================================================\n",
       "    work=2       coef    std err          z      P>|z|      [0.025      0.975]\n",
       "------------------------------------------------------------------------------\n",
       "Intercept     -0.9969      0.401     -2.487      0.013      -1.782      -0.211\n",
       "panelwave     -0.2712      0.164     -1.652      0.099      -0.593       0.051\n",
       "------------------------------------------------------------------------------\n",
       "    work=3       coef    std err          z      P>|z|      [0.025      0.975]\n",
       "------------------------------------------------------------------------------\n",
       "Intercept     -1.8153      0.357     -5.088      0.000      -2.514      -1.116\n",
       "panelwave      0.1955      0.141      1.389      0.165      -0.080       0.471\n",
       "==============================================================================\n",
       "\"\"\""
      ]
     },
     "execution_count": 23,
     "metadata": {},
     "output_type": "execute_result"
    }
   ],
   "source": [
    "# (slide 71)\n",
    "from statsmodels.discrete.discrete_model import MNLogit\n",
    "\n",
    "MNLogit.from_formula('work ~ 1 + panelwave', data = subpt[subpt['year']>2006]).fit().summary()"
   ]
  },
  {
   "cell_type": "code",
   "execution_count": 24,
   "metadata": {},
   "outputs": [
    {
     "name": "stdout",
     "output_type": "stream",
     "text": [
      "Optimization terminated successfully.\n",
      "         Current function value: 0.732061\n",
      "         Iterations 6\n"
     ]
    },
    {
     "data": {
      "text/html": [
       "<table class=\"simpletable\">\n",
       "<caption>MNLogit Regression Results</caption>\n",
       "<tr>\n",
       "  <th>Dep. Variable:</th>       <td>work</td>       <th>  No. Observations:  </th>  <td>  1394</td>  \n",
       "</tr>\n",
       "<tr>\n",
       "  <th>Model:</th>              <td>MNLogit</td>     <th>  Df Residuals:      </th>  <td>  1384</td>  \n",
       "</tr>\n",
       "<tr>\n",
       "  <th>Method:</th>               <td>MLE</td>       <th>  Df Model:          </th>  <td>     8</td>  \n",
       "</tr>\n",
       "<tr>\n",
       "  <th>Date:</th>          <td>Mon, 13 Aug 2018</td> <th>  Pseudo R-squ.:     </th>  <td>0.1253</td>  \n",
       "</tr>\n",
       "<tr>\n",
       "  <th>Time:</th>              <td>23:13:18</td>     <th>  Log-Likelihood:    </th> <td> -1020.5</td> \n",
       "</tr>\n",
       "<tr>\n",
       "  <th>converged:</th>           <td>True</td>       <th>  LL-Null:           </th> <td> -1166.6</td> \n",
       "</tr>\n",
       "<tr>\n",
       "  <th> </th>                      <td> </td>        <th>  LLR p-value:       </th> <td>1.813e-58</td>\n",
       "</tr>\n",
       "</table>\n",
       "<table class=\"simpletable\">\n",
       "<tr>\n",
       "   <th>work=2</th>      <th>coef</th>     <th>std err</th>      <th>z</th>      <th>P>|z|</th>  <th>[0.025</th>    <th>0.975]</th>  \n",
       "</tr>\n",
       "<tr>\n",
       "  <th>Intercept</th> <td>   -1.4716</td> <td>    0.725</td> <td>   -2.030</td> <td> 0.042</td> <td>   -2.892</td> <td>   -0.051</td>\n",
       "</tr>\n",
       "<tr>\n",
       "  <th>panelwave</th> <td>   -0.2406</td> <td>    0.170</td> <td>   -1.415</td> <td> 0.157</td> <td>   -0.574</td> <td>    0.093</td>\n",
       "</tr>\n",
       "<tr>\n",
       "  <th>sex</th>       <td>    0.6445</td> <td>    0.207</td> <td>    3.115</td> <td> 0.002</td> <td>    0.239</td> <td>    1.050</td>\n",
       "</tr>\n",
       "<tr>\n",
       "  <th>educ</th>      <td>    0.0682</td> <td>    0.028</td> <td>    2.458</td> <td> 0.014</td> <td>    0.014</td> <td>    0.123</td>\n",
       "</tr>\n",
       "<tr>\n",
       "  <th>age</th>       <td>   -0.0296</td> <td>    0.005</td> <td>   -6.381</td> <td> 0.000</td> <td>   -0.039</td> <td>   -0.021</td>\n",
       "</tr>\n",
       "<tr>\n",
       "   <th>work=3</th>      <th>coef</th>     <th>std err</th>      <th>z</th>      <th>P>|z|</th>  <th>[0.025</th>    <th>0.975]</th>  \n",
       "</tr>\n",
       "<tr>\n",
       "  <th>Intercept</th> <td>   -0.3350</td> <td>    0.657</td> <td>   -0.510</td> <td> 0.610</td> <td>   -1.623</td> <td>    0.953</td>\n",
       "</tr>\n",
       "<tr>\n",
       "  <th>panelwave</th> <td>    0.3442</td> <td>    0.157</td> <td>    2.191</td> <td> 0.028</td> <td>    0.036</td> <td>    0.652</td>\n",
       "</tr>\n",
       "<tr>\n",
       "  <th>sex</th>       <td>   -0.0552</td> <td>    0.175</td> <td>   -0.315</td> <td> 0.753</td> <td>   -0.398</td> <td>    0.288</td>\n",
       "</tr>\n",
       "<tr>\n",
       "  <th>educ</th>      <td>    0.1143</td> <td>    0.027</td> <td>    4.231</td> <td> 0.000</td> <td>    0.061</td> <td>    0.167</td>\n",
       "</tr>\n",
       "<tr>\n",
       "  <th>age</th>       <td>   -0.0656</td> <td>    0.005</td> <td>  -13.546</td> <td> 0.000</td> <td>   -0.075</td> <td>   -0.056</td>\n",
       "</tr>\n",
       "</table>"
      ],
      "text/plain": [
       "<class 'statsmodels.iolib.summary.Summary'>\n",
       "\"\"\"\n",
       "                          MNLogit Regression Results                          \n",
       "==============================================================================\n",
       "Dep. Variable:                   work   No. Observations:                 1394\n",
       "Model:                        MNLogit   Df Residuals:                     1384\n",
       "Method:                           MLE   Df Model:                            8\n",
       "Date:                Mon, 13 Aug 2018   Pseudo R-squ.:                  0.1253\n",
       "Time:                        23:13:18   Log-Likelihood:                -1020.5\n",
       "converged:                       True   LL-Null:                       -1166.6\n",
       "                                        LLR p-value:                 1.813e-58\n",
       "==============================================================================\n",
       "    work=2       coef    std err          z      P>|z|      [0.025      0.975]\n",
       "------------------------------------------------------------------------------\n",
       "Intercept     -1.4716      0.725     -2.030      0.042      -2.892      -0.051\n",
       "panelwave     -0.2406      0.170     -1.415      0.157      -0.574       0.093\n",
       "sex            0.6445      0.207      3.115      0.002       0.239       1.050\n",
       "educ           0.0682      0.028      2.458      0.014       0.014       0.123\n",
       "age           -0.0296      0.005     -6.381      0.000      -0.039      -0.021\n",
       "------------------------------------------------------------------------------\n",
       "    work=3       coef    std err          z      P>|z|      [0.025      0.975]\n",
       "------------------------------------------------------------------------------\n",
       "Intercept     -0.3350      0.657     -0.510      0.610      -1.623       0.953\n",
       "panelwave      0.3442      0.157      2.191      0.028       0.036       0.652\n",
       "sex           -0.0552      0.175     -0.315      0.753      -0.398       0.288\n",
       "educ           0.1143      0.027      4.231      0.000       0.061       0.167\n",
       "age           -0.0656      0.005    -13.546      0.000      -0.075      -0.056\n",
       "==============================================================================\n",
       "\"\"\""
      ]
     },
     "execution_count": 24,
     "metadata": {},
     "output_type": "execute_result"
    }
   ],
   "source": [
    "# (slide 73)\n",
    "MNLogit.from_formula('work ~ 1 + panelwave + sex + educ + age', data = subpt[subpt['year']>2006]).fit().summary()"
   ]
  },
  {
   "cell_type": "markdown",
   "metadata": {},
   "source": [
    "## 2. Continuous survival analysis"
   ]
  },
  {
   "cell_type": "markdown",
   "metadata": {},
   "source": [
    "To plot the Kaplan-Meier survival estimates, we need to use the `lifelines` module"
   ]
  },
  {
   "cell_type": "code",
   "execution_count": 26,
   "metadata": {},
   "outputs": [
    {
     "data": {
      "text/plain": [
       "<matplotlib.axes._subplots.AxesSubplot at 0x1c221e5fd0>"
      ]
     },
     "execution_count": 26,
     "metadata": {},
     "output_type": "execute_result"
    },
    {
     "data": {
      "image/png": "[encoded data removed]",
      "text/plain": [
       "<Figure size 432x288 with 1 Axes>"
      ]
     },
     "metadata": {},
     "output_type": "display_data"
    }
   ],
   "source": [
    "from lifelines import KaplanMeierFitter\n",
    "kmf = KaplanMeierFitter()\n",
    "\n",
    "# get rid of NA's in the subset of data we care about, otherwise the fitter will throw an error. \n",
    "df = subpt.loc[subpt['year']>2006, ['panelwave', 'ft']]\n",
    "df = df.dropna()\n",
    "\n",
    "# fit the duration and event columns\n",
    "kmf.fit(df['panelwave'], df['ft'])\n",
    "\n",
    "# plot the fitted model\n",
    "kmf.plot(xlim = (0, 3.1), ylim = (0, 1.1))"
   ]
  },
  {
   "cell_type": "code",
   "execution_count": 38,
   "metadata": {},
   "outputs": [],
   "source": [
    "# Gather the variables to be fitted and remove NA's\n",
    "#subpt = subpt.loc[subpt['year']>2006, ['ft', 'age', 'educ', 'sex']]\n",
    "#df = df.dropna()"
   ]
  },
  {
   "cell_type": "code",
   "execution_count": 57,
   "metadata": {},
   "outputs": [
    {
     "name": "stdout",
     "output_type": "stream",
     "text": [
      "n=2284, number of events=181\n",
      "\n",
      "        coef  exp(coef)  se(coef)       z      p  lower 0.95  upper 0.95     \n",
      "age  -0.0425     0.9584    0.0044 -9.7644 0.0000     -0.0511     -0.0340  ***\n",
      "educ  0.1011     1.1063    0.0262  3.8530 0.0001      0.0497      0.1525  ***\n",
      "sex  -0.0038     0.9962    0.1685 -0.0226 0.9820     -0.3341      0.3265     \n",
      "---\n",
      "Signif. codes:  0 '***' 0.001 '**' 0.01 '*' 0.05 '.' 0.1 ' ' 1 \n",
      "\n",
      "Concordance = 0.741\n",
      "Likelihood ratio test = 120.964 on 3 df, p=0.00000\n"
     ]
    }
   ],
   "source": [
    "# slide 86\n",
    "\n",
    "from lifelines import CoxPHFitter\n",
    "\n",
    "# drop observations who were already deceased in 2010\n",
    "subpt.loc[(subpt['combo']=='20') & (subpt['year']==2010), 'ft'] = np.nan\n",
    "subpt.loc[(subpt['combo']=='23') & (subpt['year']==2010), 'ft'] = np.nan\n",
    "subpt.dropna(inplace=True)\n",
    "\n",
    "# working with a subset of the data\n",
    "subpt2 = subpt[['ft', 'age', 'educ', 'sex']].copy()\n",
    "subpt2['time'] = 1\n",
    "\n",
    "cph = CoxPHFitter()\n",
    "cph.fit(subpt2, duration_col = 'time', event_col = 'ft')\n",
    "cph.print_summary()"
   ]
  },
  {
   "cell_type": "markdown",
   "metadata": {},
   "source": [
    "<br>\n",
    "(slide 92)\n",
    "\n",
    "To fit the model using the breslow method, we can use `PHReg` from the `statsmodels.duration.hazard_regression` module, where the default method is 'breslow'"
   ]
  },
  {
   "cell_type": "code",
   "execution_count": 58,
   "metadata": {},
   "outputs": [
    {
     "data": {
      "text/html": [
       "<table class=\"simpletable\">\n",
       "<tr>\n",
       "        <td>Model:</td>        <td>PH Reg</td>  <td>Sample size:</td> <td>2284</td>\n",
       "</tr>\n",
       "<tr>\n",
       "  <td>Dependent variable:</td>  <td>time</td>   <td>Num. events:</td>  <td>181</td>\n",
       "</tr>\n",
       "<tr>\n",
       "         <td>Ties:</td>        <td>Breslow</td>       <td></td>         <td></td>  \n",
       "</tr>\n",
       "</table>\n",
       "<table class=\"simpletable\">\n",
       "<tr>\n",
       "    <td></td>   <th>log HR</th>  <th>log HR SE</th>   <th>HR</th>      <th>t</th>     <th>P>|t|</th> <th>[0.025</th> <th>0.975]</th>\n",
       "</tr>\n",
       "<tr>\n",
       "  <th>age</th>  <td>-0.0407</td>  <td>0.0044</td>   <td>0.9601</td> <td>-9.3530</td> <td>0.0000</td> <td>0.9519</td> <td>0.9683</td>\n",
       "</tr>\n",
       "<tr>\n",
       "  <th>educ</th> <td>0.0946</td>   <td>0.0262</td>   <td>1.0992</td> <td>3.6127</td>  <td>0.0003</td> <td>1.0442</td> <td>1.1571</td>\n",
       "</tr>\n",
       "<tr>\n",
       "  <th>sex</th>  <td>0.0141</td>   <td>0.1684</td>   <td>1.0142</td> <td>0.0835</td>  <td>0.9334</td> <td>0.7291</td> <td>1.4107</td>\n",
       "</tr>\n",
       "</table>"
      ],
      "text/plain": [
       "<class 'statsmodels.iolib.summary2.Summary'>\n",
       "\"\"\"\n",
       "                      Results: PHReg\n",
       "==========================================================\n",
       "Model:                   PH Reg      Sample size:     2284\n",
       "Dependent variable:      time        Num. events:     181 \n",
       "Ties:                    Breslow                          \n",
       "----------------------------------------------------------\n",
       "      log HR log HR SE   HR      t    P>|t|  [0.025 0.975]\n",
       "----------------------------------------------------------\n",
       "age  -0.0407    0.0044 0.9601 -9.3530 0.0000 0.9519 0.9683\n",
       "educ  0.0946    0.0262 1.0992  3.6127 0.0003 1.0442 1.1571\n",
       "sex   0.0141    0.1684 1.0142  0.0835 0.9334 0.7291 1.4107\n",
       "==========================================================\n",
       "Confidence intervals are for the hazard ratios\n",
       "\"\"\""
      ]
     },
     "execution_count": 58,
     "metadata": {},
     "output_type": "execute_result"
    }
   ],
   "source": [
    "from statsmodels.duration.hazard_regression import PHReg\n",
    "\n",
    "coxph2 = PHReg(endog = subpt2['time'], exog = subpt2[['age', 'educ', 'sex']], status = subpt2['ft']).fit()\n",
    "coxph2.summary()"
   ]
  },
  {
   "cell_type": "code",
   "execution_count": 59,
   "metadata": {},
   "outputs": [
    {
     "data": {
      "text/html": [
       "<table class=\"simpletable\">\n",
       "<tr>\n",
       "        <td>Model:</td>        <td>PH Reg</td> <td>Sample size:</td> <td>2284</td>\n",
       "</tr>\n",
       "<tr>\n",
       "  <td>Dependent variable:</td>  <td>time</td>  <td>Num. events:</td>  <td>181</td>\n",
       "</tr>\n",
       "<tr>\n",
       "         <td>Ties:</td>         <td>Efron</td>       <td></td>         <td></td>  \n",
       "</tr>\n",
       "</table>\n",
       "<table class=\"simpletable\">\n",
       "<tr>\n",
       "    <td></td>   <th>log HR</th>  <th>log HR SE</th>   <th>HR</th>      <th>t</th>     <th>P>|t|</th> <th>[0.025</th> <th>0.975]</th>\n",
       "</tr>\n",
       "<tr>\n",
       "  <th>age</th>  <td>-0.0425</td>  <td>0.0044</td>   <td>0.9584</td> <td>-9.7644</td> <td>0.0000</td> <td>0.9502</td> <td>0.9666</td>\n",
       "</tr>\n",
       "<tr>\n",
       "  <th>educ</th> <td>0.1011</td>   <td>0.0262</td>   <td>1.1063</td> <td>3.8530</td>  <td>0.0001</td> <td>1.0509</td> <td>1.1647</td>\n",
       "</tr>\n",
       "<tr>\n",
       "  <th>sex</th>  <td>-0.0038</td>  <td>0.1685</td>   <td>0.9962</td> <td>-0.0226</td> <td>0.9820</td> <td>0.7159</td> <td>1.3862</td>\n",
       "</tr>\n",
       "</table>"
      ],
      "text/plain": [
       "<class 'statsmodels.iolib.summary2.Summary'>\n",
       "\"\"\"\n",
       "                      Results: PHReg\n",
       "==========================================================\n",
       "Model:                    PH Reg     Sample size:     2284\n",
       "Dependent variable:       time       Num. events:     181 \n",
       "Ties:                     Efron                           \n",
       "----------------------------------------------------------\n",
       "      log HR log HR SE   HR      t    P>|t|  [0.025 0.975]\n",
       "----------------------------------------------------------\n",
       "age  -0.0425    0.0044 0.9584 -9.7644 0.0000 0.9502 0.9666\n",
       "educ  0.1011    0.0262 1.1063  3.8530 0.0001 1.0509 1.1647\n",
       "sex  -0.0038    0.1685 0.9962 -0.0226 0.9820 0.7159 1.3862\n",
       "==========================================================\n",
       "Confidence intervals are for the hazard ratios\n",
       "\"\"\""
      ]
     },
     "execution_count": 59,
     "metadata": {},
     "output_type": "execute_result"
    }
   ],
   "source": [
    "# see the 'Efron' method results\n",
    "PHReg(endog = subpt2['time'], exog = subpt2[['age', 'educ', 'sex']], status = subpt2['ft'], ties='efron').fit().summary()"
   ]
  },
  {
   "cell_type": "code",
   "execution_count": 62,
   "metadata": {},
   "outputs": [
    {
     "name": "stdout",
     "output_type": "stream",
     "text": [
      "n=1290, number of events=181\n",
      "\n",
      "        coef  exp(coef)  se(coef)        z      p  lower 0.95  upper 0.95     \n",
      "age  -0.0508     0.9504    0.0045 -11.3599 0.0000     -0.0596     -0.0421  ***\n",
      "educ  0.0801     1.0834    0.0260   3.0855 0.0020      0.0292      0.1310   **\n",
      "sex  -0.1475     0.8629    0.1693  -0.8712 0.3836     -0.4793      0.1843     \n",
      "---\n",
      "Signif. codes:  0 '***' 0.001 '**' 0.01 '*' 0.05 '.' 0.1 ' ' 1 \n",
      "\n",
      "Concordance = 0.782\n",
      "Likelihood ratio test = 157.481 on 3 df, p=0.00000\n"
     ]
    }
   ],
   "source": [
    "# slide 93\n",
    "\n",
    "# model for all ages\n",
    "df = subpt.loc[subpt['year']>2006, ['ft', 'age', 'educ', 'sex']]\n",
    "df = df.dropna()\n",
    "\n",
    "df['time'] = 1\n",
    "\n",
    "cph = CoxPHFitter()\n",
    "cph.fit(df, duration_col = 'time', event_col = 'ft')\n",
    "cph.print_summary()"
   ]
  },
  {
   "cell_type": "code",
   "execution_count": 48,
   "metadata": {},
   "outputs": [
    {
     "name": "stdout",
     "output_type": "stream",
     "text": [
      "n=715, number of events=225\n",
      "\n",
      "        coef  exp(coef)  se(coef)       z      p  lower 0.95  upper 0.95     \n",
      "age  -0.0281     0.9723    0.0062 -4.5562 0.0000     -0.0402     -0.0160  ***\n",
      "educ  0.0935     1.0980    0.0229  4.0892 0.0000      0.0487      0.1384  ***\n",
      "sex  -0.2780     0.7573    0.1501 -1.8523 0.0640     -0.5721      0.0162    .\n",
      "---\n",
      "Signif. codes:  0 '***' 0.001 '**' 0.01 '*' 0.05 '.' 0.1 ' ' 1 \n",
      "\n",
      "Concordance = 0.640\n",
      "Likelihood ratio test = 41.640 on 3 df, p=0.00000\n"
     ]
    }
   ],
   "source": [
    "# (slide 93)\n",
    "\n",
    "# subset the df using the additional age filters\n",
    "df = subpt.loc[(subpt['year']>2006) & (subpt['age']>22) & (subpt['age']<60), ['ft', 'age', 'educ', 'sex']]\n",
    "df = df.dropna()\n",
    "\n",
    "# assign time = 2 if age is between 23 to 59\n",
    "df.loc[(subpt['age']>22) & (subpt['age']<60), 'time'] = 2\n",
    "\n",
    "cph = CoxPHFitter()\n",
    "cph.fit(df, duration_col = 'time', event_col = 'ft')\n",
    "cph.print_summary()"
   ]
  },
  {
   "cell_type": "markdown",
   "metadata": {},
   "source": [
    "<br>\n",
    "The Schoenfeld test (slide 96) - We can obtain the Schoenfeld residuals to check for any violation of the proportional hazards assumptions. "
   ]
  },
  {
   "cell_type": "code",
   "execution_count": 92,
   "metadata": {},
   "outputs": [
    {
     "data": {
      "text/plain": [
       "array([[nan, nan, nan],\n",
       "       [nan, nan, nan],\n",
       "       [nan, nan, nan],\n",
       "       ...,\n",
       "       [nan, nan, nan],\n",
       "       [nan, nan, nan],\n",
       "       [nan, nan, nan]])"
      ]
     },
     "execution_count": 92,
     "metadata": {},
     "output_type": "execute_result"
    }
   ],
   "source": [
    "coxph2.schoenfeld_residuals"
   ]
  },
  {
   "cell_type": "code",
   "execution_count": 84,
   "metadata": {},
   "outputs": [
    {
     "data": {
      "text/plain": [
       "(0, 3.1)"
      ]
     },
     "execution_count": 84,
     "metadata": {},
     "output_type": "execute_result"
    },
    {
     "data": {
      "image/png": "[encoded data removed]",
      "text/plain": [
       "<Figure size 600x400 with 1 Axes>"
      ]
     },
     "metadata": {},
     "output_type": "display_data"
    }
   ],
   "source": [
    "# (slide 97)\n",
    "df = subpt.loc[subpt['year']>2006, ['panelwave', 'sex', 'ft']]\n",
    "df = df.dropna()\n",
    "df['female'] = np.where(df['sex']==2, 1, 0)\n",
    "\n",
    "ax = plt.subplot(111)\n",
    "\n",
    "# plot the female and male lines separately\n",
    "kmf.fit(df.loc[df['female']==0, 'panelwave'], df.loc[df['female']==0, 'ft'], label = 'Male')\n",
    "ax = kmf.plot(ax=ax)\n",
    "\n",
    "kmf.fit(df.loc[df['female']==1, 'panelwave'], df.loc[df['female']==1, 'ft'], label = 'Female')\n",
    "ax = kmf.plot(ax=ax)\n",
    "\n",
    "# plot the fitted model\n",
    "plt.ylim(0, 1.1)\n",
    "plt.xlim(0, 3.1)"
   ]
  },
  {
   "cell_type": "code",
   "execution_count": 87,
   "metadata": {},
   "outputs": [
    {
     "data": {
      "text/plain": [
       "0.17796610169491525"
      ]
     },
     "execution_count": 87,
     "metadata": {},
     "output_type": "execute_result"
    }
   ],
   "source": [
    "subpt.loc[(subpt.year == 2008) & (subpt.sex==1), 'ft'].mean()"
   ]
  },
  {
   "cell_type": "code",
   "execution_count": 88,
   "metadata": {},
   "outputs": [
    {
     "data": {
      "text/plain": [
       "0.1657754010695187"
      ]
     },
     "execution_count": 88,
     "metadata": {},
     "output_type": "execute_result"
    }
   ],
   "source": [
    "subpt.loc[(subpt.year == 2010) & (subpt.sex==1), 'ft'].mean()"
   ]
  },
  {
   "cell_type": "code",
   "execution_count": 89,
   "metadata": {},
   "outputs": [
    {
     "data": {
      "text/plain": [
       "0.15992647058823528"
      ]
     },
     "execution_count": 89,
     "metadata": {},
     "output_type": "execute_result"
    }
   ],
   "source": [
    "subpt.loc[(subpt.year == 2008) & (subpt.sex==2), 'ft'].mean()"
   ]
  },
  {
   "cell_type": "code",
   "execution_count": 90,
   "metadata": {},
   "outputs": [
    {
     "data": {
      "text/plain": [
       "0.2157303370786517"
      ]
     },
     "execution_count": 90,
     "metadata": {},
     "output_type": "execute_result"
    }
   ],
   "source": [
    "subpt.loc[(subpt.year == 2010) & (subpt.sex==2), 'ft'].mean()"
   ]
  },
  {
   "cell_type": "code",
   "execution_count": null,
   "metadata": {},
   "outputs": [],
   "source": []
  }
 ],
 "metadata": {
  "kernelspec": {
   "display_name": "py36",
   "language": "python",
   "name": "py36"
  },
  "language_info": {
   "codemirror_mode": {
    "name": "ipython",
    "version": 3
   },
   "file_extension": ".py",
   "mimetype": "text/x-python",
   "name": "python",
   "nbconvert_exporter": "python",
   "pygments_lexer": "ipython3",
   "version": "3.6.5"
  }
 },
 "nbformat": 4,
 "nbformat_minor": 2
}
